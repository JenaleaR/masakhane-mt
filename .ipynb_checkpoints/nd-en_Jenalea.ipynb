{
  "nbformat": 4,
  "nbformat_minor": 0,
  "metadata": {
    "accelerator": "GPU",
    "colab": {
      "name": "starter_notebook_reverse_training.ipynb",
      "provenance": [],
      "collapsed_sections": []
    },
    "kernelspec": {
      "display_name": "Python 3",
      "language": "python",
      "name": "python3"
    },
    "language_info": {
      "codemirror_mode": {
        "name": "ipython",
        "version": 3
      },
      "file_extension": ".py",
      "mimetype": "text/x-python",
      "name": "python",
      "nbconvert_exporter": "python",
      "pygments_lexer": "ipython3",
      "version": "3.7.3"
    }
  },
  "cells": [
    {
      "cell_type": "markdown",
      "metadata": {
        "id": "Igc5itf-xMGj"
      },
      "source": [
        "# Masakhane - Reverse Machine Translation for African Languages (Using JoeyNMT)"
      ]
    },
    {
      "cell_type": "markdown",
      "metadata": {
        "id": "3mMhDDiFkJdP"
      },
      "source": [
        "> ## NB\n",
        ">### - The purpose of this Notebook is to build models that translate African languages(target language) *into* English(source language). This will allow us to in future be able to make translations from one African language to the other. If you'd like to translate *from* English, please use [this](https://github.com/masakhane-io/masakhane-mt/blob/master/starter_notebook.ipynb) starter notebook instead.\n",
        "\n",
        ">### - We call this reverse training because normally we build models that make translations from the source language(English) to the target language. But in this case we are doing the reverse; building models that make translations from the target language to the source(English)"
      ]
    },
    {
      "cell_type": "markdown",
      "metadata": {
        "id": "x4fXCKCf36IK"
      },
      "source": [
        "## Note before beginning:\n",
        "### - The idea is that you should be able to make minimal changes to this in order to get SOME result for your own translation corpus. \n",
        "\n",
        "### - The tl;dr: Go to the **\"TODO\"** comments which will tell you what to update to get up and running\n",
        "\n",
        "### - If you actually want to have a clue what you're doing, read the text and peek at the links\n",
        "\n",
        "### - With 100 epochs, it should take around 7 hours to run in Google Colab\n",
        "\n",
        "### - Once you've gotten a result for your language, please attach and email your notebook that generated it to masakhanetranslation@gmail.com\n",
        "\n",
        "### - If you care enough and get a chance, doing a brief background on your language would be amazing. See examples in  [(Martinus, 2019)](https://arxiv.org/abs/1906.05685)"
      ]
    },
    {
      "cell_type": "markdown",
      "metadata": {
        "id": "l929HimrxS0a"
      },
      "source": [
        "## Retrieve your data & make a parallel corpus\n",
        "\n",
        "If you are wanting to use the JW300 data referenced on the Masakhane website or in our GitHub repo, you can use `opus-tools` to convert the data into a convenient format. `opus_read` from that package provides a convenient tool for reading the native aligned XML files and to convert them to TMX format. The tool can also be used to fetch relevant files from OPUS on the fly and to filter the data as necessary. [Read the documentation](https://pypi.org/project/opustools-pkg/) for more details.\n",
        "\n",
        "Once you have your corpus files in TMX format (an xml structure which will include the sentences in your target language and your source language in a single file), we recommend reading them into a pandas dataframe. Thankfully, Jade wrote a silly `tmx2dataframe` package which converts your tmx file to a pandas dataframe. "
      ]
    },
    {
      "cell_type": "code",
      "metadata": {
        "colab": {
          "base_uri": "https://localhost:8080/"
        },
        "id": "oGRmDELn7Az0",
        "outputId": "8b1e25e9-f4dd-405d-dd5f-7094667937b7"
      },
      "source": [
        "from google.colab import drive\n",
        "drive.mount('/content/drive')"
      ],
      "execution_count": 1,
      "outputs": [
        {
          "output_type": "stream",
          "name": "stdout",
          "text": [
            "Mounted at /content/drive\n"
          ]
        }
      ]
    },
    {
      "cell_type": "code",
      "metadata": {
        "id": "Cn3tgQLzUxwn"
      },
      "source": [
        "# TODO: Set your source and target languages. Keep in mind, these traditionally use language codes as found here:\n",
        "# These will also become the suffix's of all vocab and corpus files used throughout\n",
        "import os\n",
        "source_language = \"en\"\n",
        "target_language = \"nd\" \n",
        "lc = False  # If True, lowercase the data.\n",
        "seed = 42  # Random seed for shuffling.\n",
        "tag = \"baseline\" # Give a unique name to your folder - this is to ensure you don't rewrite any models you've already submitted\n",
        "\n",
        "os.environ[\"src\"] = source_language # Sets them in bash as well, since we often use bash scripts\n",
        "os.environ[\"tgt\"] = target_language\n",
        "os.environ[\"tag\"] = tag\n",
        "\n",
        "# This will save it to a folder in our gdrive instead!\n",
        "!mkdir -p \"/content/drive/My Drive/masakhane/$tgt-$src-$tag\"\n",
        "os.environ[\"gdrive_path\"] = \"/content/drive/My Drive/masakhane/%s-%s-%s\" % (target_language, source_language, tag)"
      ],
      "execution_count": 4,
      "outputs": []
    },
    {
      "cell_type": "code",
      "metadata": {
        "colab": {
          "base_uri": "https://localhost:8080/"
        },
        "id": "kBSgJHEw7Nvx",
        "outputId": "75d9d57e-15df-483c-8b84-1a39b366a976"
      },
      "source": [
        "!echo $gdrive_path"
      ],
      "execution_count": 5,
      "outputs": [
        {
          "output_type": "stream",
          "name": "stdout",
          "text": [
            "/content/drive/My Drive/masakhane/nd-en-baseline\n"
          ]
        }
      ]
    },
    {
      "cell_type": "code",
      "metadata": {
        "colab": {
          "base_uri": "https://localhost:8080/"
        },
        "id": "gA75Fs9ys8Y9",
        "outputId": "d110c09d-0091-4e76-8c8a-e81b31644838"
      },
      "source": [
        "# Install opus-tools\n",
        "! pip install opustools-pkg"
      ],
      "execution_count": 6,
      "outputs": [
        {
          "output_type": "stream",
          "name": "stdout",
          "text": [
            "Collecting opustools-pkg\n",
            "  Downloading opustools_pkg-0.0.52-py3-none-any.whl (80 kB)\n",
            "\u001b[?25l\r\u001b[K     |████                            | 10 kB 21.3 MB/s eta 0:00:01\r\u001b[K     |████████                        | 20 kB 27.2 MB/s eta 0:00:01\r\u001b[K     |████████████▏                   | 30 kB 13.7 MB/s eta 0:00:01\r\u001b[K     |████████████████▏               | 40 kB 10.1 MB/s eta 0:00:01\r\u001b[K     |████████████████████▎           | 51 kB 5.5 MB/s eta 0:00:01\r\u001b[K     |████████████████████████▎       | 61 kB 6.1 MB/s eta 0:00:01\r\u001b[K     |████████████████████████████▎   | 71 kB 5.8 MB/s eta 0:00:01\r\u001b[K     |████████████████████████████████| 80 kB 3.9 MB/s \n",
            "\u001b[?25hInstalling collected packages: opustools-pkg\n",
            "Successfully installed opustools-pkg-0.0.52\n"
          ]
        }
      ]
    },
    {
      "cell_type": "code",
      "metadata": {
        "colab": {
          "base_uri": "https://localhost:8080/"
        },
        "id": "xq-tDZVks7ZD",
        "outputId": "290c6d10-07b5-4d5c-980b-6e8358a01c4c"
      },
      "source": [
        "# Downloading our corpus\n",
        "! opus_read -d JW300 -s $src -t $tgt -wm moses -w jw300.$src jw300.$tgt -q\n",
        "\n",
        "# extract the corpus file\n",
        "! gunzip JW300_latest_xml_$src-$tgt.xml.gz"
      ],
      "execution_count": 7,
      "outputs": [
        {
          "output_type": "stream",
          "name": "stdout",
          "text": [
            "\n",
            "Alignment file /proj/nlpl/data/OPUS/JW300/latest/xml/en-nd.xml.gz not found. The following files are available for downloading:\n",
            "\n",
            " 688 KB https://object.pouta.csc.fi/OPUS-JW300/v1c/xml/en-nd.xml.gz\n",
            " 274 MB https://object.pouta.csc.fi/OPUS-JW300/v1c/xml/en.zip\n",
            "   6 MB https://object.pouta.csc.fi/OPUS-JW300/v1c/xml/nd.zip\n",
            "\n",
            " 280 MB Total size\n",
            "./JW300_latest_xml_en-nd.xml.gz ... 100% of 688 KB\n",
            "./JW300_latest_xml_en.zip ... 100% of 274 MB\n",
            "./JW300_latest_xml_nd.zip ... 100% of 6 MB\n"
          ]
        }
      ]
    },
    {
      "cell_type": "code",
      "metadata": {
        "colab": {
          "base_uri": "https://localhost:8080/"
        },
        "id": "n48GDRnP8y2G",
        "outputId": "02dd372a-0bb3-45f5-a5c9-5be5fc47a644"
      },
      "source": [
        "# Download the global test set.\n",
        "! wget https://raw.githubusercontent.com/juliakreutzer/masakhane/master/jw300_utils/test/test.en-any.en\n",
        "  \n",
        "# And the specific test set for this language pair.\n",
        "os.environ[\"trg\"] = target_language \n",
        "os.environ[\"src\"] = source_language \n",
        "\n",
        "! wget https://raw.githubusercontent.com/juliakreutzer/masakhane/master/jw300_utils/test/test.en-$trg.en \n",
        "! mv test.en-$trg.en test.en\n",
        "! wget https://raw.githubusercontent.com/juliakreutzer/masakhane/master/jw300_utils/test/test.en-$trg.$trg \n",
        "! mv test.en-$trg.$trg test.$trg"
      ],
      "execution_count": 8,
      "outputs": [
        {
          "output_type": "stream",
          "name": "stdout",
          "text": [
            "--2021-10-08 11:07:45--  https://raw.githubusercontent.com/juliakreutzer/masakhane/master/jw300_utils/test/test.en-any.en\n",
            "Resolving raw.githubusercontent.com (raw.githubusercontent.com)... 185.199.108.133, 185.199.109.133, 185.199.110.133, ...\n",
            "Connecting to raw.githubusercontent.com (raw.githubusercontent.com)|185.199.108.133|:443... connected.\n",
            "HTTP request sent, awaiting response... 200 OK\n",
            "Length: 277791 (271K) [text/plain]\n",
            "Saving to: ‘test.en-any.en’\n",
            "\n",
            "test.en-any.en      100%[===================>] 271.28K  --.-KB/s    in 0.03s   \n",
            "\n",
            "2021-10-08 11:07:45 (8.64 MB/s) - ‘test.en-any.en’ saved [277791/277791]\n",
            "\n",
            "--2021-10-08 11:07:45--  https://raw.githubusercontent.com/juliakreutzer/masakhane/master/jw300_utils/test/test.en-nd.en\n",
            "Resolving raw.githubusercontent.com (raw.githubusercontent.com)... 185.199.110.133, 185.199.109.133, 185.199.111.133, ...\n",
            "Connecting to raw.githubusercontent.com (raw.githubusercontent.com)|185.199.110.133|:443... connected.\n",
            "HTTP request sent, awaiting response... 200 OK\n",
            "Length: 199900 (195K) [text/plain]\n",
            "Saving to: ‘test.en-nd.en’\n",
            "\n",
            "test.en-nd.en       100%[===================>] 195.21K  --.-KB/s    in 0.02s   \n",
            "\n",
            "2021-10-08 11:07:45 (8.36 MB/s) - ‘test.en-nd.en’ saved [199900/199900]\n",
            "\n",
            "--2021-10-08 11:07:46--  https://raw.githubusercontent.com/juliakreutzer/masakhane/master/jw300_utils/test/test.en-nd.nd\n",
            "Resolving raw.githubusercontent.com (raw.githubusercontent.com)... 185.199.108.133, 185.199.109.133, 185.199.110.133, ...\n",
            "Connecting to raw.githubusercontent.com (raw.githubusercontent.com)|185.199.108.133|:443... connected.\n",
            "HTTP request sent, awaiting response... 200 OK\n",
            "Length: 211519 (207K) [text/plain]\n",
            "Saving to: ‘test.en-nd.nd’\n",
            "\n",
            "test.en-nd.nd       100%[===================>] 206.56K  --.-KB/s    in 0.02s   \n",
            "\n",
            "2021-10-08 11:07:46 (8.27 MB/s) - ‘test.en-nd.nd’ saved [211519/211519]\n",
            "\n"
          ]
        }
      ]
    },
    {
      "cell_type": "code",
      "metadata": {
        "colab": {
          "base_uri": "https://localhost:8080/"
        },
        "id": "NqDG-CI28y2L",
        "outputId": "baf62edf-9bf7-48b6-d589-84eaac6c0b27"
      },
      "source": [
        "# Read the test data to filter from train and dev splits.\n",
        "# Store english portion in set for quick filtering checks.\n",
        "en_test_sents = set()\n",
        "filter_test_sents = \"test.en-any.en\"\n",
        "j = 0\n",
        "with open(filter_test_sents) as f:\n",
        "  for line in f:\n",
        "    en_test_sents.add(line.strip())\n",
        "    j += 1\n",
        "print('Loaded {} global test sentences to filter from the training/dev data.'.format(j))"
      ],
      "execution_count": 9,
      "outputs": [
        {
          "output_type": "stream",
          "name": "stdout",
          "text": [
            "Loaded 3571 global test sentences to filter from the training/dev data.\n"
          ]
        }
      ]
    },
    {
      "cell_type": "code",
      "metadata": {
        "colab": {
          "base_uri": "https://localhost:8080/",
          "height": 162
        },
        "id": "3CNdwLBCfSIl",
        "outputId": "de71658b-63de-4886-bf35-ae79c7fbb6a4"
      },
      "source": [
        "import pandas as pd\n",
        "\n",
        "# TMX file to dataframe\n",
        "source_file = 'jw300.' + source_language\n",
        "target_file = 'jw300.' + target_language\n",
        "\n",
        "source = []\n",
        "target = []\n",
        "skip_lines = []  # Collect the line numbers of the source portion to skip the same lines for the target portion.\n",
        "with open(source_file) as f:\n",
        "    for i, line in enumerate(f):\n",
        "        # Skip sentences that are contained in the test set.\n",
        "        if line.strip() not in en_test_sents:\n",
        "            source.append(line.strip())\n",
        "        else:\n",
        "            skip_lines.append(i)             \n",
        "with open(target_file) as f:\n",
        "    for j, line in enumerate(f):\n",
        "        # Only add to corpus if corresponding source was not skipped.\n",
        "        if j not in skip_lines:\n",
        "            target.append(line.strip())\n",
        "    \n",
        "print('Loaded data and skipped {}/{} lines since contained in test set.'.format(len(skip_lines), i))\n",
        "    \n",
        "df = pd.DataFrame(zip(source, target), columns=['source_sentence', 'target_sentence'])\n",
        "# if you get TypeError: data argument can't be an iterator is because of your zip version run this below\n",
        "#df = pd.DataFrame(list(zip(source, target)), columns=['source_sentence', 'target_sentence'])\n",
        "df.head(3)"
      ],
      "execution_count": 10,
      "outputs": [
        {
          "output_type": "stream",
          "name": "stdout",
          "text": [
            "Loaded data and skipped 2541/65649 lines since contained in test set.\n"
          ]
        },
        {
          "output_type": "execute_result",
          "data": {
            "text/html": [
              "<div>\n",
              "<style scoped>\n",
              "    .dataframe tbody tr th:only-of-type {\n",
              "        vertical-align: middle;\n",
              "    }\n",
              "\n",
              "    .dataframe tbody tr th {\n",
              "        vertical-align: top;\n",
              "    }\n",
              "\n",
              "    .dataframe thead th {\n",
              "        text-align: right;\n",
              "    }\n",
              "</style>\n",
              "<table border=\"1\" class=\"dataframe\">\n",
              "  <thead>\n",
              "    <tr style=\"text-align: right;\">\n",
              "      <th></th>\n",
              "      <th>source_sentence</th>\n",
              "      <th>target_sentence</th>\n",
              "    </tr>\n",
              "  </thead>\n",
              "  <tbody>\n",
              "    <tr>\n",
              "      <th>0</th>\n",
              "      <td>How to Harness Your Habits</td>\n",
              "      <td>Ongakwenza Ukuze Ube Lemikhuba Emihle</td>\n",
              "    </tr>\n",
              "    <tr>\n",
              "      <th>1</th>\n",
              "      <td>No. 4 2016</td>\n",
              "      <td>No . 4 2016</td>\n",
              "    </tr>\n",
              "    <tr>\n",
              "      <th>2</th>\n",
              "      <td>This publication is not for sale .</td>\n",
              "      <td>Imagazini le kayithengiswa .</td>\n",
              "    </tr>\n",
              "  </tbody>\n",
              "</table>\n",
              "</div>"
            ],
            "text/plain": [
              "                      source_sentence                        target_sentence\n",
              "0          How to Harness Your Habits  Ongakwenza Ukuze Ube Lemikhuba Emihle\n",
              "1                          No. 4 2016                            No . 4 2016\n",
              "2  This publication is not for sale .           Imagazini le kayithengiswa ."
            ]
          },
          "metadata": {},
          "execution_count": 10
        }
      ]
    },
    {
      "cell_type": "markdown",
      "metadata": {
        "id": "YkuK3B4p2AkN"
      },
      "source": [
        "## Pre-processing and export\n",
        "\n",
        "It is generally a good idea to remove duplicate translations and conflicting translations from the corpus. In practice, these public corpora include some number of these that need to be cleaned.\n",
        "\n",
        "In addition we will split our data into dev/test/train and export to the filesystem."
      ]
    },
    {
      "cell_type": "code",
      "metadata": {
        "colab": {
          "base_uri": "https://localhost:8080/"
        },
        "id": "M_2ouEOH1_1q",
        "outputId": "5ad3ffa6-e4c8-45bb-f255-f9ffa7f1893e"
      },
      "source": [
        "# drop duplicate translations\n",
        "df_pp = df.drop_duplicates()\n",
        "\n",
        "# drop conflicting translations\n",
        "# (this is optional and something that you might want to comment out \n",
        "# depending on the size of your corpus)\n",
        "df_pp.drop_duplicates(subset='source_sentence', inplace=True)\n",
        "df_pp.drop_duplicates(subset='target_sentence', inplace=True)\n",
        "\n",
        "# Shuffle the data to remove bias in dev set selection.\n",
        "df_pp = df_pp.sample(frac=1, random_state=seed).reset_index(drop=True)"
      ],
      "execution_count": 11,
      "outputs": [
        {
          "output_type": "stream",
          "name": "stderr",
          "text": [
            "/usr/local/lib/python3.7/dist-packages/ipykernel_launcher.py:7: SettingWithCopyWarning: \n",
            "A value is trying to be set on a copy of a slice from a DataFrame\n",
            "\n",
            "See the caveats in the documentation: https://pandas.pydata.org/pandas-docs/stable/user_guide/indexing.html#returning-a-view-versus-a-copy\n",
            "  import sys\n",
            "/usr/local/lib/python3.7/dist-packages/ipykernel_launcher.py:8: SettingWithCopyWarning: \n",
            "A value is trying to be set on a copy of a slice from a DataFrame\n",
            "\n",
            "See the caveats in the documentation: https://pandas.pydata.org/pandas-docs/stable/user_guide/indexing.html#returning-a-view-versus-a-copy\n",
            "  \n"
          ]
        }
      ]
    },
    {
      "cell_type": "code",
      "metadata": {
        "colab": {
          "base_uri": "https://localhost:8080/"
        },
        "id": "Z_1BwAApEtMk",
        "outputId": "3436425c-0207-4e02-81e8-e585421a6b53"
      },
      "source": [
        "# Install fuzzy wuzzy to remove \"almost duplicate\" sentences in the\n",
        "# test and training sets.\n",
        "! pip install fuzzywuzzy\n",
        "! pip install python-Levenshtein\n",
        "import time\n",
        "from fuzzywuzzy import process\n",
        "import numpy as np\n",
        "from os import cpu_count\n",
        "from functools import partial\n",
        "from multiprocessing import Pool\n",
        "\n",
        "\n",
        "# reset the index of the training set after previous filtering\n",
        "df_pp.reset_index(drop=False, inplace=True)\n",
        "\n",
        "# Remove samples from the training data set if they \"almost overlap\" with the\n",
        "# samples in the test set.\n",
        "\n",
        "# Filtering function. Adjust pad to narrow down the candidate matches to\n",
        "# within a certain length of characters of the given sample.\n",
        "def fuzzfilter(sample, candidates, pad):\n",
        "  candidates = [x for x in candidates if len(x) <= len(sample)+pad and len(x) >= len(sample)-pad] \n",
        "  if len(candidates) > 0:\n",
        "    return process.extractOne(sample, candidates)[1]\n",
        "  else:\n",
        "    return np.nan"
      ],
      "execution_count": 12,
      "outputs": [
        {
          "output_type": "stream",
          "name": "stdout",
          "text": [
            "Collecting fuzzywuzzy\n",
            "  Downloading fuzzywuzzy-0.18.0-py2.py3-none-any.whl (18 kB)\n",
            "Installing collected packages: fuzzywuzzy\n",
            "Successfully installed fuzzywuzzy-0.18.0\n",
            "Collecting python-Levenshtein\n",
            "  Downloading python-Levenshtein-0.12.2.tar.gz (50 kB)\n",
            "\u001b[K     |████████████████████████████████| 50 kB 3.1 MB/s \n",
            "\u001b[?25hRequirement already satisfied: setuptools in /usr/local/lib/python3.7/dist-packages (from python-Levenshtein) (57.4.0)\n",
            "Building wheels for collected packages: python-Levenshtein\n",
            "  Building wheel for python-Levenshtein (setup.py) ... \u001b[?25l\u001b[?25hdone\n",
            "  Created wheel for python-Levenshtein: filename=python_Levenshtein-0.12.2-cp37-cp37m-linux_x86_64.whl size=149864 sha256=3030969be289dc01a42fd82d212fd4d43c5ef5a75b9091a4ac640fb52cce6254\n",
            "  Stored in directory: /root/.cache/pip/wheels/05/5f/ca/7c4367734892581bb5ff896f15027a932c551080b2abd3e00d\n",
            "Successfully built python-Levenshtein\n",
            "Installing collected packages: python-Levenshtein\n",
            "Successfully installed python-Levenshtein-0.12.2\n"
          ]
        }
      ]
    },
    {
      "cell_type": "code",
      "metadata": {
        "id": "92EsgTaY3B4H"
      },
      "source": [
        "# start_time = time.time()\n",
        "# ### iterating over pandas dataframe rows is not recomended, let use multi processing to apply the function\n",
        "\n",
        "# with Pool(cpu_count()-1) as pool:\n",
        "#     scores = pool.map(partial(fuzzfilter, candidates=list(en_test_sents), pad=5), df_pp['source_sentence'])\n",
        "# hours, rem = divmod(time.time() - start_time, 3600)\n",
        "# minutes, seconds = divmod(rem, 60)\n",
        "# print(\"done in {}h:{}min:{}seconds\".format(hours, minutes, seconds))\n",
        "\n",
        "# # Filter out \"almost overlapping samples\"\n",
        "# df_pp = df_pp.assign(scores=scores)\n",
        "# df_pp = df_pp[df_pp['scores'] < 95]"
      ],
      "execution_count": 13,
      "outputs": []
    },
    {
      "cell_type": "code",
      "metadata": {
        "colab": {
          "base_uri": "https://localhost:8080/"
        },
        "id": "hxxBOCA-xXhy",
        "outputId": "44922847-3056-4858-c6b4-0fc2cc0a9c38"
      },
      "source": [
        "# This section does the split between train/dev for the parallel corpora then saves them as separate files\n",
        "# We use 1000 dev test and the given test set.\n",
        "import csv\n",
        "\n",
        "# Do the split between dev/train and create parallel corpora\n",
        "num_dev_patterns = 1000\n",
        "\n",
        "# Optional: lower case the corpora - this will make it easier to generalize, but without proper casing.\n",
        "if lc:  # Julia: making lowercasing optional\n",
        "    df_pp[\"source_sentence\"] = df_pp[\"source_sentence\"].str.lower()\n",
        "    df_pp[\"target_sentence\"] = df_pp[\"target_sentence\"].str.lower()\n",
        "\n",
        "# Julia: test sets are already generated\n",
        "dev = df_pp.tail(num_dev_patterns) # Herman: Error in original\n",
        "stripped = df_pp.drop(df_pp.tail(num_dev_patterns).index)\n",
        "\n",
        "with open(\"train.\"+source_language, \"w\") as src_file, open(\"train.\"+target_language, \"w\") as trg_file:\n",
        "  for index, row in stripped.iterrows():\n",
        "    src_file.write(row[\"source_sentence\"]+\"\\n\")\n",
        "    trg_file.write(row[\"target_sentence\"]+\"\\n\")\n",
        "    \n",
        "with open(\"dev.\"+source_language, \"w\") as src_file, open(\"dev.\"+target_language, \"w\") as trg_file:\n",
        "  for index, row in dev.iterrows():\n",
        "    src_file.write(row[\"source_sentence\"]+\"\\n\")\n",
        "    trg_file.write(row[\"target_sentence\"]+\"\\n\")\n",
        "\n",
        "#stripped[[\"source_sentence\"]].to_csv(\"train.\"+source_language, header=False, index=False)  # Herman: Added `header=False` everywhere\n",
        "#stripped[[\"target_sentence\"]].to_csv(\"train.\"+target_language, header=False, index=False)  # Julia: Problematic handling of quotation marks.\n",
        "\n",
        "#dev[[\"source_sentence\"]].to_csv(\"dev.\"+source_language, header=False, index=False)\n",
        "#dev[[\"target_sentence\"]].to_csv(\"dev.\"+target_language, header=False, index=False)\n",
        "\n",
        "# Doublecheck the format below. There should be no extra quotation marks or weird characters.\n",
        "! head train.*\n",
        "! head dev.*"
      ],
      "execution_count": 14,
      "outputs": [
        {
          "output_type": "stream",
          "name": "stdout",
          "text": [
            "==> train.en <==\n",
            "Do you think that he came to regret the decision ?\n",
            "His merits notwithstanding , Rehoboam failed to gain God ’ s favor .\n",
            "Consider the following .\n",
            "Some studies suggest that when selecting a new host , the clown fish has to go through a process of adaptation .\n",
            "What testimony is there that the brothers were very zealous during World War I ?\n",
            "He cured not only leprosy but also every sort of disease and every sort of infirmity among the people .\n",
            "Illustrate how we might prepare now for life in the new world .\n",
            "This prophecy will be fulfilled through Jesus as God ’ s Messianic King .\n",
            "God wants us to resist our bad tendencies .\n",
            "( Gal . 6 : 7 ) Were Jehovah to choose which trials would come upon us , would he not , in effect , be diminishing the gift of free will ?\n",
            "\n",
            "==> train.nd <==\n",
            "Ucabanga ukuthi wazisola yini ngesinqumo sakhe ?\n",
            "Lanxa kukhona okuhle uRehobhowami akwenzayo , uJehova kazange amamukele .\n",
            "Nanku okunye kwakhona .\n",
            "Okunye ukuhlolisisa kuveza ukuthi nxa inhlanzi le isikhethe enye i - anemone efuna ukuhlala phezu kwayo kumele iqale ijayelane layo .\n",
            "Yibuphi ubufakazi obutshengisa ukuthi abazalwane babetshiseka ngesikhathi seMpi Yomhlaba Yokuqala ?\n",
            "Kazange elaphe ubulephero kuphela kodwa wasilisa zonke izifo lemikhuhlane eyayisebantwini .\n",
            "Nika isibonelo esitshengisa ukuthi singakulungiselela njani khathesi ukuphila emhlabeni omutsha .\n",
            "Safunda ukuthi isiphrofetho lesi sizagcwaliswa nguJesu iNkosi enguMesiya .\n",
            "UNkulunkulu kafuni ukuthi senze izinto ezimbi .\n",
            "( Gal . 6 : 7 ) Aluba uJehova ubekhetha izilingo okumele zisehlele ubezabe esesithathela inkululeko yokuzikhethela asinike yona .\n",
            "==> dev.en <==\n",
            "( See paragraphs 17 , 18 )\n",
            "“ No man can come to me unless the Father , who sent me , draws him , ” said Jesus .\n",
            "The Bible states : “ A word spoken at the right time — how good it is ! ”\n",
            "For instance , consider Jonah ’ s contrite prayer from the belly of a huge fish .\n",
            "19 Belief in Jesus ’ resurrection motivates us to do God ’ s will .\n",
            "Meditate on how Jehovah has worked out his will in the past and how he will do so in the future .\n",
            "To analyze how well we are doing in showing love for others , we might ask ourselves : ‘ Am I reaching out to help others in my family , in my congregation , and in my ministry ?\n",
            "Next , to show why he cared , Don had Peter read Romans 10 : 13 , 14 , which explains that “ everyone who calls on the name of Jehovah will be saved . ”\n",
            "REPAIRING DAMAGE TO SPIRITUAL AND FAMILY LIFE\n",
            "To assist individuals desiring to benefit the worldwide work of Jehovah ’ s Witnesses through some form of charitable giving , a brochure entitled Charitable Planning to Benefit Kingdom Service Worldwide has been prepared .\n",
            "\n",
            "==> dev.nd <==\n",
            "( Josh . 3 : 12 - 17 ) Cabanga ukuthi kwakumangalisa kangakanani ukubona umfula lowo owawuzondile umiswa !\n",
            "UJesu wathi : “ Kakho ongeza kimi ngaphandle kokuthi uBaba ongithumileyo amsondeze . ”\n",
            "IBhayibhili lithi : ‘ Ilizwi ngesikhathi salo , lihle kangakanani . ’\n",
            "Cabanga ngomthandazo wokuzisola uJona awutsho esesiswini senhlanzi enkulu .\n",
            "19 Ukukholwa ukuthi uJesu wavuswa kusikhuthaza ukuthi senze intando kaNkulunkulu .\n",
            "Cabangisisa ngokuthi uJehova wayithuthukisa njani injongo yakhe kudala lokuthi uzayithuthukisa njani esikhathini esizayo .\n",
            "Wena uyabathanda yini abanye ? Zibuze imibuzo le : ‘ Ngiyabanceda yini abanye emulini yami , ebandleni lasekutshumayeleni ?\n",
            "Okwesibili uDon wamcela ukuthi abale uRoma 10 : 13 , 14 ukuze abone ukuthi kuyini okwenza azihluphe ngaye . Ivesi le ithi : “ Bonke abakhuleka ebizweni leNkosi bazasindiswa . ”\n",
            "UKULUNGISISA UBUDLELWANO BEMULI KANYE LOKUKHONZA KWAYO OKWASEKUPHAMBANISEKILE\n",
            "Umuntu ofisa ukusebenzisa izindlela lezi kumele ahlale phansi ahlele ukuthi ufuna ukunikela njani . Kwenziwe ibhukwana elithi Charitable Planning to Benefit Kingdom Service Worldwide ukuze lisize labo abafuna ukunikela ngezindlela lezi .\n"
          ]
        }
      ]
    },
    {
      "cell_type": "markdown",
      "metadata": {
        "id": "epeCydmCyS8X"
      },
      "source": [
        "\n",
        "\n",
        "---\n",
        "\n",
        "\n",
        "## Installation of JoeyNMT\n",
        "\n",
        "JoeyNMT is a simple, minimalist NMT package which is useful for learning and teaching. Check out the documentation for JoeyNMT [here](https://joeynmt.readthedocs.io)  "
      ]
    },
    {
      "cell_type": "code",
      "metadata": {
        "colab": {
          "base_uri": "https://localhost:8080/"
        },
        "id": "iBRMm4kMxZ8L",
        "outputId": "96f4d80c-9f6a-4425-9558-aa96bed687b2"
      },
      "source": [
        "# Install JoeyNMT\n",
        "! git clone https://github.com/joeynmt/joeynmt.git\n",
        "! cd joeynmt; pip3 install .\n",
        "# Install Pytorch with GPU support v1.7.1.\n",
        "! pip install torch==1.9.0+cu101 -f https://download.pytorch.org/whl/torch_stable.html"
      ],
      "execution_count": 25,
      "outputs": [
        {
          "output_type": "stream",
          "name": "stdout",
          "text": [
            "fatal: destination path 'joeynmt' already exists and is not an empty directory.\n",
            "Processing /content/joeynmt\n",
            "\u001b[33m  DEPRECATION: A future pip version will change local packages to be built in-place without first copying to a temporary directory. We recommend you use --use-feature=in-tree-build to test your packages with this new behavior before it becomes the default.\n",
            "   pip 21.3 will remove support for this functionality. You can find discussion regarding this at https://github.com/pypa/pip/issues/7555.\u001b[0m\n",
            "Requirement already satisfied: future in /usr/local/lib/python3.7/dist-packages (from joeynmt==1.3) (0.16.0)\n",
            "Requirement already satisfied: pillow in /usr/local/lib/python3.7/dist-packages (from joeynmt==1.3) (7.1.2)\n",
            "Requirement already satisfied: numpy>=1.19.5 in /usr/local/lib/python3.7/dist-packages (from joeynmt==1.3) (1.19.5)\n",
            "Requirement already satisfied: setuptools>=41.0.0 in /usr/local/lib/python3.7/dist-packages (from joeynmt==1.3) (57.4.0)\n",
            "Collecting torch>=1.9.0\n",
            "  Downloading torch-1.9.1-cp37-cp37m-manylinux1_x86_64.whl (831.4 MB)\n",
            "\u001b[K     |████████████████████████████████| 831.4 MB 7.1 kB/s \n",
            "\u001b[?25hRequirement already satisfied: tensorboard>=1.15 in /usr/local/lib/python3.7/dist-packages (from joeynmt==1.3) (2.6.0)\n",
            "Requirement already satisfied: torchtext>=0.10.0 in /usr/local/lib/python3.7/dist-packages (from joeynmt==1.3) (0.10.0)\n",
            "Requirement already satisfied: sacrebleu>=2.0.0 in /usr/local/lib/python3.7/dist-packages (from joeynmt==1.3) (2.0.0)\n",
            "Requirement already satisfied: subword-nmt in /usr/local/lib/python3.7/dist-packages (from joeynmt==1.3) (0.3.7)\n",
            "Requirement already satisfied: matplotlib in /usr/local/lib/python3.7/dist-packages (from joeynmt==1.3) (3.2.2)\n",
            "Requirement already satisfied: seaborn in /usr/local/lib/python3.7/dist-packages (from joeynmt==1.3) (0.11.2)\n",
            "Requirement already satisfied: pyyaml>=5.1 in /usr/local/lib/python3.7/dist-packages (from joeynmt==1.3) (5.4.1)\n",
            "Requirement already satisfied: pylint>=2.9.6 in /usr/local/lib/python3.7/dist-packages (from joeynmt==1.3) (2.11.1)\n",
            "Requirement already satisfied: six==1.12 in /usr/local/lib/python3.7/dist-packages (from joeynmt==1.3) (1.12.0)\n",
            "Requirement already satisfied: wrapt==1.11.1 in /usr/local/lib/python3.7/dist-packages (from joeynmt==1.3) (1.11.1)\n",
            "Requirement already satisfied: toml>=0.7.1 in /usr/local/lib/python3.7/dist-packages (from pylint>=2.9.6->joeynmt==1.3) (0.10.2)\n",
            "Requirement already satisfied: platformdirs>=2.2.0 in /usr/local/lib/python3.7/dist-packages (from pylint>=2.9.6->joeynmt==1.3) (2.4.0)\n",
            "Requirement already satisfied: astroid<2.9,>=2.8.0 in /usr/local/lib/python3.7/dist-packages (from pylint>=2.9.6->joeynmt==1.3) (2.8.2)\n",
            "Requirement already satisfied: mccabe<0.7,>=0.6 in /usr/local/lib/python3.7/dist-packages (from pylint>=2.9.6->joeynmt==1.3) (0.6.1)\n",
            "Requirement already satisfied: typing-extensions>=3.10.0 in /usr/local/lib/python3.7/dist-packages (from pylint>=2.9.6->joeynmt==1.3) (3.10.0.2)\n",
            "Requirement already satisfied: isort<6,>=4.2.5 in /usr/local/lib/python3.7/dist-packages (from pylint>=2.9.6->joeynmt==1.3) (5.9.3)\n",
            "Requirement already satisfied: lazy-object-proxy>=1.4.0 in /usr/local/lib/python3.7/dist-packages (from astroid<2.9,>=2.8.0->pylint>=2.9.6->joeynmt==1.3) (1.6.0)\n",
            "Requirement already satisfied: typed-ast<1.5,>=1.4.0 in /usr/local/lib/python3.7/dist-packages (from astroid<2.9,>=2.8.0->pylint>=2.9.6->joeynmt==1.3) (1.4.3)\n",
            "Requirement already satisfied: regex in /usr/local/lib/python3.7/dist-packages (from sacrebleu>=2.0.0->joeynmt==1.3) (2019.12.20)\n",
            "Requirement already satisfied: portalocker in /usr/local/lib/python3.7/dist-packages (from sacrebleu>=2.0.0->joeynmt==1.3) (2.3.2)\n",
            "Requirement already satisfied: tabulate>=0.8.9 in /usr/local/lib/python3.7/dist-packages (from sacrebleu>=2.0.0->joeynmt==1.3) (0.8.9)\n",
            "Requirement already satisfied: colorama in /usr/local/lib/python3.7/dist-packages (from sacrebleu>=2.0.0->joeynmt==1.3) (0.4.4)\n",
            "Requirement already satisfied: grpcio>=1.24.3 in /usr/local/lib/python3.7/dist-packages (from tensorboard>=1.15->joeynmt==1.3) (1.41.0)\n",
            "Requirement already satisfied: google-auth-oauthlib<0.5,>=0.4.1 in /usr/local/lib/python3.7/dist-packages (from tensorboard>=1.15->joeynmt==1.3) (0.4.6)\n",
            "Requirement already satisfied: google-auth<2,>=1.6.3 in /usr/local/lib/python3.7/dist-packages (from tensorboard>=1.15->joeynmt==1.3) (1.35.0)\n",
            "Requirement already satisfied: requests<3,>=2.21.0 in /usr/local/lib/python3.7/dist-packages (from tensorboard>=1.15->joeynmt==1.3) (2.23.0)\n",
            "Requirement already satisfied: markdown>=2.6.8 in /usr/local/lib/python3.7/dist-packages (from tensorboard>=1.15->joeynmt==1.3) (3.3.4)\n",
            "Requirement already satisfied: tensorboard-plugin-wit>=1.6.0 in /usr/local/lib/python3.7/dist-packages (from tensorboard>=1.15->joeynmt==1.3) (1.8.0)\n",
            "Requirement already satisfied: werkzeug>=0.11.15 in /usr/local/lib/python3.7/dist-packages (from tensorboard>=1.15->joeynmt==1.3) (1.0.1)\n",
            "Requirement already satisfied: tensorboard-data-server<0.7.0,>=0.6.0 in /usr/local/lib/python3.7/dist-packages (from tensorboard>=1.15->joeynmt==1.3) (0.6.1)\n",
            "Requirement already satisfied: wheel>=0.26 in /usr/local/lib/python3.7/dist-packages (from tensorboard>=1.15->joeynmt==1.3) (0.37.0)\n",
            "Requirement already satisfied: protobuf>=3.6.0 in /usr/local/lib/python3.7/dist-packages (from tensorboard>=1.15->joeynmt==1.3) (3.17.3)\n",
            "Requirement already satisfied: absl-py>=0.4 in /usr/local/lib/python3.7/dist-packages (from tensorboard>=1.15->joeynmt==1.3) (0.12.0)\n",
            "Requirement already satisfied: rsa<5,>=3.1.4 in /usr/local/lib/python3.7/dist-packages (from google-auth<2,>=1.6.3->tensorboard>=1.15->joeynmt==1.3) (4.7.2)\n",
            "Requirement already satisfied: pyasn1-modules>=0.2.1 in /usr/local/lib/python3.7/dist-packages (from google-auth<2,>=1.6.3->tensorboard>=1.15->joeynmt==1.3) (0.2.8)\n",
            "Requirement already satisfied: cachetools<5.0,>=2.0.0 in /usr/local/lib/python3.7/dist-packages (from google-auth<2,>=1.6.3->tensorboard>=1.15->joeynmt==1.3) (4.2.4)\n",
            "Requirement already satisfied: requests-oauthlib>=0.7.0 in /usr/local/lib/python3.7/dist-packages (from google-auth-oauthlib<0.5,>=0.4.1->tensorboard>=1.15->joeynmt==1.3) (1.3.0)\n",
            "Requirement already satisfied: importlib-metadata in /usr/local/lib/python3.7/dist-packages (from markdown>=2.6.8->tensorboard>=1.15->joeynmt==1.3) (4.8.1)\n",
            "Requirement already satisfied: pyasn1<0.5.0,>=0.4.6 in /usr/local/lib/python3.7/dist-packages (from pyasn1-modules>=0.2.1->google-auth<2,>=1.6.3->tensorboard>=1.15->joeynmt==1.3) (0.4.8)\n",
            "Requirement already satisfied: certifi>=2017.4.17 in /usr/local/lib/python3.7/dist-packages (from requests<3,>=2.21.0->tensorboard>=1.15->joeynmt==1.3) (2021.5.30)\n",
            "Requirement already satisfied: chardet<4,>=3.0.2 in /usr/local/lib/python3.7/dist-packages (from requests<3,>=2.21.0->tensorboard>=1.15->joeynmt==1.3) (3.0.4)\n",
            "Requirement already satisfied: urllib3!=1.25.0,!=1.25.1,<1.26,>=1.21.1 in /usr/local/lib/python3.7/dist-packages (from requests<3,>=2.21.0->tensorboard>=1.15->joeynmt==1.3) (1.24.3)\n",
            "Requirement already satisfied: idna<3,>=2.5 in /usr/local/lib/python3.7/dist-packages (from requests<3,>=2.21.0->tensorboard>=1.15->joeynmt==1.3) (2.10)\n",
            "Requirement already satisfied: oauthlib>=3.0.0 in /usr/local/lib/python3.7/dist-packages (from requests-oauthlib>=0.7.0->google-auth-oauthlib<0.5,>=0.4.1->tensorboard>=1.15->joeynmt==1.3) (3.1.1)\n",
            "  Downloading torch-1.9.0-cp37-cp37m-manylinux1_x86_64.whl (831.4 MB)\n",
            "\u001b[K     |████████████████████████████████| 831.4 MB 3.0 kB/s \n",
            "\u001b[?25hRequirement already satisfied: tqdm in /usr/local/lib/python3.7/dist-packages (from torchtext>=0.10.0->joeynmt==1.3) (4.62.3)\n",
            "Requirement already satisfied: zipp>=0.5 in /usr/local/lib/python3.7/dist-packages (from importlib-metadata->markdown>=2.6.8->tensorboard>=1.15->joeynmt==1.3) (3.6.0)\n",
            "Requirement already satisfied: pyparsing!=2.0.4,!=2.1.2,!=2.1.6,>=2.0.1 in /usr/local/lib/python3.7/dist-packages (from matplotlib->joeynmt==1.3) (2.4.7)\n",
            "Requirement already satisfied: python-dateutil>=2.1 in /usr/local/lib/python3.7/dist-packages (from matplotlib->joeynmt==1.3) (2.8.2)\n",
            "Requirement already satisfied: cycler>=0.10 in /usr/local/lib/python3.7/dist-packages (from matplotlib->joeynmt==1.3) (0.10.0)\n",
            "Requirement already satisfied: kiwisolver>=1.0.1 in /usr/local/lib/python3.7/dist-packages (from matplotlib->joeynmt==1.3) (1.3.2)\n",
            "Requirement already satisfied: scipy>=1.0 in /usr/local/lib/python3.7/dist-packages (from seaborn->joeynmt==1.3) (1.4.1)\n",
            "Requirement already satisfied: pandas>=0.23 in /usr/local/lib/python3.7/dist-packages (from seaborn->joeynmt==1.3) (1.1.5)\n",
            "Requirement already satisfied: pytz>=2017.2 in /usr/local/lib/python3.7/dist-packages (from pandas>=0.23->seaborn->joeynmt==1.3) (2018.9)\n",
            "Building wheels for collected packages: joeynmt\n",
            "  Building wheel for joeynmt (setup.py) ... \u001b[?25l\u001b[?25hdone\n",
            "  Created wheel for joeynmt: filename=joeynmt-1.3-py3-none-any.whl size=86029 sha256=db919d0177a3a3eda75889410a0da896b629262adbf53acc9b5fcaaa6c0275c4\n",
            "  Stored in directory: /tmp/pip-ephem-wheel-cache-wkgwg3xq/wheels/0a/f4/bf/6c9d3b8efbfece6cd209f865be37382b02e7c3584df2e28ca4\n",
            "Successfully built joeynmt\n",
            "Installing collected packages: torch, joeynmt\n",
            "  Attempting uninstall: torch\n",
            "    Found existing installation: torch 1.8.0+cu101\n",
            "    Uninstalling torch-1.8.0+cu101:\n",
            "      Successfully uninstalled torch-1.8.0+cu101\n",
            "  Attempting uninstall: joeynmt\n",
            "    Found existing installation: joeynmt 1.3\n",
            "    Uninstalling joeynmt-1.3:\n",
            "      Successfully uninstalled joeynmt-1.3\n",
            "Successfully installed joeynmt-1.3 torch-1.9.0\n",
            "Looking in links: https://download.pytorch.org/whl/torch_stable.html\n",
            "\u001b[31mERROR: Could not find a version that satisfies the requirement torch==1.9.0+cu101 (from versions: 0.1.2, 0.1.2.post1, 0.1.2.post2, 0.4.1, 0.4.1.post2, 1.0.0, 1.0.1, 1.0.1.post2, 1.1.0, 1.2.0, 1.2.0+cpu, 1.2.0+cu92, 1.3.0, 1.3.0+cpu, 1.3.0+cu100, 1.3.0+cu92, 1.3.1, 1.3.1+cpu, 1.3.1+cu100, 1.3.1+cu92, 1.4.0, 1.4.0+cpu, 1.4.0+cu100, 1.4.0+cu92, 1.5.0, 1.5.0+cpu, 1.5.0+cu101, 1.5.0+cu92, 1.5.1, 1.5.1+cpu, 1.5.1+cu101, 1.5.1+cu92, 1.6.0, 1.6.0+cpu, 1.6.0+cu101, 1.6.0+cu92, 1.7.0, 1.7.0+cpu, 1.7.0+cu101, 1.7.0+cu110, 1.7.0+cu92, 1.7.1, 1.7.1+cpu, 1.7.1+cu101, 1.7.1+cu110, 1.7.1+cu92, 1.7.1+rocm3.7, 1.7.1+rocm3.8, 1.8.0, 1.8.0+cpu, 1.8.0+cu101, 1.8.0+cu111, 1.8.0+rocm3.10, 1.8.0+rocm4.0.1, 1.8.1, 1.8.1+cpu, 1.8.1+cu101, 1.8.1+cu102, 1.8.1+cu111, 1.8.1+rocm3.10, 1.8.1+rocm4.0.1, 1.9.0, 1.9.0+cpu, 1.9.0+cu102, 1.9.0+cu111, 1.9.0+rocm4.0.1, 1.9.0+rocm4.1, 1.9.0+rocm4.2, 1.9.1, 1.9.1+cpu, 1.9.1+cu102, 1.9.1+cu111, 1.9.1+rocm4.0.1, 1.9.1+rocm4.1, 1.9.1+rocm4.2)\u001b[0m\n",
            "\u001b[31mERROR: No matching distribution found for torch==1.9.0+cu101\u001b[0m\n"
          ]
        }
      ]
    },
    {
      "cell_type": "markdown",
      "metadata": {
        "id": "AaE77Tcppex9"
      },
      "source": [
        "# Preprocessing the Data into Subword BPE Tokens\n",
        "\n",
        "- One of the most powerful improvements for agglutinative languages (a feature of most Bantu languages) is using BPE tokenization [ (Sennrich, 2015) ](https://arxiv.org/abs/1508.07909).\n",
        "\n",
        "- It was also shown that by optimizing the umber of BPE codes we significantly improve results for low-resourced languages [(Sennrich, 2019)](https://www.aclweb.org/anthology/P19-1021) [(Martinus, 2019)](https://arxiv.org/abs/1906.05685)\n",
        "\n",
        "- Below we have the scripts for doing BPE tokenization of our data. We use 4000 tokens as recommended by [(Sennrich, 2019)](https://www.aclweb.org/anthology/P19-1021). You do not need to change anything. Simply running the below will be suitable. "
      ]
    },
    {
      "cell_type": "code",
      "metadata": {
        "colab": {
          "base_uri": "https://localhost:8080/"
        },
        "id": "H-TyjtmXB1mL",
        "outputId": "71c9335b-4b01-4cdb-a963-b5cd268134d4"
      },
      "source": [
        "# One of the huge boosts in NMT performance was to use a different method of tokenizing. \n",
        "# Usually, NMT would tokenize by words. However, using a method called BPE gave amazing boosts to performance\n",
        "\n",
        "# Do subword NMT\n",
        "from os import path\n",
        "os.environ[\"src\"] = source_language # Sets them in bash as well, since we often use bash scripts\n",
        "os.environ[\"tgt\"] = target_language\n",
        "\n",
        "# Learn BPEs on the training data.\n",
        "os.environ[\"data_path\"] = path.join(\"joeynmt\", \"data\",target_language + source_language ) # Herman! \n",
        "! subword-nmt learn-joint-bpe-and-vocab --input train.$src train.$tgt -s 4000 -o bpe.codes.4000 --write-vocabulary vocab.$src vocab.$tgt\n",
        "\n",
        "# Apply BPE splits to the development and test data.\n",
        "! subword-nmt apply-bpe -c bpe.codes.4000 --vocabulary vocab.$src < train.$src > train.bpe.$src\n",
        "! subword-nmt apply-bpe -c bpe.codes.4000 --vocabulary vocab.$tgt < train.$tgt > train.bpe.$tgt\n",
        "\n",
        "! subword-nmt apply-bpe -c bpe.codes.4000 --vocabulary vocab.$src < dev.$src > dev.bpe.$src\n",
        "! subword-nmt apply-bpe -c bpe.codes.4000 --vocabulary vocab.$tgt < dev.$tgt > dev.bpe.$tgt\n",
        "! subword-nmt apply-bpe -c bpe.codes.4000 --vocabulary vocab.$src < test.$src > test.bpe.$src\n",
        "! subword-nmt apply-bpe -c bpe.codes.4000 --vocabulary vocab.$tgt < test.$tgt > test.bpe.$tgt\n",
        "\n",
        "# Create directory, move everyone we care about to the correct location\n",
        "! mkdir -p $data_path\n",
        "! cp train.* $data_path\n",
        "! cp test.* $data_path\n",
        "! cp dev.* $data_path\n",
        "! cp bpe.codes.4000 $data_path\n",
        "! ls $data_path\n",
        "\n",
        "# Also move everything we care about to a mounted location in google drive (relevant if running in colab) at gdrive_path\n",
        "! cp train.* \"$gdrive_path\"\n",
        "! cp test.* \"$gdrive_path\"\n",
        "! cp dev.* \"$gdrive_path\"\n",
        "! cp bpe.codes.4000 \"$gdrive_path\"\n",
        "! ls \"$gdrive_path\"\n",
        "\n",
        "# Create that vocab using build_vocab\n",
        "! sudo chmod 777 joeynmt/scripts/build_vocab.py\n",
        "! joeynmt/scripts/build_vocab.py joeynmt/data/$tgt$src/train.bpe.$src joeynmt/data/$tgt$src/train.bpe.$tgt --output_path joeynmt/data/$tgt$src/vocab.txt\n",
        "\n",
        "# Some output\n",
        "! echo \"BPE Ndebele (Zimbabwe) Sentences\"\n",
        "! tail -n 5 test.bpe.$tgt\n",
        "! echo \"Combined BPE Vocab\"\n",
        "! tail -n 10 joeynmt/data/$tgt$src/vocab.txt  # Herman"
      ],
      "execution_count": 16,
      "outputs": [
        {
          "output_type": "stream",
          "name": "stdout",
          "text": [
            "bpe.codes.4000\tdev.en\t     test.bpe.nd     test.nd\t   train.en\n",
            "dev.bpe.en\tdev.nd\t     test.en\t     train.bpe.en  train.nd\n",
            "dev.bpe.nd\ttest.bpe.en  test.en-any.en  train.bpe.nd\n",
            "bpe.codes.4000\tdev.en\t     test.bpe.nd     test.nd\t   train.en\n",
            "dev.bpe.en\tdev.nd\t     test.en\t     train.bpe.en  train.nd\n",
            "dev.bpe.nd\ttest.bpe.en  test.en-any.en  train.bpe.nd\n",
            "BPE Ndebele (Zimbabwe) Sentences\n",
            "Si@@ khathi sonke nxa ng@@ it@@ shay@@ isa emihlanganweni ngiy@@ abe s@@ engi@@ kwazi ukuthi uJehova uy@@ angi@@ thanda . ”\n",
            "I@@ hawu loku@@ kholwa ( Khangela izind@@ ima 12 - 14 )\n",
            "I@@ ng@@ ow@@ ane yoku@@ s@@ ind@@ iswa ( Khangela izind@@ ima 15 - 18 )\n",
            "S@@ eng@@ in@@ anzelele ukuthi abantu bay@@ al@@ alela nxa be@@ bona ukuthi uy@@ ali@@ thanda iBhayibhili njalo wenza konke oku@@ sem@@ andleni akho ukuze ub@@ asi@@ ze . ”\n",
            "In@@ k@@ em@@ ba yom@@ oya ( Khangela izind@@ ima 19 - 20 )\n",
            "Combined BPE Vocab\n",
            "Isra@@\n",
            "Jakh@@\n",
            "ó\n",
            "ʺ\n",
            "greg@@\n",
            "sider\n",
            "wro@@\n",
            "verbs\n",
            "habhil@@\n",
            "onye\n"
          ]
        }
      ]
    },
    {
      "cell_type": "code",
      "metadata": {
        "colab": {
          "base_uri": "https://localhost:8080/"
        },
        "id": "IlMitUHR8Qy-",
        "outputId": "8db3e0d4-99ca-4f2f-87c6-7ed57679722a"
      },
      "source": [
        "# Also move everything we care about to a mounted location in google drive (relevant if running in colab) at gdrive_path\n",
        "! cp train.* \"$gdrive_path\"\n",
        "! cp test.* \"$gdrive_path\"\n",
        "! cp dev.* \"$gdrive_path\"\n",
        "! cp bpe.codes.4000 \"$gdrive_path\"\n",
        "! ls \"$gdrive_path\""
      ],
      "execution_count": 17,
      "outputs": [
        {
          "output_type": "stream",
          "name": "stdout",
          "text": [
            "bpe.codes.4000\tdev.en\t     test.bpe.nd     test.nd\t   train.en\n",
            "dev.bpe.en\tdev.nd\t     test.en\t     train.bpe.en  train.nd\n",
            "dev.bpe.nd\ttest.bpe.en  test.en-any.en  train.bpe.nd\n"
          ]
        }
      ]
    },
    {
      "cell_type": "markdown",
      "metadata": {
        "id": "Ixmzi60WsUZ8"
      },
      "source": [
        "# Creating the JoeyNMT Config\n",
        "\n",
        "JoeyNMT requires a yaml config. We provide a template below. We've also set a number of defaults with it, that you may play with!\n",
        "\n",
        "- We used Transformer architecture \n",
        "- We set our dropout to reasonably high: 0.3 (recommended in  [(Sennrich, 2019)](https://www.aclweb.org/anthology/P19-1021))\n",
        "\n",
        "Things worth playing with:\n",
        "- The batch size (also recommended to change for low-resourced languages)\n",
        "- The number of epochs (we've set it at 30 just so it runs in about an hour, for testing purposes)\n",
        "- The decoder options (beam_size, alpha)\n",
        "- Evaluation metrics (BLEU versus Crhf4)"
      ]
    },
    {
      "cell_type": "code",
      "metadata": {
        "id": "h8TMgv1p3L1z"
      },
      "source": [
        "# This creates the config file for our JoeyNMT system. It might seem overwhelming so we've provided a couple of useful parameters you'll need to update\n",
        "# (You can of course play with all the parameters if you'd like!)\n",
        "\n",
        "name = '%s%s' % (target_language, source_language)\n",
        "# gdrive_path = os.environ[\"gdrive_path\"]\n",
        "\n",
        "# Create the config\n",
        "config = \"\"\"\n",
        "name: \"{target_language}{source_language}_reverse_transformer\"\n",
        "\n",
        "data:\n",
        "    src: \"{target_language}\"\n",
        "    trg: \"{source_language}\"\n",
        "    train: \"data/{name}/train.bpe\"\n",
        "    dev:   \"data/{name}/dev.bpe\"\n",
        "    test:  \"data/{name}/test.bpe\"\n",
        "    level: \"bpe\"\n",
        "    lowercase: False\n",
        "    max_sent_length: 100\n",
        "    src_vocab: \"data/{name}/vocab.txt\"\n",
        "    trg_vocab: \"data/{name}/vocab.txt\"\n",
        "\n",
        "testing:\n",
        "    beam_size: 5\n",
        "    alpha: 1.0\n",
        "\n",
        "training:\n",
        "    #load_model: \"{gdrive_path}/models/{name}_transformer/1.ckpt\" # if uncommented, load a pre-trained model from this checkpoint\n",
        "    random_seed: 42\n",
        "    optimizer: \"adam\"\n",
        "    normalization: \"tokens\"\n",
        "    adam_betas: [0.9, 0.999] \n",
        "    scheduling: \"noam\"           # TODO: try switching from plateau to Noam scheduling\n",
        "    patience: 5                     # For plateau: decrease learning rate by decrease_factor if validation score has not improved for this many validation rounds.\n",
        "    learning_rate_factor: 0.45       # factor for Noam scheduler (used with Transformer)\n",
        "    learning_rate_warmup: 1000      # warmup steps for Noam scheduler (used with Transformer)\n",
        "    decrease_factor: 0.7\n",
        "    loss: \"crossentropy\"\n",
        "    learning_rate: 0.0003\n",
        "    learning_rate_min: 0.00000001\n",
        "    weight_decay: 0.0\n",
        "    label_smoothing: 0.1\n",
        "    batch_size: 4096\n",
        "    batch_type: \"token\"\n",
        "    eval_batch_size: 3600\n",
        "    eval_batch_type: \"token\"\n",
        "    batch_multiplier: 1\n",
        "    early_stopping_metric: \"ppl\"\n",
        "    epochs: 30                  # TODO: Decrease for when playing around and checking of working. Around 30 is sufficient to check if its working at all\n",
        "    validation_freq: 1000          # TODO: Set to at least once per epoch.\n",
        "    logging_freq: 100\n",
        "    eval_metric: \"bleu\"\n",
        "    model_dir: \"models/{name}_reverse_transformer\"\n",
        "    overwrite: True              # TODO: Set to True if you want to overwrite possibly existing models. \n",
        "    shuffle: True\n",
        "    use_cuda: True\n",
        "    max_output_length: 100\n",
        "    print_valid_sents: [0, 1, 2, 3]\n",
        "    keep_last_ckpts: 3\n",
        "\n",
        "model:\n",
        "    initializer: \"xavier\"\n",
        "    bias_initializer: \"zeros\"\n",
        "    init_gain: 1.0\n",
        "    embed_initializer: \"xavier\"\n",
        "    embed_init_gain: 1.0\n",
        "    tied_embeddings: True\n",
        "    tied_softmax: True\n",
        "    encoder:\n",
        "        type: \"transformer\"\n",
        "        num_layers: 6\n",
        "        num_heads: 4             # TODO: Increase to 8 for larger data.\n",
        "        embeddings:\n",
        "            embedding_dim: 256   # TODO: Increase to 512 for larger data.\n",
        "            scale: True\n",
        "            dropout: 0.2\n",
        "        # typically ff_size = 4 x hidden_size\n",
        "        hidden_size: 256         # TODO: Increase to 512 for larger data.\n",
        "        ff_size: 1024            # TODO: Increase to 2048 for larger data.\n",
        "        dropout: 0.3\n",
        "    decoder:\n",
        "        type: \"transformer\"\n",
        "        num_layers: 6\n",
        "        num_heads: 4              # TODO: Increase to 8 for larger data.\n",
        "        embeddings:\n",
        "            embedding_dim: 256    # TODO: Increase to 512 for larger data.\n",
        "            scale: True\n",
        "            dropout: 0.2\n",
        "        # typically ff_size = 4 x hidden_size\n",
        "        hidden_size: 256         # TODO: Increase to 512 for larger data.\n",
        "        ff_size: 1024            # TODO: Increase to 2048 for larger data.\n",
        "        dropout: 0.3\n",
        "\"\"\".format(name=name, gdrive_path=os.environ[\"gdrive_path\"], source_language=source_language, target_language=target_language)\n",
        "with open(\"joeynmt/configs/transformer_reverse_{name}.yaml\".format(name=name),'w') as f:\n",
        "    f.write(config)"
      ],
      "execution_count": 34,
      "outputs": []
    },
    {
      "cell_type": "markdown",
      "metadata": {
        "id": "oEzoJtV2MIpt"
      },
      "source": [
        "# Train the Model\n",
        "\n",
        "This single line of joeynmt runs the training using the config we made above"
      ]
    },
    {
      "cell_type": "code",
      "metadata": {
        "colab": {
          "base_uri": "https://localhost:8080/"
        },
        "id": "WzbNYNdjLgNb",
        "outputId": "1961ff43-b83d-49d8-e946-18a6dd2ca0d1"
      },
      "source": [
        "# Train the model\n",
        "# You can press Ctrl-C to stop. And then run the next cell to save your checkpoints! \n",
        "!cd joeynmt; python3 -m joeynmt train configs/transformer_reverse_$tgt$src.yaml"
      ],
      "execution_count": null,
      "outputs": [
        {
          "output_type": "stream",
          "name": "stdout",
          "text": [
            "2021-10-08 11:56:55,690 - INFO - root - Hello! This is Joey-NMT (version 1.3).\n",
            "2021-10-08 11:56:55,717 - INFO - joeynmt.data - Loading training data...\n",
            "2021-10-08 11:56:56,680 - INFO - joeynmt.data - Building vocabulary...\n",
            "2021-10-08 11:56:56,973 - INFO - joeynmt.data - Loading dev data...\n",
            "2021-10-08 11:56:56,986 - INFO - joeynmt.data - Loading test data...\n",
            "2021-10-08 11:56:57,017 - INFO - joeynmt.data - Data loaded.\n",
            "2021-10-08 11:56:57,018 - INFO - joeynmt.model - Building an encoder-decoder model...\n",
            "2021-10-08 11:56:57,280 - INFO - joeynmt.model - Enc-dec model built.\n",
            "2021-10-08 11:56:59,068 - INFO - joeynmt.training - Total params: 12135424\n",
            "2021-10-08 11:56:59,070 - WARNING - joeynmt.training - `keep_last_ckpts` option is outdated. Please use `keep_best_ckpts`, instead.\n",
            "2021-10-08 11:57:01,222 - INFO - joeynmt.helpers - cfg.name                           : nden_reverse_transformer\n",
            "2021-10-08 11:57:01,222 - INFO - joeynmt.helpers - cfg.data.src                       : nd\n",
            "2021-10-08 11:57:01,222 - INFO - joeynmt.helpers - cfg.data.trg                       : en\n",
            "2021-10-08 11:57:01,222 - INFO - joeynmt.helpers - cfg.data.train                     : data/nden/train.bpe\n",
            "2021-10-08 11:57:01,222 - INFO - joeynmt.helpers - cfg.data.dev                       : data/nden/dev.bpe\n",
            "2021-10-08 11:57:01,223 - INFO - joeynmt.helpers - cfg.data.test                      : data/nden/test.bpe\n",
            "2021-10-08 11:57:01,223 - INFO - joeynmt.helpers - cfg.data.level                     : bpe\n",
            "2021-10-08 11:57:01,223 - INFO - joeynmt.helpers - cfg.data.lowercase                 : False\n",
            "2021-10-08 11:57:01,223 - INFO - joeynmt.helpers - cfg.data.max_sent_length           : 100\n",
            "2021-10-08 11:57:01,223 - INFO - joeynmt.helpers - cfg.data.src_vocab                 : data/nden/vocab.txt\n",
            "2021-10-08 11:57:01,223 - INFO - joeynmt.helpers - cfg.data.trg_vocab                 : data/nden/vocab.txt\n",
            "2021-10-08 11:57:01,223 - INFO - joeynmt.helpers - cfg.testing.beam_size              : 5\n",
            "2021-10-08 11:57:01,223 - INFO - joeynmt.helpers - cfg.testing.alpha                  : 1.0\n",
            "2021-10-08 11:57:01,224 - INFO - joeynmt.helpers - cfg.training.random_seed           : 42\n",
            "2021-10-08 11:57:01,224 - INFO - joeynmt.helpers - cfg.training.optimizer             : adam\n",
            "2021-10-08 11:57:01,224 - INFO - joeynmt.helpers - cfg.training.normalization         : tokens\n",
            "2021-10-08 11:57:01,224 - INFO - joeynmt.helpers - cfg.training.adam_betas            : [0.9, 0.999]\n",
            "2021-10-08 11:57:01,224 - INFO - joeynmt.helpers - cfg.training.scheduling            : noam\n",
            "2021-10-08 11:57:01,224 - INFO - joeynmt.helpers - cfg.training.patience              : 5\n",
            "2021-10-08 11:57:01,224 - INFO - joeynmt.helpers - cfg.training.learning_rate_factor  : 0.45\n",
            "2021-10-08 11:57:01,224 - INFO - joeynmt.helpers - cfg.training.learning_rate_warmup  : 1000\n",
            "2021-10-08 11:57:01,225 - INFO - joeynmt.helpers - cfg.training.decrease_factor       : 0.7\n",
            "2021-10-08 11:57:01,225 - INFO - joeynmt.helpers - cfg.training.loss                  : crossentropy\n",
            "2021-10-08 11:57:01,225 - INFO - joeynmt.helpers - cfg.training.learning_rate         : 0.0003\n",
            "2021-10-08 11:57:01,225 - INFO - joeynmt.helpers - cfg.training.learning_rate_min     : 1e-08\n",
            "2021-10-08 11:57:01,225 - INFO - joeynmt.helpers - cfg.training.weight_decay          : 0.0\n",
            "2021-10-08 11:57:01,225 - INFO - joeynmt.helpers - cfg.training.label_smoothing       : 0.1\n",
            "2021-10-08 11:57:01,225 - INFO - joeynmt.helpers - cfg.training.batch_size            : 4096\n",
            "2021-10-08 11:57:01,226 - INFO - joeynmt.helpers - cfg.training.batch_type            : token\n",
            "2021-10-08 11:57:01,226 - INFO - joeynmt.helpers - cfg.training.eval_batch_size       : 3600\n",
            "2021-10-08 11:57:01,226 - INFO - joeynmt.helpers - cfg.training.eval_batch_type       : token\n",
            "2021-10-08 11:57:01,226 - INFO - joeynmt.helpers - cfg.training.batch_multiplier      : 1\n",
            "2021-10-08 11:57:01,226 - INFO - joeynmt.helpers - cfg.training.early_stopping_metric : ppl\n",
            "2021-10-08 11:57:01,226 - INFO - joeynmt.helpers - cfg.training.epochs                : 30\n",
            "2021-10-08 11:57:01,226 - INFO - joeynmt.helpers - cfg.training.validation_freq       : 1000\n",
            "2021-10-08 11:57:01,226 - INFO - joeynmt.helpers - cfg.training.logging_freq          : 100\n",
            "2021-10-08 11:57:01,227 - INFO - joeynmt.helpers - cfg.training.eval_metric           : bleu\n",
            "2021-10-08 11:57:01,227 - INFO - joeynmt.helpers - cfg.training.model_dir             : models/nden_reverse_transformer\n",
            "2021-10-08 11:57:01,227 - INFO - joeynmt.helpers - cfg.training.overwrite             : True\n",
            "2021-10-08 11:57:01,227 - INFO - joeynmt.helpers - cfg.training.shuffle               : True\n",
            "2021-10-08 11:57:01,227 - INFO - joeynmt.helpers - cfg.training.use_cuda              : True\n",
            "2021-10-08 11:57:01,227 - INFO - joeynmt.helpers - cfg.training.max_output_length     : 100\n",
            "2021-10-08 11:57:01,227 - INFO - joeynmt.helpers - cfg.training.print_valid_sents     : [0, 1, 2, 3]\n",
            "2021-10-08 11:57:01,227 - INFO - joeynmt.helpers - cfg.training.keep_last_ckpts       : 3\n",
            "2021-10-08 11:57:01,228 - INFO - joeynmt.helpers - cfg.model.initializer              : xavier\n",
            "2021-10-08 11:57:01,228 - INFO - joeynmt.helpers - cfg.model.bias_initializer         : zeros\n",
            "2021-10-08 11:57:01,228 - INFO - joeynmt.helpers - cfg.model.init_gain                : 1.0\n",
            "2021-10-08 11:57:01,228 - INFO - joeynmt.helpers - cfg.model.embed_initializer        : xavier\n",
            "2021-10-08 11:57:01,228 - INFO - joeynmt.helpers - cfg.model.embed_init_gain          : 1.0\n",
            "2021-10-08 11:57:01,228 - INFO - joeynmt.helpers - cfg.model.tied_embeddings          : True\n",
            "2021-10-08 11:57:01,228 - INFO - joeynmt.helpers - cfg.model.tied_softmax             : True\n",
            "2021-10-08 11:57:01,228 - INFO - joeynmt.helpers - cfg.model.encoder.type             : transformer\n",
            "2021-10-08 11:57:01,228 - INFO - joeynmt.helpers - cfg.model.encoder.num_layers       : 6\n",
            "2021-10-08 11:57:01,229 - INFO - joeynmt.helpers - cfg.model.encoder.num_heads        : 4\n",
            "2021-10-08 11:57:01,229 - INFO - joeynmt.helpers - cfg.model.encoder.embeddings.embedding_dim : 256\n",
            "2021-10-08 11:57:01,229 - INFO - joeynmt.helpers - cfg.model.encoder.embeddings.scale : True\n",
            "2021-10-08 11:57:01,229 - INFO - joeynmt.helpers - cfg.model.encoder.embeddings.dropout : 0.2\n",
            "2021-10-08 11:57:01,229 - INFO - joeynmt.helpers - cfg.model.encoder.hidden_size      : 256\n",
            "2021-10-08 11:57:01,229 - INFO - joeynmt.helpers - cfg.model.encoder.ff_size          : 1024\n",
            "2021-10-08 11:57:01,229 - INFO - joeynmt.helpers - cfg.model.encoder.dropout          : 0.3\n",
            "2021-10-08 11:57:01,230 - INFO - joeynmt.helpers - cfg.model.decoder.type             : transformer\n",
            "2021-10-08 11:57:01,230 - INFO - joeynmt.helpers - cfg.model.decoder.num_layers       : 6\n",
            "2021-10-08 11:57:01,230 - INFO - joeynmt.helpers - cfg.model.decoder.num_heads        : 4\n",
            "2021-10-08 11:57:01,230 - INFO - joeynmt.helpers - cfg.model.decoder.embeddings.embedding_dim : 256\n",
            "2021-10-08 11:57:01,230 - INFO - joeynmt.helpers - cfg.model.decoder.embeddings.scale : True\n",
            "2021-10-08 11:57:01,230 - INFO - joeynmt.helpers - cfg.model.decoder.embeddings.dropout : 0.2\n",
            "2021-10-08 11:57:01,230 - INFO - joeynmt.helpers - cfg.model.decoder.hidden_size      : 256\n",
            "2021-10-08 11:57:01,230 - INFO - joeynmt.helpers - cfg.model.decoder.ff_size          : 1024\n",
            "2021-10-08 11:57:01,231 - INFO - joeynmt.helpers - cfg.model.decoder.dropout          : 0.3\n",
            "2021-10-08 11:57:01,231 - INFO - joeynmt.helpers - Data set sizes: \n",
            "\ttrain 54853,\n",
            "\tvalid 1000,\n",
            "\ttest 2615\n",
            "2021-10-08 11:57:01,231 - INFO - joeynmt.helpers - First training example:\n",
            "\t[SRC] U@@ cabanga ukuthi wa@@ zis@@ ola yini ng@@ es@@ inqumo sakhe ?\n",
            "\t[TRG] Do you think that he came to re@@ gre@@ t the decision ?\n",
            "2021-10-08 11:57:01,231 - INFO - joeynmt.helpers - First 10 words (src): (0) <unk> (1) <pad> (2) <s> (3) </s> (4) . (5) , (6) the (7) : (8) to (9) of\n",
            "2021-10-08 11:57:01,231 - INFO - joeynmt.helpers - First 10 words (trg): (0) <unk> (1) <pad> (2) <s> (3) </s> (4) . (5) , (6) the (7) : (8) to (9) of\n",
            "2021-10-08 11:57:01,231 - INFO - joeynmt.helpers - Number of Src words (types): 4200\n",
            "2021-10-08 11:57:01,231 - INFO - joeynmt.helpers - Number of Trg words (types): 4200\n",
            "2021-10-08 11:57:01,232 - INFO - joeynmt.training - Model(\n",
            "\tencoder=TransformerEncoder(num_layers=6, num_heads=4),\n",
            "\tdecoder=TransformerDecoder(num_layers=6, num_heads=4),\n",
            "\tsrc_embed=Embeddings(embedding_dim=256, vocab_size=4200),\n",
            "\ttrg_embed=Embeddings(embedding_dim=256, vocab_size=4200))\n",
            "2021-10-08 11:57:01,236 - INFO - joeynmt.training - Train stats:\n",
            "\tdevice: cuda\n",
            "\tn_gpu: 1\n",
            "\t16-bits training: False\n",
            "\tgradient accumulation: 1\n",
            "\tbatch size per device: 4096\n",
            "\ttotal batch size (w. parallel & accumulation): 4096\n",
            "2021-10-08 11:57:01,236 - INFO - joeynmt.training - EPOCH 1\n",
            "2021-10-08 11:57:35,958 - INFO - joeynmt.training - Epoch   1, Step:      100, Batch Loss:     6.168240, Tokens per Sec:     4398, Lr: 0.000089\n",
            "2021-10-08 11:58:10,323 - INFO - joeynmt.training - Epoch   1, Step:      200, Batch Loss:     5.600340, Tokens per Sec:     4317, Lr: 0.000178\n",
            "2021-10-08 11:58:44,640 - INFO - joeynmt.training - Epoch   1, Step:      300, Batch Loss:     5.507025, Tokens per Sec:     4463, Lr: 0.000267\n",
            "2021-10-08 11:59:19,099 - INFO - joeynmt.training - Epoch   1, Step:      400, Batch Loss:     5.088593, Tokens per Sec:     4328, Lr: 0.000356\n",
            "2021-10-08 11:59:53,611 - INFO - joeynmt.training - Epoch   1, Step:      500, Batch Loss:     4.829090, Tokens per Sec:     4477, Lr: 0.000445\n",
            "2021-10-08 12:00:28,246 - INFO - joeynmt.training - Epoch   1, Step:      600, Batch Loss:     4.661356, Tokens per Sec:     4382, Lr: 0.000534\n",
            "2021-10-08 12:01:03,072 - INFO - joeynmt.training - Epoch   1, Step:      700, Batch Loss:     4.366001, Tokens per Sec:     4286, Lr: 0.000623\n",
            "2021-10-08 12:01:37,811 - INFO - joeynmt.training - Epoch   1, Step:      800, Batch Loss:     4.354097, Tokens per Sec:     4322, Lr: 0.000712\n",
            "2021-10-08 12:02:12,453 - INFO - joeynmt.training - Epoch   1, Step:      900, Batch Loss:     4.185302, Tokens per Sec:     4276, Lr: 0.000800\n",
            "2021-10-08 12:02:46,809 - INFO - joeynmt.training - Epoch   1, Step:     1000, Batch Loss:     4.147563, Tokens per Sec:     4296, Lr: 0.000889\n",
            "2021-10-08 12:03:59,321 - WARNING - sacrebleu - That's 100 lines that end in a tokenized period ('.')\n",
            "2021-10-08 12:03:59,322 - WARNING - sacrebleu - It looks like you forgot to detokenize your test data, which may hurt your score.\n",
            "2021-10-08 12:03:59,322 - WARNING - sacrebleu - If you insist your data is detokenized, or don't care, you can suppress this message with the `force` parameter.\n",
            "2021-10-08 12:03:59,329 - INFO - joeynmt.training - Hooray! New best validation result [ppl]!\n",
            "2021-10-08 12:03:59,778 - INFO - joeynmt.training - Example #0\n",
            "2021-10-08 12:03:59,779 - INFO - joeynmt.training - \tSource:     ( Josh . 3 : 12 - 17 ) Cabanga ukuthi kwakumangalisa kangakanani ukubona umfula lowo owawuzondile umiswa !\n",
            "2021-10-08 12:03:59,779 - INFO - joeynmt.training - \tReference:  ( See paragraphs 17 , 18 )\n",
            "2021-10-08 12:03:59,779 - INFO - joeynmt.training - \tHypothesis: ( Matt . 4 : 9 ) The Bible ’ s Witnesses , we will be been been been been been been been been been been been been been been been been been been been been been been been been been been been been been been been been been been been been been been been been been been a .\n",
            "2021-10-08 12:03:59,779 - INFO - joeynmt.training - Example #1\n",
            "2021-10-08 12:03:59,780 - INFO - joeynmt.training - \tSource:     UJesu wathi : “ Kakho ongeza kimi ngaphandle kokuthi uBaba ongithumileyo amsondeze . ”\n",
            "2021-10-08 12:03:59,780 - INFO - joeynmt.training - \tReference:  “ No man can come to me unless the Father , who sent me , draws him , ” said Jesus .\n",
            "2021-10-08 12:03:59,780 - INFO - joeynmt.training - \tHypothesis: “ I will be “ the Bible , ” says : “ I will be a sunds of the earth . ”\n",
            "2021-10-08 12:03:59,780 - INFO - joeynmt.training - Example #2\n",
            "2021-10-08 12:03:59,781 - INFO - joeynmt.training - \tSource:     IBhayibhili lithi : ‘ Ilizwi ngesikhathi salo , lihle kangakanani . ’\n",
            "2021-10-08 12:03:59,781 - INFO - joeynmt.training - \tReference:  The Bible states : “ A word spoken at the right time — how good it is ! ”\n",
            "2021-10-08 12:03:59,781 - INFO - joeynmt.training - \tHypothesis: “ I was “ the Bible . ”\n",
            "2021-10-08 12:03:59,781 - INFO - joeynmt.training - Example #3\n",
            "2021-10-08 12:03:59,781 - INFO - joeynmt.training - \tSource:     Cabanga ngomthandazo wokuzisola uJona awutsho esesiswini senhlanzi enkulu .\n",
            "2021-10-08 12:03:59,781 - INFO - joeynmt.training - \tReference:  For instance , consider Jonah ’ s contrite prayer from the belly of a huge fish .\n",
            "2021-10-08 12:03:59,781 - INFO - joeynmt.training - \tHypothesis: The Bible is not not been been been been been been been been been been been been been been been in the Bible .\n",
            "2021-10-08 12:03:59,782 - INFO - joeynmt.training - Validation result (greedy) at epoch   1, step     1000: bleu:   1.94, loss: 115833.1406, ppl:  58.5505, duration: 72.9719s\n",
            "2021-10-08 12:04:06,933 - INFO - joeynmt.training - Epoch   1: total training loss 5138.20\n",
            "2021-10-08 12:04:06,933 - INFO - joeynmt.training - EPOCH 2\n",
            "2021-10-08 12:04:34,017 - INFO - joeynmt.training - Epoch   2, Step:     1100, Batch Loss:     4.048449, Tokens per Sec:     4324, Lr: 0.000848\n",
            "2021-10-08 12:05:08,471 - INFO - joeynmt.training - Epoch   2, Step:     1200, Batch Loss:     4.082362, Tokens per Sec:     4421, Lr: 0.000812\n",
            "2021-10-08 12:05:42,819 - INFO - joeynmt.training - Epoch   2, Step:     1300, Batch Loss:     3.870855, Tokens per Sec:     4344, Lr: 0.000780\n",
            "2021-10-08 12:06:17,290 - INFO - joeynmt.training - Epoch   2, Step:     1400, Batch Loss:     3.827451, Tokens per Sec:     4424, Lr: 0.000752\n",
            "2021-10-08 12:06:51,829 - INFO - joeynmt.training - Epoch   2, Step:     1500, Batch Loss:     3.717422, Tokens per Sec:     4388, Lr: 0.000726\n",
            "2021-10-08 12:07:26,374 - INFO - joeynmt.training - Epoch   2, Step:     1600, Batch Loss:     3.589048, Tokens per Sec:     4387, Lr: 0.000703\n",
            "2021-10-08 12:08:00,814 - INFO - joeynmt.training - Epoch   2, Step:     1700, Batch Loss:     3.703330, Tokens per Sec:     4481, Lr: 0.000682\n",
            "2021-10-08 12:08:35,288 - INFO - joeynmt.training - Epoch   2, Step:     1800, Batch Loss:     3.524416, Tokens per Sec:     4386, Lr: 0.000663\n",
            "2021-10-08 12:09:09,848 - INFO - joeynmt.training - Epoch   2, Step:     1900, Batch Loss:     3.647727, Tokens per Sec:     4279, Lr: 0.000645\n",
            "2021-10-08 12:09:44,682 - INFO - joeynmt.training - Epoch   2, Step:     2000, Batch Loss:     3.490080, Tokens per Sec:     4270, Lr: 0.000629\n",
            "2021-10-08 12:10:28,004 - WARNING - sacrebleu - That's 100 lines that end in a tokenized period ('.')\n",
            "2021-10-08 12:10:28,004 - WARNING - sacrebleu - It looks like you forgot to detokenize your test data, which may hurt your score.\n",
            "2021-10-08 12:10:28,004 - WARNING - sacrebleu - If you insist your data is detokenized, or don't care, you can suppress this message with the `force` parameter.\n",
            "2021-10-08 12:10:28,010 - INFO - joeynmt.training - Hooray! New best validation result [ppl]!\n",
            "2021-10-08 12:10:28,481 - INFO - joeynmt.training - Example #0\n",
            "2021-10-08 12:10:28,482 - INFO - joeynmt.training - \tSource:     ( Josh . 3 : 12 - 17 ) Cabanga ukuthi kwakumangalisa kangakanani ukubona umfula lowo owawuzondile umiswa !\n",
            "2021-10-08 12:10:28,482 - INFO - joeynmt.training - \tReference:  ( See paragraphs 17 , 18 )\n",
            "2021-10-08 12:10:28,482 - INFO - joeynmt.training - \tHypothesis: ( Gen. 3 : 1-10 ) The first man who had been a mitable of the blood of the blood of the blood .\n",
            "2021-10-08 12:10:28,482 - INFO - joeynmt.training - Example #1\n",
            "2021-10-08 12:10:28,482 - INFO - joeynmt.training - \tSource:     UJesu wathi : “ Kakho ongeza kimi ngaphandle kokuthi uBaba ongithumileyo amsondeze . ”\n",
            "2021-10-08 12:10:28,482 - INFO - joeynmt.training - \tReference:  “ No man can come to me unless the Father , who sent me , draws him , ” said Jesus .\n",
            "2021-10-08 12:10:28,483 - INFO - joeynmt.training - \tHypothesis: Jesus said : “ The same man of the earth , and he will be a good news . ”\n",
            "2021-10-08 12:10:28,483 - INFO - joeynmt.training - Example #2\n",
            "2021-10-08 12:10:28,483 - INFO - joeynmt.training - \tSource:     IBhayibhili lithi : ‘ Ilizwi ngesikhathi salo , lihle kangakanani . ’\n",
            "2021-10-08 12:10:28,483 - INFO - joeynmt.training - \tReference:  The Bible states : “ A word spoken at the right time — how good it is ! ”\n",
            "2021-10-08 12:10:28,483 - INFO - joeynmt.training - \tHypothesis: The Bible says : “ The Bible is not a good news . ”\n",
            "2021-10-08 12:10:28,484 - INFO - joeynmt.training - Example #3\n",
            "2021-10-08 12:10:28,484 - INFO - joeynmt.training - \tSource:     Cabanga ngomthandazo wokuzisola uJona awutsho esesiswini senhlanzi enkulu .\n",
            "2021-10-08 12:10:28,484 - INFO - joeynmt.training - \tReference:  For instance , consider Jonah ’ s contrite prayer from the belly of a huge fish .\n",
            "2021-10-08 12:10:28,485 - INFO - joeynmt.training - \tHypothesis: The Bible ’ s name of Jehovah ’ s Witnesses , and the same of the same world .\n",
            "2021-10-08 12:10:28,485 - INFO - joeynmt.training - Validation result (greedy) at epoch   2, step     2000: bleu:   7.02, loss: 95907.1719, ppl:  29.0720, duration: 43.8019s\n",
            "2021-10-08 12:10:42,546 - INFO - joeynmt.training - Epoch   2: total training loss 3854.86\n",
            "2021-10-08 12:10:42,546 - INFO - joeynmt.training - EPOCH 3\n",
            "2021-10-08 12:11:02,942 - INFO - joeynmt.training - Epoch   3, Step:     2100, Batch Loss:     3.462676, Tokens per Sec:     4274, Lr: 0.000614\n",
            "2021-10-08 12:11:37,607 - INFO - joeynmt.training - Epoch   3, Step:     2200, Batch Loss:     3.375765, Tokens per Sec:     4267, Lr: 0.000600\n",
            "2021-10-08 12:12:12,091 - INFO - joeynmt.training - Epoch   3, Step:     2300, Batch Loss:     3.291732, Tokens per Sec:     4306, Lr: 0.000586\n",
            "2021-10-08 12:12:46,921 - INFO - joeynmt.training - Epoch   3, Step:     2400, Batch Loss:     3.324414, Tokens per Sec:     4422, Lr: 0.000574\n",
            "2021-10-08 12:13:21,734 - INFO - joeynmt.training - Epoch   3, Step:     2500, Batch Loss:     3.501984, Tokens per Sec:     4356, Lr: 0.000563\n",
            "2021-10-08 12:13:56,296 - INFO - joeynmt.training - Epoch   3, Step:     2600, Batch Loss:     3.368441, Tokens per Sec:     4432, Lr: 0.000552\n",
            "2021-10-08 12:14:30,858 - INFO - joeynmt.training - Epoch   3, Step:     2700, Batch Loss:     3.332759, Tokens per Sec:     4344, Lr: 0.000541\n",
            "2021-10-08 12:15:05,483 - INFO - joeynmt.training - Epoch   3, Step:     2800, Batch Loss:     3.475521, Tokens per Sec:     4354, Lr: 0.000532\n",
            "2021-10-08 12:15:40,159 - INFO - joeynmt.training - Epoch   3, Step:     2900, Batch Loss:     3.202993, Tokens per Sec:     4290, Lr: 0.000522\n",
            "2021-10-08 12:16:14,484 - INFO - joeynmt.training - Epoch   3, Step:     3000, Batch Loss:     3.250283, Tokens per Sec:     4314, Lr: 0.000513\n",
            "2021-10-08 12:16:56,577 - WARNING - sacrebleu - That's 100 lines that end in a tokenized period ('.')\n",
            "2021-10-08 12:16:56,577 - WARNING - sacrebleu - It looks like you forgot to detokenize your test data, which may hurt your score.\n",
            "2021-10-08 12:16:56,577 - WARNING - sacrebleu - If you insist your data is detokenized, or don't care, you can suppress this message with the `force` parameter.\n",
            "2021-10-08 12:16:56,584 - INFO - joeynmt.training - Hooray! New best validation result [ppl]!\n",
            "2021-10-08 12:16:57,076 - INFO - joeynmt.training - Example #0\n",
            "2021-10-08 12:16:57,077 - INFO - joeynmt.training - \tSource:     ( Josh . 3 : 12 - 17 ) Cabanga ukuthi kwakumangalisa kangakanani ukubona umfula lowo owawuzondile umiswa !\n",
            "2021-10-08 12:16:57,077 - INFO - joeynmt.training - \tReference:  ( See paragraphs 17 , 18 )\n",
            "2021-10-08 12:16:57,077 - INFO - joeynmt.training - \tHypothesis: ( Josh . 3 : 15-17 ) The man was not a bond of a burden .\n",
            "2021-10-08 12:16:57,077 - INFO - joeynmt.training - Example #1\n",
            "2021-10-08 12:16:57,077 - INFO - joeynmt.training - \tSource:     UJesu wathi : “ Kakho ongeza kimi ngaphandle kokuthi uBaba ongithumileyo amsondeze . ”\n",
            "2021-10-08 12:16:57,077 - INFO - joeynmt.training - \tReference:  “ No man can come to me unless the Father , who sent me , draws him , ” said Jesus .\n",
            "2021-10-08 12:16:57,078 - INFO - joeynmt.training - \tHypothesis: Jesus said : “ You will be a man who will be a man who will be a man . ”\n",
            "2021-10-08 12:16:57,078 - INFO - joeynmt.training - Example #2\n",
            "2021-10-08 12:16:57,078 - INFO - joeynmt.training - \tSource:     IBhayibhili lithi : ‘ Ilizwi ngesikhathi salo , lihle kangakanani . ’\n",
            "2021-10-08 12:16:57,078 - INFO - joeynmt.training - \tReference:  The Bible states : “ A word spoken at the right time — how good it is ! ”\n",
            "2021-10-08 12:16:57,078 - INFO - joeynmt.training - \tHypothesis: The Bible says : “ The Bible is not a good news . ”\n",
            "2021-10-08 12:16:57,078 - INFO - joeynmt.training - Example #3\n",
            "2021-10-08 12:16:57,079 - INFO - joeynmt.training - \tSource:     Cabanga ngomthandazo wokuzisola uJona awutsho esesiswini senhlanzi enkulu .\n",
            "2021-10-08 12:16:57,079 - INFO - joeynmt.training - \tReference:  For instance , consider Jonah ’ s contrite prayer from the belly of a huge fish .\n",
            "2021-10-08 12:16:57,079 - INFO - joeynmt.training - \tHypothesis: The same is the way of Just as a person ’ s word , and the Bible is not a burn .\n",
            "2021-10-08 12:16:57,079 - INFO - joeynmt.training - Validation result (greedy) at epoch   3, step     3000: bleu:   9.49, loss: 87811.3594, ppl:  21.8745, duration: 42.5947s\n",
            "2021-10-08 12:17:19,183 - INFO - joeynmt.training - Epoch   3: total training loss 3441.21\n",
            "2021-10-08 12:17:19,184 - INFO - joeynmt.training - EPOCH 4\n",
            "2021-10-08 12:17:31,482 - INFO - joeynmt.training - Epoch   4, Step:     3100, Batch Loss:     3.302517, Tokens per Sec:     4379, Lr: 0.000505\n",
            "2021-10-08 12:18:06,185 - INFO - joeynmt.training - Epoch   4, Step:     3200, Batch Loss:     3.080270, Tokens per Sec:     4350, Lr: 0.000497\n",
            "2021-10-08 12:18:40,659 - INFO - joeynmt.training - Epoch   4, Step:     3300, Batch Loss:     3.287979, Tokens per Sec:     4421, Lr: 0.000490\n",
            "2021-10-08 12:19:15,262 - INFO - joeynmt.training - Epoch   4, Step:     3400, Batch Loss:     3.163197, Tokens per Sec:     4380, Lr: 0.000482\n",
            "2021-10-08 12:19:49,643 - INFO - joeynmt.training - Epoch   4, Step:     3500, Batch Loss:     3.285043, Tokens per Sec:     4365, Lr: 0.000475\n",
            "2021-10-08 12:20:24,255 - INFO - joeynmt.training - Epoch   4, Step:     3600, Batch Loss:     3.069816, Tokens per Sec:     4355, Lr: 0.000469\n",
            "2021-10-08 12:20:59,106 - INFO - joeynmt.training - Epoch   4, Step:     3700, Batch Loss:     3.212031, Tokens per Sec:     4349, Lr: 0.000462\n",
            "2021-10-08 12:21:33,730 - INFO - joeynmt.training - Epoch   4, Step:     3800, Batch Loss:     3.057791, Tokens per Sec:     4362, Lr: 0.000456\n",
            "2021-10-08 12:22:08,312 - INFO - joeynmt.training - Epoch   4, Step:     3900, Batch Loss:     3.187355, Tokens per Sec:     4335, Lr: 0.000450\n",
            "2021-10-08 12:22:42,965 - INFO - joeynmt.training - Epoch   4, Step:     4000, Batch Loss:     3.043107, Tokens per Sec:     4363, Lr: 0.000445\n",
            "2021-10-08 12:23:31,754 - WARNING - sacrebleu - That's 100 lines that end in a tokenized period ('.')\n",
            "2021-10-08 12:23:31,754 - WARNING - sacrebleu - It looks like you forgot to detokenize your test data, which may hurt your score.\n",
            "2021-10-08 12:23:31,755 - WARNING - sacrebleu - If you insist your data is detokenized, or don't care, you can suppress this message with the `force` parameter.\n",
            "2021-10-08 12:23:31,761 - INFO - joeynmt.training - Hooray! New best validation result [ppl]!\n",
            "2021-10-08 12:23:32,238 - INFO - joeynmt.helpers - delete models/nden_reverse_transformer/1000.ckpt\n",
            "2021-10-08 12:23:32,260 - INFO - joeynmt.training - Example #0\n",
            "2021-10-08 12:23:32,260 - INFO - joeynmt.training - \tSource:     ( Josh . 3 : 12 - 17 ) Cabanga ukuthi kwakumangalisa kangakanani ukubona umfula lowo owawuzondile umiswa !\n",
            "2021-10-08 12:23:32,260 - INFO - joeynmt.training - \tReference:  ( See paragraphs 17 , 18 )\n",
            "2021-10-08 12:23:32,260 - INFO - joeynmt.training - \tHypothesis: ( Josh . 3 : 15-17 ) The same time , the campent of the campent of the camp of the camp .\n",
            "2021-10-08 12:23:32,261 - INFO - joeynmt.training - Example #1\n",
            "2021-10-08 12:23:32,261 - INFO - joeynmt.training - \tSource:     UJesu wathi : “ Kakho ongeza kimi ngaphandle kokuthi uBaba ongithumileyo amsondeze . ”\n",
            "2021-10-08 12:23:32,261 - INFO - joeynmt.training - \tReference:  “ No man can come to me unless the Father , who sent me , draws him , ” said Jesus .\n",
            "2021-10-08 12:23:32,261 - INFO - joeynmt.training - \tHypothesis: Jesus said : “ You will be a close friend of the Father , and you will be a close friend of the Father . ”\n",
            "2021-10-08 12:23:32,261 - INFO - joeynmt.training - Example #2\n",
            "2021-10-08 12:23:32,262 - INFO - joeynmt.training - \tSource:     IBhayibhili lithi : ‘ Ilizwi ngesikhathi salo , lihle kangakanani . ’\n",
            "2021-10-08 12:23:32,262 - INFO - joeynmt.training - \tReference:  The Bible states : “ A word spoken at the right time — how good it is ! ”\n",
            "2021-10-08 12:23:32,262 - INFO - joeynmt.training - \tHypothesis: The Bible says : “ The word of the word of the truth , and the truth is the truth . ”\n",
            "2021-10-08 12:23:32,262 - INFO - joeynmt.training - Example #3\n",
            "2021-10-08 12:23:32,262 - INFO - joeynmt.training - \tSource:     Cabanga ngomthandazo wokuzisola uJona awutsho esesiswini senhlanzi enkulu .\n",
            "2021-10-08 12:23:32,262 - INFO - joeynmt.training - \tReference:  For instance , consider Jonah ’ s contrite prayer from the belly of a huge fish .\n",
            "2021-10-08 12:23:32,262 - INFO - joeynmt.training - \tHypothesis: Consider the way of Janaan , Janaah , and he was a source of the campent .\n",
            "2021-10-08 12:23:32,263 - INFO - joeynmt.training - Validation result (greedy) at epoch   4, step     4000: bleu:  10.70, loss: 83303.8984, ppl:  18.6706, duration: 49.2971s\n",
            "2021-10-08 12:24:00,524 - INFO - joeynmt.training - Epoch   4: total training loss 3217.30\n",
            "2021-10-08 12:24:00,525 - INFO - joeynmt.training - EPOCH 5\n",
            "2021-10-08 12:24:06,813 - INFO - joeynmt.training - Epoch   5, Step:     4100, Batch Loss:     3.073281, Tokens per Sec:     4379, Lr: 0.000439\n",
            "2021-10-08 12:24:41,081 - INFO - joeynmt.training - Epoch   5, Step:     4200, Batch Loss:     3.052200, Tokens per Sec:     4400, Lr: 0.000434\n",
            "2021-10-08 12:25:15,707 - INFO - joeynmt.training - Epoch   5, Step:     4300, Batch Loss:     2.981462, Tokens per Sec:     4364, Lr: 0.000429\n",
            "2021-10-08 12:25:50,286 - INFO - joeynmt.training - Epoch   5, Step:     4400, Batch Loss:     2.993755, Tokens per Sec:     4463, Lr: 0.000424\n",
            "2021-10-08 12:26:24,700 - INFO - joeynmt.training - Epoch   5, Step:     4500, Batch Loss:     3.074148, Tokens per Sec:     4399, Lr: 0.000419\n",
            "2021-10-08 12:26:59,388 - INFO - joeynmt.training - Epoch   5, Step:     4600, Batch Loss:     3.043828, Tokens per Sec:     4348, Lr: 0.000415\n",
            "2021-10-08 12:27:33,862 - INFO - joeynmt.training - Epoch   5, Step:     4700, Batch Loss:     3.053160, Tokens per Sec:     4294, Lr: 0.000410\n",
            "2021-10-08 12:28:08,274 - INFO - joeynmt.training - Epoch   5, Step:     4800, Batch Loss:     2.883704, Tokens per Sec:     4280, Lr: 0.000406\n",
            "2021-10-08 12:28:43,010 - INFO - joeynmt.training - Epoch   5, Step:     4900, Batch Loss:     3.067112, Tokens per Sec:     4344, Lr: 0.000402\n",
            "2021-10-08 12:29:17,324 - INFO - joeynmt.training - Epoch   5, Step:     5000, Batch Loss:     3.182991, Tokens per Sec:     4339, Lr: 0.000398\n",
            "2021-10-08 12:30:10,485 - WARNING - sacrebleu - That's 100 lines that end in a tokenized period ('.')\n",
            "2021-10-08 12:30:10,485 - WARNING - sacrebleu - It looks like you forgot to detokenize your test data, which may hurt your score.\n",
            "2021-10-08 12:30:10,485 - WARNING - sacrebleu - If you insist your data is detokenized, or don't care, you can suppress this message with the `force` parameter.\n",
            "2021-10-08 12:30:10,493 - INFO - joeynmt.training - Hooray! New best validation result [ppl]!\n",
            "2021-10-08 12:30:10,915 - INFO - joeynmt.helpers - delete models/nden_reverse_transformer/2000.ckpt\n",
            "2021-10-08 12:30:10,937 - INFO - joeynmt.training - Example #0\n",
            "2021-10-08 12:30:10,938 - INFO - joeynmt.training - \tSource:     ( Josh . 3 : 12 - 17 ) Cabanga ukuthi kwakumangalisa kangakanani ukubona umfula lowo owawuzondile umiswa !\n",
            "2021-10-08 12:30:10,938 - INFO - joeynmt.training - \tReference:  ( See paragraphs 17 , 18 )\n",
            "2021-10-08 12:30:10,938 - INFO - joeynmt.training - \tHypothesis: ( Josh . 3 : 15-17 ) We could be sure that he would be able to be a blood of the class .\n",
            "2021-10-08 12:30:10,938 - INFO - joeynmt.training - Example #1\n",
            "2021-10-08 12:30:10,938 - INFO - joeynmt.training - \tSource:     UJesu wathi : “ Kakho ongeza kimi ngaphandle kokuthi uBaba ongithumileyo amsondeze . ”\n",
            "2021-10-08 12:30:10,938 - INFO - joeynmt.training - \tReference:  “ No man can come to me unless the Father , who sent me , draws him , ” said Jesus .\n",
            "2021-10-08 12:30:10,938 - INFO - joeynmt.training - \tHypothesis: Jesus said : “ You will be a close friend of your Father , and you will be a close friend . ”\n",
            "2021-10-08 12:30:10,938 - INFO - joeynmt.training - Example #2\n",
            "2021-10-08 12:30:10,939 - INFO - joeynmt.training - \tSource:     IBhayibhili lithi : ‘ Ilizwi ngesikhathi salo , lihle kangakanani . ’\n",
            "2021-10-08 12:30:10,939 - INFO - joeynmt.training - \tReference:  The Bible states : “ A word spoken at the right time — how good it is ! ”\n",
            "2021-10-08 12:30:10,939 - INFO - joeynmt.training - \tHypothesis: The Bible says : “ The word is the word of the word . ”\n",
            "2021-10-08 12:30:10,939 - INFO - joeynmt.training - Example #3\n",
            "2021-10-08 12:30:10,939 - INFO - joeynmt.training - \tSource:     Cabanga ngomthandazo wokuzisola uJona awutsho esesiswini senhlanzi enkulu .\n",
            "2021-10-08 12:30:10,940 - INFO - joeynmt.training - \tReference:  For instance , consider Jonah ’ s contrite prayer from the belly of a huge fish .\n",
            "2021-10-08 12:30:10,940 - INFO - joeynmt.training - \tHypothesis: Consider what the Bible says about Just as a result , Just as a result of the Bible .\n",
            "2021-10-08 12:30:10,940 - INFO - joeynmt.training - Validation result (greedy) at epoch   5, step     5000: bleu:  11.69, loss: 80300.8281, ppl:  16.8009, duration: 53.6159s\n",
            "2021-10-08 12:30:45,616 - INFO - joeynmt.training - Epoch   5, Step:     5100, Batch Loss:     3.105001, Tokens per Sec:     4404, Lr: 0.000394\n",
            "2021-10-08 12:30:46,283 - INFO - joeynmt.training - Epoch   5: total training loss 3090.35\n",
            "2021-10-08 12:30:46,283 - INFO - joeynmt.training - EPOCH 6\n",
            "2021-10-08 12:31:20,074 - INFO - joeynmt.training - Epoch   6, Step:     5200, Batch Loss:     3.120128, Tokens per Sec:     4329, Lr: 0.000390\n",
            "2021-10-08 12:31:54,296 - INFO - joeynmt.training - Epoch   6, Step:     5300, Batch Loss:     2.904130, Tokens per Sec:     4478, Lr: 0.000386\n",
            "2021-10-08 12:32:29,298 - INFO - joeynmt.training - Epoch   6, Step:     5400, Batch Loss:     2.903968, Tokens per Sec:     4387, Lr: 0.000383\n",
            "2021-10-08 12:33:04,272 - INFO - joeynmt.training - Epoch   6, Step:     5500, Batch Loss:     2.901666, Tokens per Sec:     4407, Lr: 0.000379\n",
            "2021-10-08 12:33:38,822 - INFO - joeynmt.training - Epoch   6, Step:     5600, Batch Loss:     2.887787, Tokens per Sec:     4380, Lr: 0.000376\n",
            "2021-10-08 12:34:13,123 - INFO - joeynmt.training - Epoch   6, Step:     5700, Batch Loss:     3.052835, Tokens per Sec:     4411, Lr: 0.000373\n",
            "2021-10-08 12:34:47,657 - INFO - joeynmt.training - Epoch   6, Step:     5800, Batch Loss:     2.939704, Tokens per Sec:     4323, Lr: 0.000369\n",
            "2021-10-08 12:35:21,724 - INFO - joeynmt.training - Epoch   6, Step:     5900, Batch Loss:     3.047788, Tokens per Sec:     4387, Lr: 0.000366\n",
            "2021-10-08 12:35:56,654 - INFO - joeynmt.training - Epoch   6, Step:     6000, Batch Loss:     2.888197, Tokens per Sec:     4359, Lr: 0.000363\n",
            "2021-10-08 12:36:49,254 - WARNING - sacrebleu - That's 100 lines that end in a tokenized period ('.')\n",
            "2021-10-08 12:36:49,254 - WARNING - sacrebleu - It looks like you forgot to detokenize your test data, which may hurt your score.\n",
            "2021-10-08 12:36:49,254 - WARNING - sacrebleu - If you insist your data is detokenized, or don't care, you can suppress this message with the `force` parameter.\n",
            "2021-10-08 12:36:49,261 - INFO - joeynmt.training - Hooray! New best validation result [ppl]!\n",
            "2021-10-08 12:36:49,691 - INFO - joeynmt.helpers - delete models/nden_reverse_transformer/3000.ckpt\n",
            "2021-10-08 12:36:49,711 - INFO - joeynmt.training - Example #0\n",
            "2021-10-08 12:36:49,711 - INFO - joeynmt.training - \tSource:     ( Josh . 3 : 12 - 17 ) Cabanga ukuthi kwakumangalisa kangakanani ukubona umfula lowo owawuzondile umiswa !\n",
            "2021-10-08 12:36:49,712 - INFO - joeynmt.training - \tReference:  ( See paragraphs 17 , 18 )\n",
            "2021-10-08 12:36:49,712 - INFO - joeynmt.training - \tHypothesis: ( Josh . 3 : 15-17 ) Consider how he had been able to be a brief of the class of the campaign .\n",
            "2021-10-08 12:36:49,712 - INFO - joeynmt.training - Example #1\n",
            "2021-10-08 12:36:49,712 - INFO - joeynmt.training - \tSource:     UJesu wathi : “ Kakho ongeza kimi ngaphandle kokuthi uBaba ongithumileyo amsondeze . ”\n",
            "2021-10-08 12:36:49,712 - INFO - joeynmt.training - \tReference:  “ No man can come to me unless the Father , who sent me , draws him , ” said Jesus .\n",
            "2021-10-08 12:36:49,712 - INFO - joeynmt.training - \tHypothesis: Jesus said : “ You will be a close friend , and I will be a close friend . ”\n",
            "2021-10-08 12:36:49,712 - INFO - joeynmt.training - Example #2\n",
            "2021-10-08 12:36:49,713 - INFO - joeynmt.training - \tSource:     IBhayibhili lithi : ‘ Ilizwi ngesikhathi salo , lihle kangakanani . ’\n",
            "2021-10-08 12:36:49,713 - INFO - joeynmt.training - \tReference:  The Bible states : “ A word spoken at the right time — how good it is ! ”\n",
            "2021-10-08 12:36:49,713 - INFO - joeynmt.training - \tHypothesis: The Bible says : “ The word of the word of the word is not a member of the truth . ”\n",
            "2021-10-08 12:36:49,713 - INFO - joeynmt.training - Example #3\n",
            "2021-10-08 12:36:49,713 - INFO - joeynmt.training - \tSource:     Cabanga ngomthandazo wokuzisola uJona awutsho esesiswini senhlanzi enkulu .\n",
            "2021-10-08 12:36:49,713 - INFO - joeynmt.training - \tReference:  For instance , consider Jonah ’ s contrite prayer from the belly of a huge fish .\n",
            "2021-10-08 12:36:49,713 - INFO - joeynmt.training - \tHypothesis: Consider the prayer of Jonathan ’ s prayer , Jonah , who is a source of the blood .\n",
            "2021-10-08 12:36:49,714 - INFO - joeynmt.training - Validation result (greedy) at epoch   6, step     6000: bleu:  12.17, loss: 78038.4609, ppl:  15.5171, duration: 53.0588s\n",
            "2021-10-08 12:37:24,334 - INFO - joeynmt.training - Epoch   6, Step:     6100, Batch Loss:     2.898359, Tokens per Sec:     4225, Lr: 0.000360\n",
            "2021-10-08 12:37:31,147 - INFO - joeynmt.training - Epoch   6: total training loss 2986.82\n",
            "2021-10-08 12:37:31,148 - INFO - joeynmt.training - EPOCH 7\n",
            "2021-10-08 12:37:58,903 - INFO - joeynmt.training - Epoch   7, Step:     6200, Batch Loss:     2.803154, Tokens per Sec:     4276, Lr: 0.000357\n",
            "2021-10-08 12:38:33,208 - INFO - joeynmt.training - Epoch   7, Step:     6300, Batch Loss:     2.857930, Tokens per Sec:     4393, Lr: 0.000354\n",
            "2021-10-08 12:39:07,708 - INFO - joeynmt.training - Epoch   7, Step:     6400, Batch Loss:     2.822339, Tokens per Sec:     4293, Lr: 0.000352\n",
            "2021-10-08 12:39:42,021 - INFO - joeynmt.training - Epoch   7, Step:     6500, Batch Loss:     2.976802, Tokens per Sec:     4382, Lr: 0.000349\n",
            "2021-10-08 12:40:16,405 - INFO - joeynmt.training - Epoch   7, Step:     6600, Batch Loss:     3.020376, Tokens per Sec:     4402, Lr: 0.000346\n",
            "2021-10-08 12:40:51,270 - INFO - joeynmt.training - Epoch   7, Step:     6700, Batch Loss:     2.842065, Tokens per Sec:     4423, Lr: 0.000344\n",
            "2021-10-08 12:41:25,627 - INFO - joeynmt.training - Epoch   7, Step:     6800, Batch Loss:     2.886123, Tokens per Sec:     4373, Lr: 0.000341\n",
            "2021-10-08 12:42:00,332 - INFO - joeynmt.training - Epoch   7, Step:     6900, Batch Loss:     2.927407, Tokens per Sec:     4285, Lr: 0.000339\n",
            "2021-10-08 12:42:34,703 - INFO - joeynmt.training - Epoch   7, Step:     7000, Batch Loss:     2.929852, Tokens per Sec:     4294, Lr: 0.000336\n",
            "2021-10-08 12:43:24,184 - WARNING - sacrebleu - That's 100 lines that end in a tokenized period ('.')\n",
            "2021-10-08 12:43:24,184 - WARNING - sacrebleu - It looks like you forgot to detokenize your test data, which may hurt your score.\n",
            "2021-10-08 12:43:24,184 - WARNING - sacrebleu - If you insist your data is detokenized, or don't care, you can suppress this message with the `force` parameter.\n",
            "2021-10-08 12:43:24,191 - INFO - joeynmt.training - Hooray! New best validation result [ppl]!\n",
            "2021-10-08 12:43:24,616 - INFO - joeynmt.helpers - delete models/nden_reverse_transformer/4000.ckpt\n",
            "2021-10-08 12:43:24,638 - INFO - joeynmt.training - Example #0\n",
            "2021-10-08 12:43:24,639 - INFO - joeynmt.training - \tSource:     ( Josh . 3 : 12 - 17 ) Cabanga ukuthi kwakumangalisa kangakanani ukubona umfula lowo owawuzondile umiswa !\n",
            "2021-10-08 12:43:24,639 - INFO - joeynmt.training - \tReference:  ( See paragraphs 17 , 18 )\n",
            "2021-10-08 12:43:24,639 - INFO - joeynmt.training - \tHypothesis: ( Josh . 3 : 12-17 ) Consider how he had been able to be a big of the campaign of the charactery !\n",
            "2021-10-08 12:43:24,639 - INFO - joeynmt.training - Example #1\n",
            "2021-10-08 12:43:24,639 - INFO - joeynmt.training - \tSource:     UJesu wathi : “ Kakho ongeza kimi ngaphandle kokuthi uBaba ongithumileyo amsondeze . ”\n",
            "2021-10-08 12:43:24,640 - INFO - joeynmt.training - \tReference:  “ No man can come to me unless the Father , who sent me , draws him , ” said Jesus .\n",
            "2021-10-08 12:43:24,640 - INFO - joeynmt.training - \tHypothesis: Jesus said : “ You are your Father , for you are a son of your Father , you are a close Father . ”\n",
            "2021-10-08 12:43:24,640 - INFO - joeynmt.training - Example #2\n",
            "2021-10-08 12:43:24,640 - INFO - joeynmt.training - \tSource:     IBhayibhili lithi : ‘ Ilizwi ngesikhathi salo , lihle kangakanani . ’\n",
            "2021-10-08 12:43:24,640 - INFO - joeynmt.training - \tReference:  The Bible states : “ A word spoken at the right time — how good it is ! ”\n",
            "2021-10-08 12:43:24,640 - INFO - joeynmt.training - \tHypothesis: The Bible says : “ The word is not a word . ”\n",
            "2021-10-08 12:43:24,640 - INFO - joeynmt.training - Example #3\n",
            "2021-10-08 12:43:24,641 - INFO - joeynmt.training - \tSource:     Cabanga ngomthandazo wokuzisola uJona awutsho esesiswini senhlanzi enkulu .\n",
            "2021-10-08 12:43:24,641 - INFO - joeynmt.training - \tReference:  For instance , consider Jonah ’ s contrite prayer from the belly of a huge fish .\n",
            "2021-10-08 12:43:24,641 - INFO - joeynmt.training - \tHypothesis: Consider the prayer of Jonathan ’ s prayer , Jonathan , who is a source of the scripture .\n",
            "2021-10-08 12:43:24,641 - INFO - joeynmt.training - Validation result (greedy) at epoch   7, step     7000: bleu:  13.12, loss: 76265.9688, ppl:  14.5802, duration: 49.9378s\n",
            "2021-10-08 12:43:59,303 - INFO - joeynmt.training - Epoch   7, Step:     7100, Batch Loss:     2.809357, Tokens per Sec:     4504, Lr: 0.000334\n",
            "2021-10-08 12:44:13,127 - INFO - joeynmt.training - Epoch   7: total training loss 2920.86\n",
            "2021-10-08 12:44:13,127 - INFO - joeynmt.training - EPOCH 8\n",
            "2021-10-08 12:44:33,698 - INFO - joeynmt.training - Epoch   8, Step:     7200, Batch Loss:     2.870729, Tokens per Sec:     4348, Lr: 0.000331\n",
            "2021-10-08 12:45:08,361 - INFO - joeynmt.training - Epoch   8, Step:     7300, Batch Loss:     2.886781, Tokens per Sec:     4443, Lr: 0.000329\n",
            "2021-10-08 12:45:43,197 - INFO - joeynmt.training - Epoch   8, Step:     7400, Batch Loss:     2.783559, Tokens per Sec:     4346, Lr: 0.000327\n",
            "2021-10-08 12:46:17,673 - INFO - joeynmt.training - Epoch   8, Step:     7500, Batch Loss:     2.780901, Tokens per Sec:     4301, Lr: 0.000325\n",
            "2021-10-08 12:46:52,544 - INFO - joeynmt.training - Epoch   8, Step:     7600, Batch Loss:     2.901312, Tokens per Sec:     4286, Lr: 0.000323\n",
            "2021-10-08 12:47:27,108 - INFO - joeynmt.training - Epoch   8, Step:     7700, Batch Loss:     2.991563, Tokens per Sec:     4384, Lr: 0.000321\n",
            "2021-10-08 12:48:01,702 - INFO - joeynmt.training - Epoch   8, Step:     7800, Batch Loss:     2.633542, Tokens per Sec:     4380, Lr: 0.000318\n",
            "2021-10-08 12:48:36,350 - INFO - joeynmt.training - Epoch   8, Step:     7900, Batch Loss:     2.723243, Tokens per Sec:     4385, Lr: 0.000316\n",
            "2021-10-08 12:49:10,738 - INFO - joeynmt.training - Epoch   8, Step:     8000, Batch Loss:     2.778030, Tokens per Sec:     4389, Lr: 0.000314\n",
            "2021-10-08 12:50:06,428 - WARNING - sacrebleu - That's 100 lines that end in a tokenized period ('.')\n",
            "2021-10-08 12:50:06,428 - WARNING - sacrebleu - It looks like you forgot to detokenize your test data, which may hurt your score.\n",
            "2021-10-08 12:50:06,428 - WARNING - sacrebleu - If you insist your data is detokenized, or don't care, you can suppress this message with the `force` parameter.\n",
            "2021-10-08 12:50:06,436 - INFO - joeynmt.training - Hooray! New best validation result [ppl]!\n",
            "2021-10-08 12:50:06,884 - INFO - joeynmt.helpers - delete models/nden_reverse_transformer/5000.ckpt\n",
            "2021-10-08 12:50:06,905 - INFO - joeynmt.training - Example #0\n",
            "2021-10-08 12:50:06,906 - INFO - joeynmt.training - \tSource:     ( Josh . 3 : 12 - 17 ) Cabanga ukuthi kwakumangalisa kangakanani ukubona umfula lowo owawuzondile umiswa !\n",
            "2021-10-08 12:50:06,906 - INFO - joeynmt.training - \tReference:  ( See paragraphs 17 , 18 )\n",
            "2021-10-08 12:50:06,906 - INFO - joeynmt.training - \tHypothesis: ( Josh . 3 : 12-17 ) Consider how he was not a source of the future !\n",
            "2021-10-08 12:50:06,906 - INFO - joeynmt.training - Example #1\n",
            "2021-10-08 12:50:06,907 - INFO - joeynmt.training - \tSource:     UJesu wathi : “ Kakho ongeza kimi ngaphandle kokuthi uBaba ongithumileyo amsondeze . ”\n",
            "2021-10-08 12:50:06,907 - INFO - joeynmt.training - \tReference:  “ No man can come to me unless the Father , who sent me , draws him , ” said Jesus .\n",
            "2021-10-08 12:50:06,907 - INFO - joeynmt.training - \tHypothesis: Jesus said : “ You will be a close friend of your Father , and you are a close friend . ”\n",
            "2021-10-08 12:50:06,907 - INFO - joeynmt.training - Example #2\n",
            "2021-10-08 12:50:06,907 - INFO - joeynmt.training - \tSource:     IBhayibhili lithi : ‘ Ilizwi ngesikhathi salo , lihle kangakanani . ’\n",
            "2021-10-08 12:50:06,907 - INFO - joeynmt.training - \tReference:  The Bible states : “ A word spoken at the right time — how good it is ! ”\n",
            "2021-10-08 12:50:06,908 - INFO - joeynmt.training - \tHypothesis: The Bible says : “ The word of the word of the word is a good way . ”\n",
            "2021-10-08 12:50:06,908 - INFO - joeynmt.training - Example #3\n",
            "2021-10-08 12:50:06,908 - INFO - joeynmt.training - \tSource:     Cabanga ngomthandazo wokuzisola uJona awutsho esesiswini senhlanzi enkulu .\n",
            "2021-10-08 12:50:06,908 - INFO - joeynmt.training - \tReference:  For instance , consider Jonah ’ s contrite prayer from the belly of a huge fish .\n",
            "2021-10-08 12:50:06,908 - INFO - joeynmt.training - \tHypothesis: Consider the prayer of Jonathan ’ s prayer .\n",
            "2021-10-08 12:50:06,908 - INFO - joeynmt.training - Validation result (greedy) at epoch   8, step     8000: bleu:  13.51, loss: 74867.5781, ppl:  13.8812, duration: 56.1704s\n",
            "2021-10-08 12:50:41,767 - INFO - joeynmt.training - Epoch   8, Step:     8100, Batch Loss:     2.758995, Tokens per Sec:     4307, Lr: 0.000313\n",
            "2021-10-08 12:51:02,294 - INFO - joeynmt.training - Epoch   8: total training loss 2853.50\n",
            "2021-10-08 12:51:02,295 - INFO - joeynmt.training - EPOCH 9\n",
            "2021-10-08 12:51:16,275 - INFO - joeynmt.training - Epoch   9, Step:     8200, Batch Loss:     2.691832, Tokens per Sec:     4359, Lr: 0.000311\n",
            "2021-10-08 12:51:50,877 - INFO - joeynmt.training - Epoch   9, Step:     8300, Batch Loss:     2.803149, Tokens per Sec:     4342, Lr: 0.000309\n",
            "2021-10-08 12:52:25,428 - INFO - joeynmt.training - Epoch   9, Step:     8400, Batch Loss:     2.704932, Tokens per Sec:     4368, Lr: 0.000307\n",
            "2021-10-08 12:52:59,784 - INFO - joeynmt.training - Epoch   9, Step:     8500, Batch Loss:     2.756145, Tokens per Sec:     4377, Lr: 0.000305\n",
            "2021-10-08 12:53:34,583 - INFO - joeynmt.training - Epoch   9, Step:     8600, Batch Loss:     2.662541, Tokens per Sec:     4228, Lr: 0.000303\n",
            "2021-10-08 12:54:09,287 - INFO - joeynmt.training - Epoch   9, Step:     8700, Batch Loss:     2.823880, Tokens per Sec:     4301, Lr: 0.000302\n",
            "2021-10-08 12:54:43,798 - INFO - joeynmt.training - Epoch   9, Step:     8800, Batch Loss:     2.900666, Tokens per Sec:     4287, Lr: 0.000300\n",
            "2021-10-08 12:55:18,765 - INFO - joeynmt.training - Epoch   9, Step:     8900, Batch Loss:     2.831677, Tokens per Sec:     4341, Lr: 0.000298\n",
            "2021-10-08 12:55:53,365 - INFO - joeynmt.training - Epoch   9, Step:     9000, Batch Loss:     2.707315, Tokens per Sec:     4346, Lr: 0.000296\n",
            "2021-10-08 12:56:50,059 - WARNING - sacrebleu - That's 100 lines that end in a tokenized period ('.')\n",
            "2021-10-08 12:56:50,059 - WARNING - sacrebleu - It looks like you forgot to detokenize your test data, which may hurt your score.\n",
            "2021-10-08 12:56:50,059 - WARNING - sacrebleu - If you insist your data is detokenized, or don't care, you can suppress this message with the `force` parameter.\n",
            "2021-10-08 12:56:50,067 - INFO - joeynmt.training - Hooray! New best validation result [ppl]!\n",
            "2021-10-08 12:56:50,493 - INFO - joeynmt.helpers - delete models/nden_reverse_transformer/6000.ckpt\n",
            "2021-10-08 12:56:50,514 - INFO - joeynmt.training - Example #0\n",
            "2021-10-08 12:56:50,514 - INFO - joeynmt.training - \tSource:     ( Josh . 3 : 12 - 17 ) Cabanga ukuthi kwakumangalisa kangakanani ukubona umfula lowo owawuzondile umiswa !\n",
            "2021-10-08 12:56:50,514 - INFO - joeynmt.training - \tReference:  ( See paragraphs 17 , 18 )\n",
            "2021-10-08 12:56:50,514 - INFO - joeynmt.training - \tHypothesis: ( Josh . 3 : 15-17 ) Sadly , though , he was able to be a source of the switness !\n",
            "2021-10-08 12:56:50,514 - INFO - joeynmt.training - Example #1\n",
            "2021-10-08 12:56:50,515 - INFO - joeynmt.training - \tSource:     UJesu wathi : “ Kakho ongeza kimi ngaphandle kokuthi uBaba ongithumileyo amsondeze . ”\n",
            "2021-10-08 12:56:50,515 - INFO - joeynmt.training - \tReference:  “ No man can come to me unless the Father , who sent me , draws him , ” said Jesus .\n",
            "2021-10-08 12:56:50,515 - INFO - joeynmt.training - \tHypothesis: Jesus said : “ You are your Father , and you are your Father , and you are the Father of the Father of you . ”\n",
            "2021-10-08 12:56:50,515 - INFO - joeynmt.training - Example #2\n",
            "2021-10-08 12:56:50,515 - INFO - joeynmt.training - \tSource:     IBhayibhili lithi : ‘ Ilizwi ngesikhathi salo , lihle kangakanani . ’\n",
            "2021-10-08 12:56:50,515 - INFO - joeynmt.training - \tReference:  The Bible states : “ A word spoken at the right time — how good it is ! ”\n",
            "2021-10-08 12:56:50,516 - INFO - joeynmt.training - \tHypothesis: The Bible says : “ The word of the word of the word , and the word of the word . ”\n",
            "2021-10-08 12:56:50,516 - INFO - joeynmt.training - Example #3\n",
            "2021-10-08 12:56:50,516 - INFO - joeynmt.training - \tSource:     Cabanga ngomthandazo wokuzisola uJona awutsho esesiswini senhlanzi enkulu .\n",
            "2021-10-08 12:56:50,516 - INFO - joeynmt.training - \tReference:  For instance , consider Jonah ’ s contrite prayer from the belly of a huge fish .\n",
            "2021-10-08 12:56:50,516 - INFO - joeynmt.training - \tHypothesis: Consider the prayer of Jonathan ’ s prayer , and Jonathan ’ s prayer .\n",
            "2021-10-08 12:56:50,516 - INFO - joeynmt.training - Validation result (greedy) at epoch   9, step     9000: bleu:  13.59, loss: 73783.0391, ppl:  13.3621, duration: 57.1504s\n",
            "2021-10-08 12:57:24,982 - INFO - joeynmt.training - Epoch   9, Step:     9100, Batch Loss:     2.695550, Tokens per Sec:     4407, Lr: 0.000295\n",
            "2021-10-08 12:57:53,235 - INFO - joeynmt.training - Epoch   9: total training loss 2811.01\n",
            "2021-10-08 12:57:53,236 - INFO - joeynmt.training - EPOCH 10\n",
            "2021-10-08 12:57:59,630 - INFO - joeynmt.training - Epoch  10, Step:     9200, Batch Loss:     2.558956, Tokens per Sec:     4206, Lr: 0.000293\n",
            "2021-10-08 12:58:34,083 - INFO - joeynmt.training - Epoch  10, Step:     9300, Batch Loss:     2.609405, Tokens per Sec:     4270, Lr: 0.000292\n",
            "2021-10-08 12:59:09,105 - INFO - joeynmt.training - Epoch  10, Step:     9400, Batch Loss:     2.703058, Tokens per Sec:     4345, Lr: 0.000290\n",
            "2021-10-08 12:59:43,450 - INFO - joeynmt.training - Epoch  10, Step:     9500, Batch Loss:     2.507550, Tokens per Sec:     4431, Lr: 0.000289\n",
            "2021-10-08 13:00:17,783 - INFO - joeynmt.training - Epoch  10, Step:     9600, Batch Loss:     2.831786, Tokens per Sec:     4391, Lr: 0.000287\n",
            "2021-10-08 13:00:52,460 - INFO - joeynmt.training - Epoch  10, Step:     9700, Batch Loss:     2.818882, Tokens per Sec:     4357, Lr: 0.000286\n",
            "2021-10-08 13:01:27,111 - INFO - joeynmt.training - Epoch  10, Step:     9800, Batch Loss:     2.699265, Tokens per Sec:     4405, Lr: 0.000284\n",
            "2021-10-08 13:02:01,619 - INFO - joeynmt.training - Epoch  10, Step:     9900, Batch Loss:     2.700001, Tokens per Sec:     4283, Lr: 0.000283\n",
            "2021-10-08 13:02:36,150 - INFO - joeynmt.training - Epoch  10, Step:    10000, Batch Loss:     2.785526, Tokens per Sec:     4366, Lr: 0.000281\n",
            "2021-10-08 13:03:26,811 - WARNING - sacrebleu - That's 100 lines that end in a tokenized period ('.')\n",
            "2021-10-08 13:03:26,811 - WARNING - sacrebleu - It looks like you forgot to detokenize your test data, which may hurt your score.\n",
            "2021-10-08 13:03:26,811 - WARNING - sacrebleu - If you insist your data is detokenized, or don't care, you can suppress this message with the `force` parameter.\n",
            "2021-10-08 13:03:26,819 - INFO - joeynmt.training - Hooray! New best validation result [ppl]!\n",
            "2021-10-08 13:03:27,233 - INFO - joeynmt.helpers - delete models/nden_reverse_transformer/7000.ckpt\n",
            "2021-10-08 13:03:27,257 - INFO - joeynmt.training - Example #0\n",
            "2021-10-08 13:03:27,258 - INFO - joeynmt.training - \tSource:     ( Josh . 3 : 12 - 17 ) Cabanga ukuthi kwakumangalisa kangakanani ukubona umfula lowo owawuzondile umiswa !\n",
            "2021-10-08 13:03:27,258 - INFO - joeynmt.training - \tReference:  ( See paragraphs 17 , 18 )\n",
            "2021-10-08 13:03:27,258 - INFO - joeynmt.training - \tHypothesis: ( Josh . 3 : 12-17 ) Consider how he was so much that he was a source of the ces of the campaign !\n",
            "2021-10-08 13:03:27,258 - INFO - joeynmt.training - Example #1\n",
            "2021-10-08 13:03:27,259 - INFO - joeynmt.training - \tSource:     UJesu wathi : “ Kakho ongeza kimi ngaphandle kokuthi uBaba ongithumileyo amsondeze . ”\n",
            "2021-10-08 13:03:27,259 - INFO - joeynmt.training - \tReference:  “ No man can come to me unless the Father , who sent me , draws him , ” said Jesus .\n",
            "2021-10-08 13:03:27,259 - INFO - joeynmt.training - \tHypothesis: Jesus said : “ You are your Father , and you are your Father , and you are your Father . ”\n",
            "2021-10-08 13:03:27,259 - INFO - joeynmt.training - Example #2\n",
            "2021-10-08 13:03:27,260 - INFO - joeynmt.training - \tSource:     IBhayibhili lithi : ‘ Ilizwi ngesikhathi salo , lihle kangakanani . ’\n",
            "2021-10-08 13:03:27,260 - INFO - joeynmt.training - \tReference:  The Bible states : “ A word spoken at the right time — how good it is ! ”\n",
            "2021-10-08 13:03:27,260 - INFO - joeynmt.training - \tHypothesis: The Bible says : “ The word of the word is a source of the word . ”\n",
            "2021-10-08 13:03:27,260 - INFO - joeynmt.training - Example #3\n",
            "2021-10-08 13:03:27,261 - INFO - joeynmt.training - \tSource:     Cabanga ngomthandazo wokuzisola uJona awutsho esesiswini senhlanzi enkulu .\n",
            "2021-10-08 13:03:27,261 - INFO - joeynmt.training - \tReference:  For instance , consider Jonah ’ s contrite prayer from the belly of a huge fish .\n",
            "2021-10-08 13:03:27,261 - INFO - joeynmt.training - \tHypothesis: Consider the prayer of Jonathan ’ s prayer .\n",
            "2021-10-08 13:03:27,261 - INFO - joeynmt.training - Validation result (greedy) at epoch  10, step    10000: bleu:  14.20, loss: 72719.7266, ppl:  12.8721, duration: 51.1110s\n",
            "2021-10-08 13:04:01,989 - INFO - joeynmt.training - Epoch  10, Step:    10100, Batch Loss:     2.613729, Tokens per Sec:     4302, Lr: 0.000280\n",
            "2021-10-08 13:04:36,155 - INFO - joeynmt.training - Epoch  10, Step:    10200, Batch Loss:     2.837537, Tokens per Sec:     4418, Lr: 0.000278\n",
            "2021-10-08 13:04:37,446 - INFO - joeynmt.training - Epoch  10: total training loss 2765.56\n",
            "2021-10-08 13:04:37,446 - INFO - joeynmt.training - EPOCH 11\n",
            "2021-10-08 13:05:10,887 - INFO - joeynmt.training - Epoch  11, Step:    10300, Batch Loss:     2.694290, Tokens per Sec:     4330, Lr: 0.000277\n",
            "2021-10-08 13:05:45,319 - INFO - joeynmt.training - Epoch  11, Step:    10400, Batch Loss:     2.641805, Tokens per Sec:     4452, Lr: 0.000276\n",
            "2021-10-08 13:06:19,851 - INFO - joeynmt.training - Epoch  11, Step:    10500, Batch Loss:     2.640045, Tokens per Sec:     4351, Lr: 0.000274\n",
            "2021-10-08 13:06:54,245 - INFO - joeynmt.training - Epoch  11, Step:    10600, Batch Loss:     2.698730, Tokens per Sec:     4393, Lr: 0.000273\n",
            "2021-10-08 13:07:28,674 - INFO - joeynmt.training - Epoch  11, Step:    10700, Batch Loss:     2.827230, Tokens per Sec:     4461, Lr: 0.000272\n",
            "2021-10-08 13:08:03,048 - INFO - joeynmt.training - Epoch  11, Step:    10800, Batch Loss:     2.739815, Tokens per Sec:     4342, Lr: 0.000271\n",
            "2021-10-08 13:08:37,286 - INFO - joeynmt.training - Epoch  11, Step:    10900, Batch Loss:     2.817627, Tokens per Sec:     4304, Lr: 0.000269\n",
            "2021-10-08 13:09:11,942 - INFO - joeynmt.training - Epoch  11, Step:    11000, Batch Loss:     2.742390, Tokens per Sec:     4336, Lr: 0.000268\n",
            "2021-10-08 13:10:08,536 - WARNING - sacrebleu - That's 100 lines that end in a tokenized period ('.')\n",
            "2021-10-08 13:10:08,537 - WARNING - sacrebleu - It looks like you forgot to detokenize your test data, which may hurt your score.\n",
            "2021-10-08 13:10:08,537 - WARNING - sacrebleu - If you insist your data is detokenized, or don't care, you can suppress this message with the `force` parameter.\n",
            "2021-10-08 13:10:08,544 - INFO - joeynmt.training - Hooray! New best validation result [ppl]!\n",
            "2021-10-08 13:10:08,977 - INFO - joeynmt.helpers - delete models/nden_reverse_transformer/8000.ckpt\n",
            "2021-10-08 13:10:08,999 - INFO - joeynmt.training - Example #0\n",
            "2021-10-08 13:10:08,999 - INFO - joeynmt.training - \tSource:     ( Josh . 3 : 12 - 17 ) Cabanga ukuthi kwakumangalisa kangakanani ukubona umfula lowo owawuzondile umiswa !\n",
            "2021-10-08 13:10:09,000 - INFO - joeynmt.training - \tReference:  ( See paragraphs 17 , 18 )\n",
            "2021-10-08 13:10:09,000 - INFO - joeynmt.training - \tHypothesis: ( Josh . 3 : 17-17 ) Consider how the way he was to be a source of the burden of the campaign !\n",
            "2021-10-08 13:10:09,000 - INFO - joeynmt.training - Example #1\n",
            "2021-10-08 13:10:09,000 - INFO - joeynmt.training - \tSource:     UJesu wathi : “ Kakho ongeza kimi ngaphandle kokuthi uBaba ongithumileyo amsondeze . ”\n",
            "2021-10-08 13:10:09,000 - INFO - joeynmt.training - \tReference:  “ No man can come to me unless the Father , who sent me , draws him , ” said Jesus .\n",
            "2021-10-08 13:10:09,000 - INFO - joeynmt.training - \tHypothesis: Jesus said : “ You will be a bread of the name of the Father , and you will be saved to you . ”\n",
            "2021-10-08 13:10:09,000 - INFO - joeynmt.training - Example #2\n",
            "2021-10-08 13:10:09,001 - INFO - joeynmt.training - \tSource:     IBhayibhili lithi : ‘ Ilizwi ngesikhathi salo , lihle kangakanani . ’\n",
            "2021-10-08 13:10:09,001 - INFO - joeynmt.training - \tReference:  The Bible states : “ A word spoken at the right time — how good it is ! ”\n",
            "2021-10-08 13:10:09,001 - INFO - joeynmt.training - \tHypothesis: The Bible says : “ The word of the word will be a source of the word . ”\n",
            "2021-10-08 13:10:09,001 - INFO - joeynmt.training - Example #3\n",
            "2021-10-08 13:10:09,001 - INFO - joeynmt.training - \tSource:     Cabanga ngomthandazo wokuzisola uJona awutsho esesiswini senhlanzi enkulu .\n",
            "2021-10-08 13:10:09,002 - INFO - joeynmt.training - \tReference:  For instance , consider Jonah ’ s contrite prayer from the belly of a huge fish .\n",
            "2021-10-08 13:10:09,002 - INFO - joeynmt.training - \tHypothesis: Consider the prayer of Jonathan ’ s prayer , which is a source of the sword of the sword .\n",
            "2021-10-08 13:10:09,002 - INFO - joeynmt.training - Validation result (greedy) at epoch  11, step    11000: bleu:  13.59, loss: 71749.6094, ppl:  12.4408, duration: 57.0597s\n",
            "2021-10-08 13:10:43,334 - INFO - joeynmt.training - Epoch  11, Step:    11100, Batch Loss:     2.533994, Tokens per Sec:     4351, Lr: 0.000267\n",
            "2021-10-08 13:11:17,890 - INFO - joeynmt.training - Epoch  11, Step:    11200, Batch Loss:     2.644017, Tokens per Sec:     4414, Lr: 0.000266\n",
            "2021-10-08 13:11:25,747 - INFO - joeynmt.training - Epoch  11: total training loss 2719.52\n",
            "2021-10-08 13:11:25,748 - INFO - joeynmt.training - EPOCH 12\n",
            "2021-10-08 13:11:52,492 - INFO - joeynmt.training - Epoch  12, Step:    11300, Batch Loss:     2.576819, Tokens per Sec:     4391, Lr: 0.000265\n",
            "2021-10-08 13:12:26,902 - INFO - joeynmt.training - Epoch  12, Step:    11400, Batch Loss:     2.751464, Tokens per Sec:     4376, Lr: 0.000263\n",
            "2021-10-08 13:13:01,193 - INFO - joeynmt.training - Epoch  12, Step:    11500, Batch Loss:     2.758306, Tokens per Sec:     4323, Lr: 0.000262\n",
            "2021-10-08 13:13:36,142 - INFO - joeynmt.training - Epoch  12, Step:    11600, Batch Loss:     2.560635, Tokens per Sec:     4371, Lr: 0.000261\n",
            "2021-10-08 13:14:09,874 - INFO - joeynmt.training - Epoch  12, Step:    11700, Batch Loss:     2.618979, Tokens per Sec:     4465, Lr: 0.000260\n",
            "2021-10-08 13:14:44,361 - INFO - joeynmt.training - Epoch  12, Step:    11800, Batch Loss:     2.336499, Tokens per Sec:     4249, Lr: 0.000259\n",
            "2021-10-08 13:15:19,095 - INFO - joeynmt.training - Epoch  12, Step:    11900, Batch Loss:     2.597932, Tokens per Sec:     4277, Lr: 0.000258\n",
            "2021-10-08 13:15:53,765 - INFO - joeynmt.training - Epoch  12, Step:    12000, Batch Loss:     2.412132, Tokens per Sec:     4414, Lr: 0.000257\n",
            "2021-10-08 13:16:50,332 - WARNING - sacrebleu - That's 100 lines that end in a tokenized period ('.')\n",
            "2021-10-08 13:16:50,332 - WARNING - sacrebleu - It looks like you forgot to detokenize your test data, which may hurt your score.\n",
            "2021-10-08 13:16:50,333 - WARNING - sacrebleu - If you insist your data is detokenized, or don't care, you can suppress this message with the `force` parameter.\n",
            "2021-10-08 13:16:50,340 - INFO - joeynmt.training - Hooray! New best validation result [ppl]!\n",
            "2021-10-08 13:16:50,769 - INFO - joeynmt.helpers - delete models/nden_reverse_transformer/9000.ckpt\n",
            "2021-10-08 13:16:50,791 - INFO - joeynmt.training - Example #0\n",
            "2021-10-08 13:16:50,791 - INFO - joeynmt.training - \tSource:     ( Josh . 3 : 12 - 17 ) Cabanga ukuthi kwakumangalisa kangakanani ukubona umfula lowo owawuzondile umiswa !\n",
            "2021-10-08 13:16:50,791 - INFO - joeynmt.training - \tReference:  ( See paragraphs 17 , 18 )\n",
            "2021-10-08 13:16:50,791 - INFO - joeynmt.training - \tHypothesis: ( Josh . 3 : 12-17 ) Consider how he was able to see how he was to be a brief and safe !\n",
            "2021-10-08 13:16:50,791 - INFO - joeynmt.training - Example #1\n",
            "2021-10-08 13:16:50,792 - INFO - joeynmt.training - \tSource:     UJesu wathi : “ Kakho ongeza kimi ngaphandle kokuthi uBaba ongithumileyo amsondeze . ”\n",
            "2021-10-08 13:16:50,792 - INFO - joeynmt.training - \tReference:  “ No man can come to me unless the Father , who sent me , draws him , ” said Jesus .\n",
            "2021-10-08 13:16:50,792 - INFO - joeynmt.training - \tHypothesis: Jesus said : “ You are my Father , and you are my Father , you are the Father of you . ”\n",
            "2021-10-08 13:16:50,792 - INFO - joeynmt.training - Example #2\n",
            "2021-10-08 13:16:50,792 - INFO - joeynmt.training - \tSource:     IBhayibhili lithi : ‘ Ilizwi ngesikhathi salo , lihle kangakanani . ’\n",
            "2021-10-08 13:16:50,792 - INFO - joeynmt.training - \tReference:  The Bible states : “ A word spoken at the right time — how good it is ! ”\n",
            "2021-10-08 13:16:50,793 - INFO - joeynmt.training - \tHypothesis: The Bible says : “ The word of the word will be a source of good . ”\n",
            "2021-10-08 13:16:50,793 - INFO - joeynmt.training - Example #3\n",
            "2021-10-08 13:16:50,793 - INFO - joeynmt.training - \tSource:     Cabanga ngomthandazo wokuzisola uJona awutsho esesiswini senhlanzi enkulu .\n",
            "2021-10-08 13:16:50,793 - INFO - joeynmt.training - \tReference:  For instance , consider Jonah ’ s contrite prayer from the belly of a huge fish .\n",
            "2021-10-08 13:16:50,793 - INFO - joeynmt.training - \tHypothesis: Consider the prayer of Jacob ’ s prayer .\n",
            "2021-10-08 13:16:50,793 - INFO - joeynmt.training - Validation result (greedy) at epoch  12, step    12000: bleu:  14.91, loss: 71005.4062, ppl:  12.1197, duration: 57.0282s\n",
            "2021-10-08 13:17:25,697 - INFO - joeynmt.training - Epoch  12, Step:    12100, Batch Loss:     2.564906, Tokens per Sec:     4377, Lr: 0.000256\n",
            "2021-10-08 13:18:00,305 - INFO - joeynmt.training - Epoch  12, Step:    12200, Batch Loss:     2.635869, Tokens per Sec:     4334, Lr: 0.000255\n",
            "2021-10-08 13:18:15,190 - INFO - joeynmt.training - Epoch  12: total training loss 2686.64\n",
            "2021-10-08 13:18:15,191 - INFO - joeynmt.training - EPOCH 13\n",
            "2021-10-08 13:18:34,763 - INFO - joeynmt.training - Epoch  13, Step:    12300, Batch Loss:     2.567358, Tokens per Sec:     4212, Lr: 0.000254\n",
            "2021-10-08 13:19:09,433 - INFO - joeynmt.training - Epoch  13, Step:    12400, Batch Loss:     2.660156, Tokens per Sec:     4410, Lr: 0.000253\n",
            "2021-10-08 13:19:43,990 - INFO - joeynmt.training - Epoch  13, Step:    12500, Batch Loss:     2.730468, Tokens per Sec:     4401, Lr: 0.000252\n",
            "2021-10-08 13:20:18,163 - INFO - joeynmt.training - Epoch  13, Step:    12600, Batch Loss:     2.574353, Tokens per Sec:     4431, Lr: 0.000251\n",
            "2021-10-08 13:20:52,716 - INFO - joeynmt.training - Epoch  13, Step:    12700, Batch Loss:     2.736376, Tokens per Sec:     4420, Lr: 0.000250\n",
            "2021-10-08 13:21:27,263 - INFO - joeynmt.training - Epoch  13, Step:    12800, Batch Loss:     2.533914, Tokens per Sec:     4306, Lr: 0.000249\n",
            "2021-10-08 13:22:01,614 - INFO - joeynmt.training - Epoch  13, Step:    12900, Batch Loss:     2.642292, Tokens per Sec:     4393, Lr: 0.000248\n",
            "2021-10-08 13:22:36,316 - INFO - joeynmt.training - Epoch  13, Step:    13000, Batch Loss:     2.666414, Tokens per Sec:     4475, Lr: 0.000247\n",
            "2021-10-08 13:23:32,526 - WARNING - sacrebleu - That's 100 lines that end in a tokenized period ('.')\n",
            "2021-10-08 13:23:32,526 - WARNING - sacrebleu - It looks like you forgot to detokenize your test data, which may hurt your score.\n",
            "2021-10-08 13:23:32,527 - WARNING - sacrebleu - If you insist your data is detokenized, or don't care, you can suppress this message with the `force` parameter.\n",
            "2021-10-08 13:23:32,533 - INFO - joeynmt.training - Hooray! New best validation result [ppl]!\n",
            "2021-10-08 13:23:32,980 - INFO - joeynmt.helpers - delete models/nden_reverse_transformer/10000.ckpt\n",
            "2021-10-08 13:23:33,002 - INFO - joeynmt.training - Example #0\n",
            "2021-10-08 13:23:33,003 - INFO - joeynmt.training - \tSource:     ( Josh . 3 : 12 - 17 ) Cabanga ukuthi kwakumangalisa kangakanani ukubona umfula lowo owawuzondile umiswa !\n",
            "2021-10-08 13:23:33,003 - INFO - joeynmt.training - \tReference:  ( See paragraphs 17 , 18 )\n",
            "2021-10-08 13:23:33,003 - INFO - joeynmt.training - \tHypothesis: ( Josh . 3 : 12-17 ) Consider how he could have a source of the campaign of the brief !\n",
            "2021-10-08 13:23:33,003 - INFO - joeynmt.training - Example #1\n",
            "2021-10-08 13:23:33,004 - INFO - joeynmt.training - \tSource:     UJesu wathi : “ Kakho ongeza kimi ngaphandle kokuthi uBaba ongithumileyo amsondeze . ”\n",
            "2021-10-08 13:23:33,004 - INFO - joeynmt.training - \tReference:  “ No man can come to me unless the Father , who sent me , draws him , ” said Jesus .\n",
            "2021-10-08 13:23:33,004 - INFO - joeynmt.training - \tHypothesis: Jesus said : “ You are my Father , and you are my Father , who is a source of you . ”\n",
            "2021-10-08 13:23:33,004 - INFO - joeynmt.training - Example #2\n",
            "2021-10-08 13:23:33,004 - INFO - joeynmt.training - \tSource:     IBhayibhili lithi : ‘ Ilizwi ngesikhathi salo , lihle kangakanani . ’\n",
            "2021-10-08 13:23:33,004 - INFO - joeynmt.training - \tReference:  The Bible states : “ A word spoken at the right time — how good it is ! ”\n",
            "2021-10-08 13:23:33,005 - INFO - joeynmt.training - \tHypothesis: The Bible says : “ The word of the word will be a source of the word . ”\n",
            "2021-10-08 13:23:33,005 - INFO - joeynmt.training - Example #3\n",
            "2021-10-08 13:23:33,005 - INFO - joeynmt.training - \tSource:     Cabanga ngomthandazo wokuzisola uJona awutsho esesiswini senhlanzi enkulu .\n",
            "2021-10-08 13:23:33,005 - INFO - joeynmt.training - \tReference:  For instance , consider Jonah ’ s contrite prayer from the belly of a huge fish .\n",
            "2021-10-08 13:23:33,005 - INFO - joeynmt.training - \tHypothesis: Consider the prayer of Jonathan ’ s prayer , which is a source of the flock .\n",
            "2021-10-08 13:23:33,005 - INFO - joeynmt.training - Validation result (greedy) at epoch  13, step    13000: bleu:  14.98, loss: 70365.7969, ppl:  11.8504, duration: 56.6885s\n",
            "2021-10-08 13:24:07,684 - INFO - joeynmt.training - Epoch  13, Step:    13100, Batch Loss:     2.656406, Tokens per Sec:     4261, Lr: 0.000246\n",
            "2021-10-08 13:24:42,315 - INFO - joeynmt.training - Epoch  13, Step:    13200, Batch Loss:     2.518773, Tokens per Sec:     4323, Lr: 0.000245\n",
            "2021-10-08 13:25:03,390 - INFO - joeynmt.training - Epoch  13: total training loss 2651.87\n",
            "2021-10-08 13:25:03,391 - INFO - joeynmt.training - EPOCH 14\n",
            "2021-10-08 13:25:16,489 - INFO - joeynmt.training - Epoch  14, Step:    13300, Batch Loss:     2.610679, Tokens per Sec:     4300, Lr: 0.000244\n",
            "2021-10-08 13:25:50,774 - INFO - joeynmt.training - Epoch  14, Step:    13400, Batch Loss:     2.619910, Tokens per Sec:     4391, Lr: 0.000243\n",
            "2021-10-08 13:26:25,198 - INFO - joeynmt.training - Epoch  14, Step:    13500, Batch Loss:     2.606133, Tokens per Sec:     4413, Lr: 0.000242\n",
            "2021-10-08 13:26:59,512 - INFO - joeynmt.training - Epoch  14, Step:    13600, Batch Loss:     2.704099, Tokens per Sec:     4341, Lr: 0.000241\n",
            "2021-10-08 13:27:33,797 - INFO - joeynmt.training - Epoch  14, Step:    13700, Batch Loss:     2.619256, Tokens per Sec:     4333, Lr: 0.000240\n",
            "2021-10-08 13:28:08,274 - INFO - joeynmt.training - Epoch  14, Step:    13800, Batch Loss:     2.523803, Tokens per Sec:     4351, Lr: 0.000239\n",
            "2021-10-08 13:28:42,543 - INFO - joeynmt.training - Epoch  14, Step:    13900, Batch Loss:     2.519128, Tokens per Sec:     4404, Lr: 0.000239\n",
            "2021-10-08 13:29:17,285 - INFO - joeynmt.training - Epoch  14, Step:    14000, Batch Loss:     2.554222, Tokens per Sec:     4296, Lr: 0.000238\n",
            "2021-10-08 13:30:21,235 - WARNING - sacrebleu - That's 100 lines that end in a tokenized period ('.')\n",
            "2021-10-08 13:30:21,235 - WARNING - sacrebleu - It looks like you forgot to detokenize your test data, which may hurt your score.\n",
            "2021-10-08 13:30:21,235 - WARNING - sacrebleu - If you insist your data is detokenized, or don't care, you can suppress this message with the `force` parameter.\n",
            "2021-10-08 13:30:21,243 - INFO - joeynmt.training - Hooray! New best validation result [ppl]!\n",
            "2021-10-08 13:30:21,673 - INFO - joeynmt.helpers - delete models/nden_reverse_transformer/11000.ckpt\n",
            "2021-10-08 13:30:21,694 - INFO - joeynmt.training - Example #0\n",
            "2021-10-08 13:30:21,694 - INFO - joeynmt.training - \tSource:     ( Josh . 3 : 12 - 17 ) Cabanga ukuthi kwakumangalisa kangakanani ukubona umfula lowo owawuzondile umiswa !\n",
            "2021-10-08 13:30:21,695 - INFO - joeynmt.training - \tReference:  ( See paragraphs 17 , 18 )\n",
            "2021-10-08 13:30:21,695 - INFO - joeynmt.training - \tHypothesis: ( Josh . 3 : 12-17 ) Consider how he was so much that he was able to see the blood of the blood !\n",
            "2021-10-08 13:30:21,695 - INFO - joeynmt.training - Example #1\n",
            "2021-10-08 13:30:21,695 - INFO - joeynmt.training - \tSource:     UJesu wathi : “ Kakho ongeza kimi ngaphandle kokuthi uBaba ongithumileyo amsondeze . ”\n",
            "2021-10-08 13:30:21,695 - INFO - joeynmt.training - \tReference:  “ No man can come to me unless the Father , who sent me , draws him , ” said Jesus .\n",
            "2021-10-08 13:30:21,695 - INFO - joeynmt.training - \tHypothesis: Jesus said : “ You are your Father , you will be a source of your Father . ”\n",
            "2021-10-08 13:30:21,696 - INFO - joeynmt.training - Example #2\n",
            "2021-10-08 13:30:21,696 - INFO - joeynmt.training - \tSource:     IBhayibhili lithi : ‘ Ilizwi ngesikhathi salo , lihle kangakanani . ’\n",
            "2021-10-08 13:30:21,696 - INFO - joeynmt.training - \tReference:  The Bible states : “ A word spoken at the right time — how good it is ! ”\n",
            "2021-10-08 13:30:21,696 - INFO - joeynmt.training - \tHypothesis: The Bible says : “ The word of the word will be a source of the word . ”\n",
            "2021-10-08 13:30:21,696 - INFO - joeynmt.training - Example #3\n",
            "2021-10-08 13:30:21,697 - INFO - joeynmt.training - \tSource:     Cabanga ngomthandazo wokuzisola uJona awutsho esesiswini senhlanzi enkulu .\n",
            "2021-10-08 13:30:21,697 - INFO - joeynmt.training - \tReference:  For instance , consider Jonah ’ s contrite prayer from the belly of a huge fish .\n",
            "2021-10-08 13:30:21,697 - INFO - joeynmt.training - \tHypothesis: Consider the prayer of Jonathan ’ s prayer .\n",
            "2021-10-08 13:30:21,697 - INFO - joeynmt.training - Validation result (greedy) at epoch  14, step    14000: bleu:  15.33, loss: 69582.5469, ppl:  11.5287, duration: 64.4120s\n",
            "2021-10-08 13:30:56,183 - INFO - joeynmt.training - Epoch  14, Step:    14100, Batch Loss:     2.692184, Tokens per Sec:     4390, Lr: 0.000237\n",
            "2021-10-08 13:31:30,789 - INFO - joeynmt.training - Epoch  14, Step:    14200, Batch Loss:     2.562819, Tokens per Sec:     4326, Lr: 0.000236\n",
            "2021-10-08 13:32:00,620 - INFO - joeynmt.training - Epoch  14: total training loss 2637.07\n",
            "2021-10-08 13:32:00,621 - INFO - joeynmt.training - EPOCH 15\n",
            "2021-10-08 13:32:05,623 - INFO - joeynmt.training - Epoch  15, Step:    14300, Batch Loss:     2.375812, Tokens per Sec:     4210, Lr: 0.000235\n",
            "2021-10-08 13:32:40,075 - INFO - joeynmt.training - Epoch  15, Step:    14400, Batch Loss:     2.512539, Tokens per Sec:     4443, Lr: 0.000234\n",
            "2021-10-08 13:33:14,287 - INFO - joeynmt.training - Epoch  15, Step:    14500, Batch Loss:     2.468362, Tokens per Sec:     4341, Lr: 0.000234\n",
            "2021-10-08 13:33:48,797 - INFO - joeynmt.training - Epoch  15, Step:    14600, Batch Loss:     2.522002, Tokens per Sec:     4370, Lr: 0.000233\n",
            "2021-10-08 13:34:23,093 - INFO - joeynmt.training - Epoch  15, Step:    14700, Batch Loss:     2.630389, Tokens per Sec:     4380, Lr: 0.000232\n",
            "2021-10-08 13:34:57,601 - INFO - joeynmt.training - Epoch  15, Step:    14800, Batch Loss:     2.570443, Tokens per Sec:     4394, Lr: 0.000231\n",
            "2021-10-08 13:35:32,153 - INFO - joeynmt.training - Epoch  15, Step:    14900, Batch Loss:     2.478194, Tokens per Sec:     4404, Lr: 0.000230\n",
            "2021-10-08 13:36:06,641 - INFO - joeynmt.training - Epoch  15, Step:    15000, Batch Loss:     2.472042, Tokens per Sec:     4288, Lr: 0.000230\n",
            "2021-10-08 13:37:06,286 - WARNING - sacrebleu - That's 100 lines that end in a tokenized period ('.')\n",
            "2021-10-08 13:37:06,286 - WARNING - sacrebleu - It looks like you forgot to detokenize your test data, which may hurt your score.\n",
            "2021-10-08 13:37:06,286 - WARNING - sacrebleu - If you insist your data is detokenized, or don't care, you can suppress this message with the `force` parameter.\n",
            "2021-10-08 13:37:06,295 - INFO - joeynmt.training - Hooray! New best validation result [ppl]!\n",
            "2021-10-08 13:37:06,723 - INFO - joeynmt.helpers - delete models/nden_reverse_transformer/12000.ckpt\n",
            "2021-10-08 13:37:06,745 - INFO - joeynmt.training - Example #0\n",
            "2021-10-08 13:37:06,745 - INFO - joeynmt.training - \tSource:     ( Josh . 3 : 12 - 17 ) Cabanga ukuthi kwakumangalisa kangakanani ukubona umfula lowo owawuzondile umiswa !\n",
            "2021-10-08 13:37:06,745 - INFO - joeynmt.training - \tReference:  ( See paragraphs 17 , 18 )\n",
            "2021-10-08 13:37:06,746 - INFO - joeynmt.training - \tHypothesis: ( Josh . 3 : 12-17 ) Consider how the way he was to see the brain of the blood of the blood !\n",
            "2021-10-08 13:37:06,746 - INFO - joeynmt.training - Example #1\n",
            "2021-10-08 13:37:06,746 - INFO - joeynmt.training - \tSource:     UJesu wathi : “ Kakho ongeza kimi ngaphandle kokuthi uBaba ongithumileyo amsondeze . ”\n",
            "2021-10-08 13:37:06,746 - INFO - joeynmt.training - \tReference:  “ No man can come to me unless the Father , who sent me , draws him , ” said Jesus .\n",
            "2021-10-08 13:37:06,746 - INFO - joeynmt.training - \tHypothesis: Jesus said : “ You are your Father , and you are the Father who is the Father who is in the heavens . ”\n",
            "2021-10-08 13:37:06,746 - INFO - joeynmt.training - Example #2\n",
            "2021-10-08 13:37:06,747 - INFO - joeynmt.training - \tSource:     IBhayibhili lithi : ‘ Ilizwi ngesikhathi salo , lihle kangakanani . ’\n",
            "2021-10-08 13:37:06,747 - INFO - joeynmt.training - \tReference:  The Bible states : “ A word spoken at the right time — how good it is ! ”\n",
            "2021-10-08 13:37:06,747 - INFO - joeynmt.training - \tHypothesis: The Bible says : “ The word of the word of the word , and the word is good . ”\n",
            "2021-10-08 13:37:06,747 - INFO - joeynmt.training - Example #3\n",
            "2021-10-08 13:37:06,747 - INFO - joeynmt.training - \tSource:     Cabanga ngomthandazo wokuzisola uJona awutsho esesiswini senhlanzi enkulu .\n",
            "2021-10-08 13:37:06,747 - INFO - joeynmt.training - \tReference:  For instance , consider Jonah ’ s contrite prayer from the belly of a huge fish .\n",
            "2021-10-08 13:37:06,747 - INFO - joeynmt.training - \tHypothesis: Consider the prayer of Jonathan ’ s prayer .\n",
            "2021-10-08 13:37:06,748 - INFO - joeynmt.training - Validation result (greedy) at epoch  15, step    15000: bleu:  15.74, loss: 69087.6016, ppl:  11.3299, duration: 60.1061s\n",
            "2021-10-08 13:37:41,287 - INFO - joeynmt.training - Epoch  15, Step:    15100, Batch Loss:     2.518743, Tokens per Sec:     4311, Lr: 0.000229\n",
            "2021-10-08 13:38:15,926 - INFO - joeynmt.training - Epoch  15, Step:    15200, Batch Loss:     2.660671, Tokens per Sec:     4344, Lr: 0.000228\n",
            "2021-10-08 13:38:50,745 - INFO - joeynmt.training - Epoch  15, Step:    15300, Batch Loss:     2.581568, Tokens per Sec:     4336, Lr: 0.000227\n",
            "2021-10-08 13:38:53,197 - INFO - joeynmt.training - Epoch  15: total training loss 2602.03\n",
            "2021-10-08 13:38:53,198 - INFO - joeynmt.training - EPOCH 16\n",
            "2021-10-08 13:39:25,534 - INFO - joeynmt.training - Epoch  16, Step:    15400, Batch Loss:     2.590041, Tokens per Sec:     4219, Lr: 0.000227\n",
            "2021-10-08 13:40:00,191 - INFO - joeynmt.training - Epoch  16, Step:    15500, Batch Loss:     2.559494, Tokens per Sec:     4236, Lr: 0.000226\n",
            "2021-10-08 13:40:34,512 - INFO - joeynmt.training - Epoch  16, Step:    15600, Batch Loss:     2.470793, Tokens per Sec:     4384, Lr: 0.000225\n",
            "2021-10-08 13:41:08,925 - INFO - joeynmt.training - Epoch  16, Step:    15700, Batch Loss:     2.580380, Tokens per Sec:     4374, Lr: 0.000224\n",
            "2021-10-08 13:41:43,776 - INFO - joeynmt.training - Epoch  16, Step:    15800, Batch Loss:     2.521627, Tokens per Sec:     4445, Lr: 0.000224\n",
            "2021-10-08 13:42:18,258 - INFO - joeynmt.training - Epoch  16, Step:    15900, Batch Loss:     2.536303, Tokens per Sec:     4360, Lr: 0.000223\n",
            "2021-10-08 13:42:52,733 - INFO - joeynmt.training - Epoch  16, Step:    16000, Batch Loss:     2.659188, Tokens per Sec:     4368, Lr: 0.000222\n",
            "2021-10-08 13:43:58,196 - WARNING - sacrebleu - That's 100 lines that end in a tokenized period ('.')\n",
            "2021-10-08 13:43:58,197 - WARNING - sacrebleu - It looks like you forgot to detokenize your test data, which may hurt your score.\n",
            "2021-10-08 13:43:58,197 - WARNING - sacrebleu - If you insist your data is detokenized, or don't care, you can suppress this message with the `force` parameter.\n",
            "2021-10-08 13:43:58,205 - INFO - joeynmt.training - Hooray! New best validation result [ppl]!\n",
            "2021-10-08 13:43:58,650 - INFO - joeynmt.helpers - delete models/nden_reverse_transformer/13000.ckpt\n",
            "2021-10-08 13:43:58,672 - INFO - joeynmt.training - Example #0\n",
            "2021-10-08 13:43:58,672 - INFO - joeynmt.training - \tSource:     ( Josh . 3 : 12 - 17 ) Cabanga ukuthi kwakumangalisa kangakanani ukubona umfula lowo owawuzondile umiswa !\n",
            "2021-10-08 13:43:58,672 - INFO - joeynmt.training - \tReference:  ( See paragraphs 17 , 18 )\n",
            "2021-10-08 13:43:58,672 - INFO - joeynmt.training - \tHypothesis: ( Josh . 3 : 12-17 ) Consider how the way he was to see the way he was so deeply discouraged !\n",
            "2021-10-08 13:43:58,673 - INFO - joeynmt.training - Example #1\n",
            "2021-10-08 13:43:58,673 - INFO - joeynmt.training - \tSource:     UJesu wathi : “ Kakho ongeza kimi ngaphandle kokuthi uBaba ongithumileyo amsondeze . ”\n",
            "2021-10-08 13:43:58,673 - INFO - joeynmt.training - \tReference:  “ No man can come to me unless the Father , who sent me , draws him , ” said Jesus .\n",
            "2021-10-08 13:43:58,673 - INFO - joeynmt.training - \tHypothesis: Jesus said : “ You are not a bread of the Father who is a soul , and you are a source of the Father . ”\n",
            "2021-10-08 13:43:58,673 - INFO - joeynmt.training - Example #2\n",
            "2021-10-08 13:43:58,673 - INFO - joeynmt.training - \tSource:     IBhayibhili lithi : ‘ Ilizwi ngesikhathi salo , lihle kangakanani . ’\n",
            "2021-10-08 13:43:58,674 - INFO - joeynmt.training - \tReference:  The Bible states : “ A word spoken at the right time — how good it is ! ”\n",
            "2021-10-08 13:43:58,674 - INFO - joeynmt.training - \tHypothesis: The Bible says : “ The word of the word of the word will be a good . ”\n",
            "2021-10-08 13:43:58,674 - INFO - joeynmt.training - Example #3\n",
            "2021-10-08 13:43:58,674 - INFO - joeynmt.training - \tSource:     Cabanga ngomthandazo wokuzisola uJona awutsho esesiswini senhlanzi enkulu .\n",
            "2021-10-08 13:43:58,674 - INFO - joeynmt.training - \tReference:  For instance , consider Jonah ’ s contrite prayer from the belly of a huge fish .\n",
            "2021-10-08 13:43:58,674 - INFO - joeynmt.training - \tHypothesis: Consider the prayer of Jonathan ’ s prayer .\n",
            "2021-10-08 13:43:58,674 - INFO - joeynmt.training - Validation result (greedy) at epoch  16, step    16000: bleu:  16.07, loss: 68455.2656, ppl:  11.0810, duration: 65.9408s\n",
            "2021-10-08 13:44:33,277 - INFO - joeynmt.training - Epoch  16, Step:    16100, Batch Loss:     2.731516, Tokens per Sec:     4465, Lr: 0.000222\n",
            "2021-10-08 13:45:07,802 - INFO - joeynmt.training - Epoch  16, Step:    16200, Batch Loss:     2.597286, Tokens per Sec:     4288, Lr: 0.000221\n",
            "2021-10-08 13:45:42,237 - INFO - joeynmt.training - Epoch  16, Step:    16300, Batch Loss:     2.598998, Tokens per Sec:     4394, Lr: 0.000220\n",
            "2021-10-08 13:45:51,988 - INFO - joeynmt.training - Epoch  16: total training loss 2580.83\n",
            "2021-10-08 13:45:51,989 - INFO - joeynmt.training - EPOCH 17\n",
            "2021-10-08 13:46:16,875 - INFO - joeynmt.training - Epoch  17, Step:    16400, Batch Loss:     2.512783, Tokens per Sec:     4366, Lr: 0.000220\n",
            "2021-10-08 13:46:51,367 - INFO - joeynmt.training - Epoch  17, Step:    16500, Batch Loss:     2.442666, Tokens per Sec:     4293, Lr: 0.000219\n",
            "2021-10-08 13:47:26,145 - INFO - joeynmt.training - Epoch  17, Step:    16600, Batch Loss:     2.346159, Tokens per Sec:     4430, Lr: 0.000218\n",
            "2021-10-08 13:48:00,529 - INFO - joeynmt.training - Epoch  17, Step:    16700, Batch Loss:     2.658018, Tokens per Sec:     4398, Lr: 0.000218\n",
            "2021-10-08 13:48:35,135 - INFO - joeynmt.training - Epoch  17, Step:    16800, Batch Loss:     2.678430, Tokens per Sec:     4423, Lr: 0.000217\n",
            "2021-10-08 13:49:09,722 - INFO - joeynmt.training - Epoch  17, Step:    16900, Batch Loss:     2.268165, Tokens per Sec:     4457, Lr: 0.000216\n",
            "2021-10-08 13:49:44,396 - INFO - joeynmt.training - Epoch  17, Step:    17000, Batch Loss:     2.589303, Tokens per Sec:     4360, Lr: 0.000216\n",
            "2021-10-08 13:50:44,994 - WARNING - sacrebleu - That's 100 lines that end in a tokenized period ('.')\n",
            "2021-10-08 13:50:44,994 - WARNING - sacrebleu - It looks like you forgot to detokenize your test data, which may hurt your score.\n",
            "2021-10-08 13:50:44,994 - WARNING - sacrebleu - If you insist your data is detokenized, or don't care, you can suppress this message with the `force` parameter.\n",
            "2021-10-08 13:50:45,001 - INFO - joeynmt.training - Hooray! New best validation result [ppl]!\n",
            "2021-10-08 13:50:45,478 - INFO - joeynmt.helpers - delete models/nden_reverse_transformer/14000.ckpt\n",
            "2021-10-08 13:50:45,508 - INFO - joeynmt.training - Example #0\n",
            "2021-10-08 13:50:45,508 - INFO - joeynmt.training - \tSource:     ( Josh . 3 : 12 - 17 ) Cabanga ukuthi kwakumangalisa kangakanani ukubona umfula lowo owawuzondile umiswa !\n",
            "2021-10-08 13:50:45,508 - INFO - joeynmt.training - \tReference:  ( See paragraphs 17 , 18 )\n",
            "2021-10-08 13:50:45,508 - INFO - joeynmt.training - \tHypothesis: ( Josh . 3 : 12-17 ) Consider how she felt that she was so much more than her .\n",
            "2021-10-08 13:50:45,509 - INFO - joeynmt.training - Example #1\n",
            "2021-10-08 13:50:45,509 - INFO - joeynmt.training - \tSource:     UJesu wathi : “ Kakho ongeza kimi ngaphandle kokuthi uBaba ongithumileyo amsondeze . ”\n",
            "2021-10-08 13:50:45,509 - INFO - joeynmt.training - \tReference:  “ No man can come to me unless the Father , who sent me , draws him , ” said Jesus .\n",
            "2021-10-08 13:50:45,509 - INFO - joeynmt.training - \tHypothesis: Jesus said : “ Your Father is the One who is the Father who is the Father who is in the way he has given me . ”\n",
            "2021-10-08 13:50:45,509 - INFO - joeynmt.training - Example #2\n",
            "2021-10-08 13:50:45,510 - INFO - joeynmt.training - \tSource:     IBhayibhili lithi : ‘ Ilizwi ngesikhathi salo , lihle kangakanani . ’\n",
            "2021-10-08 13:50:45,510 - INFO - joeynmt.training - \tReference:  The Bible states : “ A word spoken at the right time — how good it is ! ”\n",
            "2021-10-08 13:50:45,510 - INFO - joeynmt.training - \tHypothesis: The Bible says : “ The word of the word is a good word , and it is good . ”\n",
            "2021-10-08 13:50:45,510 - INFO - joeynmt.training - Example #3\n",
            "2021-10-08 13:50:45,510 - INFO - joeynmt.training - \tSource:     Cabanga ngomthandazo wokuzisola uJona awutsho esesiswini senhlanzi enkulu .\n",
            "2021-10-08 13:50:45,510 - INFO - joeynmt.training - \tReference:  For instance , consider Jonah ’ s contrite prayer from the belly of a huge fish .\n",
            "2021-10-08 13:50:45,510 - INFO - joeynmt.training - \tHypothesis: Consider the prayer of Jonathan ’ s prayer .\n",
            "2021-10-08 13:50:45,511 - INFO - joeynmt.training - Validation result (greedy) at epoch  17, step    17000: bleu:  16.18, loss: 67883.2734, ppl:  10.8605, duration: 61.1142s\n",
            "2021-10-08 13:51:19,854 - INFO - joeynmt.training - Epoch  17, Step:    17100, Batch Loss:     2.527770, Tokens per Sec:     4374, Lr: 0.000215\n",
            "2021-10-08 13:51:54,398 - INFO - joeynmt.training - Epoch  17, Step:    17200, Batch Loss:     2.524838, Tokens per Sec:     4346, Lr: 0.000214\n",
            "2021-10-08 13:52:28,838 - INFO - joeynmt.training - Epoch  17, Step:    17300, Batch Loss:     2.531588, Tokens per Sec:     4431, Lr: 0.000214\n",
            "2021-10-08 13:52:43,827 - INFO - joeynmt.training - Epoch  17: total training loss 2536.89\n",
            "2021-10-08 13:52:43,828 - INFO - joeynmt.training - EPOCH 18\n",
            "2021-10-08 13:53:03,723 - INFO - joeynmt.training - Epoch  18, Step:    17400, Batch Loss:     2.342136, Tokens per Sec:     4278, Lr: 0.000213\n",
            "2021-10-08 13:53:38,190 - INFO - joeynmt.training - Epoch  18, Step:    17500, Batch Loss:     2.345499, Tokens per Sec:     4405, Lr: 0.000213\n",
            "2021-10-08 13:54:12,394 - INFO - joeynmt.training - Epoch  18, Step:    17600, Batch Loss:     2.447626, Tokens per Sec:     4408, Lr: 0.000212\n",
            "2021-10-08 13:54:46,995 - INFO - joeynmt.training - Epoch  18, Step:    17700, Batch Loss:     2.321597, Tokens per Sec:     4376, Lr: 0.000211\n",
            "2021-10-08 13:55:21,523 - INFO - joeynmt.training - Epoch  18, Step:    17800, Batch Loss:     2.496861, Tokens per Sec:     4453, Lr: 0.000211\n",
            "2021-10-08 13:55:56,204 - INFO - joeynmt.training - Epoch  18, Step:    17900, Batch Loss:     2.443084, Tokens per Sec:     4265, Lr: 0.000210\n",
            "2021-10-08 13:56:31,000 - INFO - joeynmt.training - Epoch  18, Step:    18000, Batch Loss:     2.539787, Tokens per Sec:     4333, Lr: 0.000210\n",
            "2021-10-08 13:57:28,756 - WARNING - sacrebleu - That's 100 lines that end in a tokenized period ('.')\n",
            "2021-10-08 13:57:28,756 - WARNING - sacrebleu - It looks like you forgot to detokenize your test data, which may hurt your score.\n",
            "2021-10-08 13:57:28,756 - WARNING - sacrebleu - If you insist your data is detokenized, or don't care, you can suppress this message with the `force` parameter.\n",
            "2021-10-08 13:57:28,763 - INFO - joeynmt.training - Hooray! New best validation result [ppl]!\n",
            "2021-10-08 13:57:29,198 - INFO - joeynmt.helpers - delete models/nden_reverse_transformer/15000.ckpt\n",
            "2021-10-08 13:57:29,218 - INFO - joeynmt.training - Example #0\n",
            "2021-10-08 13:57:29,219 - INFO - joeynmt.training - \tSource:     ( Josh . 3 : 12 - 17 ) Cabanga ukuthi kwakumangalisa kangakanani ukubona umfula lowo owawuzondile umiswa !\n",
            "2021-10-08 13:57:29,219 - INFO - joeynmt.training - \tReference:  ( See paragraphs 17 , 18 )\n",
            "2021-10-08 13:57:29,219 - INFO - joeynmt.training - \tHypothesis: ( Josh . 3 : 12-17 ) Think of how much it was to see the scene of the bread !\n",
            "2021-10-08 13:57:29,219 - INFO - joeynmt.training - Example #1\n",
            "2021-10-08 13:57:29,219 - INFO - joeynmt.training - \tSource:     UJesu wathi : “ Kakho ongeza kimi ngaphandle kokuthi uBaba ongithumileyo amsondeze . ”\n",
            "2021-10-08 13:57:29,219 - INFO - joeynmt.training - \tReference:  “ No man can come to me unless the Father , who sent me , draws him , ” said Jesus .\n",
            "2021-10-08 13:57:29,219 - INFO - joeynmt.training - \tHypothesis: Jesus said : “ You are my Father , and you are my Father , and you are the Father who is in the way you have received . ”\n",
            "2021-10-08 13:57:29,220 - INFO - joeynmt.training - Example #2\n",
            "2021-10-08 13:57:29,220 - INFO - joeynmt.training - \tSource:     IBhayibhili lithi : ‘ Ilizwi ngesikhathi salo , lihle kangakanani . ’\n",
            "2021-10-08 13:57:29,220 - INFO - joeynmt.training - \tReference:  The Bible states : “ A word spoken at the right time — how good it is ! ”\n",
            "2021-10-08 13:57:29,220 - INFO - joeynmt.training - \tHypothesis: The Bible says : “ The word of the word will be a sword , and it is good . ”\n",
            "2021-10-08 13:57:29,220 - INFO - joeynmt.training - Example #3\n",
            "2021-10-08 13:57:29,220 - INFO - joeynmt.training - \tSource:     Cabanga ngomthandazo wokuzisola uJona awutsho esesiswini senhlanzi enkulu .\n",
            "2021-10-08 13:57:29,221 - INFO - joeynmt.training - \tReference:  For instance , consider Jonah ’ s contrite prayer from the belly of a huge fish .\n",
            "2021-10-08 13:57:29,221 - INFO - joeynmt.training - \tHypothesis: Consider the prayer of Jonathan ’ s prayer that is a source of water .\n",
            "2021-10-08 13:57:29,221 - INFO - joeynmt.training - Validation result (greedy) at epoch  18, step    18000: bleu:  16.46, loss: 67506.2344, ppl:  10.7176, duration: 58.2200s\n",
            "2021-10-08 13:58:03,643 - INFO - joeynmt.training - Epoch  18, Step:    18100, Batch Loss:     2.388241, Tokens per Sec:     4340, Lr: 0.000209\n",
            "2021-10-08 13:58:38,302 - INFO - joeynmt.training - Epoch  18, Step:    18200, Batch Loss:     2.361610, Tokens per Sec:     4383, Lr: 0.000208\n",
            "2021-10-08 13:59:13,203 - INFO - joeynmt.training - Epoch  18, Step:    18300, Batch Loss:     2.458323, Tokens per Sec:     4390, Lr: 0.000208\n",
            "2021-10-08 13:59:34,016 - INFO - joeynmt.training - Epoch  18: total training loss 2525.42\n",
            "2021-10-08 13:59:34,016 - INFO - joeynmt.training - EPOCH 19\n",
            "2021-10-08 13:59:47,874 - INFO - joeynmt.training - Epoch  19, Step:    18400, Batch Loss:     2.372532, Tokens per Sec:     4301, Lr: 0.000207\n",
            "2021-10-08 14:00:22,533 - INFO - joeynmt.training - Epoch  19, Step:    18500, Batch Loss:     2.571838, Tokens per Sec:     4449, Lr: 0.000207\n",
            "2021-10-08 14:00:57,070 - INFO - joeynmt.training - Epoch  19, Step:    18600, Batch Loss:     2.449519, Tokens per Sec:     4392, Lr: 0.000206\n",
            "2021-10-08 14:01:31,685 - INFO - joeynmt.training - Epoch  19, Step:    18700, Batch Loss:     2.465796, Tokens per Sec:     4365, Lr: 0.000206\n",
            "2021-10-08 14:02:06,467 - INFO - joeynmt.training - Epoch  19, Step:    18800, Batch Loss:     2.530581, Tokens per Sec:     4376, Lr: 0.000205\n",
            "2021-10-08 14:02:41,025 - INFO - joeynmt.training - Epoch  19, Step:    18900, Batch Loss:     2.339851, Tokens per Sec:     4389, Lr: 0.000205\n",
            "2021-10-08 14:03:15,174 - INFO - joeynmt.training - Epoch  19, Step:    19000, Batch Loss:     2.319015, Tokens per Sec:     4344, Lr: 0.000204\n",
            "2021-10-08 14:04:25,489 - WARNING - sacrebleu - That's 100 lines that end in a tokenized period ('.')\n",
            "2021-10-08 14:04:25,489 - WARNING - sacrebleu - It looks like you forgot to detokenize your test data, which may hurt your score.\n",
            "2021-10-08 14:04:25,490 - WARNING - sacrebleu - If you insist your data is detokenized, or don't care, you can suppress this message with the `force` parameter.\n",
            "2021-10-08 14:04:25,497 - INFO - joeynmt.training - Hooray! New best validation result [ppl]!\n",
            "2021-10-08 14:04:25,919 - INFO - joeynmt.helpers - delete models/nden_reverse_transformer/16000.ckpt\n",
            "2021-10-08 14:04:25,941 - INFO - joeynmt.training - Example #0\n",
            "2021-10-08 14:04:25,941 - INFO - joeynmt.training - \tSource:     ( Josh . 3 : 12 - 17 ) Cabanga ukuthi kwakumangalisa kangakanani ukubona umfula lowo owawuzondile umiswa !\n",
            "2021-10-08 14:04:25,942 - INFO - joeynmt.training - \tReference:  ( See paragraphs 17 , 18 )\n",
            "2021-10-08 14:04:25,942 - INFO - joeynmt.training - \tHypothesis: ( Josh . 3 : 12-17 ) Think of how much it was to see how he was able to see the scene !\n",
            "2021-10-08 14:04:25,942 - INFO - joeynmt.training - Example #1\n",
            "2021-10-08 14:04:25,942 - INFO - joeynmt.training - \tSource:     UJesu wathi : “ Kakho ongeza kimi ngaphandle kokuthi uBaba ongithumileyo amsondeze . ”\n",
            "2021-10-08 14:04:25,942 - INFO - joeynmt.training - \tReference:  “ No man can come to me unless the Father , who sent me , draws him , ” said Jesus .\n",
            "2021-10-08 14:04:25,942 - INFO - joeynmt.training - \tHypothesis: Jesus said : “ You are my Father , and you will be safe with you . ”\n",
            "2021-10-08 14:04:25,942 - INFO - joeynmt.training - Example #2\n",
            "2021-10-08 14:04:25,943 - INFO - joeynmt.training - \tSource:     IBhayibhili lithi : ‘ Ilizwi ngesikhathi salo , lihle kangakanani . ’\n",
            "2021-10-08 14:04:25,943 - INFO - joeynmt.training - \tReference:  The Bible states : “ A word spoken at the right time — how good it is ! ”\n",
            "2021-10-08 14:04:25,943 - INFO - joeynmt.training - \tHypothesis: The Bible says : “ The word of the word will be made , and the wise is good . ”\n",
            "2021-10-08 14:04:25,943 - INFO - joeynmt.training - Example #3\n",
            "2021-10-08 14:04:25,943 - INFO - joeynmt.training - \tSource:     Cabanga ngomthandazo wokuzisola uJona awutsho esesiswini senhlanzi enkulu .\n",
            "2021-10-08 14:04:25,943 - INFO - joeynmt.training - \tReference:  For instance , consider Jonah ’ s contrite prayer from the belly of a huge fish .\n",
            "2021-10-08 14:04:25,944 - INFO - joeynmt.training - \tHypothesis: Consider the prayer of Jonathan ’ s prayer that is a great crowd .\n",
            "2021-10-08 14:04:25,944 - INFO - joeynmt.training - Validation result (greedy) at epoch  19, step    19000: bleu:  16.23, loss: 67011.0156, ppl:  10.5327, duration: 70.7696s\n",
            "2021-10-08 14:05:00,267 - INFO - joeynmt.training - Epoch  19, Step:    19100, Batch Loss:     2.350445, Tokens per Sec:     4392, Lr: 0.000204\n",
            "2021-10-08 14:05:34,749 - INFO - joeynmt.training - Epoch  19, Step:    19200, Batch Loss:     2.684683, Tokens per Sec:     4375, Lr: 0.000203\n",
            "2021-10-08 14:06:09,142 - INFO - joeynmt.training - Epoch  19, Step:    19300, Batch Loss:     2.487773, Tokens per Sec:     4415, Lr: 0.000202\n",
            "2021-10-08 14:06:36,104 - INFO - joeynmt.training - Epoch  19: total training loss 2506.55\n",
            "2021-10-08 14:06:36,104 - INFO - joeynmt.training - EPOCH 20\n",
            "2021-10-08 14:06:43,697 - INFO - joeynmt.training - Epoch  20, Step:    19400, Batch Loss:     2.417950, Tokens per Sec:     4356, Lr: 0.000202\n",
            "2021-10-08 14:07:18,443 - INFO - joeynmt.training - Epoch  20, Step:    19500, Batch Loss:     2.399163, Tokens per Sec:     4382, Lr: 0.000201\n",
            "2021-10-08 14:07:52,796 - INFO - joeynmt.training - Epoch  20, Step:    19600, Batch Loss:     2.335693, Tokens per Sec:     4341, Lr: 0.000201\n",
            "2021-10-08 14:08:27,571 - INFO - joeynmt.training - Epoch  20, Step:    19700, Batch Loss:     2.316335, Tokens per Sec:     4327, Lr: 0.000200\n",
            "2021-10-08 14:09:01,879 - INFO - joeynmt.training - Epoch  20, Step:    19800, Batch Loss:     2.384515, Tokens per Sec:     4318, Lr: 0.000200\n",
            "2021-10-08 14:09:36,552 - INFO - joeynmt.training - Epoch  20, Step:    19900, Batch Loss:     2.351691, Tokens per Sec:     4316, Lr: 0.000199\n",
            "2021-10-08 14:10:11,020 - INFO - joeynmt.training - Epoch  20, Step:    20000, Batch Loss:     2.491621, Tokens per Sec:     4325, Lr: 0.000199\n",
            "2021-10-08 14:11:12,332 - WARNING - sacrebleu - That's 100 lines that end in a tokenized period ('.')\n",
            "2021-10-08 14:11:12,333 - WARNING - sacrebleu - It looks like you forgot to detokenize your test data, which may hurt your score.\n",
            "2021-10-08 14:11:12,333 - WARNING - sacrebleu - If you insist your data is detokenized, or don't care, you can suppress this message with the `force` parameter.\n",
            "2021-10-08 14:11:12,340 - INFO - joeynmt.training - Hooray! New best validation result [ppl]!\n",
            "2021-10-08 14:11:12,762 - INFO - joeynmt.helpers - delete models/nden_reverse_transformer/17000.ckpt\n",
            "2021-10-08 14:11:12,785 - INFO - joeynmt.training - Example #0\n",
            "2021-10-08 14:11:12,785 - INFO - joeynmt.training - \tSource:     ( Josh . 3 : 12 - 17 ) Cabanga ukuthi kwakumangalisa kangakanani ukubona umfula lowo owawuzondile umiswa !\n",
            "2021-10-08 14:11:12,785 - INFO - joeynmt.training - \tReference:  ( See paragraphs 17 , 18 )\n",
            "2021-10-08 14:11:12,785 - INFO - joeynmt.training - \tHypothesis: ( Josh . 3 : 12-17 ) Imagine how she felt that she was so much more than a brief !\n",
            "2021-10-08 14:11:12,785 - INFO - joeynmt.training - Example #1\n",
            "2021-10-08 14:11:12,786 - INFO - joeynmt.training - \tSource:     UJesu wathi : “ Kakho ongeza kimi ngaphandle kokuthi uBaba ongithumileyo amsondeze . ”\n",
            "2021-10-08 14:11:12,786 - INFO - joeynmt.training - \tReference:  “ No man can come to me unless the Father , who sent me , draws him , ” said Jesus .\n",
            "2021-10-08 14:11:12,786 - INFO - joeynmt.training - \tHypothesis: Jesus said : “ You can be a burden of the Father who is the Father who is in the way he has given me . ”\n",
            "2021-10-08 14:11:12,786 - INFO - joeynmt.training - Example #2\n",
            "2021-10-08 14:11:12,786 - INFO - joeynmt.training - \tSource:     IBhayibhili lithi : ‘ Ilizwi ngesikhathi salo , lihle kangakanani . ’\n",
            "2021-10-08 14:11:12,786 - INFO - joeynmt.training - \tReference:  The Bible states : “ A word spoken at the right time — how good it is ! ”\n",
            "2021-10-08 14:11:12,787 - INFO - joeynmt.training - \tHypothesis: The Bible says : “ The word of the word will be a sword , and the one will be wise . ”\n",
            "2021-10-08 14:11:12,787 - INFO - joeynmt.training - Example #3\n",
            "2021-10-08 14:11:12,787 - INFO - joeynmt.training - \tSource:     Cabanga ngomthandazo wokuzisola uJona awutsho esesiswini senhlanzi enkulu .\n",
            "2021-10-08 14:11:12,787 - INFO - joeynmt.training - \tReference:  For instance , consider Jonah ’ s contrite prayer from the belly of a huge fish .\n",
            "2021-10-08 14:11:12,787 - INFO - joeynmt.training - \tHypothesis: Consider the prayer of Jonathan ’ s prayer .\n",
            "2021-10-08 14:11:12,787 - INFO - joeynmt.training - Validation result (greedy) at epoch  20, step    20000: bleu:  17.03, loss: 66665.5312, ppl:  10.4056, duration: 61.7669s\n",
            "2021-10-08 14:11:47,317 - INFO - joeynmt.training - Epoch  20, Step:    20100, Batch Loss:     2.423209, Tokens per Sec:     4349, Lr: 0.000198\n",
            "2021-10-08 14:12:21,978 - INFO - joeynmt.training - Epoch  20, Step:    20200, Batch Loss:     2.466286, Tokens per Sec:     4347, Lr: 0.000198\n",
            "2021-10-08 14:12:56,509 - INFO - joeynmt.training - Epoch  20, Step:    20300, Batch Loss:     2.487516, Tokens per Sec:     4437, Lr: 0.000197\n",
            "2021-10-08 14:13:30,997 - INFO - joeynmt.training - Epoch  20, Step:    20400, Batch Loss:     2.330409, Tokens per Sec:     4291, Lr: 0.000197\n",
            "2021-10-08 14:13:31,678 - INFO - joeynmt.training - Epoch  20: total training loss 2502.60\n",
            "2021-10-08 14:13:31,679 - INFO - joeynmt.training - EPOCH 21\n",
            "2021-10-08 14:14:05,705 - INFO - joeynmt.training - Epoch  21, Step:    20500, Batch Loss:     2.402780, Tokens per Sec:     4321, Lr: 0.000196\n",
            "2021-10-08 14:14:39,881 - INFO - joeynmt.training - Epoch  21, Step:    20600, Batch Loss:     2.370495, Tokens per Sec:     4397, Lr: 0.000196\n",
            "2021-10-08 14:15:14,128 - INFO - joeynmt.training - Epoch  21, Step:    20700, Batch Loss:     2.279333, Tokens per Sec:     4415, Lr: 0.000195\n",
            "2021-10-08 14:15:48,809 - INFO - joeynmt.training - Epoch  21, Step:    20800, Batch Loss:     2.469593, Tokens per Sec:     4334, Lr: 0.000195\n",
            "2021-10-08 14:16:23,017 - INFO - joeynmt.training - Epoch  21, Step:    20900, Batch Loss:     2.651711, Tokens per Sec:     4439, Lr: 0.000195\n",
            "2021-10-08 14:16:57,385 - INFO - joeynmt.training - Epoch  21, Step:    21000, Batch Loss:     2.356086, Tokens per Sec:     4291, Lr: 0.000194\n",
            "2021-10-08 14:17:58,457 - WARNING - sacrebleu - That's 100 lines that end in a tokenized period ('.')\n",
            "2021-10-08 14:17:58,457 - WARNING - sacrebleu - It looks like you forgot to detokenize your test data, which may hurt your score.\n",
            "2021-10-08 14:17:58,457 - WARNING - sacrebleu - If you insist your data is detokenized, or don't care, you can suppress this message with the `force` parameter.\n",
            "2021-10-08 14:17:58,465 - INFO - joeynmt.training - Hooray! New best validation result [ppl]!\n",
            "2021-10-08 14:17:58,888 - INFO - joeynmt.helpers - delete models/nden_reverse_transformer/18000.ckpt\n",
            "2021-10-08 14:17:58,912 - INFO - joeynmt.training - Example #0\n",
            "2021-10-08 14:17:58,912 - INFO - joeynmt.training - \tSource:     ( Josh . 3 : 12 - 17 ) Cabanga ukuthi kwakumangalisa kangakanani ukubona umfula lowo owawuzondile umiswa !\n",
            "2021-10-08 14:17:58,912 - INFO - joeynmt.training - \tReference:  ( See paragraphs 17 , 18 )\n",
            "2021-10-08 14:17:58,913 - INFO - joeynmt.training - \tHypothesis: ( Josh . 3 : 12-17 ) Think of how much the campaign was to see the brief of the bread !\n",
            "2021-10-08 14:17:58,913 - INFO - joeynmt.training - Example #1\n",
            "2021-10-08 14:17:58,913 - INFO - joeynmt.training - \tSource:     UJesu wathi : “ Kakho ongeza kimi ngaphandle kokuthi uBaba ongithumileyo amsondeze . ”\n",
            "2021-10-08 14:17:58,913 - INFO - joeynmt.training - \tReference:  “ No man can come to me unless the Father , who sent me , draws him , ” said Jesus .\n",
            "2021-10-08 14:17:58,913 - INFO - joeynmt.training - \tHypothesis: Jesus said : “ You can be a sword of the Father who is the Father who is saved to him . ”\n",
            "2021-10-08 14:17:58,913 - INFO - joeynmt.training - Example #2\n",
            "2021-10-08 14:17:58,914 - INFO - joeynmt.training - \tSource:     IBhayibhili lithi : ‘ Ilizwi ngesikhathi salo , lihle kangakanani . ’\n",
            "2021-10-08 14:17:58,914 - INFO - joeynmt.training - \tReference:  The Bible states : “ A word spoken at the right time — how good it is ! ”\n",
            "2021-10-08 14:17:58,914 - INFO - joeynmt.training - \tHypothesis: The Bible says : “ The word of the word , and the wise is good . ”\n",
            "2021-10-08 14:17:58,914 - INFO - joeynmt.training - Example #3\n",
            "2021-10-08 14:17:58,914 - INFO - joeynmt.training - \tSource:     Cabanga ngomthandazo wokuzisola uJona awutsho esesiswini senhlanzi enkulu .\n",
            "2021-10-08 14:17:58,914 - INFO - joeynmt.training - \tReference:  For instance , consider Jonah ’ s contrite prayer from the belly of a huge fish .\n",
            "2021-10-08 14:17:58,915 - INFO - joeynmt.training - \tHypothesis: Consider the prayer of Jonathan ’ s prayer .\n",
            "2021-10-08 14:17:58,915 - INFO - joeynmt.training - Validation result (greedy) at epoch  21, step    21000: bleu:  17.04, loss: 66279.2422, ppl:  10.2654, duration: 61.5296s\n",
            "2021-10-08 14:18:33,833 - INFO - joeynmt.training - Epoch  21, Step:    21100, Batch Loss:     2.336776, Tokens per Sec:     4375, Lr: 0.000194\n",
            "2021-10-08 14:19:08,699 - INFO - joeynmt.training - Epoch  21, Step:    21200, Batch Loss:     2.439214, Tokens per Sec:     4376, Lr: 0.000193\n",
            "2021-10-08 14:19:43,267 - INFO - joeynmt.training - Epoch  21, Step:    21300, Batch Loss:     2.385425, Tokens per Sec:     4431, Lr: 0.000193\n",
            "2021-10-08 14:20:17,603 - INFO - joeynmt.training - Epoch  21, Step:    21400, Batch Loss:     2.453930, Tokens per Sec:     4308, Lr: 0.000192\n",
            "2021-10-08 14:20:24,731 - INFO - joeynmt.training - Epoch  21: total training loss 2472.62\n",
            "2021-10-08 14:20:24,732 - INFO - joeynmt.training - EPOCH 22\n",
            "2021-10-08 14:20:52,050 - INFO - joeynmt.training - Epoch  22, Step:    21500, Batch Loss:     2.311161, Tokens per Sec:     4207, Lr: 0.000192\n",
            "2021-10-08 14:21:26,442 - INFO - joeynmt.training - Epoch  22, Step:    21600, Batch Loss:     2.295765, Tokens per Sec:     4430, Lr: 0.000191\n",
            "2021-10-08 14:22:01,151 - INFO - joeynmt.training - Epoch  22, Step:    21700, Batch Loss:     2.378752, Tokens per Sec:     4397, Lr: 0.000191\n",
            "2021-10-08 14:22:35,648 - INFO - joeynmt.training - Epoch  22, Step:    21800, Batch Loss:     2.353082, Tokens per Sec:     4289, Lr: 0.000190\n",
            "2021-10-08 14:23:10,054 - INFO - joeynmt.training - Epoch  22, Step:    21900, Batch Loss:     2.352114, Tokens per Sec:     4455, Lr: 0.000190\n",
            "2021-10-08 14:23:44,036 - INFO - joeynmt.training - Epoch  22, Step:    22000, Batch Loss:     2.367805, Tokens per Sec:     4333, Lr: 0.000190\n",
            "2021-10-08 14:24:41,923 - WARNING - sacrebleu - That's 100 lines that end in a tokenized period ('.')\n",
            "2021-10-08 14:24:41,923 - WARNING - sacrebleu - It looks like you forgot to detokenize your test data, which may hurt your score.\n",
            "2021-10-08 14:24:41,923 - WARNING - sacrebleu - If you insist your data is detokenized, or don't care, you can suppress this message with the `force` parameter.\n",
            "2021-10-08 14:24:41,930 - INFO - joeynmt.training - Hooray! New best validation result [ppl]!\n",
            "2021-10-08 14:24:42,384 - INFO - joeynmt.helpers - delete models/nden_reverse_transformer/19000.ckpt\n",
            "2021-10-08 14:24:42,405 - INFO - joeynmt.training - Example #0\n",
            "2021-10-08 14:24:42,405 - INFO - joeynmt.training - \tSource:     ( Josh . 3 : 12 - 17 ) Cabanga ukuthi kwakumangalisa kangakanani ukubona umfula lowo owawuzondile umiswa !\n",
            "2021-10-08 14:24:42,405 - INFO - joeynmt.training - \tReference:  ( See paragraphs 17 , 18 )\n",
            "2021-10-08 14:24:42,405 - INFO - joeynmt.training - \tHypothesis: ( Josh . 3 : 12-17 ) Think of how much the brief was to see the brief of the brief !\n",
            "2021-10-08 14:24:42,405 - INFO - joeynmt.training - Example #1\n",
            "2021-10-08 14:24:42,406 - INFO - joeynmt.training - \tSource:     UJesu wathi : “ Kakho ongeza kimi ngaphandle kokuthi uBaba ongithumileyo amsondeze . ”\n",
            "2021-10-08 14:24:42,406 - INFO - joeynmt.training - \tReference:  “ No man can come to me unless the Father , who sent me , draws him , ” said Jesus .\n",
            "2021-10-08 14:24:42,406 - INFO - joeynmt.training - \tHypothesis: Jesus said : “ You are not a mouth of the Father who is the Father who is saving him . ”\n",
            "2021-10-08 14:24:42,406 - INFO - joeynmt.training - Example #2\n",
            "2021-10-08 14:24:42,406 - INFO - joeynmt.training - \tSource:     IBhayibhili lithi : ‘ Ilizwi ngesikhathi salo , lihle kangakanani . ’\n",
            "2021-10-08 14:24:42,406 - INFO - joeynmt.training - \tReference:  The Bible states : “ A word spoken at the right time — how good it is ! ”\n",
            "2021-10-08 14:24:42,406 - INFO - joeynmt.training - \tHypothesis: The Bible says : “ The word of the word will be made , and the wise one is good . ”\n",
            "2021-10-08 14:24:42,407 - INFO - joeynmt.training - Example #3\n",
            "2021-10-08 14:24:42,407 - INFO - joeynmt.training - \tSource:     Cabanga ngomthandazo wokuzisola uJona awutsho esesiswini senhlanzi enkulu .\n",
            "2021-10-08 14:24:42,407 - INFO - joeynmt.training - \tReference:  For instance , consider Jonah ’ s contrite prayer from the belly of a huge fish .\n",
            "2021-10-08 14:24:42,407 - INFO - joeynmt.training - \tHypothesis: Consider the prayer of Jonathan ’ s prayer , which is a great crowd .\n",
            "2021-10-08 14:24:42,407 - INFO - joeynmt.training - Validation result (greedy) at epoch  22, step    22000: bleu:  16.90, loss: 65918.0859, ppl:  10.1359, duration: 58.3703s\n",
            "2021-10-08 14:25:17,070 - INFO - joeynmt.training - Epoch  22, Step:    22100, Batch Loss:     2.371314, Tokens per Sec:     4380, Lr: 0.000189\n",
            "2021-10-08 14:25:51,684 - INFO - joeynmt.training - Epoch  22, Step:    22200, Batch Loss:     2.443086, Tokens per Sec:     4432, Lr: 0.000189\n",
            "2021-10-08 14:26:26,320 - INFO - joeynmt.training - Epoch  22, Step:    22300, Batch Loss:     2.369027, Tokens per Sec:     4399, Lr: 0.000188\n",
            "2021-10-08 14:27:00,986 - INFO - joeynmt.training - Epoch  22, Step:    22400, Batch Loss:     2.357649, Tokens per Sec:     4350, Lr: 0.000188\n",
            "2021-10-08 14:27:14,865 - INFO - joeynmt.training - Epoch  22: total training loss 2456.57\n",
            "2021-10-08 14:27:14,865 - INFO - joeynmt.training - EPOCH 23\n",
            "2021-10-08 14:27:35,637 - INFO - joeynmt.training - Epoch  23, Step:    22500, Batch Loss:     2.266047, Tokens per Sec:     4380, Lr: 0.000188\n",
            "2021-10-08 14:28:10,120 - INFO - joeynmt.training - Epoch  23, Step:    22600, Batch Loss:     2.316696, Tokens per Sec:     4379, Lr: 0.000187\n",
            "2021-10-08 14:28:44,721 - INFO - joeynmt.training - Epoch  23, Step:    22700, Batch Loss:     2.480687, Tokens per Sec:     4380, Lr: 0.000187\n",
            "2021-10-08 14:29:19,218 - INFO - joeynmt.training - Epoch  23, Step:    22800, Batch Loss:     2.428330, Tokens per Sec:     4435, Lr: 0.000186\n",
            "2021-10-08 14:29:53,970 - INFO - joeynmt.training - Epoch  23, Step:    22900, Batch Loss:     2.417943, Tokens per Sec:     4353, Lr: 0.000186\n",
            "2021-10-08 14:30:28,659 - INFO - joeynmt.training - Epoch  23, Step:    23000, Batch Loss:     2.444649, Tokens per Sec:     4391, Lr: 0.000185\n",
            "2021-10-08 14:31:22,664 - WARNING - sacrebleu - That's 100 lines that end in a tokenized period ('.')\n",
            "2021-10-08 14:31:22,665 - WARNING - sacrebleu - It looks like you forgot to detokenize your test data, which may hurt your score.\n",
            "2021-10-08 14:31:22,665 - WARNING - sacrebleu - If you insist your data is detokenized, or don't care, you can suppress this message with the `force` parameter.\n",
            "2021-10-08 14:31:22,672 - INFO - joeynmt.training - Hooray! New best validation result [ppl]!\n",
            "2021-10-08 14:31:23,109 - INFO - joeynmt.helpers - delete models/nden_reverse_transformer/20000.ckpt\n",
            "2021-10-08 14:31:23,143 - INFO - joeynmt.training - Example #0\n",
            "2021-10-08 14:31:23,143 - INFO - joeynmt.training - \tSource:     ( Josh . 3 : 12 - 17 ) Cabanga ukuthi kwakumangalisa kangakanani ukubona umfula lowo owawuzondile umiswa !\n",
            "2021-10-08 14:31:23,143 - INFO - joeynmt.training - \tReference:  ( See paragraphs 17 , 18 )\n",
            "2021-10-08 14:31:23,143 - INFO - joeynmt.training - \tHypothesis: ( Josh . 3 : 12-17 ) Think of how much more it was to see the sudden of the flock !\n",
            "2021-10-08 14:31:23,144 - INFO - joeynmt.training - Example #1\n",
            "2021-10-08 14:31:23,144 - INFO - joeynmt.training - \tSource:     UJesu wathi : “ Kakho ongeza kimi ngaphandle kokuthi uBaba ongithumileyo amsondeze . ”\n",
            "2021-10-08 14:31:23,144 - INFO - joeynmt.training - \tReference:  “ No man can come to me unless the Father , who sent me , draws him , ” said Jesus .\n",
            "2021-10-08 14:31:23,144 - INFO - joeynmt.training - \tHypothesis: Jesus said : “ Your Father is the Father who is in the name of the Father who is saving you . ”\n",
            "2021-10-08 14:31:23,144 - INFO - joeynmt.training - Example #2\n",
            "2021-10-08 14:31:23,145 - INFO - joeynmt.training - \tSource:     IBhayibhili lithi : ‘ Ilizwi ngesikhathi salo , lihle kangakanani . ’\n",
            "2021-10-08 14:31:23,145 - INFO - joeynmt.training - \tReference:  The Bible states : “ A word spoken at the right time — how good it is ! ”\n",
            "2021-10-08 14:31:23,145 - INFO - joeynmt.training - \tHypothesis: The Bible says : “ The word of the word will be a wise , and what is good . ”\n",
            "2021-10-08 14:31:23,145 - INFO - joeynmt.training - Example #3\n",
            "2021-10-08 14:31:23,146 - INFO - joeynmt.training - \tSource:     Cabanga ngomthandazo wokuzisola uJona awutsho esesiswini senhlanzi enkulu .\n",
            "2021-10-08 14:31:23,146 - INFO - joeynmt.training - \tReference:  For instance , consider Jonah ’ s contrite prayer from the belly of a huge fish .\n",
            "2021-10-08 14:31:23,146 - INFO - joeynmt.training - \tHypothesis: Consider the prayer of Jonathan ’ s prayer .\n",
            "2021-10-08 14:31:23,146 - INFO - joeynmt.training - Validation result (greedy) at epoch  23, step    23000: bleu:  17.68, loss: 65496.9922, ppl:   9.9870, duration: 54.4866s\n",
            "2021-10-08 14:31:57,661 - INFO - joeynmt.training - Epoch  23, Step:    23100, Batch Loss:     2.372280, Tokens per Sec:     4252, Lr: 0.000185\n",
            "2021-10-08 14:32:32,166 - INFO - joeynmt.training - Epoch  23, Step:    23200, Batch Loss:     2.433187, Tokens per Sec:     4291, Lr: 0.000185\n",
            "2021-10-08 14:33:06,602 - INFO - joeynmt.training - Epoch  23, Step:    23300, Batch Loss:     2.319113, Tokens per Sec:     4348, Lr: 0.000184\n",
            "2021-10-08 14:33:41,366 - INFO - joeynmt.training - Epoch  23, Step:    23400, Batch Loss:     2.390274, Tokens per Sec:     4386, Lr: 0.000184\n",
            "2021-10-08 14:34:02,026 - INFO - joeynmt.training - Epoch  23: total training loss 2442.85\n",
            "2021-10-08 14:34:02,027 - INFO - joeynmt.training - EPOCH 24\n",
            "2021-10-08 14:34:15,973 - INFO - joeynmt.training - Epoch  24, Step:    23500, Batch Loss:     2.238383, Tokens per Sec:     4319, Lr: 0.000183\n",
            "2021-10-08 14:34:50,427 - INFO - joeynmt.training - Epoch  24, Step:    23600, Batch Loss:     2.308668, Tokens per Sec:     4361, Lr: 0.000183\n",
            "2021-10-08 14:35:25,282 - INFO - joeynmt.training - Epoch  24, Step:    23700, Batch Loss:     2.337299, Tokens per Sec:     4413, Lr: 0.000183\n",
            "2021-10-08 14:35:59,295 - INFO - joeynmt.training - Epoch  24, Step:    23800, Batch Loss:     2.450250, Tokens per Sec:     4348, Lr: 0.000182\n",
            "2021-10-08 14:36:33,765 - INFO - joeynmt.training - Epoch  24, Step:    23900, Batch Loss:     2.158375, Tokens per Sec:     4363, Lr: 0.000182\n",
            "2021-10-08 14:37:08,242 - INFO - joeynmt.training - Epoch  24, Step:    24000, Batch Loss:     2.428961, Tokens per Sec:     4356, Lr: 0.000182\n",
            "2021-10-08 14:38:06,519 - WARNING - sacrebleu - That's 100 lines that end in a tokenized period ('.')\n",
            "2021-10-08 14:38:06,519 - WARNING - sacrebleu - It looks like you forgot to detokenize your test data, which may hurt your score.\n",
            "2021-10-08 14:38:06,519 - WARNING - sacrebleu - If you insist your data is detokenized, or don't care, you can suppress this message with the `force` parameter.\n",
            "2021-10-08 14:38:06,526 - INFO - joeynmt.training - Hooray! New best validation result [ppl]!\n",
            "2021-10-08 14:38:07,009 - INFO - joeynmt.helpers - delete models/nden_reverse_transformer/21000.ckpt\n",
            "2021-10-08 14:38:07,031 - INFO - joeynmt.training - Example #0\n",
            "2021-10-08 14:38:07,031 - INFO - joeynmt.training - \tSource:     ( Josh . 3 : 12 - 17 ) Cabanga ukuthi kwakumangalisa kangakanani ukubona umfula lowo owawuzondile umiswa !\n",
            "2021-10-08 14:38:07,031 - INFO - joeynmt.training - \tReference:  ( See paragraphs 17 , 18 )\n",
            "2021-10-08 14:38:07,032 - INFO - joeynmt.training - \tHypothesis: ( Josh . 3 : 12-17 ) Think of how much it was to see the brief of the blood !\n",
            "2021-10-08 14:38:07,032 - INFO - joeynmt.training - Example #1\n",
            "2021-10-08 14:38:07,032 - INFO - joeynmt.training - \tSource:     UJesu wathi : “ Kakho ongeza kimi ngaphandle kokuthi uBaba ongithumileyo amsondeze . ”\n",
            "2021-10-08 14:38:07,032 - INFO - joeynmt.training - \tReference:  “ No man can come to me unless the Father , who sent me , draws him , ” said Jesus .\n",
            "2021-10-08 14:38:07,032 - INFO - joeynmt.training - \tHypothesis: Jesus said : “ You can be a bread of the Father who is the Father who is in the way he has drawn away . ”\n",
            "2021-10-08 14:38:07,032 - INFO - joeynmt.training - Example #2\n",
            "2021-10-08 14:38:07,033 - INFO - joeynmt.training - \tSource:     IBhayibhili lithi : ‘ Ilizwi ngesikhathi salo , lihle kangakanani . ’\n",
            "2021-10-08 14:38:07,033 - INFO - joeynmt.training - \tReference:  The Bible states : “ A word spoken at the right time — how good it is ! ”\n",
            "2021-10-08 14:38:07,033 - INFO - joeynmt.training - \tHypothesis: The Bible says : “ The word of the word is a wise word , and the wise is good . ”\n",
            "2021-10-08 14:38:07,033 - INFO - joeynmt.training - Example #3\n",
            "2021-10-08 14:38:07,034 - INFO - joeynmt.training - \tSource:     Cabanga ngomthandazo wokuzisola uJona awutsho esesiswini senhlanzi enkulu .\n",
            "2021-10-08 14:38:07,034 - INFO - joeynmt.training - \tReference:  For instance , consider Jonah ’ s contrite prayer from the belly of a huge fish .\n",
            "2021-10-08 14:38:07,034 - INFO - joeynmt.training - \tHypothesis: Consider the prayer of Jonathan ’ s prayer , which is a great scene .\n",
            "2021-10-08 14:38:07,034 - INFO - joeynmt.training - Validation result (greedy) at epoch  24, step    24000: bleu:  17.51, loss: 65235.8008, ppl:   9.8958, duration: 58.7917s\n",
            "2021-10-08 14:38:41,531 - INFO - joeynmt.training - Epoch  24, Step:    24100, Batch Loss:     2.254771, Tokens per Sec:     4351, Lr: 0.000181\n",
            "2021-10-08 14:39:16,137 - INFO - joeynmt.training - Epoch  24, Step:    24200, Batch Loss:     2.438499, Tokens per Sec:     4309, Lr: 0.000181\n",
            "2021-10-08 14:39:50,764 - INFO - joeynmt.training - Epoch  24, Step:    24300, Batch Loss:     2.241107, Tokens per Sec:     4431, Lr: 0.000180\n",
            "2021-10-08 14:40:25,459 - INFO - joeynmt.training - Epoch  24, Step:    24400, Batch Loss:     2.278811, Tokens per Sec:     4373, Lr: 0.000180\n",
            "2021-10-08 14:40:52,865 - INFO - joeynmt.training - Epoch  24: total training loss 2425.85\n",
            "2021-10-08 14:40:52,866 - INFO - joeynmt.training - EPOCH 25\n",
            "2021-10-08 14:41:00,119 - INFO - joeynmt.training - Epoch  25, Step:    24500, Batch Loss:     2.356202, Tokens per Sec:     4626, Lr: 0.000180\n",
            "2021-10-08 14:41:34,923 - INFO - joeynmt.training - Epoch  25, Step:    24600, Batch Loss:     2.515380, Tokens per Sec:     4290, Lr: 0.000179\n",
            "2021-10-08 14:42:09,217 - INFO - joeynmt.training - Epoch  25, Step:    24700, Batch Loss:     2.306799, Tokens per Sec:     4376, Lr: 0.000179\n",
            "2021-10-08 14:42:43,903 - INFO - joeynmt.training - Epoch  25, Step:    24800, Batch Loss:     2.509213, Tokens per Sec:     4345, Lr: 0.000179\n",
            "2021-10-08 14:43:18,892 - INFO - joeynmt.training - Epoch  25, Step:    24900, Batch Loss:     2.316502, Tokens per Sec:     4345, Lr: 0.000178\n",
            "2021-10-08 14:43:53,593 - INFO - joeynmt.training - Epoch  25, Step:    25000, Batch Loss:     2.396574, Tokens per Sec:     4368, Lr: 0.000178\n",
            "2021-10-08 14:44:50,207 - WARNING - sacrebleu - That's 100 lines that end in a tokenized period ('.')\n",
            "2021-10-08 14:44:50,207 - WARNING - sacrebleu - It looks like you forgot to detokenize your test data, which may hurt your score.\n",
            "2021-10-08 14:44:50,207 - WARNING - sacrebleu - If you insist your data is detokenized, or don't care, you can suppress this message with the `force` parameter.\n",
            "2021-10-08 14:44:50,215 - INFO - joeynmt.training - Hooray! New best validation result [ppl]!\n",
            "2021-10-08 14:44:50,695 - INFO - joeynmt.helpers - delete models/nden_reverse_transformer/22000.ckpt\n",
            "2021-10-08 14:44:50,719 - INFO - joeynmt.training - Example #0\n",
            "2021-10-08 14:44:50,719 - INFO - joeynmt.training - \tSource:     ( Josh . 3 : 12 - 17 ) Cabanga ukuthi kwakumangalisa kangakanani ukubona umfula lowo owawuzondile umiswa !\n",
            "2021-10-08 14:44:50,719 - INFO - joeynmt.training - \tReference:  ( See paragraphs 17 , 18 )\n",
            "2021-10-08 14:44:50,719 - INFO - joeynmt.training - \tHypothesis: ( Josh . 3 : 12-17 ) Think of how much it was to see the scene of the blood !\n",
            "2021-10-08 14:44:50,719 - INFO - joeynmt.training - Example #1\n",
            "2021-10-08 14:44:50,720 - INFO - joeynmt.training - \tSource:     UJesu wathi : “ Kakho ongeza kimi ngaphandle kokuthi uBaba ongithumileyo amsondeze . ”\n",
            "2021-10-08 14:44:50,720 - INFO - joeynmt.training - \tReference:  “ No man can come to me unless the Father , who sent me , draws him , ” said Jesus .\n",
            "2021-10-08 14:44:50,720 - INFO - joeynmt.training - \tHypothesis: Jesus said : “ Your Father is the One who is the Father who is the Father who is saved to him . ”\n",
            "2021-10-08 14:44:50,720 - INFO - joeynmt.training - Example #2\n",
            "2021-10-08 14:44:50,720 - INFO - joeynmt.training - \tSource:     IBhayibhili lithi : ‘ Ilizwi ngesikhathi salo , lihle kangakanani . ’\n",
            "2021-10-08 14:44:50,720 - INFO - joeynmt.training - \tReference:  The Bible states : “ A word spoken at the right time — how good it is ! ”\n",
            "2021-10-08 14:44:50,720 - INFO - joeynmt.training - \tHypothesis: The Bible says : “ The word of the word is a wise word , and what is good . ”\n",
            "2021-10-08 14:44:50,721 - INFO - joeynmt.training - Example #3\n",
            "2021-10-08 14:44:50,721 - INFO - joeynmt.training - \tSource:     Cabanga ngomthandazo wokuzisola uJona awutsho esesiswini senhlanzi enkulu .\n",
            "2021-10-08 14:44:50,721 - INFO - joeynmt.training - \tReference:  For instance , consider Jonah ’ s contrite prayer from the belly of a huge fish .\n",
            "2021-10-08 14:44:50,721 - INFO - joeynmt.training - \tHypothesis: Consider the prayer of Jonathan ’ s prayer that was a big of water .\n",
            "2021-10-08 14:44:50,721 - INFO - joeynmt.training - Validation result (greedy) at epoch  25, step    25000: bleu:  17.94, loss: 64940.4922, ppl:   9.7937, duration: 57.1275s\n",
            "2021-10-08 14:45:25,264 - INFO - joeynmt.training - Epoch  25, Step:    25100, Batch Loss:     2.445038, Tokens per Sec:     4421, Lr: 0.000178\n",
            "2021-10-08 14:45:59,844 - INFO - joeynmt.training - Epoch  25, Step:    25200, Batch Loss:     2.360507, Tokens per Sec:     4345, Lr: 0.000177\n",
            "2021-10-08 14:46:34,662 - INFO - joeynmt.training - Epoch  25, Step:    25300, Batch Loss:     2.460082, Tokens per Sec:     4284, Lr: 0.000177\n",
            "2021-10-08 14:47:09,265 - INFO - joeynmt.training - Epoch  25, Step:    25400, Batch Loss:     2.476666, Tokens per Sec:     4418, Lr: 0.000176\n",
            "2021-10-08 14:47:42,089 - INFO - joeynmt.training - Epoch  25: total training loss 2403.59\n",
            "2021-10-08 14:47:42,089 - INFO - joeynmt.training - EPOCH 26\n",
            "2021-10-08 14:47:43,934 - INFO - joeynmt.training - Epoch  26, Step:    25500, Batch Loss:     2.330870, Tokens per Sec:     4271, Lr: 0.000176\n",
            "2021-10-08 14:48:18,566 - INFO - joeynmt.training - Epoch  26, Step:    25600, Batch Loss:     2.470291, Tokens per Sec:     4293, Lr: 0.000176\n",
            "2021-10-08 14:48:53,449 - INFO - joeynmt.training - Epoch  26, Step:    25700, Batch Loss:     2.354193, Tokens per Sec:     4372, Lr: 0.000175\n",
            "2021-10-08 14:49:28,028 - INFO - joeynmt.training - Epoch  26, Step:    25800, Batch Loss:     2.425733, Tokens per Sec:     4375, Lr: 0.000175\n",
            "2021-10-08 14:50:03,190 - INFO - joeynmt.training - Epoch  26, Step:    25900, Batch Loss:     2.405187, Tokens per Sec:     4473, Lr: 0.000175\n",
            "2021-10-08 14:50:37,715 - INFO - joeynmt.training - Epoch  26, Step:    26000, Batch Loss:     2.348167, Tokens per Sec:     4260, Lr: 0.000174\n",
            "2021-10-08 14:51:30,793 - WARNING - sacrebleu - That's 100 lines that end in a tokenized period ('.')\n",
            "2021-10-08 14:51:30,793 - WARNING - sacrebleu - It looks like you forgot to detokenize your test data, which may hurt your score.\n",
            "2021-10-08 14:51:30,794 - WARNING - sacrebleu - If you insist your data is detokenized, or don't care, you can suppress this message with the `force` parameter.\n",
            "2021-10-08 14:51:30,801 - INFO - joeynmt.training - Hooray! New best validation result [ppl]!\n",
            "2021-10-08 14:51:31,283 - INFO - joeynmt.helpers - delete models/nden_reverse_transformer/23000.ckpt\n",
            "2021-10-08 14:51:31,305 - INFO - joeynmt.training - Example #0\n",
            "2021-10-08 14:51:31,306 - INFO - joeynmt.training - \tSource:     ( Josh . 3 : 12 - 17 ) Cabanga ukuthi kwakumangalisa kangakanani ukubona umfula lowo owawuzondile umiswa !\n",
            "2021-10-08 14:51:31,306 - INFO - joeynmt.training - \tReference:  ( See paragraphs 17 , 18 )\n",
            "2021-10-08 14:51:31,306 - INFO - joeynmt.training - \tHypothesis: ( Josh . 3 : 12-17 ) Think of how much it was to see the driver of the camp !\n",
            "2021-10-08 14:51:31,306 - INFO - joeynmt.training - Example #1\n",
            "2021-10-08 14:51:31,306 - INFO - joeynmt.training - \tSource:     UJesu wathi : “ Kakho ongeza kimi ngaphandle kokuthi uBaba ongithumileyo amsondeze . ”\n",
            "2021-10-08 14:51:31,306 - INFO - joeynmt.training - \tReference:  “ No man can come to me unless the Father , who sent me , draws him , ” said Jesus .\n",
            "2021-10-08 14:51:31,307 - INFO - joeynmt.training - \tHypothesis: Jesus said : “ Your Father is the One who is the Father who is the Father who is saving him . ”\n",
            "2021-10-08 14:51:31,307 - INFO - joeynmt.training - Example #2\n",
            "2021-10-08 14:51:31,307 - INFO - joeynmt.training - \tSource:     IBhayibhili lithi : ‘ Ilizwi ngesikhathi salo , lihle kangakanani . ’\n",
            "2021-10-08 14:51:31,307 - INFO - joeynmt.training - \tReference:  The Bible states : “ A word spoken at the right time — how good it is ! ”\n",
            "2021-10-08 14:51:31,307 - INFO - joeynmt.training - \tHypothesis: The Bible says : “ The word of the word is a wise word , and what is good . ”\n",
            "2021-10-08 14:51:31,307 - INFO - joeynmt.training - Example #3\n",
            "2021-10-08 14:51:31,308 - INFO - joeynmt.training - \tSource:     Cabanga ngomthandazo wokuzisola uJona awutsho esesiswini senhlanzi enkulu .\n",
            "2021-10-08 14:51:31,308 - INFO - joeynmt.training - \tReference:  For instance , consider Jonah ’ s contrite prayer from the belly of a huge fish .\n",
            "2021-10-08 14:51:31,308 - INFO - joeynmt.training - \tHypothesis: Consider the prayer of Jonathan ’ s prayer that Jonathan ’ s prayer is a fish of water .\n",
            "2021-10-08 14:51:31,308 - INFO - joeynmt.training - Validation result (greedy) at epoch  26, step    26000: bleu:  18.26, loss: 64701.3047, ppl:   9.7117, duration: 53.5927s\n",
            "2021-10-08 14:52:06,402 - INFO - joeynmt.training - Epoch  26, Step:    26100, Batch Loss:     2.403984, Tokens per Sec:     4281, Lr: 0.000174\n",
            "2021-10-08 14:52:41,009 - INFO - joeynmt.training - Epoch  26, Step:    26200, Batch Loss:     2.489413, Tokens per Sec:     4438, Lr: 0.000174\n",
            "2021-10-08 14:53:15,962 - INFO - joeynmt.training - Epoch  26, Step:    26300, Batch Loss:     2.439856, Tokens per Sec:     4313, Lr: 0.000173\n",
            "2021-10-08 14:53:50,911 - INFO - joeynmt.training - Epoch  26, Step:    26400, Batch Loss:     2.274156, Tokens per Sec:     4281, Lr: 0.000173\n",
            "2021-10-08 14:54:25,311 - INFO - joeynmt.training - Epoch  26, Step:    26500, Batch Loss:     2.295401, Tokens per Sec:     4400, Lr: 0.000173\n",
            "2021-10-08 14:54:29,061 - INFO - joeynmt.training - Epoch  26: total training loss 2391.59\n",
            "2021-10-08 14:54:29,062 - INFO - joeynmt.training - EPOCH 27\n",
            "2021-10-08 14:55:00,391 - INFO - joeynmt.training - Epoch  27, Step:    26600, Batch Loss:     2.372100, Tokens per Sec:     4221, Lr: 0.000172\n",
            "2021-10-08 14:55:34,678 - INFO - joeynmt.training - Epoch  27, Step:    26700, Batch Loss:     2.181149, Tokens per Sec:     4350, Lr: 0.000172\n",
            "2021-10-08 14:56:09,314 - INFO - joeynmt.training - Epoch  27, Step:    26800, Batch Loss:     2.238517, Tokens per Sec:     4287, Lr: 0.000172\n",
            "2021-10-08 14:56:43,848 - INFO - joeynmt.training - Epoch  27, Step:    26900, Batch Loss:     2.316109, Tokens per Sec:     4353, Lr: 0.000171\n",
            "2021-10-08 14:57:18,211 - INFO - joeynmt.training - Epoch  27, Step:    27000, Batch Loss:     2.451218, Tokens per Sec:     4351, Lr: 0.000171\n",
            "2021-10-08 14:58:26,598 - WARNING - sacrebleu - That's 100 lines that end in a tokenized period ('.')\n",
            "2021-10-08 14:58:26,598 - WARNING - sacrebleu - It looks like you forgot to detokenize your test data, which may hurt your score.\n",
            "2021-10-08 14:58:26,598 - WARNING - sacrebleu - If you insist your data is detokenized, or don't care, you can suppress this message with the `force` parameter.\n",
            "2021-10-08 14:58:26,606 - INFO - joeynmt.training - Hooray! New best validation result [ppl]!\n",
            "2021-10-08 14:58:27,098 - INFO - joeynmt.helpers - delete models/nden_reverse_transformer/24000.ckpt\n",
            "2021-10-08 14:58:27,120 - INFO - joeynmt.training - Example #0\n",
            "2021-10-08 14:58:27,120 - INFO - joeynmt.training - \tSource:     ( Josh . 3 : 12 - 17 ) Cabanga ukuthi kwakumangalisa kangakanani ukubona umfula lowo owawuzondile umiswa !\n",
            "2021-10-08 14:58:27,120 - INFO - joeynmt.training - \tReference:  ( See paragraphs 17 , 18 )\n",
            "2021-10-08 14:58:27,120 - INFO - joeynmt.training - \tHypothesis: ( Josh . 3 : 12-17 ) Think of how much more it was to see the sad of the flock !\n",
            "2021-10-08 14:58:27,120 - INFO - joeynmt.training - Example #1\n",
            "2021-10-08 14:58:27,121 - INFO - joeynmt.training - \tSource:     UJesu wathi : “ Kakho ongeza kimi ngaphandle kokuthi uBaba ongithumileyo amsondeze . ”\n",
            "2021-10-08 14:58:27,121 - INFO - joeynmt.training - \tReference:  “ No man can come to me unless the Father , who sent me , draws him , ” said Jesus .\n",
            "2021-10-08 14:58:27,121 - INFO - joeynmt.training - \tHypothesis: Jesus said : “ Your Father is not a mouth of the Father who is saved to me . ”\n",
            "2021-10-08 14:58:27,121 - INFO - joeynmt.training - Example #2\n",
            "2021-10-08 14:58:27,121 - INFO - joeynmt.training - \tSource:     IBhayibhili lithi : ‘ Ilizwi ngesikhathi salo , lihle kangakanani . ’\n",
            "2021-10-08 14:58:27,121 - INFO - joeynmt.training - \tReference:  The Bible states : “ A word spoken at the right time — how good it is ! ”\n",
            "2021-10-08 14:58:27,121 - INFO - joeynmt.training - \tHypothesis: The Bible says : “ The word of the word is good , and what is good . ”\n",
            "2021-10-08 14:58:27,122 - INFO - joeynmt.training - Example #3\n",
            "2021-10-08 14:58:27,122 - INFO - joeynmt.training - \tSource:     Cabanga ngomthandazo wokuzisola uJona awutsho esesiswini senhlanzi enkulu .\n",
            "2021-10-08 14:58:27,122 - INFO - joeynmt.training - \tReference:  For instance , consider Jonah ’ s contrite prayer from the belly of a huge fish .\n",
            "2021-10-08 14:58:27,122 - INFO - joeynmt.training - \tHypothesis: Consider the prayer of Jonathan ’ s prayer that Jonathan ’ s prayer was a fish .\n",
            "2021-10-08 14:58:27,122 - INFO - joeynmt.training - Validation result (greedy) at epoch  27, step    27000: bleu:  17.38, loss: 64388.7227, ppl:   9.6056, duration: 68.9107s\n"
          ]
        }
      ]
    },
    {
      "cell_type": "code",
      "metadata": {
        "id": "MBoDS09JM807",
        "outputId": "fcf8d900-8da7-40ce-9461-6c9537de3a98",
        "colab": {
          "base_uri": "https://localhost:8080/"
        }
      },
      "source": [
        "# Copy the created models from the notebook storage to google drive for persistant storage \n",
        "!cp -r joeynmt/models/${tgt}${src}_reverse_transformer/* \"$gdrive_path/models/${tgt}${src}_reverse_transformer/\""
      ],
      "execution_count": 1,
      "outputs": [
        {
          "output_type": "stream",
          "name": "stdout",
          "text": [
            "cp: cannot stat 'joeynmt/models/_reverse_transformer/*': No such file or directory\n"
          ]
        }
      ]
    },
    {
      "cell_type": "code",
      "metadata": {
        "id": "rpmOYyy-a4Bo"
      },
      "source": [
        ""
      ],
      "execution_count": null,
      "outputs": []
    },
    {
      "cell_type": "code",
      "metadata": {
        "id": "trkF-6LDbVV-"
      },
      "source": [
        ""
      ],
      "execution_count": null,
      "outputs": []
    },
    {
      "cell_type": "code",
      "metadata": {
        "id": "ynkwcoXSY3cb"
      },
      "source": [
        ""
      ],
      "execution_count": null,
      "outputs": []
    },
    {
      "cell_type": "code",
      "metadata": {
        "id": "rUgbZgtJZU0K"
      },
      "source": [
        ""
      ],
      "execution_count": null,
      "outputs": []
    },
    {
      "cell_type": "code",
      "metadata": {
        "id": "ppbYNbx-ZyPS"
      },
      "source": [
        ""
      ],
      "execution_count": null,
      "outputs": []
    },
    {
      "cell_type": "code",
      "metadata": {
        "id": "n94wlrCjVc17",
        "outputId": "25b57dc8-9402-4529-f467-57b6d23ad225",
        "colab": {
          "base_uri": "https://localhost:8080/"
        }
      },
      "source": [
        "# Output our validation accuracy\n",
        "! cat \"$gdrive_path/models/${tgt}${src}_reverse_transformer/validations.txt\""
      ],
      "execution_count": 32,
      "outputs": [
        {
          "output_type": "stream",
          "name": "stdout",
          "text": [
            "Steps: 1000\tLoss: 115833.14062\tPPL: 58.55052\tbleu: 1.94083\tLR: 0.00088939\t*\n"
          ]
        }
      ]
    },
    {
      "cell_type": "code",
      "metadata": {
        "id": "66WhRE9lIhoD",
        "outputId": "6d78dc55-0cc2-4cc7-a194-f4cb2d47dedc",
        "colab": {
          "base_uri": "https://localhost:8080/"
        }
      },
      "source": [
        "# Test our model\n",
        "! cd joeynmt; python3 -m joeynmt test \"$gdrive_path/models/${tgt}${src}_reverse_transformer/config.yaml\""
      ],
      "execution_count": 33,
      "outputs": [
        {
          "output_type": "stream",
          "name": "stdout",
          "text": [
            "2021-10-08 11:49:35,137 - INFO - root - Hello! This is Joey-NMT (version 1.3).\n",
            "2021-10-08 11:49:35,138 - INFO - joeynmt.data - Building vocabulary...\n",
            "2021-10-08 11:49:35,420 - INFO - joeynmt.data - Loading dev data...\n",
            "2021-10-08 11:49:35,438 - INFO - joeynmt.data - Loading test data...\n",
            "2021-10-08 11:49:35,510 - INFO - joeynmt.data - Data loaded.\n",
            "2021-10-08 11:49:35,535 - INFO - joeynmt.prediction - Process device: cuda, n_gpu: 1, batch_size per device: 3600\n",
            "2021-10-08 11:49:35,535 - INFO - joeynmt.prediction - Loading model from models/nden_reverse_transformer/1000.ckpt\n",
            "2021-10-08 11:49:37,908 - INFO - joeynmt.model - Building an encoder-decoder model...\n",
            "2021-10-08 11:49:38,167 - INFO - joeynmt.model - Enc-dec model built.\n",
            "2021-10-08 11:49:38,244 - INFO - joeynmt.prediction - Decoding on dev set (data/nden/dev.bpe.en)...\n",
            "2021-10-08 11:52:22,328 - WARNING - sacrebleu - That's 100 lines that end in a tokenized period ('.')\n",
            "2021-10-08 11:52:22,329 - WARNING - sacrebleu - It looks like you forgot to detokenize your test data, which may hurt your score.\n",
            "2021-10-08 11:52:22,329 - WARNING - sacrebleu - If you insist your data is detokenized, or don't care, you can suppress this message with the `force` parameter.\n",
            "2021-10-08 11:52:22,334 - INFO - joeynmt.prediction -  dev bleu[13a]:   2.69 [Beam search decoding with beam size = 5 and alpha = 1.0]\n",
            "2021-10-08 11:52:22,334 - INFO - joeynmt.prediction - Decoding on test set (data/nden/test.bpe.en)...\n",
            "Traceback (most recent call last):\n",
            "  File \"/usr/lib/python3.7/runpy.py\", line 193, in _run_module_as_main\n",
            "    \"__main__\", mod_spec)\n",
            "  File \"/usr/lib/python3.7/runpy.py\", line 85, in _run_code\n",
            "    exec(code, run_globals)\n",
            "  File \"/content/joeynmt/joeynmt/__main__.py\", line 48, in <module>\n",
            "    main()\n",
            "  File \"/content/joeynmt/joeynmt/__main__.py\", line 38, in main\n",
            "    output_path=args.output_path, save_attention=args.save_attention)\n",
            "  File \"/content/joeynmt/joeynmt/prediction.py\", line 349, in test\n",
            "    bpe_type=bpe_type, sacrebleu=sacrebleu, n_gpu=n_gpu)\n",
            "  File \"/content/joeynmt/joeynmt/prediction.py\", line 128, in validate_on_data\n",
            "    n_best=n_best)\n",
            "  File \"/content/joeynmt/joeynmt/search.py\", line 463, in run_batch\n",
            "    n_best=n_best)\n",
            "  File \"/content/joeynmt/joeynmt/search.py\", line 359, in beam_search\n",
            "    if (predictions[i, j, 1:] == eos_index).nonzero(\n",
            "KeyboardInterrupt\n"
          ]
        }
      ]
    },
    {
      "cell_type": "code",
      "metadata": {
        "id": "9CsXO8Zowrfo"
      },
      "source": [
        ""
      ],
      "execution_count": null,
      "outputs": []
    },
    {
      "cell_type": "code",
      "metadata": {
        "id": "1PGJ87IoxN1j"
      },
      "source": [
        ""
      ],
      "execution_count": null,
      "outputs": []
    },
    {
      "cell_type": "code",
      "metadata": {
        "id": "PDLBts6FxrIj"
      },
      "source": [
        ""
      ],
      "execution_count": null,
      "outputs": []
    },
    {
      "cell_type": "code",
      "metadata": {
        "id": "rz2duprhyIbo"
      },
      "source": [
        ""
      ],
      "execution_count": null,
      "outputs": []
    },
    {
      "cell_type": "code",
      "metadata": {
        "id": "_HAoi2tjylvT"
      },
      "source": [
        ""
      ],
      "execution_count": null,
      "outputs": []
    },
    {
      "cell_type": "code",
      "metadata": {
        "id": "ircQskrHzDCV"
      },
      "source": [
        ""
      ],
      "execution_count": null,
      "outputs": []
    },
    {
      "cell_type": "code",
      "metadata": {
        "id": "7lY4jYiGzgVe"
      },
      "source": [
        ""
      ],
      "execution_count": null,
      "outputs": []
    },
    {
      "cell_type": "code",
      "metadata": {
        "id": "d7oS-2dAz9os"
      },
      "source": [
        ""
      ],
      "execution_count": null,
      "outputs": []
    },
    {
      "cell_type": "code",
      "metadata": {
        "id": "pUGJI3-g0a7w"
      },
      "source": [
        ""
      ],
      "execution_count": null,
      "outputs": []
    },
    {
      "cell_type": "code",
      "metadata": {
        "id": "CknaMtm604Oy"
      },
      "source": [
        ""
      ],
      "execution_count": null,
      "outputs": []
    },
    {
      "cell_type": "code",
      "metadata": {
        "id": "fw24mDdQ1Vh1"
      },
      "source": [
        ""
      ],
      "execution_count": null,
      "outputs": []
    },
    {
      "cell_type": "code",
      "metadata": {
        "id": "sb4sxwzt1y1B"
      },
      "source": [
        ""
      ],
      "execution_count": null,
      "outputs": []
    },
    {
      "cell_type": "code",
      "metadata": {
        "id": "_67rr-H42QG5"
      },
      "source": [
        ""
      ],
      "execution_count": null,
      "outputs": []
    },
    {
      "cell_type": "code",
      "metadata": {
        "id": "j0K88wgy2tZ8"
      },
      "source": [
        ""
      ],
      "execution_count": null,
      "outputs": []
    },
    {
      "cell_type": "code",
      "metadata": {
        "id": "D0wIEW6W3KtO"
      },
      "source": [
        ""
      ],
      "execution_count": null,
      "outputs": []
    },
    {
      "cell_type": "code",
      "metadata": {
        "id": "9WUkW78w3oAC"
      },
      "source": [
        ""
      ],
      "execution_count": null,
      "outputs": []
    },
    {
      "cell_type": "code",
      "metadata": {
        "id": "HAGObHVE4FTN"
      },
      "source": [
        ""
      ],
      "execution_count": null,
      "outputs": []
    },
    {
      "cell_type": "code",
      "metadata": {
        "id": "XGDEr0H24imQ"
      },
      "source": [
        ""
      ],
      "execution_count": null,
      "outputs": []
    },
    {
      "cell_type": "code",
      "metadata": {
        "id": "-RpKY6pv4_5e"
      },
      "source": [
        ""
      ],
      "execution_count": null,
      "outputs": []
    },
    {
      "cell_type": "code",
      "metadata": {
        "id": "naVwpNsl5dMX"
      },
      "source": [
        ""
      ],
      "execution_count": null,
      "outputs": []
    },
    {
      "cell_type": "code",
      "metadata": {
        "id": "GNhRVDcu56g3"
      },
      "source": [
        ""
      ],
      "execution_count": null,
      "outputs": []
    },
    {
      "cell_type": "code",
      "metadata": {
        "id": "xth-jhQ36Xzh"
      },
      "source": [
        ""
      ],
      "execution_count": null,
      "outputs": []
    },
    {
      "cell_type": "code",
      "metadata": {
        "id": "K0sp1lHU61Gl"
      },
      "source": [
        ""
      ],
      "execution_count": null,
      "outputs": []
    },
    {
      "cell_type": "code",
      "metadata": {
        "id": "USsKoqN27SZr"
      },
      "source": [
        ""
      ],
      "execution_count": null,
      "outputs": []
    },
    {
      "cell_type": "code",
      "metadata": {
        "id": "duzf1E7c7vsv"
      },
      "source": [
        ""
      ],
      "execution_count": null,
      "outputs": []
    },
    {
      "cell_type": "code",
      "metadata": {
        "id": "n3gG7eIo8NAj"
      },
      "source": [
        ""
      ],
      "execution_count": null,
      "outputs": []
    },
    {
      "cell_type": "code",
      "metadata": {
        "id": "eHsuO6dF8qS9"
      },
      "source": [
        ""
      ],
      "execution_count": null,
      "outputs": []
    },
    {
      "cell_type": "code",
      "metadata": {
        "id": "eEtdbHLe9Hn1"
      },
      "source": [
        ""
      ],
      "execution_count": null,
      "outputs": []
    },
    {
      "cell_type": "code",
      "metadata": {
        "id": "TRYF_hGh9k7B"
      },
      "source": [
        ""
      ],
      "execution_count": null,
      "outputs": []
    },
    {
      "cell_type": "code",
      "metadata": {
        "id": "qltRCixd-COB"
      },
      "source": [
        ""
      ],
      "execution_count": null,
      "outputs": []
    },
    {
      "cell_type": "code",
      "metadata": {
        "id": "qDe8p83W-fhD"
      },
      "source": [
        ""
      ],
      "execution_count": null,
      "outputs": []
    },
    {
      "cell_type": "code",
      "metadata": {
        "id": "kWTkLWsE-80T"
      },
      "source": [
        ""
      ],
      "execution_count": null,
      "outputs": []
    },
    {
      "cell_type": "code",
      "metadata": {
        "id": "mXkZBeVw_aHQ"
      },
      "source": [
        ""
      ],
      "execution_count": null,
      "outputs": []
    },
    {
      "cell_type": "code",
      "metadata": {
        "id": "P90b4n6G_3aU"
      },
      "source": [
        ""
      ],
      "execution_count": null,
      "outputs": []
    },
    {
      "cell_type": "code",
      "metadata": {
        "id": "eVUE1x19AUte"
      },
      "source": [
        ""
      ],
      "execution_count": null,
      "outputs": []
    },
    {
      "cell_type": "code",
      "metadata": {
        "id": "JJ01zJS2AyB7"
      },
      "source": [
        ""
      ],
      "execution_count": null,
      "outputs": []
    },
    {
      "cell_type": "code",
      "metadata": {
        "id": "SvVkPjvWBPUy"
      },
      "source": [
        ""
      ],
      "execution_count": null,
      "outputs": []
    },
    {
      "cell_type": "code",
      "metadata": {
        "id": "uJtPTjD0Bsns"
      },
      "source": [
        ""
      ],
      "execution_count": null,
      "outputs": []
    },
    {
      "cell_type": "code",
      "metadata": {
        "id": "G6_hrNuVCJ6x"
      },
      "source": [
        ""
      ],
      "execution_count": null,
      "outputs": []
    },
    {
      "cell_type": "code",
      "metadata": {
        "id": "kDka6VevCnN9"
      },
      "source": [
        ""
      ],
      "execution_count": null,
      "outputs": []
    },
    {
      "cell_type": "code",
      "metadata": {
        "id": "MTiWD94mDEhG"
      },
      "source": [
        ""
      ],
      "execution_count": null,
      "outputs": []
    },
    {
      "cell_type": "code",
      "metadata": {
        "id": "tpQk1jb2Dh0F"
      },
      "source": [
        ""
      ],
      "execution_count": null,
      "outputs": []
    },
    {
      "cell_type": "code",
      "metadata": {
        "id": "MGD3gdxMD_H2"
      },
      "source": [
        ""
      ],
      "execution_count": null,
      "outputs": []
    },
    {
      "cell_type": "code",
      "metadata": {
        "id": "5Q42KJlDEcbM"
      },
      "source": [
        ""
      ],
      "execution_count": null,
      "outputs": []
    },
    {
      "cell_type": "code",
      "metadata": {
        "id": "16qbCY1IE5uS"
      },
      "source": [
        ""
      ],
      "execution_count": null,
      "outputs": []
    },
    {
      "cell_type": "code",
      "metadata": {
        "id": "EVbJx_3OFXBQ"
      },
      "source": [
        ""
      ],
      "execution_count": null,
      "outputs": []
    },
    {
      "cell_type": "code",
      "metadata": {
        "id": "vB67XGVsF0UR"
      },
      "source": [
        ""
      ],
      "execution_count": null,
      "outputs": []
    },
    {
      "cell_type": "code",
      "metadata": {
        "id": "EMXnzn6UGRne"
      },
      "source": [
        ""
      ],
      "execution_count": null,
      "outputs": []
    },
    {
      "cell_type": "code",
      "metadata": {
        "id": "nPkGjCiVGu6i"
      },
      "source": [
        ""
      ],
      "execution_count": null,
      "outputs": []
    },
    {
      "cell_type": "code",
      "metadata": {
        "id": "Im1tpmACHMOG"
      },
      "source": [
        ""
      ],
      "execution_count": null,
      "outputs": []
    },
    {
      "cell_type": "code",
      "metadata": {
        "id": "ucXZvH85Hpgu"
      },
      "source": [
        ""
      ],
      "execution_count": null,
      "outputs": []
    },
    {
      "cell_type": "code",
      "metadata": {
        "id": "XRxsrgxCIGz3"
      },
      "source": [
        ""
      ],
      "execution_count": null,
      "outputs": []
    },
    {
      "cell_type": "code",
      "metadata": {
        "id": "skU3TxJVIkHJ"
      },
      "source": [
        ""
      ],
      "execution_count": null,
      "outputs": []
    },
    {
      "cell_type": "code",
      "metadata": {
        "id": "dwiUlRBaJBaD"
      },
      "source": [
        ""
      ],
      "execution_count": null,
      "outputs": []
    },
    {
      "cell_type": "code",
      "metadata": {
        "id": "w5bz9LVcJetQ"
      },
      "source": [
        ""
      ],
      "execution_count": null,
      "outputs": []
    },
    {
      "cell_type": "code",
      "metadata": {
        "id": "YYMyub-6J8AN"
      },
      "source": [
        ""
      ],
      "execution_count": null,
      "outputs": []
    },
    {
      "cell_type": "code",
      "metadata": {
        "id": "8P5-Pg4ZKZTS"
      },
      "source": [
        ""
      ],
      "execution_count": null,
      "outputs": []
    },
    {
      "cell_type": "code",
      "metadata": {
        "id": "2v26vHzeK2iT"
      },
      "source": [
        ""
      ],
      "execution_count": null,
      "outputs": []
    },
    {
      "cell_type": "code",
      "metadata": {
        "id": "Yukkf8z9LT1Q"
      },
      "source": [
        ""
      ],
      "execution_count": null,
      "outputs": []
    },
    {
      "cell_type": "code",
      "metadata": {
        "id": "2A_ZZmQPLxIQ"
      },
      "source": [
        ""
      ],
      "execution_count": null,
      "outputs": []
    },
    {
      "cell_type": "code",
      "metadata": {
        "id": "8mypROHFMObf"
      },
      "source": [
        ""
      ],
      "execution_count": null,
      "outputs": []
    },
    {
      "cell_type": "code",
      "metadata": {
        "id": "KnhsGFSXMrul"
      },
      "source": [
        ""
      ],
      "execution_count": null,
      "outputs": []
    },
    {
      "cell_type": "code",
      "metadata": {
        "id": "7gaAwEwJNJBW"
      },
      "source": [
        ""
      ],
      "execution_count": null,
      "outputs": []
    },
    {
      "cell_type": "code",
      "metadata": {
        "id": "j28mEPiBNmUO"
      },
      "source": [
        ""
      ],
      "execution_count": null,
      "outputs": []
    },
    {
      "cell_type": "code",
      "metadata": {
        "id": "7QBW3VdqODnP"
      },
      "source": [
        ""
      ],
      "execution_count": null,
      "outputs": []
    },
    {
      "cell_type": "code",
      "metadata": {
        "id": "NLcXRgfzOg3b"
      },
      "source": [
        ""
      ],
      "execution_count": null,
      "outputs": []
    },
    {
      "cell_type": "code",
      "metadata": {
        "id": "BqDXsB3_O-KJ"
      },
      "source": [
        ""
      ],
      "execution_count": null,
      "outputs": []
    },
    {
      "cell_type": "code",
      "metadata": {
        "id": "KQpu_cS7PbdZ"
      },
      "source": [
        ""
      ],
      "execution_count": null,
      "outputs": []
    },
    {
      "cell_type": "code",
      "metadata": {
        "id": "IsNntuPQP4v_"
      },
      "source": [
        ""
      ],
      "execution_count": null,
      "outputs": []
    },
    {
      "cell_type": "code",
      "metadata": {
        "id": "U7UP_MIbQWC5"
      },
      "source": [
        ""
      ],
      "execution_count": null,
      "outputs": []
    },
    {
      "cell_type": "code",
      "metadata": {
        "id": "FulKQs9zQzV2"
      },
      "source": [
        ""
      ],
      "execution_count": null,
      "outputs": []
    },
    {
      "cell_type": "code",
      "metadata": {
        "id": "-omlTMqYRQos"
      },
      "source": [
        ""
      ],
      "execution_count": null,
      "outputs": []
    },
    {
      "cell_type": "code",
      "metadata": {
        "id": "_n72Sl-bRt9A"
      },
      "source": [
        ""
      ],
      "execution_count": null,
      "outputs": []
    },
    {
      "cell_type": "code",
      "metadata": {
        "id": "rULzM96SSLPu"
      },
      "source": [
        ""
      ],
      "execution_count": null,
      "outputs": []
    },
    {
      "cell_type": "code",
      "metadata": {
        "id": "hebEY5jHSoid"
      },
      "source": [
        ""
      ],
      "execution_count": null,
      "outputs": []
    },
    {
      "cell_type": "code",
      "metadata": {
        "id": "sSQ2sUZfTF1g"
      },
      "source": [
        ""
      ],
      "execution_count": null,
      "outputs": []
    },
    {
      "cell_type": "code",
      "metadata": {
        "id": "2IGR4a9ZTjIi"
      },
      "source": [
        ""
      ],
      "execution_count": null,
      "outputs": []
    },
    {
      "cell_type": "code",
      "metadata": {
        "id": "FbUbA5NVUAbn"
      },
      "source": [
        ""
      ],
      "execution_count": null,
      "outputs": []
    },
    {
      "cell_type": "code",
      "metadata": {
        "id": "n6zMqPkKUdvA"
      },
      "source": [
        ""
      ],
      "execution_count": null,
      "outputs": []
    },
    {
      "cell_type": "code",
      "metadata": {
        "id": "o9dNiFmJU7BY"
      },
      "source": [
        ""
      ],
      "execution_count": null,
      "outputs": []
    },
    {
      "cell_type": "code",
      "metadata": {
        "id": "zQmqXHhYVYZy"
      },
      "source": [
        ""
      ],
      "execution_count": null,
      "outputs": []
    },
    {
      "cell_type": "code",
      "metadata": {
        "id": "M3gXcZVsV1s_"
      },
      "source": [
        ""
      ],
      "execution_count": null,
      "outputs": []
    },
    {
      "cell_type": "code",
      "metadata": {
        "id": "T8eTVmlhWTAT"
      },
      "source": [
        ""
      ],
      "execution_count": null,
      "outputs": []
    },
    {
      "cell_type": "code",
      "metadata": {
        "id": "sh77d9ISWwTI"
      },
      "source": [
        ""
      ],
      "execution_count": null,
      "outputs": []
    },
    {
      "cell_type": "code",
      "metadata": {
        "id": "MPLCXAdtXNmL"
      },
      "source": [
        ""
      ],
      "execution_count": null,
      "outputs": []
    },
    {
      "cell_type": "code",
      "metadata": {
        "id": "NxmGGjloXq5O"
      },
      "source": [
        ""
      ],
      "execution_count": null,
      "outputs": []
    },
    {
      "cell_type": "code",
      "metadata": {
        "id": "iyfvxPKvYIMU"
      },
      "source": [
        ""
      ],
      "execution_count": null,
      "outputs": []
    },
    {
      "cell_type": "code",
      "metadata": {
        "id": "sl6oY9dBYliP"
      },
      "source": [
        ""
      ],
      "execution_count": null,
      "outputs": []
    },
    {
      "cell_type": "code",
      "metadata": {
        "id": "uDY4h4lJZC1N"
      },
      "source": [
        ""
      ],
      "execution_count": null,
      "outputs": []
    },
    {
      "cell_type": "code",
      "metadata": {
        "id": "Fnl_OQ3CZgIV"
      },
      "source": [
        ""
      ],
      "execution_count": null,
      "outputs": []
    },
    {
      "cell_type": "code",
      "metadata": {
        "id": "JYGXMjeWZ9bj"
      },
      "source": [
        ""
      ],
      "execution_count": null,
      "outputs": []
    },
    {
      "cell_type": "code",
      "metadata": {
        "id": "yh9zO1gwaaur"
      },
      "source": [
        ""
      ],
      "execution_count": null,
      "outputs": []
    }
  ]
}