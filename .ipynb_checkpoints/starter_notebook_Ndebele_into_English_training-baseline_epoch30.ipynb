{
  "nbformat": 4,
  "nbformat_minor": 0,
  "metadata": {
    "accelerator": "GPU",
    "colab": {
      "name": "starter_notebook_reverse_training.ipynb",
      "provenance": [],
      "collapsed_sections": [],
      "include_colab_link": true
    },
    "kernelspec": {
      "display_name": "Python 3",
      "language": "python",
      "name": "python3"
    },
    "language_info": {
      "codemirror_mode": {
        "name": "ipython",
        "version": 3
      },
      "file_extension": ".py",
      "mimetype": "text/x-python",
      "name": "python",
      "nbconvert_exporter": "python",
      "pygments_lexer": "ipython3",
      "version": "3.7.3"
    }
  },
  "cells": [
    {
      "cell_type": "markdown",
      "metadata": {
        "id": "view-in-github",
        "colab_type": "text"
      },
      "source": [
        "<a href=\"https://colab.research.google.com/github/JenaleaR/masakhane-mt/blob/master/.ipynb_checkpoints/starter_notebook_Ndebele_into_English_training-baseline_epoch30.ipynb\" target=\"_parent\"><img src=\"https://colab.research.google.com/assets/colab-badge.svg\" alt=\"Open In Colab\"/></a>"
      ]
    },
    {
      "cell_type": "markdown",
      "metadata": {
        "id": "Igc5itf-xMGj"
      },
      "source": [
        "# Masakhane - Reverse Machine Translation for African Languages (Using JoeyNMT)"
      ]
    },
    {
      "cell_type": "markdown",
      "metadata": {
        "id": "ohw_p0iWcRuh"
      },
      "source": [
        "> ## NB\n",
        ">### - The purpose of this Notebook is to build models that translate African languages(target language) *into* English(source language). This will allow us to in future be able to make translations from one African language to the other. If you'd like to translate *from* English, please use [this](https://github.com/masakhane-io/masakhane-mt/blob/master/starter_notebook.ipynb) starter notebook instead.\n",
        "\n",
        ">### - We call this reverse training because normally we build models that make translations from the source language(English) to the target language. But in this case we are doing the reverse; building models that make translations from the target language to the source(English)"
      ]
    },
    {
      "cell_type": "markdown",
      "metadata": {
        "id": "x4fXCKCf36IK"
      },
      "source": [
        "## Note before beginning:\n",
        "### - The idea is that you should be able to make minimal changes to this in order to get SOME result for your own translation corpus. \n",
        "\n",
        "### - The tl;dr: Go to the **\"TODO\"** comments which will tell you what to update to get up and running\n",
        "\n",
        "### - If you actually want to have a clue what you're doing, read the text and peek at the links\n",
        "\n",
        "### - With 100 epochs, it should take around 7 hours to run in Google Colab\n",
        "\n",
        "### - Once you've gotten a result for your language, please attach and email your notebook that generated it to masakhanetranslation@gmail.com\n",
        "\n",
        "### - If you care enough and get a chance, doing a brief background on your language would be amazing. See examples in  [(Martinus, 2019)](https://arxiv.org/abs/1906.05685)"
      ]
    },
    {
      "cell_type": "markdown",
      "metadata": {
        "id": "l929HimrxS0a"
      },
      "source": [
        "## Retrieve your data & make a parallel corpus\n",
        "\n",
        "If you are wanting to use the JW300 data referenced on the Masakhane website or in our GitHub repo, you can use `opus-tools` to convert the data into a convenient format. `opus_read` from that package provides a convenient tool for reading the native aligned XML files and to convert them to TMX format. The tool can also be used to fetch relevant files from OPUS on the fly and to filter the data as necessary. [Read the documentation](https://pypi.org/project/opustools-pkg/) for more details.\n",
        "\n",
        "Once you have your corpus files in TMX format (an xml structure which will include the sentences in your target language and your source language in a single file), we recommend reading them into a pandas dataframe. Thankfully, Jade wrote a silly `tmx2dataframe` package which converts your tmx file to a pandas dataframe. "
      ]
    },
    {
      "cell_type": "code",
      "metadata": {
        "colab": {
          "base_uri": "https://localhost:8080/"
        },
        "id": "oGRmDELn7Az0",
        "outputId": "2aacae7f-0d35-4568-93f3-2b159db0e41b"
      },
      "source": [
        "from google.colab import drive\n",
        "drive.mount('/content/drive')"
      ],
      "execution_count": null,
      "outputs": [
        {
          "output_type": "stream",
          "name": "stdout",
          "text": [
            "Mounted at /content/drive\n"
          ]
        }
      ]
    },
    {
      "cell_type": "code",
      "metadata": {
        "id": "Cn3tgQLzUxwn"
      },
      "source": [
        "# TODO: Set your source and target languages. Keep in mind, these traditionally use language codes as found here:\n",
        "# These will also become the suffix's of all vocab and corpus files used throughout\n",
        "import os\n",
        "source_language = \"en\"\n",
        "target_language = \"nd\" \n",
        "lc = False  # If True, lowercase the data.\n",
        "seed = 42  # Random seed for shuffling.\n",
        "tag = \"baseline\" # Give a unique name to your folder - this is to ensure you don't rewrite any models you've already submitted\n",
        "\n",
        "os.environ[\"src\"] = source_language # Sets them in bash as well, since we often use bash scripts\n",
        "os.environ[\"tgt\"] = target_language\n",
        "os.environ[\"tag\"] = tag\n",
        "\n",
        "# This will save it to a folder in our gdrive instead!\n",
        "!mkdir -p \"/content/drive/My Drive/masakhane/$tgt-$src-$tag\"\n",
        "os.environ[\"gdrive_path\"] = \"/content/drive/My Drive/masakhane/%s-%s-%s\" % (target_language, source_language, tag)"
      ],
      "execution_count": null,
      "outputs": []
    },
    {
      "cell_type": "code",
      "metadata": {
        "colab": {
          "base_uri": "https://localhost:8080/"
        },
        "id": "kBSgJHEw7Nvx",
        "outputId": "5d054ca0-48a4-40a7-af4f-fe6d2fb8de8b"
      },
      "source": [
        "!echo $gdrive_path"
      ],
      "execution_count": null,
      "outputs": [
        {
          "output_type": "stream",
          "name": "stdout",
          "text": [
            "/content/drive/My Drive/masakhane/nd-en-baseline\n"
          ]
        }
      ]
    },
    {
      "cell_type": "code",
      "metadata": {
        "colab": {
          "base_uri": "https://localhost:8080/"
        },
        "id": "gA75Fs9ys8Y9",
        "outputId": "16cb60e9-006f-4d38-c25a-8f7c9607bc7f"
      },
      "source": [
        "# Install opus-tools\n",
        "! pip install opustools-pkg"
      ],
      "execution_count": null,
      "outputs": [
        {
          "output_type": "stream",
          "name": "stdout",
          "text": [
            "Collecting opustools-pkg\n",
            "  Downloading opustools_pkg-0.0.52-py3-none-any.whl (80 kB)\n",
            "\u001b[?25l\r\u001b[K     |████                            | 10 kB 21.0 MB/s eta 0:00:01\r\u001b[K     |████████                        | 20 kB 24.6 MB/s eta 0:00:01\r\u001b[K     |████████████▏                   | 30 kB 12.0 MB/s eta 0:00:01\r\u001b[K     |████████████████▏               | 40 kB 9.4 MB/s eta 0:00:01\r\u001b[K     |████████████████████▎           | 51 kB 5.4 MB/s eta 0:00:01\r\u001b[K     |████████████████████████▎       | 61 kB 5.9 MB/s eta 0:00:01\r\u001b[K     |████████████████████████████▎   | 71 kB 5.7 MB/s eta 0:00:01\r\u001b[K     |████████████████████████████████| 80 kB 4.1 MB/s \n",
            "\u001b[?25hInstalling collected packages: opustools-pkg\n",
            "Successfully installed opustools-pkg-0.0.52\n"
          ]
        }
      ]
    },
    {
      "cell_type": "code",
      "metadata": {
        "colab": {
          "base_uri": "https://localhost:8080/"
        },
        "id": "xq-tDZVks7ZD",
        "outputId": "274d936d-6f9d-448f-efc4-3aa29c8776cc"
      },
      "source": [
        "# Downloading our corpus\n",
        "! opus_read -d JW300 -s $src -t $tgt -wm moses -w jw300.$src jw300.$tgt -q\n",
        "\n",
        "# extract the corpus file\n",
        "! gunzip JW300_latest_xml_$src-$tgt.xml.gz"
      ],
      "execution_count": null,
      "outputs": [
        {
          "output_type": "stream",
          "name": "stdout",
          "text": [
            "\n",
            "Alignment file /proj/nlpl/data/OPUS/JW300/latest/xml/en-nd.xml.gz not found. The following files are available for downloading:\n",
            "\n",
            " 688 KB https://object.pouta.csc.fi/OPUS-JW300/v1c/xml/en-nd.xml.gz\n",
            " 274 MB https://object.pouta.csc.fi/OPUS-JW300/v1c/xml/en.zip\n",
            "   6 MB https://object.pouta.csc.fi/OPUS-JW300/v1c/xml/nd.zip\n",
            "\n",
            " 280 MB Total size\n",
            "./JW300_latest_xml_en-nd.xml.gz ... 100% of 688 KB\n",
            "./JW300_latest_xml_en.zip ... 100% of 274 MB\n",
            "./JW300_latest_xml_nd.zip ... 100% of 6 MB\n"
          ]
        }
      ]
    },
    {
      "cell_type": "code",
      "metadata": {
        "colab": {
          "base_uri": "https://localhost:8080/"
        },
        "id": "n48GDRnP8y2G",
        "outputId": "08c404ff-bed2-4ef6-b82d-2432f3b0bc87"
      },
      "source": [
        "# Download the global test set.\n",
        "! wget https://raw.githubusercontent.com/juliakreutzer/masakhane/master/jw300_utils/test/test.en-any.en\n",
        "  \n",
        "# And the specific test set for this language pair.\n",
        "os.environ[\"trg\"] = target_language \n",
        "os.environ[\"src\"] = source_language \n",
        "\n",
        "! wget https://raw.githubusercontent.com/juliakreutzer/masakhane/master/jw300_utils/test/test.en-$trg.en \n",
        "! mv test.en-$trg.en test.en\n",
        "! wget https://raw.githubusercontent.com/juliakreutzer/masakhane/master/jw300_utils/test/test.en-$trg.$trg \n",
        "! mv test.en-$trg.$trg test.$trg"
      ],
      "execution_count": null,
      "outputs": [
        {
          "output_type": "stream",
          "name": "stdout",
          "text": [
            "--2021-10-06 10:54:05--  https://raw.githubusercontent.com/juliakreutzer/masakhane/master/jw300_utils/test/test.en-any.en\n",
            "Resolving raw.githubusercontent.com (raw.githubusercontent.com)... 185.199.110.133, 185.199.108.133, 185.199.109.133, ...\n",
            "Connecting to raw.githubusercontent.com (raw.githubusercontent.com)|185.199.110.133|:443... connected.\n",
            "HTTP request sent, awaiting response... 200 OK\n",
            "Length: 277791 (271K) [text/plain]\n",
            "Saving to: ‘test.en-any.en’\n",
            "\n",
            "test.en-any.en      100%[===================>] 271.28K  --.-KB/s    in 0.03s   \n",
            "\n",
            "2021-10-06 10:54:05 (8.67 MB/s) - ‘test.en-any.en’ saved [277791/277791]\n",
            "\n",
            "--2021-10-06 10:54:05--  https://raw.githubusercontent.com/juliakreutzer/masakhane/master/jw300_utils/test/test.en-nd.en\n",
            "Resolving raw.githubusercontent.com (raw.githubusercontent.com)... 185.199.108.133, 185.199.109.133, 185.199.110.133, ...\n",
            "Connecting to raw.githubusercontent.com (raw.githubusercontent.com)|185.199.108.133|:443... connected.\n",
            "HTTP request sent, awaiting response... 200 OK\n",
            "Length: 199900 (195K) [text/plain]\n",
            "Saving to: ‘test.en-nd.en’\n",
            "\n",
            "test.en-nd.en       100%[===================>] 195.21K  --.-KB/s    in 0.02s   \n",
            "\n",
            "2021-10-06 10:54:06 (8.02 MB/s) - ‘test.en-nd.en’ saved [199900/199900]\n",
            "\n",
            "--2021-10-06 10:54:06--  https://raw.githubusercontent.com/juliakreutzer/masakhane/master/jw300_utils/test/test.en-nd.nd\n",
            "Resolving raw.githubusercontent.com (raw.githubusercontent.com)... 185.199.108.133, 185.199.109.133, 185.199.110.133, ...\n",
            "Connecting to raw.githubusercontent.com (raw.githubusercontent.com)|185.199.108.133|:443... connected.\n",
            "HTTP request sent, awaiting response... 200 OK\n",
            "Length: 211519 (207K) [text/plain]\n",
            "Saving to: ‘test.en-nd.nd’\n",
            "\n",
            "test.en-nd.nd       100%[===================>] 206.56K  --.-KB/s    in 0.02s   \n",
            "\n",
            "2021-10-06 10:54:06 (8.46 MB/s) - ‘test.en-nd.nd’ saved [211519/211519]\n",
            "\n"
          ]
        }
      ]
    },
    {
      "cell_type": "code",
      "metadata": {
        "colab": {
          "base_uri": "https://localhost:8080/"
        },
        "id": "NqDG-CI28y2L",
        "outputId": "9f8319ae-f359-4ae5-8646-757eee8eb757"
      },
      "source": [
        "# Read the test data to filter from train and dev splits.\n",
        "# Store english portion in set for quick filtering checks.\n",
        "en_test_sents = set()\n",
        "filter_test_sents = \"test.en-any.en\"\n",
        "j = 0\n",
        "with open(filter_test_sents) as f:\n",
        "  for line in f:\n",
        "    en_test_sents.add(line.strip())\n",
        "    j += 1\n",
        "print('Loaded {} global test sentences to filter from the training/dev data.'.format(j))"
      ],
      "execution_count": null,
      "outputs": [
        {
          "output_type": "stream",
          "name": "stdout",
          "text": [
            "Loaded 3571 global test sentences to filter from the training/dev data.\n"
          ]
        }
      ]
    },
    {
      "cell_type": "code",
      "metadata": {
        "colab": {
          "base_uri": "https://localhost:8080/",
          "height": 162
        },
        "id": "3CNdwLBCfSIl",
        "outputId": "b04764ee-4ea0-4251-f5d0-61e5295874a7"
      },
      "source": [
        "import pandas as pd\n",
        "\n",
        "# TMX file to dataframe\n",
        "source_file = 'jw300.' + source_language\n",
        "target_file = 'jw300.' + target_language\n",
        "\n",
        "source = []\n",
        "target = []\n",
        "skip_lines = []  # Collect the line numbers of the source portion to skip the same lines for the target portion.\n",
        "with open(source_file) as f:\n",
        "    for i, line in enumerate(f):\n",
        "        # Skip sentences that are contained in the test set.\n",
        "        if line.strip() not in en_test_sents:\n",
        "            source.append(line.strip())\n",
        "        else:\n",
        "            skip_lines.append(i)             \n",
        "with open(target_file) as f:\n",
        "    for j, line in enumerate(f):\n",
        "        # Only add to corpus if corresponding source was not skipped.\n",
        "        if j not in skip_lines:\n",
        "            target.append(line.strip())\n",
        "    \n",
        "print('Loaded data and skipped {}/{} lines since contained in test set.'.format(len(skip_lines), i))\n",
        "    \n",
        "df = pd.DataFrame(zip(source, target), columns=['source_sentence', 'target_sentence'])\n",
        "# if you get TypeError: data argument can't be an iterator is because of your zip version run this below\n",
        "#df = pd.DataFrame(list(zip(source, target)), columns=['source_sentence', 'target_sentence'])\n",
        "df.head(3)"
      ],
      "execution_count": null,
      "outputs": [
        {
          "output_type": "stream",
          "name": "stdout",
          "text": [
            "Loaded data and skipped 2541/65649 lines since contained in test set.\n"
          ]
        },
        {
          "output_type": "execute_result",
          "data": {
            "text/html": [
              "<div>\n",
              "<style scoped>\n",
              "    .dataframe tbody tr th:only-of-type {\n",
              "        vertical-align: middle;\n",
              "    }\n",
              "\n",
              "    .dataframe tbody tr th {\n",
              "        vertical-align: top;\n",
              "    }\n",
              "\n",
              "    .dataframe thead th {\n",
              "        text-align: right;\n",
              "    }\n",
              "</style>\n",
              "<table border=\"1\" class=\"dataframe\">\n",
              "  <thead>\n",
              "    <tr style=\"text-align: right;\">\n",
              "      <th></th>\n",
              "      <th>source_sentence</th>\n",
              "      <th>target_sentence</th>\n",
              "    </tr>\n",
              "  </thead>\n",
              "  <tbody>\n",
              "    <tr>\n",
              "      <th>0</th>\n",
              "      <td>How to Harness Your Habits</td>\n",
              "      <td>Ongakwenza Ukuze Ube Lemikhuba Emihle</td>\n",
              "    </tr>\n",
              "    <tr>\n",
              "      <th>1</th>\n",
              "      <td>No. 4 2016</td>\n",
              "      <td>No . 4 2016</td>\n",
              "    </tr>\n",
              "    <tr>\n",
              "      <th>2</th>\n",
              "      <td>This publication is not for sale .</td>\n",
              "      <td>Imagazini le kayithengiswa .</td>\n",
              "    </tr>\n",
              "  </tbody>\n",
              "</table>\n",
              "</div>"
            ],
            "text/plain": [
              "                      source_sentence                        target_sentence\n",
              "0          How to Harness Your Habits  Ongakwenza Ukuze Ube Lemikhuba Emihle\n",
              "1                          No. 4 2016                            No . 4 2016\n",
              "2  This publication is not for sale .           Imagazini le kayithengiswa ."
            ]
          },
          "metadata": {},
          "execution_count": 8
        }
      ]
    },
    {
      "cell_type": "markdown",
      "metadata": {
        "id": "YkuK3B4p2AkN"
      },
      "source": [
        "## Pre-processing and export\n",
        "\n",
        "It is generally a good idea to remove duplicate translations and conflicting translations from the corpus. In practice, these public corpora include some number of these that need to be cleaned.\n",
        "\n",
        "In addition we will split our data into dev/test/train and export to the filesystem."
      ]
    },
    {
      "cell_type": "code",
      "metadata": {
        "colab": {
          "base_uri": "https://localhost:8080/"
        },
        "id": "M_2ouEOH1_1q",
        "outputId": "ffaac733-fb96-49a0-9a86-2ec8d9e1a148"
      },
      "source": [
        "# drop duplicate translations\n",
        "df_pp = df.drop_duplicates()\n",
        "\n",
        "# drop conflicting translations\n",
        "# (this is optional and something that you might want to comment out \n",
        "# depending on the size of your corpus)\n",
        "df_pp.drop_duplicates(subset='source_sentence', inplace=True)\n",
        "df_pp.drop_duplicates(subset='target_sentence', inplace=True)\n",
        "\n",
        "# Shuffle the data to remove bias in dev set selection.\n",
        "df_pp = df_pp.sample(frac=1, random_state=seed).reset_index(drop=True)"
      ],
      "execution_count": null,
      "outputs": [
        {
          "output_type": "stream",
          "name": "stderr",
          "text": [
            "/usr/local/lib/python3.7/dist-packages/ipykernel_launcher.py:7: SettingWithCopyWarning: \n",
            "A value is trying to be set on a copy of a slice from a DataFrame\n",
            "\n",
            "See the caveats in the documentation: https://pandas.pydata.org/pandas-docs/stable/user_guide/indexing.html#returning-a-view-versus-a-copy\n",
            "  import sys\n",
            "/usr/local/lib/python3.7/dist-packages/ipykernel_launcher.py:8: SettingWithCopyWarning: \n",
            "A value is trying to be set on a copy of a slice from a DataFrame\n",
            "\n",
            "See the caveats in the documentation: https://pandas.pydata.org/pandas-docs/stable/user_guide/indexing.html#returning-a-view-versus-a-copy\n",
            "  \n"
          ]
        }
      ]
    },
    {
      "cell_type": "code",
      "metadata": {
        "colab": {
          "base_uri": "https://localhost:8080/"
        },
        "id": "Z_1BwAApEtMk",
        "outputId": "7ab2cc34-35e7-433b-efd3-02fafa9b1c40"
      },
      "source": [
        "# Install fuzzy wuzzy to remove \"almost duplicate\" sentences in the\n",
        "# test and training sets.\n",
        "! pip install fuzzywuzzy\n",
        "! pip install python-Levenshtein\n",
        "import time\n",
        "from fuzzywuzzy import process\n",
        "import numpy as np\n",
        "from os import cpu_count\n",
        "from functools import partial\n",
        "from multiprocessing import Pool\n",
        "\n",
        "\n",
        "# reset the index of the training set after previous filtering\n",
        "df_pp.reset_index(drop=False, inplace=True)\n",
        "\n",
        "# Remove samples from the training data set if they \"almost overlap\" with the\n",
        "# samples in the test set.\n",
        "\n",
        "# Filtering function. Adjust pad to narrow down the candidate matches to\n",
        "# within a certain length of characters of the given sample.\n",
        "def fuzzfilter(sample, candidates, pad):\n",
        "  candidates = [x for x in candidates if len(x) <= len(sample)+pad and len(x) >= len(sample)-pad] \n",
        "  if len(candidates) > 0:\n",
        "    return process.extractOne(sample, candidates)[1]\n",
        "  else:\n",
        "    return np.nan"
      ],
      "execution_count": null,
      "outputs": [
        {
          "output_type": "stream",
          "name": "stdout",
          "text": [
            "Collecting fuzzywuzzy\n",
            "  Downloading fuzzywuzzy-0.18.0-py2.py3-none-any.whl (18 kB)\n",
            "Installing collected packages: fuzzywuzzy\n",
            "Successfully installed fuzzywuzzy-0.18.0\n",
            "Collecting python-Levenshtein\n",
            "  Downloading python-Levenshtein-0.12.2.tar.gz (50 kB)\n",
            "\u001b[K     |████████████████████████████████| 50 kB 3.0 MB/s \n",
            "\u001b[?25hRequirement already satisfied: setuptools in /usr/local/lib/python3.7/dist-packages (from python-Levenshtein) (57.4.0)\n",
            "Building wheels for collected packages: python-Levenshtein\n",
            "  Building wheel for python-Levenshtein (setup.py) ... \u001b[?25l\u001b[?25hdone\n",
            "  Created wheel for python-Levenshtein: filename=python_Levenshtein-0.12.2-cp37-cp37m-linux_x86_64.whl size=149861 sha256=fc600da8273091545bcaa904e4e7e7b0d9a3c5d2d2d1ad3ad72a375d86d8789c\n",
            "  Stored in directory: /root/.cache/pip/wheels/05/5f/ca/7c4367734892581bb5ff896f15027a932c551080b2abd3e00d\n",
            "Successfully built python-Levenshtein\n",
            "Installing collected packages: python-Levenshtein\n",
            "Successfully installed python-Levenshtein-0.12.2\n"
          ]
        }
      ]
    },
    {
      "cell_type": "code",
      "metadata": {
        "id": "92EsgTaY3B4H"
      },
      "source": [
        "# start_time = time.time()\n",
        "# ### iterating over pandas dataframe rows is not recomended, let use multi processing to apply the function\n",
        "\n",
        "# with Pool(cpu_count()-1) as pool:\n",
        "#     scores = pool.map(partial(fuzzfilter, candidates=list(en_test_sents), pad=5), df_pp['source_sentence'])\n",
        "# hours, rem = divmod(time.time() - start_time, 3600)\n",
        "# minutes, seconds = divmod(rem, 60)\n",
        "# print(\"done in {}h:{}min:{}seconds\".format(hours, minutes, seconds))\n",
        "\n",
        "# # Filter out \"almost overlapping samples\"\n",
        "# df_pp = df_pp.assign(scores=scores)\n",
        "# df_pp = df_pp[df_pp['scores'] < 95]"
      ],
      "execution_count": null,
      "outputs": []
    },
    {
      "cell_type": "code",
      "metadata": {
        "colab": {
          "base_uri": "https://localhost:8080/"
        },
        "id": "hxxBOCA-xXhy",
        "outputId": "329e6764-a2d0-479c-dcf3-d2d9659f5272"
      },
      "source": [
        "# This section does the split between train/dev for the parallel corpora then saves them as separate files\n",
        "# We use 1000 dev test and the given test set.\n",
        "import csv\n",
        "\n",
        "# Do the split between dev/train and create parallel corpora\n",
        "num_dev_patterns = 1000\n",
        "\n",
        "# Optional: lower case the corpora - this will make it easier to generalize, but without proper casing.\n",
        "if lc:  # Julia: making lowercasing optional\n",
        "    df_pp[\"source_sentence\"] = df_pp[\"source_sentence\"].str.lower()\n",
        "    df_pp[\"target_sentence\"] = df_pp[\"target_sentence\"].str.lower()\n",
        "\n",
        "# Julia: test sets are already generated\n",
        "dev = df_pp.tail(num_dev_patterns) # Herman: Error in original\n",
        "stripped = df_pp.drop(df_pp.tail(num_dev_patterns).index)\n",
        "\n",
        "with open(\"train.\"+source_language, \"w\") as src_file, open(\"train.\"+target_language, \"w\") as trg_file:\n",
        "  for index, row in stripped.iterrows():\n",
        "    src_file.write(row[\"source_sentence\"]+\"\\n\")\n",
        "    trg_file.write(row[\"target_sentence\"]+\"\\n\")\n",
        "    \n",
        "with open(\"dev.\"+source_language, \"w\") as src_file, open(\"dev.\"+target_language, \"w\") as trg_file:\n",
        "  for index, row in dev.iterrows():\n",
        "    src_file.write(row[\"source_sentence\"]+\"\\n\")\n",
        "    trg_file.write(row[\"target_sentence\"]+\"\\n\")\n",
        "\n",
        "#stripped[[\"source_sentence\"]].to_csv(\"train.\"+source_language, header=False, index=False)  # Herman: Added `header=False` everywhere\n",
        "#stripped[[\"target_sentence\"]].to_csv(\"train.\"+target_language, header=False, index=False)  # Julia: Problematic handling of quotation marks.\n",
        "\n",
        "#dev[[\"source_sentence\"]].to_csv(\"dev.\"+source_language, header=False, index=False)\n",
        "#dev[[\"target_sentence\"]].to_csv(\"dev.\"+target_language, header=False, index=False)\n",
        "\n",
        "# Doublecheck the format below. There should be no extra quotation marks or weird characters.\n",
        "! head train.*\n",
        "! head dev.*"
      ],
      "execution_count": null,
      "outputs": [
        {
          "output_type": "stream",
          "name": "stdout",
          "text": [
            "==> train.en <==\n",
            "Do you think that he came to regret the decision ?\n",
            "His merits notwithstanding , Rehoboam failed to gain God ’ s favor .\n",
            "Consider the following .\n",
            "Some studies suggest that when selecting a new host , the clown fish has to go through a process of adaptation .\n",
            "What testimony is there that the brothers were very zealous during World War I ?\n",
            "He cured not only leprosy but also every sort of disease and every sort of infirmity among the people .\n",
            "Illustrate how we might prepare now for life in the new world .\n",
            "This prophecy will be fulfilled through Jesus as God ’ s Messianic King .\n",
            "God wants us to resist our bad tendencies .\n",
            "( Gal . 6 : 7 ) Were Jehovah to choose which trials would come upon us , would he not , in effect , be diminishing the gift of free will ?\n",
            "\n",
            "==> train.nd <==\n",
            "Ucabanga ukuthi wazisola yini ngesinqumo sakhe ?\n",
            "Lanxa kukhona okuhle uRehobhowami akwenzayo , uJehova kazange amamukele .\n",
            "Nanku okunye kwakhona .\n",
            "Okunye ukuhlolisisa kuveza ukuthi nxa inhlanzi le isikhethe enye i - anemone efuna ukuhlala phezu kwayo kumele iqale ijayelane layo .\n",
            "Yibuphi ubufakazi obutshengisa ukuthi abazalwane babetshiseka ngesikhathi seMpi Yomhlaba Yokuqala ?\n",
            "Kazange elaphe ubulephero kuphela kodwa wasilisa zonke izifo lemikhuhlane eyayisebantwini .\n",
            "Nika isibonelo esitshengisa ukuthi singakulungiselela njani khathesi ukuphila emhlabeni omutsha .\n",
            "Safunda ukuthi isiphrofetho lesi sizagcwaliswa nguJesu iNkosi enguMesiya .\n",
            "UNkulunkulu kafuni ukuthi senze izinto ezimbi .\n",
            "( Gal . 6 : 7 ) Aluba uJehova ubekhetha izilingo okumele zisehlele ubezabe esesithathela inkululeko yokuzikhethela asinike yona .\n",
            "==> dev.en <==\n",
            "( See paragraphs 17 , 18 )\n",
            "“ No man can come to me unless the Father , who sent me , draws him , ” said Jesus .\n",
            "The Bible states : “ A word spoken at the right time — how good it is ! ”\n",
            "For instance , consider Jonah ’ s contrite prayer from the belly of a huge fish .\n",
            "19 Belief in Jesus ’ resurrection motivates us to do God ’ s will .\n",
            "Meditate on how Jehovah has worked out his will in the past and how he will do so in the future .\n",
            "To analyze how well we are doing in showing love for others , we might ask ourselves : ‘ Am I reaching out to help others in my family , in my congregation , and in my ministry ?\n",
            "Next , to show why he cared , Don had Peter read Romans 10 : 13 , 14 , which explains that “ everyone who calls on the name of Jehovah will be saved . ”\n",
            "REPAIRING DAMAGE TO SPIRITUAL AND FAMILY LIFE\n",
            "To assist individuals desiring to benefit the worldwide work of Jehovah ’ s Witnesses through some form of charitable giving , a brochure entitled Charitable Planning to Benefit Kingdom Service Worldwide has been prepared .\n",
            "\n",
            "==> dev.nd <==\n",
            "( Josh . 3 : 12 - 17 ) Cabanga ukuthi kwakumangalisa kangakanani ukubona umfula lowo owawuzondile umiswa !\n",
            "UJesu wathi : “ Kakho ongeza kimi ngaphandle kokuthi uBaba ongithumileyo amsondeze . ”\n",
            "IBhayibhili lithi : ‘ Ilizwi ngesikhathi salo , lihle kangakanani . ’\n",
            "Cabanga ngomthandazo wokuzisola uJona awutsho esesiswini senhlanzi enkulu .\n",
            "19 Ukukholwa ukuthi uJesu wavuswa kusikhuthaza ukuthi senze intando kaNkulunkulu .\n",
            "Cabangisisa ngokuthi uJehova wayithuthukisa njani injongo yakhe kudala lokuthi uzayithuthukisa njani esikhathini esizayo .\n",
            "Wena uyabathanda yini abanye ? Zibuze imibuzo le : ‘ Ngiyabanceda yini abanye emulini yami , ebandleni lasekutshumayeleni ?\n",
            "Okwesibili uDon wamcela ukuthi abale uRoma 10 : 13 , 14 ukuze abone ukuthi kuyini okwenza azihluphe ngaye . Ivesi le ithi : “ Bonke abakhuleka ebizweni leNkosi bazasindiswa . ”\n",
            "UKULUNGISISA UBUDLELWANO BEMULI KANYE LOKUKHONZA KWAYO OKWASEKUPHAMBANISEKILE\n",
            "Umuntu ofisa ukusebenzisa izindlela lezi kumele ahlale phansi ahlele ukuthi ufuna ukunikela njani . Kwenziwe ibhukwana elithi Charitable Planning to Benefit Kingdom Service Worldwide ukuze lisize labo abafuna ukunikela ngezindlela lezi .\n"
          ]
        }
      ]
    },
    {
      "cell_type": "markdown",
      "metadata": {
        "id": "epeCydmCyS8X"
      },
      "source": [
        "\n",
        "\n",
        "---\n",
        "\n",
        "\n",
        "## Installation of JoeyNMT\n",
        "\n",
        "JoeyNMT is a simple, minimalist NMT package which is useful for learning and teaching. Check out the documentation for JoeyNMT [here](https://joeynmt.readthedocs.io)  "
      ]
    },
    {
      "cell_type": "code",
      "metadata": {
        "colab": {
          "base_uri": "https://localhost:8080/"
        },
        "id": "iBRMm4kMxZ8L",
        "outputId": "0e0eda86-c460-4c31-97d5-86e4bed3d6b2"
      },
      "source": [
        "# Install JoeyNMT\n",
        "! git clone https://github.com/joeynmt/joeynmt.git\n",
        "! cd joeynmt; pip3 install .\n",
        "# Install Pytorch with GPU support v1.7.1.\n",
        "! pip install torch==1.9.0+cu101 -f https://download.pytorch.org/whl/torch_stable.html"
      ],
      "execution_count": null,
      "outputs": [
        {
          "output_type": "stream",
          "name": "stdout",
          "text": [
            "Cloning into 'joeynmt'...\n",
            "remote: Enumerating objects: 3224, done.\u001b[K\n",
            "remote: Counting objects: 100% (273/273), done.\u001b[K\n",
            "remote: Compressing objects: 100% (139/139), done.\u001b[K\n",
            "remote: Total 3224 (delta 157), reused 206 (delta 134), pack-reused 2951\u001b[K\n",
            "Receiving objects: 100% (3224/3224), 8.17 MiB | 15.81 MiB/s, done.\n",
            "Resolving deltas: 100% (2185/2185), done.\n",
            "Processing /content/joeynmt\n",
            "\u001b[33m  DEPRECATION: A future pip version will change local packages to be built in-place without first copying to a temporary directory. We recommend you use --use-feature=in-tree-build to test your packages with this new behavior before it becomes the default.\n",
            "   pip 21.3 will remove support for this functionality. You can find discussion regarding this at https://github.com/pypa/pip/issues/7555.\u001b[0m\n",
            "Requirement already satisfied: future in /usr/local/lib/python3.7/dist-packages (from joeynmt==1.3) (0.16.0)\n",
            "Requirement already satisfied: pillow in /usr/local/lib/python3.7/dist-packages (from joeynmt==1.3) (7.1.2)\n",
            "Requirement already satisfied: numpy>=1.19.5 in /usr/local/lib/python3.7/dist-packages (from joeynmt==1.3) (1.19.5)\n",
            "Requirement already satisfied: setuptools>=41.0.0 in /usr/local/lib/python3.7/dist-packages (from joeynmt==1.3) (57.4.0)\n",
            "Requirement already satisfied: torch>=1.9.0 in /usr/local/lib/python3.7/dist-packages (from joeynmt==1.3) (1.9.0+cu102)\n",
            "Requirement already satisfied: tensorboard>=1.15 in /usr/local/lib/python3.7/dist-packages (from joeynmt==1.3) (2.6.0)\n",
            "Requirement already satisfied: torchtext>=0.10.0 in /usr/local/lib/python3.7/dist-packages (from joeynmt==1.3) (0.10.0)\n",
            "Collecting sacrebleu>=2.0.0\n",
            "  Downloading sacrebleu-2.0.0-py3-none-any.whl (90 kB)\n",
            "\u001b[K     |████████████████████████████████| 90 kB 4.0 MB/s \n",
            "\u001b[?25hCollecting subword-nmt\n",
            "  Downloading subword_nmt-0.3.7-py2.py3-none-any.whl (26 kB)\n",
            "Requirement already satisfied: matplotlib in /usr/local/lib/python3.7/dist-packages (from joeynmt==1.3) (3.2.2)\n",
            "Requirement already satisfied: seaborn in /usr/local/lib/python3.7/dist-packages (from joeynmt==1.3) (0.11.2)\n",
            "Collecting pyyaml>=5.1\n",
            "  Downloading PyYAML-5.4.1-cp37-cp37m-manylinux1_x86_64.whl (636 kB)\n",
            "\u001b[K     |████████████████████████████████| 636 kB 30.9 MB/s \n",
            "\u001b[?25hCollecting pylint>=2.9.6\n",
            "  Downloading pylint-2.11.1-py3-none-any.whl (392 kB)\n",
            "\u001b[K     |████████████████████████████████| 392 kB 46.8 MB/s \n",
            "\u001b[?25hCollecting six==1.12\n",
            "  Downloading six-1.12.0-py2.py3-none-any.whl (10 kB)\n",
            "Collecting wrapt==1.11.1\n",
            "  Downloading wrapt-1.11.1.tar.gz (27 kB)\n",
            "Requirement already satisfied: toml>=0.7.1 in /usr/local/lib/python3.7/dist-packages (from pylint>=2.9.6->joeynmt==1.3) (0.10.2)\n",
            "Collecting platformdirs>=2.2.0\n",
            "  Downloading platformdirs-2.4.0-py3-none-any.whl (14 kB)\n",
            "Collecting isort<6,>=4.2.5\n",
            "  Downloading isort-5.9.3-py3-none-any.whl (106 kB)\n",
            "\u001b[K     |████████████████████████████████| 106 kB 48.1 MB/s \n",
            "\u001b[?25hCollecting mccabe<0.7,>=0.6\n",
            "  Downloading mccabe-0.6.1-py2.py3-none-any.whl (8.6 kB)\n",
            "Collecting typing-extensions>=3.10.0\n",
            "  Downloading typing_extensions-3.10.0.2-py3-none-any.whl (26 kB)\n",
            "Collecting astroid<2.9,>=2.8.0\n",
            "  Downloading astroid-2.8.0-py3-none-any.whl (242 kB)\n",
            "\u001b[K     |████████████████████████████████| 242 kB 31.6 MB/s \n",
            "\u001b[?25hCollecting typed-ast<1.5,>=1.4.0\n",
            "  Downloading typed_ast-1.4.3-cp37-cp37m-manylinux1_x86_64.whl (743 kB)\n",
            "\u001b[K     |████████████████████████████████| 743 kB 31.9 MB/s \n",
            "\u001b[?25hCollecting lazy-object-proxy>=1.4.0\n",
            "  Downloading lazy_object_proxy-1.6.0-cp37-cp37m-manylinux1_x86_64.whl (55 kB)\n",
            "\u001b[K     |████████████████████████████████| 55 kB 4.0 MB/s \n",
            "\u001b[?25hRequirement already satisfied: tabulate>=0.8.9 in /usr/local/lib/python3.7/dist-packages (from sacrebleu>=2.0.0->joeynmt==1.3) (0.8.9)\n",
            "Collecting portalocker\n",
            "  Downloading portalocker-2.3.2-py2.py3-none-any.whl (15 kB)\n",
            "Collecting colorama\n",
            "  Downloading colorama-0.4.4-py2.py3-none-any.whl (16 kB)\n",
            "Requirement already satisfied: regex in /usr/local/lib/python3.7/dist-packages (from sacrebleu>=2.0.0->joeynmt==1.3) (2019.12.20)\n",
            "Requirement already satisfied: grpcio>=1.24.3 in /usr/local/lib/python3.7/dist-packages (from tensorboard>=1.15->joeynmt==1.3) (1.41.0)\n",
            "Requirement already satisfied: google-auth<2,>=1.6.3 in /usr/local/lib/python3.7/dist-packages (from tensorboard>=1.15->joeynmt==1.3) (1.35.0)\n",
            "Requirement already satisfied: absl-py>=0.4 in /usr/local/lib/python3.7/dist-packages (from tensorboard>=1.15->joeynmt==1.3) (0.12.0)\n",
            "Requirement already satisfied: protobuf>=3.6.0 in /usr/local/lib/python3.7/dist-packages (from tensorboard>=1.15->joeynmt==1.3) (3.17.3)\n",
            "Requirement already satisfied: google-auth-oauthlib<0.5,>=0.4.1 in /usr/local/lib/python3.7/dist-packages (from tensorboard>=1.15->joeynmt==1.3) (0.4.6)\n",
            "Requirement already satisfied: wheel>=0.26 in /usr/local/lib/python3.7/dist-packages (from tensorboard>=1.15->joeynmt==1.3) (0.37.0)\n",
            "Requirement already satisfied: markdown>=2.6.8 in /usr/local/lib/python3.7/dist-packages (from tensorboard>=1.15->joeynmt==1.3) (3.3.4)\n",
            "Requirement already satisfied: werkzeug>=0.11.15 in /usr/local/lib/python3.7/dist-packages (from tensorboard>=1.15->joeynmt==1.3) (1.0.1)\n",
            "Requirement already satisfied: tensorboard-data-server<0.7.0,>=0.6.0 in /usr/local/lib/python3.7/dist-packages (from tensorboard>=1.15->joeynmt==1.3) (0.6.1)\n",
            "Requirement already satisfied: requests<3,>=2.21.0 in /usr/local/lib/python3.7/dist-packages (from tensorboard>=1.15->joeynmt==1.3) (2.23.0)\n",
            "Requirement already satisfied: tensorboard-plugin-wit>=1.6.0 in /usr/local/lib/python3.7/dist-packages (from tensorboard>=1.15->joeynmt==1.3) (1.8.0)\n",
            "Requirement already satisfied: cachetools<5.0,>=2.0.0 in /usr/local/lib/python3.7/dist-packages (from google-auth<2,>=1.6.3->tensorboard>=1.15->joeynmt==1.3) (4.2.4)\n",
            "Requirement already satisfied: pyasn1-modules>=0.2.1 in /usr/local/lib/python3.7/dist-packages (from google-auth<2,>=1.6.3->tensorboard>=1.15->joeynmt==1.3) (0.2.8)\n",
            "Requirement already satisfied: rsa<5,>=3.1.4 in /usr/local/lib/python3.7/dist-packages (from google-auth<2,>=1.6.3->tensorboard>=1.15->joeynmt==1.3) (4.7.2)\n",
            "Requirement already satisfied: requests-oauthlib>=0.7.0 in /usr/local/lib/python3.7/dist-packages (from google-auth-oauthlib<0.5,>=0.4.1->tensorboard>=1.15->joeynmt==1.3) (1.3.0)\n",
            "Requirement already satisfied: importlib-metadata in /usr/local/lib/python3.7/dist-packages (from markdown>=2.6.8->tensorboard>=1.15->joeynmt==1.3) (4.8.1)\n",
            "Requirement already satisfied: pyasn1<0.5.0,>=0.4.6 in /usr/local/lib/python3.7/dist-packages (from pyasn1-modules>=0.2.1->google-auth<2,>=1.6.3->tensorboard>=1.15->joeynmt==1.3) (0.4.8)\n",
            "Requirement already satisfied: chardet<4,>=3.0.2 in /usr/local/lib/python3.7/dist-packages (from requests<3,>=2.21.0->tensorboard>=1.15->joeynmt==1.3) (3.0.4)\n",
            "Requirement already satisfied: certifi>=2017.4.17 in /usr/local/lib/python3.7/dist-packages (from requests<3,>=2.21.0->tensorboard>=1.15->joeynmt==1.3) (2021.5.30)\n",
            "Requirement already satisfied: urllib3!=1.25.0,!=1.25.1,<1.26,>=1.21.1 in /usr/local/lib/python3.7/dist-packages (from requests<3,>=2.21.0->tensorboard>=1.15->joeynmt==1.3) (1.24.3)\n",
            "Requirement already satisfied: idna<3,>=2.5 in /usr/local/lib/python3.7/dist-packages (from requests<3,>=2.21.0->tensorboard>=1.15->joeynmt==1.3) (2.10)\n",
            "Requirement already satisfied: oauthlib>=3.0.0 in /usr/local/lib/python3.7/dist-packages (from requests-oauthlib>=0.7.0->google-auth-oauthlib<0.5,>=0.4.1->tensorboard>=1.15->joeynmt==1.3) (3.1.1)\n",
            "Requirement already satisfied: tqdm in /usr/local/lib/python3.7/dist-packages (from torchtext>=0.10.0->joeynmt==1.3) (4.62.3)\n",
            "Requirement already satisfied: zipp>=0.5 in /usr/local/lib/python3.7/dist-packages (from importlib-metadata->markdown>=2.6.8->tensorboard>=1.15->joeynmt==1.3) (3.6.0)\n",
            "Requirement already satisfied: python-dateutil>=2.1 in /usr/local/lib/python3.7/dist-packages (from matplotlib->joeynmt==1.3) (2.8.2)\n",
            "Requirement already satisfied: kiwisolver>=1.0.1 in /usr/local/lib/python3.7/dist-packages (from matplotlib->joeynmt==1.3) (1.3.2)\n",
            "Requirement already satisfied: cycler>=0.10 in /usr/local/lib/python3.7/dist-packages (from matplotlib->joeynmt==1.3) (0.10.0)\n",
            "Requirement already satisfied: pyparsing!=2.0.4,!=2.1.2,!=2.1.6,>=2.0.1 in /usr/local/lib/python3.7/dist-packages (from matplotlib->joeynmt==1.3) (2.4.7)\n",
            "Requirement already satisfied: pandas>=0.23 in /usr/local/lib/python3.7/dist-packages (from seaborn->joeynmt==1.3) (1.1.5)\n",
            "Requirement already satisfied: scipy>=1.0 in /usr/local/lib/python3.7/dist-packages (from seaborn->joeynmt==1.3) (1.4.1)\n",
            "Requirement already satisfied: pytz>=2017.2 in /usr/local/lib/python3.7/dist-packages (from pandas>=0.23->seaborn->joeynmt==1.3) (2018.9)\n",
            "Building wheels for collected packages: joeynmt, wrapt\n",
            "  Building wheel for joeynmt (setup.py) ... \u001b[?25l\u001b[?25hdone\n",
            "  Created wheel for joeynmt: filename=joeynmt-1.3-py3-none-any.whl size=86029 sha256=5235355eb41eb26f2b1b67d2bc549587499713fa9f0dea7ef9611e39a408c400\n",
            "  Stored in directory: /tmp/pip-ephem-wheel-cache-sp9ez9nz/wheels/0a/f4/bf/6c9d3b8efbfece6cd209f865be37382b02e7c3584df2e28ca4\n",
            "  Building wheel for wrapt (setup.py) ... \u001b[?25l\u001b[?25hdone\n",
            "  Created wheel for wrapt: filename=wrapt-1.11.1-cp37-cp37m-linux_x86_64.whl size=68442 sha256=6c3829ef125b3c3c7c4853e84e457d605b2cf0c5fb2d838aa14d26ae497a9dd8\n",
            "  Stored in directory: /root/.cache/pip/wheels/4e/58/9d/da8bad4545585ca52311498ff677647c95c7b690b3040171f8\n",
            "Successfully built joeynmt wrapt\n",
            "Installing collected packages: typing-extensions, six, wrapt, typed-ast, lazy-object-proxy, portalocker, platformdirs, mccabe, isort, colorama, astroid, subword-nmt, sacrebleu, pyyaml, pylint, joeynmt\n",
            "  Attempting uninstall: typing-extensions\n",
            "    Found existing installation: typing-extensions 3.7.4.3\n",
            "    Uninstalling typing-extensions-3.7.4.3:\n",
            "      Successfully uninstalled typing-extensions-3.7.4.3\n",
            "  Attempting uninstall: six\n",
            "    Found existing installation: six 1.15.0\n",
            "    Uninstalling six-1.15.0:\n",
            "      Successfully uninstalled six-1.15.0\n",
            "  Attempting uninstall: wrapt\n",
            "    Found existing installation: wrapt 1.12.1\n",
            "    Uninstalling wrapt-1.12.1:\n",
            "      Successfully uninstalled wrapt-1.12.1\n",
            "  Attempting uninstall: pyyaml\n",
            "    Found existing installation: PyYAML 3.13\n",
            "    Uninstalling PyYAML-3.13:\n",
            "      Successfully uninstalled PyYAML-3.13\n",
            "\u001b[31mERROR: pip's dependency resolver does not currently take into account all the packages that are installed. This behaviour is the source of the following dependency conflicts.\n",
            "tensorflow 2.6.0 requires six~=1.15.0, but you have six 1.12.0 which is incompatible.\n",
            "tensorflow 2.6.0 requires typing-extensions~=3.7.4, but you have typing-extensions 3.10.0.2 which is incompatible.\n",
            "tensorflow 2.6.0 requires wrapt~=1.12.1, but you have wrapt 1.11.1 which is incompatible.\n",
            "google-colab 1.0.0 requires six~=1.15.0, but you have six 1.12.0 which is incompatible.\n",
            "google-api-python-client 1.12.8 requires six<2dev,>=1.13.0, but you have six 1.12.0 which is incompatible.\n",
            "google-api-core 1.26.3 requires six>=1.13.0, but you have six 1.12.0 which is incompatible.\n",
            "datascience 0.10.6 requires folium==0.2.1, but you have folium 0.8.3 which is incompatible.\n",
            "albumentations 0.1.12 requires imgaug<0.2.7,>=0.2.5, but you have imgaug 0.2.9 which is incompatible.\u001b[0m\n",
            "Successfully installed astroid-2.8.0 colorama-0.4.4 isort-5.9.3 joeynmt-1.3 lazy-object-proxy-1.6.0 mccabe-0.6.1 platformdirs-2.4.0 portalocker-2.3.2 pylint-2.11.1 pyyaml-5.4.1 sacrebleu-2.0.0 six-1.12.0 subword-nmt-0.3.7 typed-ast-1.4.3 typing-extensions-3.10.0.2 wrapt-1.11.1\n",
            "Looking in links: https://download.pytorch.org/whl/torch_stable.html\n",
            "\u001b[31mERROR: Could not find a version that satisfies the requirement torch==1.9.0+cu101 (from versions: 0.1.2, 0.1.2.post1, 0.1.2.post2, 0.4.1, 0.4.1.post2, 1.0.0, 1.0.1, 1.0.1.post2, 1.1.0, 1.2.0, 1.2.0+cpu, 1.2.0+cu92, 1.3.0, 1.3.0+cpu, 1.3.0+cu100, 1.3.0+cu92, 1.3.1, 1.3.1+cpu, 1.3.1+cu100, 1.3.1+cu92, 1.4.0, 1.4.0+cpu, 1.4.0+cu100, 1.4.0+cu92, 1.5.0, 1.5.0+cpu, 1.5.0+cu101, 1.5.0+cu92, 1.5.1, 1.5.1+cpu, 1.5.1+cu101, 1.5.1+cu92, 1.6.0, 1.6.0+cpu, 1.6.0+cu101, 1.6.0+cu92, 1.7.0, 1.7.0+cpu, 1.7.0+cu101, 1.7.0+cu110, 1.7.0+cu92, 1.7.1, 1.7.1+cpu, 1.7.1+cu101, 1.7.1+cu110, 1.7.1+cu92, 1.7.1+rocm3.7, 1.7.1+rocm3.8, 1.8.0, 1.8.0+cpu, 1.8.0+cu101, 1.8.0+cu111, 1.8.0+rocm3.10, 1.8.0+rocm4.0.1, 1.8.1, 1.8.1+cpu, 1.8.1+cu101, 1.8.1+cu102, 1.8.1+cu111, 1.8.1+rocm3.10, 1.8.1+rocm4.0.1, 1.9.0, 1.9.0+cpu, 1.9.0+cu102, 1.9.0+cu111, 1.9.0+rocm4.0.1, 1.9.0+rocm4.1, 1.9.0+rocm4.2, 1.9.1, 1.9.1+cpu, 1.9.1+cu102, 1.9.1+cu111, 1.9.1+rocm4.0.1, 1.9.1+rocm4.1, 1.9.1+rocm4.2)\u001b[0m\n",
            "\u001b[31mERROR: No matching distribution found for torch==1.9.0+cu101\u001b[0m\n"
          ]
        }
      ]
    },
    {
      "cell_type": "markdown",
      "metadata": {
        "id": "AaE77Tcppex9"
      },
      "source": [
        "# Preprocessing the Data into Subword BPE Tokens\n",
        "\n",
        "- One of the most powerful improvements for agglutinative languages (a feature of most Bantu languages) is using BPE tokenization [ (Sennrich, 2015) ](https://arxiv.org/abs/1508.07909).\n",
        "\n",
        "- It was also shown that by optimizing the umber of BPE codes we significantly improve results for low-resourced languages [(Sennrich, 2019)](https://www.aclweb.org/anthology/P19-1021) [(Martinus, 2019)](https://arxiv.org/abs/1906.05685)\n",
        "\n",
        "- Below we have the scripts for doing BPE tokenization of our data. We use 4000 tokens as recommended by [(Sennrich, 2019)](https://www.aclweb.org/anthology/P19-1021). You do not need to change anything. Simply running the below will be suitable. "
      ]
    },
    {
      "cell_type": "code",
      "metadata": {
        "colab": {
          "base_uri": "https://localhost:8080/"
        },
        "id": "H-TyjtmXB1mL",
        "outputId": "83ea53ac-fe40-436c-a8ca-fa2638b87d00"
      },
      "source": [
        "# One of the huge boosts in NMT performance was to use a different method of tokenizing. \n",
        "# Usually, NMT would tokenize by words. However, using a method called BPE gave amazing boosts to performance\n",
        "\n",
        "# Do subword NMT\n",
        "from os import path\n",
        "os.environ[\"src\"] = source_language # Sets them in bash as well, since we often use bash scripts\n",
        "os.environ[\"tgt\"] = target_language\n",
        "\n",
        "# Learn BPEs on the training data.\n",
        "os.environ[\"data_path\"] = path.join(\"joeynmt\", \"data\",target_language + source_language ) # Herman! \n",
        "! subword-nmt learn-joint-bpe-and-vocab --input train.$src train.$tgt -s 4000 -o bpe.codes.4000 --write-vocabulary vocab.$src vocab.$tgt\n",
        "\n",
        "# Apply BPE splits to the development and test data.\n",
        "! subword-nmt apply-bpe -c bpe.codes.4000 --vocabulary vocab.$src < train.$src > train.bpe.$src\n",
        "! subword-nmt apply-bpe -c bpe.codes.4000 --vocabulary vocab.$tgt < train.$tgt > train.bpe.$tgt\n",
        "\n",
        "! subword-nmt apply-bpe -c bpe.codes.4000 --vocabulary vocab.$src < dev.$src > dev.bpe.$src\n",
        "! subword-nmt apply-bpe -c bpe.codes.4000 --vocabulary vocab.$tgt < dev.$tgt > dev.bpe.$tgt\n",
        "! subword-nmt apply-bpe -c bpe.codes.4000 --vocabulary vocab.$src < test.$src > test.bpe.$src\n",
        "! subword-nmt apply-bpe -c bpe.codes.4000 --vocabulary vocab.$tgt < test.$tgt > test.bpe.$tgt\n",
        "\n",
        "# Create directory, move everyone we care about to the correct location\n",
        "! mkdir -p $data_path\n",
        "! cp train.* $data_path\n",
        "! cp test.* $data_path\n",
        "! cp dev.* $data_path\n",
        "! cp bpe.codes.4000 $data_path\n",
        "! ls $data_path\n",
        "\n",
        "# Also move everything we care about to a mounted location in google drive (relevant if running in colab) at gdrive_path\n",
        "! cp train.* \"$gdrive_path\"\n",
        "! cp test.* \"$gdrive_path\"\n",
        "! cp dev.* \"$gdrive_path\"\n",
        "! cp bpe.codes.4000 \"$gdrive_path\"\n",
        "! ls \"$gdrive_path\"\n",
        "\n",
        "# Create that vocab using build_vocab\n",
        "! sudo chmod 777 joeynmt/scripts/build_vocab.py\n",
        "! joeynmt/scripts/build_vocab.py joeynmt/data/$tgt$src/train.bpe.$src joeynmt/data/$tgt$src/train.bpe.$tgt --output_path joeynmt/data/$tgt$src/vocab.txt\n",
        "\n",
        "# Some output\n",
        "! echo \"BPE Swahili Sentences\"\n",
        "! tail -n 5 test.bpe.$tgt\n",
        "! echo \"Combined BPE Vocab\"\n",
        "! tail -n 10 joeynmt/data/$tgt$src/vocab.txt  # Herman"
      ],
      "execution_count": null,
      "outputs": [
        {
          "output_type": "stream",
          "name": "stdout",
          "text": [
            "bpe.codes.4000\tdev.en\t     test.bpe.nd     test.nd\t   train.en\n",
            "dev.bpe.en\tdev.nd\t     test.en\t     train.bpe.en  train.nd\n",
            "dev.bpe.nd\ttest.bpe.en  test.en-any.en  train.bpe.nd\n",
            "bpe.codes.4000\tdev.en\t     test.bpe.nd     test.nd\t   train.en\n",
            "dev.bpe.en\tdev.nd\t     test.en\t     train.bpe.en  train.nd\n",
            "dev.bpe.nd\ttest.bpe.en  test.en-any.en  train.bpe.nd\n",
            "BPE Swahili Sentences\n",
            "Si@@ khathi sonke nxa ng@@ it@@ shay@@ isa emihlanganweni ngiy@@ abe s@@ engi@@ kwazi ukuthi uJehova uy@@ angi@@ thanda . ”\n",
            "I@@ hawu loku@@ kholwa ( Khangela izind@@ ima 12 - 14 )\n",
            "I@@ ng@@ ow@@ ane yoku@@ s@@ ind@@ iswa ( Khangela izind@@ ima 15 - 18 )\n",
            "S@@ eng@@ in@@ anzelele ukuthi abantu bay@@ al@@ alela nxa be@@ bona ukuthi uy@@ ali@@ thanda iBhayibhili njalo wenza konke oku@@ sem@@ andleni akho ukuze ub@@ asi@@ ze . ”\n",
            "In@@ k@@ em@@ ba yom@@ oya ( Khangela izind@@ ima 19 - 20 )\n",
            "Combined BPE Vocab\n",
            "Isra@@\n",
            "Jakh@@\n",
            "ó\n",
            "ʺ\n",
            "greg@@\n",
            "sider\n",
            "wro@@\n",
            "verbs\n",
            "habhil@@\n",
            "onye\n"
          ]
        }
      ]
    },
    {
      "cell_type": "code",
      "metadata": {
        "colab": {
          "base_uri": "https://localhost:8080/"
        },
        "id": "IlMitUHR8Qy-",
        "outputId": "461d0b10-ec04-4912-e37f-b359ec6560e8"
      },
      "source": [
        "# Also move everything we care about to a mounted location in google drive (relevant if running in colab) at gdrive_path\n",
        "! cp train.* \"$gdrive_path\"\n",
        "! cp test.* \"$gdrive_path\"\n",
        "! cp dev.* \"$gdrive_path\"\n",
        "! cp bpe.codes.4000 \"$gdrive_path\"\n",
        "! ls \"$gdrive_path\""
      ],
      "execution_count": null,
      "outputs": [
        {
          "output_type": "stream",
          "name": "stdout",
          "text": [
            "bpe.codes.4000\tdev.en\t     test.bpe.nd     test.nd\t   train.en\n",
            "dev.bpe.en\tdev.nd\t     test.en\t     train.bpe.en  train.nd\n",
            "dev.bpe.nd\ttest.bpe.en  test.en-any.en  train.bpe.nd\n"
          ]
        }
      ]
    },
    {
      "cell_type": "markdown",
      "metadata": {
        "id": "Ixmzi60WsUZ8"
      },
      "source": [
        "# Creating the JoeyNMT Config\n",
        "\n",
        "JoeyNMT requires a yaml config. We provide a template below. We've also set a number of defaults with it, that you may play with!\n",
        "\n",
        "- We used Transformer architecture \n",
        "- We set our dropout to reasonably high: 0.3 (recommended in  [(Sennrich, 2019)](https://www.aclweb.org/anthology/P19-1021))\n",
        "\n",
        "Things worth playing with:\n",
        "- The batch size (also recommended to change for low-resourced languages)\n",
        "- The number of epochs (we've set it at 30 just so it runs in about an hour, for testing purposes)\n",
        "- The decoder options (beam_size, alpha)\n",
        "- Evaluation metrics (BLEU versus Crhf4)"
      ]
    },
    {
      "cell_type": "code",
      "metadata": {
        "id": "h8TMgv1p3L1z"
      },
      "source": [
        "# This creates the config file for our JoeyNMT system. It might seem overwhelming so we've provided a couple of useful parameters you'll need to update\n",
        "# (You can of course play with all the parameters if you'd like!)\n",
        "\n",
        "name = '%s%s' % (target_language, source_language)\n",
        "# gdrive_path = os.environ[\"gdrive_path\"]\n",
        "\n",
        "# Create the config\n",
        "config = \"\"\"\n",
        "name: \"{target_language}{source_language}_reverse_transformer\"\n",
        "\n",
        "data:\n",
        "    src: \"{target_language}\"\n",
        "    trg: \"{source_language}\"\n",
        "    train: \"data/{name}/train.bpe\"\n",
        "    dev:   \"data/{name}/dev.bpe\"\n",
        "    test:  \"data/{name}/test.bpe\"\n",
        "    level: \"bpe\"\n",
        "    lowercase: False\n",
        "    max_sent_length: 100\n",
        "    src_vocab: \"data/{name}/vocab.txt\"\n",
        "    trg_vocab: \"data/{name}/vocab.txt\"\n",
        "\n",
        "testing:\n",
        "    beam_size: 5\n",
        "    alpha: 1.0\n",
        "\n",
        "training:\n",
        "    #load_model: \"{gdrive_path}/models/{name}_transformer/1.ckpt\" # if uncommented, load a pre-trained model from this checkpoint\n",
        "    random_seed: 42\n",
        "    optimizer: \"adam\"\n",
        "    normalization: \"tokens\"\n",
        "    adam_betas: [0.9, 0.999] \n",
        "    scheduling: \"plateau\"           # TODO: try switching from plateau to Noam scheduling\n",
        "    patience: 5                     # For plateau: decrease learning rate by decrease_factor if validation score has not improved for this many validation rounds.\n",
        "    learning_rate_factor: 0.5       # factor for Noam scheduler (used with Transformer)\n",
        "    learning_rate_warmup: 1000      # warmup steps for Noam scheduler (used with Transformer)\n",
        "    decrease_factor: 0.7\n",
        "    loss: \"crossentropy\"\n",
        "    learning_rate: 0.0003\n",
        "    learning_rate_min: 0.00000001\n",
        "    weight_decay: 0.0\n",
        "    label_smoothing: 0.1\n",
        "    batch_size: 4096\n",
        "    batch_type: \"token\"\n",
        "    eval_batch_size: 3600\n",
        "    eval_batch_type: \"token\"\n",
        "    batch_multiplier: 1\n",
        "    early_stopping_metric: \"ppl\"\n",
        "    epochs: 30                  # TODO: Decrease for when playing around and checking of working. Around 30 is sufficient to check if its working at all\n",
        "    validation_freq: 1000          # TODO: Set to at least once per epoch.\n",
        "    logging_freq: 100\n",
        "    eval_metric: \"bleu\"\n",
        "    model_dir: \"models/{name}_reverse_transformer\"\n",
        "    overwrite: True              # TODO: Set to True if you want to overwrite possibly existing models. \n",
        "    shuffle: True\n",
        "    use_cuda: True\n",
        "    max_output_length: 100\n",
        "    print_valid_sents: [0, 1, 2, 3]\n",
        "    keep_last_ckpts: 3\n",
        "\n",
        "model:\n",
        "    initializer: \"xavier\"\n",
        "    bias_initializer: \"zeros\"\n",
        "    init_gain: 1.0\n",
        "    embed_initializer: \"xavier\"\n",
        "    embed_init_gain: 1.0\n",
        "    tied_embeddings: True\n",
        "    tied_softmax: True\n",
        "    encoder:\n",
        "        type: \"transformer\"\n",
        "        num_layers: 6\n",
        "        num_heads: 4             # TODO: Increase to 8 for larger data.\n",
        "        embeddings:\n",
        "            embedding_dim: 256   # TODO: Increase to 512 for larger data.\n",
        "            scale: True\n",
        "            dropout: 0.2\n",
        "        # typically ff_size = 4 x hidden_size\n",
        "        hidden_size: 256         # TODO: Increase to 512 for larger data.\n",
        "        ff_size: 1024            # TODO: Increase to 2048 for larger data.\n",
        "        dropout: 0.3\n",
        "    decoder:\n",
        "        type: \"transformer\"\n",
        "        num_layers: 6\n",
        "        num_heads: 4              # TODO: Increase to 8 for larger data.\n",
        "        embeddings:\n",
        "            embedding_dim: 256    # TODO: Increase to 512 for larger data.\n",
        "            scale: True\n",
        "            dropout: 0.2\n",
        "        # typically ff_size = 4 x hidden_size\n",
        "        hidden_size: 256         # TODO: Increase to 512 for larger data.\n",
        "        ff_size: 1024            # TODO: Increase to 2048 for larger data.\n",
        "        dropout: 0.3\n",
        "\"\"\".format(name=name, gdrive_path=os.environ[\"gdrive_path\"], source_language=source_language, target_language=target_language)\n",
        "with open(\"joeynmt/configs/transformer_reverse_{name}.yaml\".format(name=name),'w') as f:\n",
        "    f.write(config)"
      ],
      "execution_count": null,
      "outputs": []
    },
    {
      "cell_type": "markdown",
      "metadata": {
        "id": "oEzoJtV2MIpt"
      },
      "source": [
        "# Train the Model\n",
        "\n",
        "This single line of joeynmt runs the training using the config we made above"
      ]
    },
    {
      "cell_type": "code",
      "metadata": {
        "colab": {
          "base_uri": "https://localhost:8080/"
        },
        "id": "WzbNYNdjLgNb",
        "outputId": "6cbd6fb0-fba7-4371-aa89-db6b13b7a53a"
      },
      "source": [
        "# Train the model\n",
        "# You can press Ctrl-C to stop. And then run the next cell to save your checkpoints! \n",
        "!cd joeynmt; python3 -m joeynmt train configs/transformer_reverse_$tgt$src.yaml"
      ],
      "execution_count": null,
      "outputs": [
        {
          "output_type": "stream",
          "name": "stdout",
          "text": [
            "2021-10-06 11:02:03,553 - INFO - root - Hello! This is Joey-NMT (version 1.3).\n",
            "2021-10-06 11:02:03,621 - INFO - joeynmt.data - Loading training data...\n",
            "2021-10-06 11:02:04,549 - INFO - joeynmt.data - Building vocabulary...\n",
            "2021-10-06 11:02:04,853 - INFO - joeynmt.data - Loading dev data...\n",
            "2021-10-06 11:02:04,864 - INFO - joeynmt.data - Loading test data...\n",
            "2021-10-06 11:02:04,894 - INFO - joeynmt.data - Data loaded.\n",
            "2021-10-06 11:02:04,894 - INFO - joeynmt.model - Building an encoder-decoder model...\n",
            "2021-10-06 11:02:05,343 - INFO - joeynmt.model - Enc-dec model built.\n",
            "2021-10-06 11:02:07,142 - INFO - joeynmt.training - Total params: 12135424\n",
            "2021-10-06 11:02:07,145 - WARNING - joeynmt.training - `keep_last_ckpts` option is outdated. Please use `keep_best_ckpts`, instead.\n",
            "2021-10-06 11:02:15,546 - INFO - joeynmt.helpers - cfg.name                           : nden_reverse_transformer\n",
            "2021-10-06 11:02:15,546 - INFO - joeynmt.helpers - cfg.data.src                       : nd\n",
            "2021-10-06 11:02:15,546 - INFO - joeynmt.helpers - cfg.data.trg                       : en\n",
            "2021-10-06 11:02:15,546 - INFO - joeynmt.helpers - cfg.data.train                     : data/nden/train.bpe\n",
            "2021-10-06 11:02:15,546 - INFO - joeynmt.helpers - cfg.data.dev                       : data/nden/dev.bpe\n",
            "2021-10-06 11:02:15,546 - INFO - joeynmt.helpers - cfg.data.test                      : data/nden/test.bpe\n",
            "2021-10-06 11:02:15,546 - INFO - joeynmt.helpers - cfg.data.level                     : bpe\n",
            "2021-10-06 11:02:15,546 - INFO - joeynmt.helpers - cfg.data.lowercase                 : False\n",
            "2021-10-06 11:02:15,547 - INFO - joeynmt.helpers - cfg.data.max_sent_length           : 100\n",
            "2021-10-06 11:02:15,547 - INFO - joeynmt.helpers - cfg.data.src_vocab                 : data/nden/vocab.txt\n",
            "2021-10-06 11:02:15,547 - INFO - joeynmt.helpers - cfg.data.trg_vocab                 : data/nden/vocab.txt\n",
            "2021-10-06 11:02:15,547 - INFO - joeynmt.helpers - cfg.testing.beam_size              : 5\n",
            "2021-10-06 11:02:15,547 - INFO - joeynmt.helpers - cfg.testing.alpha                  : 1.0\n",
            "2021-10-06 11:02:15,547 - INFO - joeynmt.helpers - cfg.training.random_seed           : 42\n",
            "2021-10-06 11:02:15,547 - INFO - joeynmt.helpers - cfg.training.optimizer             : adam\n",
            "2021-10-06 11:02:15,547 - INFO - joeynmt.helpers - cfg.training.normalization         : tokens\n",
            "2021-10-06 11:02:15,548 - INFO - joeynmt.helpers - cfg.training.adam_betas            : [0.9, 0.999]\n",
            "2021-10-06 11:02:15,548 - INFO - joeynmt.helpers - cfg.training.scheduling            : plateau\n",
            "2021-10-06 11:02:15,548 - INFO - joeynmt.helpers - cfg.training.patience              : 5\n",
            "2021-10-06 11:02:15,548 - INFO - joeynmt.helpers - cfg.training.learning_rate_factor  : 0.5\n",
            "2021-10-06 11:02:15,548 - INFO - joeynmt.helpers - cfg.training.learning_rate_warmup  : 1000\n",
            "2021-10-06 11:02:15,548 - INFO - joeynmt.helpers - cfg.training.decrease_factor       : 0.7\n",
            "2021-10-06 11:02:15,548 - INFO - joeynmt.helpers - cfg.training.loss                  : crossentropy\n",
            "2021-10-06 11:02:15,548 - INFO - joeynmt.helpers - cfg.training.learning_rate         : 0.0003\n",
            "2021-10-06 11:02:15,549 - INFO - joeynmt.helpers - cfg.training.learning_rate_min     : 1e-08\n",
            "2021-10-06 11:02:15,549 - INFO - joeynmt.helpers - cfg.training.weight_decay          : 0.0\n",
            "2021-10-06 11:02:15,549 - INFO - joeynmt.helpers - cfg.training.label_smoothing       : 0.1\n",
            "2021-10-06 11:02:15,549 - INFO - joeynmt.helpers - cfg.training.batch_size            : 4096\n",
            "2021-10-06 11:02:15,549 - INFO - joeynmt.helpers - cfg.training.batch_type            : token\n",
            "2021-10-06 11:02:15,549 - INFO - joeynmt.helpers - cfg.training.eval_batch_size       : 3600\n",
            "2021-10-06 11:02:15,549 - INFO - joeynmt.helpers - cfg.training.eval_batch_type       : token\n",
            "2021-10-06 11:02:15,549 - INFO - joeynmt.helpers - cfg.training.batch_multiplier      : 1\n",
            "2021-10-06 11:02:15,550 - INFO - joeynmt.helpers - cfg.training.early_stopping_metric : ppl\n",
            "2021-10-06 11:02:15,550 - INFO - joeynmt.helpers - cfg.training.epochs                : 5\n",
            "2021-10-06 11:02:15,550 - INFO - joeynmt.helpers - cfg.training.validation_freq       : 1000\n",
            "2021-10-06 11:02:15,550 - INFO - joeynmt.helpers - cfg.training.logging_freq          : 100\n",
            "2021-10-06 11:02:15,550 - INFO - joeynmt.helpers - cfg.training.eval_metric           : bleu\n",
            "2021-10-06 11:02:15,550 - INFO - joeynmt.helpers - cfg.training.model_dir             : models/nden_reverse_transformer\n",
            "2021-10-06 11:02:15,550 - INFO - joeynmt.helpers - cfg.training.overwrite             : True\n",
            "2021-10-06 11:02:15,550 - INFO - joeynmt.helpers - cfg.training.shuffle               : True\n",
            "2021-10-06 11:02:15,551 - INFO - joeynmt.helpers - cfg.training.use_cuda              : True\n",
            "2021-10-06 11:02:15,551 - INFO - joeynmt.helpers - cfg.training.max_output_length     : 100\n",
            "2021-10-06 11:02:15,551 - INFO - joeynmt.helpers - cfg.training.print_valid_sents     : [0, 1, 2, 3]\n",
            "2021-10-06 11:02:15,551 - INFO - joeynmt.helpers - cfg.training.keep_last_ckpts       : 3\n",
            "2021-10-06 11:02:15,551 - INFO - joeynmt.helpers - cfg.model.initializer              : xavier\n",
            "2021-10-06 11:02:15,551 - INFO - joeynmt.helpers - cfg.model.bias_initializer         : zeros\n",
            "2021-10-06 11:02:15,551 - INFO - joeynmt.helpers - cfg.model.init_gain                : 1.0\n",
            "2021-10-06 11:02:15,551 - INFO - joeynmt.helpers - cfg.model.embed_initializer        : xavier\n",
            "2021-10-06 11:02:15,551 - INFO - joeynmt.helpers - cfg.model.embed_init_gain          : 1.0\n",
            "2021-10-06 11:02:15,552 - INFO - joeynmt.helpers - cfg.model.tied_embeddings          : True\n",
            "2021-10-06 11:02:15,552 - INFO - joeynmt.helpers - cfg.model.tied_softmax             : True\n",
            "2021-10-06 11:02:15,552 - INFO - joeynmt.helpers - cfg.model.encoder.type             : transformer\n",
            "2021-10-06 11:02:15,552 - INFO - joeynmt.helpers - cfg.model.encoder.num_layers       : 6\n",
            "2021-10-06 11:02:15,552 - INFO - joeynmt.helpers - cfg.model.encoder.num_heads        : 4\n",
            "2021-10-06 11:02:15,552 - INFO - joeynmt.helpers - cfg.model.encoder.embeddings.embedding_dim : 256\n",
            "2021-10-06 11:02:15,552 - INFO - joeynmt.helpers - cfg.model.encoder.embeddings.scale : True\n",
            "2021-10-06 11:02:15,553 - INFO - joeynmt.helpers - cfg.model.encoder.embeddings.dropout : 0.2\n",
            "2021-10-06 11:02:15,553 - INFO - joeynmt.helpers - cfg.model.encoder.hidden_size      : 256\n",
            "2021-10-06 11:02:15,553 - INFO - joeynmt.helpers - cfg.model.encoder.ff_size          : 1024\n",
            "2021-10-06 11:02:15,553 - INFO - joeynmt.helpers - cfg.model.encoder.dropout          : 0.3\n",
            "2021-10-06 11:02:15,553 - INFO - joeynmt.helpers - cfg.model.decoder.type             : transformer\n",
            "2021-10-06 11:02:15,553 - INFO - joeynmt.helpers - cfg.model.decoder.num_layers       : 6\n",
            "2021-10-06 11:02:15,553 - INFO - joeynmt.helpers - cfg.model.decoder.num_heads        : 4\n",
            "2021-10-06 11:02:15,553 - INFO - joeynmt.helpers - cfg.model.decoder.embeddings.embedding_dim : 256\n",
            "2021-10-06 11:02:15,554 - INFO - joeynmt.helpers - cfg.model.decoder.embeddings.scale : True\n",
            "2021-10-06 11:02:15,554 - INFO - joeynmt.helpers - cfg.model.decoder.embeddings.dropout : 0.2\n",
            "2021-10-06 11:02:15,554 - INFO - joeynmt.helpers - cfg.model.decoder.hidden_size      : 256\n",
            "2021-10-06 11:02:15,554 - INFO - joeynmt.helpers - cfg.model.decoder.ff_size          : 1024\n",
            "2021-10-06 11:02:15,554 - INFO - joeynmt.helpers - cfg.model.decoder.dropout          : 0.3\n",
            "2021-10-06 11:02:15,554 - INFO - joeynmt.helpers - Data set sizes: \n",
            "\ttrain 54853,\n",
            "\tvalid 1000,\n",
            "\ttest 2615\n",
            "2021-10-06 11:02:15,554 - INFO - joeynmt.helpers - First training example:\n",
            "\t[SRC] U@@ cabanga ukuthi wa@@ zis@@ ola yini ng@@ es@@ inqumo sakhe ?\n",
            "\t[TRG] Do you think that he came to re@@ gre@@ t the decision ?\n",
            "2021-10-06 11:02:15,554 - INFO - joeynmt.helpers - First 10 words (src): (0) <unk> (1) <pad> (2) <s> (3) </s> (4) . (5) , (6) the (7) : (8) to (9) of\n",
            "2021-10-06 11:02:15,555 - INFO - joeynmt.helpers - First 10 words (trg): (0) <unk> (1) <pad> (2) <s> (3) </s> (4) . (5) , (6) the (7) : (8) to (9) of\n",
            "2021-10-06 11:02:15,555 - INFO - joeynmt.helpers - Number of Src words (types): 4200\n",
            "2021-10-06 11:02:15,555 - INFO - joeynmt.helpers - Number of Trg words (types): 4200\n",
            "2021-10-06 11:02:15,555 - INFO - joeynmt.training - Model(\n",
            "\tencoder=TransformerEncoder(num_layers=6, num_heads=4),\n",
            "\tdecoder=TransformerDecoder(num_layers=6, num_heads=4),\n",
            "\tsrc_embed=Embeddings(embedding_dim=256, vocab_size=4200),\n",
            "\ttrg_embed=Embeddings(embedding_dim=256, vocab_size=4200))\n",
            "2021-10-06 11:02:15,560 - INFO - joeynmt.training - Train stats:\n",
            "\tdevice: cuda\n",
            "\tn_gpu: 1\n",
            "\t16-bits training: False\n",
            "\tgradient accumulation: 1\n",
            "\tbatch size per device: 4096\n",
            "\ttotal batch size (w. parallel & accumulation): 4096\n",
            "2021-10-06 11:02:15,560 - INFO - joeynmt.training - EPOCH 1\n",
            "2021-10-06 11:02:51,853 - INFO - joeynmt.training - Epoch   1, Step:      100, Batch Loss:     5.583794, Tokens per Sec:     4208, Lr: 0.000300\n",
            "2021-10-06 11:03:27,291 - INFO - joeynmt.training - Epoch   1, Step:      200, Batch Loss:     5.260573, Tokens per Sec:     4186, Lr: 0.000300\n",
            "2021-10-06 11:04:02,546 - INFO - joeynmt.training - Epoch   1, Step:      300, Batch Loss:     5.109312, Tokens per Sec:     4344, Lr: 0.000300\n",
            "2021-10-06 11:04:37,793 - INFO - joeynmt.training - Epoch   1, Step:      400, Batch Loss:     4.758591, Tokens per Sec:     4231, Lr: 0.000300\n",
            "2021-10-06 11:05:13,197 - INFO - joeynmt.training - Epoch   1, Step:      500, Batch Loss:     4.627792, Tokens per Sec:     4365, Lr: 0.000300\n",
            "2021-10-06 11:05:48,732 - INFO - joeynmt.training - Epoch   1, Step:      600, Batch Loss:     4.607180, Tokens per Sec:     4271, Lr: 0.000300\n",
            "2021-10-06 11:06:24,382 - INFO - joeynmt.training - Epoch   1, Step:      700, Batch Loss:     4.347698, Tokens per Sec:     4187, Lr: 0.000300\n",
            "2021-10-06 11:06:59,983 - INFO - joeynmt.training - Epoch   1, Step:      800, Batch Loss:     4.371855, Tokens per Sec:     4217, Lr: 0.000300\n",
            "2021-10-06 11:07:35,556 - INFO - joeynmt.training - Epoch   1, Step:      900, Batch Loss:     4.233388, Tokens per Sec:     4164, Lr: 0.000300\n",
            "2021-10-06 11:08:10,695 - INFO - joeynmt.training - Epoch   1, Step:     1000, Batch Loss:     4.204473, Tokens per Sec:     4200, Lr: 0.000300\n",
            "2021-10-06 11:09:09,692 - WARNING - sacrebleu - That's 100 lines that end in a tokenized period ('.')\n",
            "2021-10-06 11:09:09,692 - WARNING - sacrebleu - It looks like you forgot to detokenize your test data, which may hurt your score.\n",
            "2021-10-06 11:09:09,692 - WARNING - sacrebleu - If you insist your data is detokenized, or don't care, you can suppress this message with the `force` parameter.\n",
            "2021-10-06 11:09:09,703 - INFO - joeynmt.training - Hooray! New best validation result [ppl]!\n",
            "2021-10-06 11:09:10,122 - INFO - joeynmt.training - Example #0\n",
            "2021-10-06 11:09:10,123 - INFO - joeynmt.training - \tSource:     ( Josh . 3 : 12 - 17 ) Cabanga ukuthi kwakumangalisa kangakanani ukubona umfula lowo owawuzondile umiswa !\n",
            "2021-10-06 11:09:10,123 - INFO - joeynmt.training - \tReference:  ( See paragraphs 17 , 18 )\n",
            "2021-10-06 11:09:10,123 - INFO - joeynmt.training - \tHypothesis: ( Matt . 4 : 8 ) The Bible ’ s Witnesses , the Bible was a Bible ’ s Witnesses , and the Bible ’ s Witnesses , and the Bible ’ s Witnesses .\n",
            "2021-10-06 11:09:10,123 - INFO - joeynmt.training - Example #1\n",
            "2021-10-06 11:09:10,124 - INFO - joeynmt.training - \tSource:     UJesu wathi : “ Kakho ongeza kimi ngaphandle kokuthi uBaba ongithumileyo amsondeze . ”\n",
            "2021-10-06 11:09:10,124 - INFO - joeynmt.training - \tReference:  “ No man can come to me unless the Father , who sent me , draws him , ” said Jesus .\n",
            "2021-10-06 11:09:10,124 - INFO - joeynmt.training - \tHypothesis: “ The Bible ’ s Word , “ I will be to be to be to be to be . ”\n",
            "2021-10-06 11:09:10,124 - INFO - joeynmt.training - Example #2\n",
            "2021-10-06 11:09:10,124 - INFO - joeynmt.training - \tSource:     IBhayibhili lithi : ‘ Ilizwi ngesikhathi salo , lihle kangakanani . ’\n",
            "2021-10-06 11:09:10,125 - INFO - joeynmt.training - \tReference:  The Bible states : “ A word spoken at the right time — how good it is ! ”\n",
            "2021-10-06 11:09:10,125 - INFO - joeynmt.training - \tHypothesis: “ The Bible ’ s Word , ” is a “ I was a . ”\n",
            "2021-10-06 11:09:10,125 - INFO - joeynmt.training - Example #3\n",
            "2021-10-06 11:09:10,125 - INFO - joeynmt.training - \tSource:     Cabanga ngomthandazo wokuzisola uJona awutsho esesiswini senhlanzi enkulu .\n",
            "2021-10-06 11:09:10,125 - INFO - joeynmt.training - \tReference:  For instance , consider Jonah ’ s contrite prayer from the belly of a huge fish .\n",
            "2021-10-06 11:09:10,126 - INFO - joeynmt.training - \tHypothesis: The Bible ’ s Witnesses of the Bible ’ s Witnesses , he was a time , and the Bible was a time .\n",
            "2021-10-06 11:09:10,126 - INFO - joeynmt.training - Validation result (greedy) at epoch   1, step     1000: bleu:   1.74, loss: 118540.6641, ppl:  64.3940, duration: 59.4305s\n",
            "2021-10-06 11:09:17,492 - INFO - joeynmt.training - Epoch   1: total training loss 4915.84\n",
            "2021-10-06 11:09:17,492 - INFO - joeynmt.training - EPOCH 2\n",
            "2021-10-06 11:09:45,333 - INFO - joeynmt.training - Epoch   2, Step:     1100, Batch Loss:     4.123033, Tokens per Sec:     4206, Lr: 0.000300\n",
            "2021-10-06 11:10:20,645 - INFO - joeynmt.training - Epoch   2, Step:     1200, Batch Loss:     4.257267, Tokens per Sec:     4314, Lr: 0.000300\n",
            "2021-10-06 11:10:55,897 - INFO - joeynmt.training - Epoch   2, Step:     1300, Batch Loss:     4.056931, Tokens per Sec:     4233, Lr: 0.000300\n",
            "2021-10-06 11:11:31,307 - INFO - joeynmt.training - Epoch   2, Step:     1400, Batch Loss:     4.040326, Tokens per Sec:     4307, Lr: 0.000300\n",
            "2021-10-06 11:12:06,687 - INFO - joeynmt.training - Epoch   2, Step:     1500, Batch Loss:     3.927139, Tokens per Sec:     4284, Lr: 0.000300\n",
            "2021-10-06 11:12:42,146 - INFO - joeynmt.training - Epoch   2, Step:     1600, Batch Loss:     3.866402, Tokens per Sec:     4274, Lr: 0.000300\n",
            "2021-10-06 11:13:17,493 - INFO - joeynmt.training - Epoch   2, Step:     1700, Batch Loss:     3.913712, Tokens per Sec:     4366, Lr: 0.000300\n",
            "2021-10-06 11:13:52,839 - INFO - joeynmt.training - Epoch   2, Step:     1800, Batch Loss:     3.818265, Tokens per Sec:     4278, Lr: 0.000300\n",
            "2021-10-06 11:14:28,224 - INFO - joeynmt.training - Epoch   2, Step:     1900, Batch Loss:     3.917607, Tokens per Sec:     4179, Lr: 0.000300\n",
            "2021-10-06 11:15:03,944 - INFO - joeynmt.training - Epoch   2, Step:     2000, Batch Loss:     3.786115, Tokens per Sec:     4164, Lr: 0.000300\n",
            "2021-10-06 11:16:14,801 - WARNING - sacrebleu - That's 100 lines that end in a tokenized period ('.')\n",
            "2021-10-06 11:16:14,801 - WARNING - sacrebleu - It looks like you forgot to detokenize your test data, which may hurt your score.\n",
            "2021-10-06 11:16:14,801 - WARNING - sacrebleu - If you insist your data is detokenized, or don't care, you can suppress this message with the `force` parameter.\n",
            "2021-10-06 11:16:14,807 - INFO - joeynmt.training - Hooray! New best validation result [ppl]!\n",
            "2021-10-06 11:16:15,236 - INFO - joeynmt.training - Example #0\n",
            "2021-10-06 11:16:15,237 - INFO - joeynmt.training - \tSource:     ( Josh . 3 : 12 - 17 ) Cabanga ukuthi kwakumangalisa kangakanani ukubona umfula lowo owawuzondile umiswa !\n",
            "2021-10-06 11:16:15,237 - INFO - joeynmt.training - \tReference:  ( See paragraphs 17 , 18 )\n",
            "2021-10-06 11:16:15,237 - INFO - joeynmt.training - \tHypothesis: ( Gen. 2 : 1-12 ) The same way that he was not to be a bured to the burder of the burs of the burs of the burs .\n",
            "2021-10-06 11:16:15,237 - INFO - joeynmt.training - Example #1\n",
            "2021-10-06 11:16:15,237 - INFO - joeynmt.training - \tSource:     UJesu wathi : “ Kakho ongeza kimi ngaphandle kokuthi uBaba ongithumileyo amsondeze . ”\n",
            "2021-10-06 11:16:15,238 - INFO - joeynmt.training - \tReference:  “ No man can come to me unless the Father , who sent me , draws him , ” said Jesus .\n",
            "2021-10-06 11:16:15,238 - INFO - joeynmt.training - \tHypothesis: Jesus said : “ The same is not to be a good news of the earth . ”\n",
            "2021-10-06 11:16:15,238 - INFO - joeynmt.training - Example #2\n",
            "2021-10-06 11:16:15,238 - INFO - joeynmt.training - \tSource:     IBhayibhili lithi : ‘ Ilizwi ngesikhathi salo , lihle kangakanani . ’\n",
            "2021-10-06 11:16:15,238 - INFO - joeynmt.training - \tReference:  The Bible states : “ A word spoken at the right time — how good it is ! ”\n",
            "2021-10-06 11:16:15,238 - INFO - joeynmt.training - \tHypothesis: The Bible says : “ The Bible is not to be a good news . ”\n",
            "2021-10-06 11:16:15,239 - INFO - joeynmt.training - Example #3\n",
            "2021-10-06 11:16:15,239 - INFO - joeynmt.training - \tSource:     Cabanga ngomthandazo wokuzisola uJona awutsho esesiswini senhlanzi enkulu .\n",
            "2021-10-06 11:16:15,239 - INFO - joeynmt.training - \tReference:  For instance , consider Jonah ’ s contrite prayer from the belly of a huge fish .\n",
            "2021-10-06 11:16:15,239 - INFO - joeynmt.training - \tHypothesis: The Bible is a result of the Bible ’ s Witnesses of the Meran .\n",
            "2021-10-06 11:16:15,239 - INFO - joeynmt.training - Validation result (greedy) at epoch   2, step     2000: bleu:   3.94, loss: 104069.9844, ppl:  38.7287, duration: 71.2951s\n",
            "2021-10-06 11:16:29,625 - INFO - joeynmt.training - Epoch   2: total training loss 4067.61\n",
            "2021-10-06 11:16:29,625 - INFO - joeynmt.training - EPOCH 3\n",
            "2021-10-06 11:16:50,515 - INFO - joeynmt.training - Epoch   3, Step:     2100, Batch Loss:     3.740501, Tokens per Sec:     4173, Lr: 0.000300\n",
            "2021-10-06 11:17:26,094 - INFO - joeynmt.training - Epoch   3, Step:     2200, Batch Loss:     3.646026, Tokens per Sec:     4157, Lr: 0.000300\n",
            "2021-10-06 11:18:01,449 - INFO - joeynmt.training - Epoch   3, Step:     2300, Batch Loss:     3.521075, Tokens per Sec:     4200, Lr: 0.000300\n",
            "2021-10-06 11:18:37,149 - INFO - joeynmt.training - Epoch   3, Step:     2400, Batch Loss:     3.616097, Tokens per Sec:     4315, Lr: 0.000300\n",
            "2021-10-06 11:19:12,771 - INFO - joeynmt.training - Epoch   3, Step:     2500, Batch Loss:     3.749501, Tokens per Sec:     4258, Lr: 0.000300\n",
            "2021-10-06 11:19:48,219 - INFO - joeynmt.training - Epoch   3, Step:     2600, Batch Loss:     3.574757, Tokens per Sec:     4321, Lr: 0.000300\n",
            "2021-10-06 11:20:23,642 - INFO - joeynmt.training - Epoch   3, Step:     2700, Batch Loss:     3.560687, Tokens per Sec:     4238, Lr: 0.000300\n",
            "2021-10-06 11:20:59,132 - INFO - joeynmt.training - Epoch   3, Step:     2800, Batch Loss:     3.666050, Tokens per Sec:     4248, Lr: 0.000300\n",
            "2021-10-06 11:21:34,675 - INFO - joeynmt.training - Epoch   3, Step:     2900, Batch Loss:     3.407183, Tokens per Sec:     4185, Lr: 0.000300\n",
            "2021-10-06 11:22:09,844 - INFO - joeynmt.training - Epoch   3, Step:     3000, Batch Loss:     3.464607, Tokens per Sec:     4211, Lr: 0.000300\n",
            "2021-10-06 11:23:00,559 - WARNING - sacrebleu - That's 100 lines that end in a tokenized period ('.')\n",
            "2021-10-06 11:23:00,559 - WARNING - sacrebleu - It looks like you forgot to detokenize your test data, which may hurt your score.\n",
            "2021-10-06 11:23:00,559 - WARNING - sacrebleu - If you insist your data is detokenized, or don't care, you can suppress this message with the `force` parameter.\n",
            "2021-10-06 11:23:00,566 - INFO - joeynmt.training - Hooray! New best validation result [ppl]!\n",
            "2021-10-06 11:23:00,988 - INFO - joeynmt.training - Example #0\n",
            "2021-10-06 11:23:00,988 - INFO - joeynmt.training - \tSource:     ( Josh . 3 : 12 - 17 ) Cabanga ukuthi kwakumangalisa kangakanani ukubona umfula lowo owawuzondile umiswa !\n",
            "2021-10-06 11:23:00,988 - INFO - joeynmt.training - \tReference:  ( See paragraphs 17 , 18 )\n",
            "2021-10-06 11:23:00,988 - INFO - joeynmt.training - \tHypothesis: ( Gen. 3 : 11-12 ) The same is not a person who had to be a bond of the way .\n",
            "2021-10-06 11:23:00,989 - INFO - joeynmt.training - Example #1\n",
            "2021-10-06 11:23:00,989 - INFO - joeynmt.training - \tSource:     UJesu wathi : “ Kakho ongeza kimi ngaphandle kokuthi uBaba ongithumileyo amsondeze . ”\n",
            "2021-10-06 11:23:00,989 - INFO - joeynmt.training - \tReference:  “ No man can come to me unless the Father , who sent me , draws him , ” said Jesus .\n",
            "2021-10-06 11:23:00,989 - INFO - joeynmt.training - \tHypothesis: Jesus said : “ You will be a man of the name of God , and he will be a man . ”\n",
            "2021-10-06 11:23:00,989 - INFO - joeynmt.training - Example #2\n",
            "2021-10-06 11:23:00,989 - INFO - joeynmt.training - \tSource:     IBhayibhili lithi : ‘ Ilizwi ngesikhathi salo , lihle kangakanani . ’\n",
            "2021-10-06 11:23:00,990 - INFO - joeynmt.training - \tReference:  The Bible states : “ A word spoken at the right time — how good it is ! ”\n",
            "2021-10-06 11:23:00,990 - INFO - joeynmt.training - \tHypothesis: The Bible says : “ The Bible is not not not not not to be a bond . ”\n",
            "2021-10-06 11:23:00,990 - INFO - joeynmt.training - Example #3\n",
            "2021-10-06 11:23:00,990 - INFO - joeynmt.training - \tSource:     Cabanga ngomthandazo wokuzisola uJona awutsho esesiswini senhlanzi enkulu .\n",
            "2021-10-06 11:23:00,990 - INFO - joeynmt.training - \tReference:  For instance , consider Jonah ’ s contrite prayer from the belly of a huge fish .\n",
            "2021-10-06 11:23:00,990 - INFO - joeynmt.training - \tHypothesis: The same is a person of the Messiah ’ s people .\n",
            "2021-10-06 11:23:00,990 - INFO - joeynmt.training - Validation result (greedy) at epoch   3, step     3000: bleu:   8.40, loss: 94154.5156, ppl:  27.3357, duration: 51.1458s\n",
            "2021-10-06 11:23:23,715 - INFO - joeynmt.training - Epoch   3: total training loss 3685.30\n",
            "2021-10-06 11:23:23,715 - INFO - joeynmt.training - EPOCH 4\n",
            "2021-10-06 11:23:36,323 - INFO - joeynmt.training - Epoch   4, Step:     3100, Batch Loss:     3.485121, Tokens per Sec:     4271, Lr: 0.000300\n",
            "2021-10-06 11:24:11,986 - INFO - joeynmt.training - Epoch   4, Step:     3200, Batch Loss:     3.280834, Tokens per Sec:     4233, Lr: 0.000300\n",
            "2021-10-06 11:24:47,286 - INFO - joeynmt.training - Epoch   4, Step:     3300, Batch Loss:     3.536134, Tokens per Sec:     4318, Lr: 0.000300\n",
            "2021-10-06 11:25:22,782 - INFO - joeynmt.training - Epoch   4, Step:     3400, Batch Loss:     3.370046, Tokens per Sec:     4269, Lr: 0.000300\n",
            "2021-10-06 11:25:58,118 - INFO - joeynmt.training - Epoch   4, Step:     3500, Batch Loss:     3.474057, Tokens per Sec:     4247, Lr: 0.000300\n",
            "2021-10-06 11:26:33,633 - INFO - joeynmt.training - Epoch   4, Step:     3600, Batch Loss:     3.261201, Tokens per Sec:     4244, Lr: 0.000300\n",
            "2021-10-06 11:27:09,394 - INFO - joeynmt.training - Epoch   4, Step:     3700, Batch Loss:     3.410901, Tokens per Sec:     4239, Lr: 0.000300\n",
            "2021-10-06 11:27:44,826 - INFO - joeynmt.training - Epoch   4, Step:     3800, Batch Loss:     3.202826, Tokens per Sec:     4262, Lr: 0.000300\n",
            "2021-10-06 11:28:20,362 - INFO - joeynmt.training - Epoch   4, Step:     3900, Batch Loss:     3.355485, Tokens per Sec:     4219, Lr: 0.000300\n",
            "2021-10-06 11:28:55,826 - INFO - joeynmt.training - Epoch   4, Step:     4000, Batch Loss:     3.195645, Tokens per Sec:     4263, Lr: 0.000300\n",
            "2021-10-06 11:29:49,770 - WARNING - sacrebleu - That's 100 lines that end in a tokenized period ('.')\n",
            "2021-10-06 11:29:49,770 - WARNING - sacrebleu - It looks like you forgot to detokenize your test data, which may hurt your score.\n",
            "2021-10-06 11:29:49,770 - WARNING - sacrebleu - If you insist your data is detokenized, or don't care, you can suppress this message with the `force` parameter.\n",
            "2021-10-06 11:29:49,777 - INFO - joeynmt.training - Hooray! New best validation result [ppl]!\n",
            "2021-10-06 11:29:50,211 - INFO - joeynmt.helpers - delete models/nden_reverse_transformer/1000.ckpt\n",
            "2021-10-06 11:29:50,232 - INFO - joeynmt.training - Example #0\n",
            "2021-10-06 11:29:50,233 - INFO - joeynmt.training - \tSource:     ( Josh . 3 : 12 - 17 ) Cabanga ukuthi kwakumangalisa kangakanani ukubona umfula lowo owawuzondile umiswa !\n",
            "2021-10-06 11:29:50,233 - INFO - joeynmt.training - \tReference:  ( See paragraphs 17 , 18 )\n",
            "2021-10-06 11:29:50,233 - INFO - joeynmt.training - \tHypothesis: ( Josh . 3 : 15-17 ) What a person is not a bond of the same way ?\n",
            "2021-10-06 11:29:50,233 - INFO - joeynmt.training - Example #1\n",
            "2021-10-06 11:29:50,233 - INFO - joeynmt.training - \tSource:     UJesu wathi : “ Kakho ongeza kimi ngaphandle kokuthi uBaba ongithumileyo amsondeze . ”\n",
            "2021-10-06 11:29:50,233 - INFO - joeynmt.training - \tReference:  “ No man can come to me unless the Father , who sent me , draws him , ” said Jesus .\n",
            "2021-10-06 11:29:50,233 - INFO - joeynmt.training - \tHypothesis: Jesus said : “ You will be a man who will be a man who is a man who is a man who is a man who is a man . ”\n",
            "2021-10-06 11:29:50,233 - INFO - joeynmt.training - Example #2\n",
            "2021-10-06 11:29:50,234 - INFO - joeynmt.training - \tSource:     IBhayibhili lithi : ‘ Ilizwi ngesikhathi salo , lihle kangakanani . ’\n",
            "2021-10-06 11:29:50,234 - INFO - joeynmt.training - \tReference:  The Bible states : “ A word spoken at the right time — how good it is ! ”\n",
            "2021-10-06 11:29:50,234 - INFO - joeynmt.training - \tHypothesis: The Bible says : “ The Bible is not a man who is not a man . ”\n",
            "2021-10-06 11:29:50,234 - INFO - joeynmt.training - Example #3\n",
            "2021-10-06 11:29:50,235 - INFO - joeynmt.training - \tSource:     Cabanga ngomthandazo wokuzisola uJona awutsho esesiswini senhlanzi enkulu .\n",
            "2021-10-06 11:29:50,235 - INFO - joeynmt.training - \tReference:  For instance , consider Jonah ’ s contrite prayer from the belly of a huge fish .\n",
            "2021-10-06 11:29:50,235 - INFO - joeynmt.training - \tHypothesis: For example , we can learn that Jehovah ’ s Word is a source of the Memorial .\n",
            "2021-10-06 11:29:50,235 - INFO - joeynmt.training - Validation result (greedy) at epoch   4, step     4000: bleu:   9.67, loss: 88451.7812, ppl:  22.3723, duration: 54.4081s\n",
            "2021-10-06 11:30:19,222 - INFO - joeynmt.training - Epoch   4: total training loss 3414.49\n",
            "2021-10-06 11:30:19,223 - INFO - joeynmt.training - EPOCH 5\n",
            "2021-10-06 11:30:25,644 - INFO - joeynmt.training - Epoch   5, Step:     4100, Batch Loss:     3.282528, Tokens per Sec:     4287, Lr: 0.000300\n",
            "2021-10-06 11:31:00,731 - INFO - joeynmt.training - Epoch   5, Step:     4200, Batch Loss:     3.239242, Tokens per Sec:     4297, Lr: 0.000300\n",
            "2021-10-06 11:31:36,223 - INFO - joeynmt.training - Epoch   5, Step:     4300, Batch Loss:     3.171777, Tokens per Sec:     4258, Lr: 0.000300\n",
            "2021-10-06 11:32:11,624 - INFO - joeynmt.training - Epoch   5, Step:     4400, Batch Loss:     3.185856, Tokens per Sec:     4360, Lr: 0.000300\n",
            "2021-10-06 11:32:46,722 - INFO - joeynmt.training - Epoch   5, Step:     4500, Batch Loss:     3.241971, Tokens per Sec:     4313, Lr: 0.000300\n",
            "2021-10-06 11:33:22,290 - INFO - joeynmt.training - Epoch   5, Step:     4600, Batch Loss:     3.230021, Tokens per Sec:     4240, Lr: 0.000300\n",
            "2021-10-06 11:33:57,606 - INFO - joeynmt.training - Epoch   5, Step:     4700, Batch Loss:     3.207567, Tokens per Sec:     4191, Lr: 0.000300\n",
            "2021-10-06 11:34:32,823 - INFO - joeynmt.training - Epoch   5, Step:     4800, Batch Loss:     3.050329, Tokens per Sec:     4182, Lr: 0.000300\n",
            "2021-10-06 11:35:08,469 - INFO - joeynmt.training - Epoch   5, Step:     4900, Batch Loss:     3.227000, Tokens per Sec:     4234, Lr: 0.000300\n",
            "2021-10-06 11:35:43,589 - INFO - joeynmt.training - Epoch   5, Step:     5000, Batch Loss:     3.353244, Tokens per Sec:     4240, Lr: 0.000300\n",
            "2021-10-06 11:36:37,038 - WARNING - sacrebleu - That's 100 lines that end in a tokenized period ('.')\n",
            "2021-10-06 11:36:37,038 - WARNING - sacrebleu - It looks like you forgot to detokenize your test data, which may hurt your score.\n",
            "2021-10-06 11:36:37,038 - WARNING - sacrebleu - If you insist your data is detokenized, or don't care, you can suppress this message with the `force` parameter.\n",
            "2021-10-06 11:36:37,044 - INFO - joeynmt.training - Hooray! New best validation result [ppl]!\n",
            "2021-10-06 11:36:37,467 - INFO - joeynmt.helpers - delete models/nden_reverse_transformer/2000.ckpt\n",
            "2021-10-06 11:36:37,488 - INFO - joeynmt.training - Example #0\n",
            "2021-10-06 11:36:37,488 - INFO - joeynmt.training - \tSource:     ( Josh . 3 : 12 - 17 ) Cabanga ukuthi kwakumangalisa kangakanani ukubona umfula lowo owawuzondile umiswa !\n",
            "2021-10-06 11:36:37,489 - INFO - joeynmt.training - \tReference:  ( See paragraphs 17 , 18 )\n",
            "2021-10-06 11:36:37,489 - INFO - joeynmt.training - \tHypothesis: ( Josh . 3 : 13-17 ) What a person ’ s memorial is not to be a blood !\n",
            "2021-10-06 11:36:37,489 - INFO - joeynmt.training - Example #1\n",
            "2021-10-06 11:36:37,489 - INFO - joeynmt.training - \tSource:     UJesu wathi : “ Kakho ongeza kimi ngaphandle kokuthi uBaba ongithumileyo amsondeze . ”\n",
            "2021-10-06 11:36:37,489 - INFO - joeynmt.training - \tReference:  “ No man can come to me unless the Father , who sent me , draws him , ” said Jesus .\n",
            "2021-10-06 11:36:37,489 - INFO - joeynmt.training - \tHypothesis: Jesus said : “ You will be a bond of the Father , and you will be a blood of the Father . ”\n",
            "2021-10-06 11:36:37,489 - INFO - joeynmt.training - Example #2\n",
            "2021-10-06 11:36:37,490 - INFO - joeynmt.training - \tSource:     IBhayibhili lithi : ‘ Ilizwi ngesikhathi salo , lihle kangakanani . ’\n",
            "2021-10-06 11:36:37,490 - INFO - joeynmt.training - \tReference:  The Bible states : “ A word spoken at the right time — how good it is ! ”\n",
            "2021-10-06 11:36:37,490 - INFO - joeynmt.training - \tHypothesis: The Bible says : “ The Bible is the good news of the truth . ”\n",
            "2021-10-06 11:36:37,490 - INFO - joeynmt.training - Example #3\n",
            "2021-10-06 11:36:37,490 - INFO - joeynmt.training - \tSource:     Cabanga ngomthandazo wokuzisola uJona awutsho esesiswini senhlanzi enkulu .\n",
            "2021-10-06 11:36:37,490 - INFO - joeynmt.training - \tReference:  For instance , consider Jonah ’ s contrite prayer from the belly of a huge fish .\n",
            "2021-10-06 11:36:37,490 - INFO - joeynmt.training - \tHypothesis: Consider what the Bible says about Just as a Saul ’ s heart is a blood .\n",
            "2021-10-06 11:36:37,491 - INFO - joeynmt.training - Validation result (greedy) at epoch   5, step     5000: bleu:  11.35, loss: 84341.8906, ppl:  19.3641, duration: 53.9011s\n",
            "2021-10-06 11:37:12,989 - INFO - joeynmt.training - Epoch   5, Step:     5100, Batch Loss:     3.249578, Tokens per Sec:     4302, Lr: 0.000300\n",
            "2021-10-06 11:37:13,668 - INFO - joeynmt.training - Epoch   5: total training loss 3253.63\n",
            "2021-10-06 11:37:13,669 - INFO - joeynmt.training - Training ended after   5 epochs.\n",
            "2021-10-06 11:37:13,669 - INFO - joeynmt.training - Best validation result (greedy) at step     5000:  19.36 ppl.\n",
            "2021-10-06 11:37:13,692 - INFO - joeynmt.prediction - Process device: cuda, n_gpu: 1, batch_size per device: 3600\n",
            "2021-10-06 11:37:13,693 - INFO - joeynmt.prediction - Loading model from models/nden_reverse_transformer/5000.ckpt\n",
            "2021-10-06 11:37:13,904 - INFO - joeynmt.model - Building an encoder-decoder model...\n",
            "2021-10-06 11:37:14,146 - INFO - joeynmt.model - Enc-dec model built.\n",
            "2021-10-06 11:37:14,225 - INFO - joeynmt.prediction - Decoding on dev set (data/nden/dev.bpe.en)...\n",
            "2021-10-06 11:39:39,812 - WARNING - sacrebleu - That's 100 lines that end in a tokenized period ('.')\n",
            "2021-10-06 11:39:39,813 - WARNING - sacrebleu - It looks like you forgot to detokenize your test data, which may hurt your score.\n",
            "2021-10-06 11:39:39,813 - WARNING - sacrebleu - If you insist your data is detokenized, or don't care, you can suppress this message with the `force` parameter.\n",
            "2021-10-06 11:39:39,819 - INFO - joeynmt.prediction -  dev bleu[13a]:  11.88 [Beam search decoding with beam size = 5 and alpha = 1.0]\n",
            "2021-10-06 11:39:39,820 - INFO - joeynmt.prediction - Translations saved to: models/nden_reverse_transformer/00005000.hyps.dev\n",
            "2021-10-06 11:39:39,820 - INFO - joeynmt.prediction - Decoding on test set (data/nden/test.bpe.en)...\n",
            "2021-10-06 11:44:02,094 - WARNING - sacrebleu - That's 100 lines that end in a tokenized period ('.')\n",
            "2021-10-06 11:44:02,095 - WARNING - sacrebleu - It looks like you forgot to detokenize your test data, which may hurt your score.\n",
            "2021-10-06 11:44:02,095 - WARNING - sacrebleu - If you insist your data is detokenized, or don't care, you can suppress this message with the `force` parameter.\n",
            "2021-10-06 11:44:02,108 - INFO - joeynmt.prediction - test bleu[13a]:  13.94 [Beam search decoding with beam size = 5 and alpha = 1.0]\n",
            "2021-10-06 11:44:02,110 - INFO - joeynmt.prediction - Translations saved to: models/nden_reverse_transformer/00005000.hyps.test\n"
          ]
        }
      ]
    },
    {
      "cell_type": "code",
      "metadata": {
        "id": "MBoDS09JM807"
      },
      "source": [
        "# Copy the created models from the notebook storage to google drive for persistant storage \n",
        "!cp -r joeynmt/models/${tgt}${src}_reverse_transformer/* \"$gdrive_path/\""
      ],
      "execution_count": null,
      "outputs": []
    },
    {
      "cell_type": "code",
      "metadata": {
        "id": "n94wlrCjVc17",
        "colab": {
          "base_uri": "https://localhost:8080/"
        },
        "outputId": "650488de-42b8-4f7c-c42b-2c70b1c22a69"
      },
      "source": [
        "# Output our validation accuracy\n",
        "! cat \"$gdrive_path/validations.txt\""
      ],
      "execution_count": null,
      "outputs": [
        {
          "output_type": "stream",
          "name": "stdout",
          "text": [
            "Steps: 1000\tLoss: 118540.66406\tPPL: 64.39404\tbleu: 1.74041\tLR: 0.00030000\t*\n",
            "Steps: 2000\tLoss: 104069.98438\tPPL: 38.72874\tbleu: 3.94350\tLR: 0.00030000\t*\n",
            "Steps: 3000\tLoss: 94154.51562\tPPL: 27.33572\tbleu: 8.39724\tLR: 0.00030000\t*\n",
            "Steps: 4000\tLoss: 88451.78125\tPPL: 22.37231\tbleu: 9.66833\tLR: 0.00030000\t*\n",
            "Steps: 5000\tLoss: 84341.89062\tPPL: 19.36408\tbleu: 11.35064\tLR: 0.00030000\t*\n"
          ]
        }
      ]
    },
    {
      "cell_type": "code",
      "metadata": {
        "id": "66WhRE9lIhoD",
        "colab": {
          "base_uri": "https://localhost:8080/"
        },
        "outputId": "654868f1-d7ba-4ae1-9089-f5a4d42d758d"
      },
      "source": [
        "# Test our model\n",
        "! cd joeynmt; python3 -m joeynmt test \"$gdrive_path/config.yaml\""
      ],
      "execution_count": null,
      "outputs": [
        {
          "output_type": "stream",
          "name": "stdout",
          "text": [
            "2021-10-06 11:55:26,434 - INFO - root - Hello! This is Joey-NMT (version 1.3).\n",
            "2021-10-06 11:55:26,435 - INFO - joeynmt.data - Building vocabulary...\n",
            "2021-10-06 11:55:26,709 - INFO - joeynmt.data - Loading dev data...\n",
            "2021-10-06 11:55:26,727 - INFO - joeynmt.data - Loading test data...\n",
            "2021-10-06 11:55:26,780 - INFO - joeynmt.data - Data loaded.\n",
            "2021-10-06 11:55:26,803 - INFO - joeynmt.prediction - Process device: cuda, n_gpu: 1, batch_size per device: 3600\n",
            "2021-10-06 11:55:26,804 - INFO - joeynmt.prediction - Loading model from models/nden_reverse_transformer/latest.ckpt\n",
            "2021-10-06 11:55:29,064 - INFO - joeynmt.model - Building an encoder-decoder model...\n",
            "2021-10-06 11:55:29,305 - INFO - joeynmt.model - Enc-dec model built.\n",
            "2021-10-06 11:55:29,385 - INFO - joeynmt.prediction - Decoding on dev set (data/nden/dev.bpe.en)...\n",
            "2021-10-06 11:57:55,713 - WARNING - sacrebleu - That's 100 lines that end in a tokenized period ('.')\n",
            "2021-10-06 11:57:55,713 - WARNING - sacrebleu - It looks like you forgot to detokenize your test data, which may hurt your score.\n",
            "2021-10-06 11:57:55,713 - WARNING - sacrebleu - If you insist your data is detokenized, or don't care, you can suppress this message with the `force` parameter.\n",
            "2021-10-06 11:57:55,718 - INFO - joeynmt.prediction -  dev bleu[13a]:  11.88 [Beam search decoding with beam size = 5 and alpha = 1.0]\n",
            "2021-10-06 11:57:55,719 - INFO - joeynmt.prediction - Decoding on test set (data/nden/test.bpe.en)...\n",
            "2021-10-06 12:02:18,318 - WARNING - sacrebleu - That's 100 lines that end in a tokenized period ('.')\n",
            "2021-10-06 12:02:18,318 - WARNING - sacrebleu - It looks like you forgot to detokenize your test data, which may hurt your score.\n",
            "2021-10-06 12:02:18,319 - WARNING - sacrebleu - If you insist your data is detokenized, or don't care, you can suppress this message with the `force` parameter.\n",
            "2021-10-06 12:02:18,331 - INFO - joeynmt.prediction - test bleu[13a]:  13.94 [Beam search decoding with beam size = 5 and alpha = 1.0]\n"
          ]
        }
      ]
    }
  ]
}