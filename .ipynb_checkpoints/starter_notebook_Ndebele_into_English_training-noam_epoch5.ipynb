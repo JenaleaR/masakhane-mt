{
  "nbformat": 4,
  "nbformat_minor": 0,
  "metadata": {
    "accelerator": "GPU",
    "colab": {
      "name": "starter_notebook_reverse_training.ipynb",
      "provenance": [],
      "collapsed_sections": [],
      "include_colab_link": true
    },
    "kernelspec": {
      "display_name": "Python 3",
      "language": "python",
      "name": "python3"
    },
    "language_info": {
      "codemirror_mode": {
        "name": "ipython",
        "version": 3
      },
      "file_extension": ".py",
      "mimetype": "text/x-python",
      "name": "python",
      "nbconvert_exporter": "python",
      "pygments_lexer": "ipython3",
      "version": "3.7.3"
    }
  },
  "cells": [
    {
      "cell_type": "markdown",
      "metadata": {
        "id": "view-in-github",
        "colab_type": "text"
      },
      "source": [
        "<a href=\"https://colab.research.google.com/github/JenaleaR/masakhane-mt/blob/master/.ipynb_checkpoints/starter_notebook_Ndebele_into_English_training-noam_epoch5.ipynb\" target=\"_parent\"><img src=\"https://colab.research.google.com/assets/colab-badge.svg\" alt=\"Open In Colab\"/></a>"
      ]
    },
    {
      "cell_type": "markdown",
      "metadata": {
        "id": "Igc5itf-xMGj"
      },
      "source": [
        "# Masakhane - Reverse Machine Translation for African Languages (Using JoeyNMT)"
      ]
    },
    {
      "cell_type": "markdown",
      "metadata": {
        "id": "ohw_p0iWcRuh"
      },
      "source": [
        "> ## NB\n",
        ">### - The purpose of this Notebook is to build models that translate African languages(target language) *into* English(source language). This will allow us to in future be able to make translations from one African language to the other. If you'd like to translate *from* English, please use [this](https://github.com/masakhane-io/masakhane-mt/blob/master/starter_notebook.ipynb) starter notebook instead.\n",
        "\n",
        ">### - We call this reverse training because normally we build models that make translations from the source language(English) to the target language. But in this case we are doing the reverse; building models that make translations from the target language to the source(English)"
      ]
    },
    {
      "cell_type": "markdown",
      "metadata": {
        "id": "x4fXCKCf36IK"
      },
      "source": [
        "## Note before beginning:\n",
        "### - The idea is that you should be able to make minimal changes to this in order to get SOME result for your own translation corpus. \n",
        "\n",
        "### - The tl;dr: Go to the **\"TODO\"** comments which will tell you what to update to get up and running\n",
        "\n",
        "### - If you actually want to have a clue what you're doing, read the text and peek at the links\n",
        "\n",
        "### - With 100 epochs, it should take around 7 hours to run in Google Colab\n",
        "\n",
        "### - Once you've gotten a result for your language, please attach and email your notebook that generated it to masakhanetranslation@gmail.com\n",
        "\n",
        "### - If you care enough and get a chance, doing a brief background on your language would be amazing. See examples in  [(Martinus, 2019)](https://arxiv.org/abs/1906.05685)"
      ]
    },
    {
      "cell_type": "markdown",
      "metadata": {
        "id": "l929HimrxS0a"
      },
      "source": [
        "## Retrieve your data & make a parallel corpus\n",
        "\n",
        "If you are wanting to use the JW300 data referenced on the Masakhane website or in our GitHub repo, you can use `opus-tools` to convert the data into a convenient format. `opus_read` from that package provides a convenient tool for reading the native aligned XML files and to convert them to TMX format. The tool can also be used to fetch relevant files from OPUS on the fly and to filter the data as necessary. [Read the documentation](https://pypi.org/project/opustools-pkg/) for more details.\n",
        "\n",
        "Once you have your corpus files in TMX format (an xml structure which will include the sentences in your target language and your source language in a single file), we recommend reading them into a pandas dataframe. Thankfully, Jade wrote a silly `tmx2dataframe` package which converts your tmx file to a pandas dataframe. "
      ]
    },
    {
      "cell_type": "code",
      "metadata": {
        "colab": {
          "base_uri": "https://localhost:8080/"
        },
        "id": "oGRmDELn7Az0",
        "outputId": "e7e9c81c-3cff-4f68-b42f-7e0d893f89be"
      },
      "source": [
        "from google.colab import drive\n",
        "drive.mount('/content/drive')"
      ],
      "execution_count": 1,
      "outputs": [
        {
          "output_type": "stream",
          "name": "stdout",
          "text": [
            "Mounted at /content/drive\n"
          ]
        }
      ]
    },
    {
      "cell_type": "code",
      "metadata": {
        "id": "Cn3tgQLzUxwn"
      },
      "source": [
        "# TODO: Set your source and target languages. Keep in mind, these traditionally use language codes as found here:\n",
        "# These will also become the suffix's of all vocab and corpus files used throughout\n",
        "import os\n",
        "source_language = \"en\"\n",
        "target_language = \"nd\" \n",
        "lc = False  # If True, lowercase the data.\n",
        "seed = 42  # Random seed for shuffling.\n",
        "tag = \"baseline_Noam_5_epochs\" # Give a unique name to your folder - this is to ensure you don't rewrite any models you've already submitted\n",
        "\n",
        "os.environ[\"src\"] = source_language # Sets them in bash as well, since we often use bash scripts\n",
        "os.environ[\"tgt\"] = target_language\n",
        "os.environ[\"tag\"] = tag\n",
        "\n",
        "# This will save it to a folder in our gdrive instead!\n",
        "!mkdir -p \"/content/drive/My Drive/masakhane/$tgt-$src-$tag\"\n",
        "os.environ[\"gdrive_path\"] = \"/content/drive/My Drive/masakhane/%s-%s-%s\" % (target_language, source_language, tag)"
      ],
      "execution_count": 2,
      "outputs": []
    },
    {
      "cell_type": "code",
      "metadata": {
        "colab": {
          "base_uri": "https://localhost:8080/"
        },
        "id": "kBSgJHEw7Nvx",
        "outputId": "01423aeb-fcb7-4ab7-dbc2-c7b83dade1ec"
      },
      "source": [
        "!echo $gdrive_path"
      ],
      "execution_count": 3,
      "outputs": [
        {
          "output_type": "stream",
          "name": "stdout",
          "text": [
            "/content/drive/My Drive/masakhane/nd-en-baseline_Noam_5_epochs\n"
          ]
        }
      ]
    },
    {
      "cell_type": "code",
      "metadata": {
        "colab": {
          "base_uri": "https://localhost:8080/"
        },
        "id": "gA75Fs9ys8Y9",
        "outputId": "ec8177db-6ce8-4d66-bcdf-41300a59f837"
      },
      "source": [
        "# Install opus-tools\n",
        "! pip install opustools-pkg"
      ],
      "execution_count": 4,
      "outputs": [
        {
          "output_type": "stream",
          "name": "stdout",
          "text": [
            "Collecting opustools-pkg\n",
            "  Downloading opustools_pkg-0.0.52-py3-none-any.whl (80 kB)\n",
            "\u001b[?25l\r\u001b[K     |████                            | 10 kB 15.9 MB/s eta 0:00:01\r\u001b[K     |████████                        | 20 kB 20.1 MB/s eta 0:00:01\r\u001b[K     |████████████▏                   | 30 kB 20.1 MB/s eta 0:00:01\r\u001b[K     |████████████████▏               | 40 kB 17.4 MB/s eta 0:00:01\r\u001b[K     |████████████████████▎           | 51 kB 5.7 MB/s eta 0:00:01\r\u001b[K     |████████████████████████▎       | 61 kB 6.1 MB/s eta 0:00:01\r\u001b[K     |████████████████████████████▎   | 71 kB 5.6 MB/s eta 0:00:01\r\u001b[K     |████████████████████████████████| 80 kB 4.0 MB/s \n",
            "\u001b[?25hInstalling collected packages: opustools-pkg\n",
            "Successfully installed opustools-pkg-0.0.52\n"
          ]
        }
      ]
    },
    {
      "cell_type": "code",
      "metadata": {
        "colab": {
          "base_uri": "https://localhost:8080/"
        },
        "id": "xq-tDZVks7ZD",
        "outputId": "9361a42f-1612-4669-d513-8a2362882ebf"
      },
      "source": [
        "# Downloading our corpus\n",
        "! opus_read -d JW300 -s $src -t $tgt -wm moses -w jw300.$src jw300.$tgt -q\n",
        "\n",
        "# extract the corpus file\n",
        "! gunzip JW300_latest_xml_$src-$tgt.xml.gz"
      ],
      "execution_count": 5,
      "outputs": [
        {
          "output_type": "stream",
          "name": "stdout",
          "text": [
            "\n",
            "Alignment file /proj/nlpl/data/OPUS/JW300/latest/xml/en-nd.xml.gz not found. The following files are available for downloading:\n",
            "\n",
            " 688 KB https://object.pouta.csc.fi/OPUS-JW300/v1c/xml/en-nd.xml.gz\n",
            " 274 MB https://object.pouta.csc.fi/OPUS-JW300/v1c/xml/en.zip\n",
            "   6 MB https://object.pouta.csc.fi/OPUS-JW300/v1c/xml/nd.zip\n",
            "\n",
            " 280 MB Total size\n",
            "./JW300_latest_xml_en-nd.xml.gz ... 100% of 688 KB\n",
            "./JW300_latest_xml_en.zip ... 100% of 274 MB\n",
            "./JW300_latest_xml_nd.zip ... 100% of 6 MB\n"
          ]
        }
      ]
    },
    {
      "cell_type": "code",
      "metadata": {
        "colab": {
          "base_uri": "https://localhost:8080/"
        },
        "id": "n48GDRnP8y2G",
        "outputId": "232b1d68-1290-4985-fac4-156e647e5721"
      },
      "source": [
        "# Download the global test set.\n",
        "! wget https://raw.githubusercontent.com/juliakreutzer/masakhane/master/jw300_utils/test/test.en-any.en\n",
        "  \n",
        "# And the specific test set for this language pair.\n",
        "os.environ[\"trg\"] = target_language \n",
        "os.environ[\"src\"] = source_language \n",
        "\n",
        "! wget https://raw.githubusercontent.com/juliakreutzer/masakhane/master/jw300_utils/test/test.en-$trg.en \n",
        "! mv test.en-$trg.en test.en\n",
        "! wget https://raw.githubusercontent.com/juliakreutzer/masakhane/master/jw300_utils/test/test.en-$trg.$trg \n",
        "! mv test.en-$trg.$trg test.$trg"
      ],
      "execution_count": 6,
      "outputs": [
        {
          "output_type": "stream",
          "name": "stdout",
          "text": [
            "--2021-10-08 08:39:28--  https://raw.githubusercontent.com/juliakreutzer/masakhane/master/jw300_utils/test/test.en-any.en\n",
            "Resolving raw.githubusercontent.com (raw.githubusercontent.com)... 185.199.108.133, 185.199.109.133, 185.199.110.133, ...\n",
            "Connecting to raw.githubusercontent.com (raw.githubusercontent.com)|185.199.108.133|:443... connected.\n",
            "HTTP request sent, awaiting response... 200 OK\n",
            "Length: 277791 (271K) [text/plain]\n",
            "Saving to: ‘test.en-any.en’\n",
            "\n",
            "test.en-any.en      100%[===================>] 271.28K  --.-KB/s    in 0.03s   \n",
            "\n",
            "2021-10-08 08:39:28 (8.69 MB/s) - ‘test.en-any.en’ saved [277791/277791]\n",
            "\n",
            "--2021-10-08 08:39:28--  https://raw.githubusercontent.com/juliakreutzer/masakhane/master/jw300_utils/test/test.en-nd.en\n",
            "Resolving raw.githubusercontent.com (raw.githubusercontent.com)... 185.199.108.133, 185.199.109.133, 185.199.110.133, ...\n",
            "Connecting to raw.githubusercontent.com (raw.githubusercontent.com)|185.199.108.133|:443... connected.\n",
            "HTTP request sent, awaiting response... 200 OK\n",
            "Length: 199900 (195K) [text/plain]\n",
            "Saving to: ‘test.en-nd.en’\n",
            "\n",
            "test.en-nd.en       100%[===================>] 195.21K  --.-KB/s    in 0.02s   \n",
            "\n",
            "2021-10-08 08:39:28 (7.71 MB/s) - ‘test.en-nd.en’ saved [199900/199900]\n",
            "\n",
            "--2021-10-08 08:39:28--  https://raw.githubusercontent.com/juliakreutzer/masakhane/master/jw300_utils/test/test.en-nd.nd\n",
            "Resolving raw.githubusercontent.com (raw.githubusercontent.com)... 185.199.108.133, 185.199.109.133, 185.199.110.133, ...\n",
            "Connecting to raw.githubusercontent.com (raw.githubusercontent.com)|185.199.108.133|:443... connected.\n",
            "HTTP request sent, awaiting response... 200 OK\n",
            "Length: 211519 (207K) [text/plain]\n",
            "Saving to: ‘test.en-nd.nd’\n",
            "\n",
            "test.en-nd.nd       100%[===================>] 206.56K  --.-KB/s    in 0.03s   \n",
            "\n",
            "2021-10-08 08:39:29 (7.84 MB/s) - ‘test.en-nd.nd’ saved [211519/211519]\n",
            "\n"
          ]
        }
      ]
    },
    {
      "cell_type": "code",
      "metadata": {
        "colab": {
          "base_uri": "https://localhost:8080/"
        },
        "id": "NqDG-CI28y2L",
        "outputId": "9d941b17-a17e-4c9e-ae03-d1b685e2168a"
      },
      "source": [
        "# Read the test data to filter from train and dev splits.\n",
        "# Store english portion in set for quick filtering checks.\n",
        "en_test_sents = set()\n",
        "filter_test_sents = \"test.en-any.en\"\n",
        "j = 0\n",
        "with open(filter_test_sents) as f:\n",
        "  for line in f:\n",
        "    en_test_sents.add(line.strip())\n",
        "    j += 1\n",
        "print('Loaded {} global test sentences to filter from the training/dev data.'.format(j))"
      ],
      "execution_count": 7,
      "outputs": [
        {
          "output_type": "stream",
          "name": "stdout",
          "text": [
            "Loaded 3571 global test sentences to filter from the training/dev data.\n"
          ]
        }
      ]
    },
    {
      "cell_type": "code",
      "metadata": {
        "colab": {
          "base_uri": "https://localhost:8080/",
          "height": 162
        },
        "id": "3CNdwLBCfSIl",
        "outputId": "70ef64fd-05cf-4db5-f429-45fe445cade4"
      },
      "source": [
        "import pandas as pd\n",
        "\n",
        "# TMX file to dataframe\n",
        "source_file = 'jw300.' + source_language\n",
        "target_file = 'jw300.' + target_language\n",
        "\n",
        "source = []\n",
        "target = []\n",
        "skip_lines = []  # Collect the line numbers of the source portion to skip the same lines for the target portion.\n",
        "with open(source_file) as f:\n",
        "    for i, line in enumerate(f):\n",
        "        # Skip sentences that are contained in the test set.\n",
        "        if line.strip() not in en_test_sents:\n",
        "            source.append(line.strip())\n",
        "        else:\n",
        "            skip_lines.append(i)             \n",
        "with open(target_file) as f:\n",
        "    for j, line in enumerate(f):\n",
        "        # Only add to corpus if corresponding source was not skipped.\n",
        "        if j not in skip_lines:\n",
        "            target.append(line.strip())\n",
        "    \n",
        "print('Loaded data and skipped {}/{} lines since contained in test set.'.format(len(skip_lines), i))\n",
        "    \n",
        "df = pd.DataFrame(zip(source, target), columns=['source_sentence', 'target_sentence'])\n",
        "# if you get TypeError: data argument can't be an iterator is because of your zip version run this below\n",
        "#df = pd.DataFrame(list(zip(source, target)), columns=['source_sentence', 'target_sentence'])\n",
        "df.head(3)"
      ],
      "execution_count": 8,
      "outputs": [
        {
          "output_type": "stream",
          "name": "stdout",
          "text": [
            "Loaded data and skipped 2541/65649 lines since contained in test set.\n"
          ]
        },
        {
          "output_type": "execute_result",
          "data": {
            "text/html": [
              "<div>\n",
              "<style scoped>\n",
              "    .dataframe tbody tr th:only-of-type {\n",
              "        vertical-align: middle;\n",
              "    }\n",
              "\n",
              "    .dataframe tbody tr th {\n",
              "        vertical-align: top;\n",
              "    }\n",
              "\n",
              "    .dataframe thead th {\n",
              "        text-align: right;\n",
              "    }\n",
              "</style>\n",
              "<table border=\"1\" class=\"dataframe\">\n",
              "  <thead>\n",
              "    <tr style=\"text-align: right;\">\n",
              "      <th></th>\n",
              "      <th>source_sentence</th>\n",
              "      <th>target_sentence</th>\n",
              "    </tr>\n",
              "  </thead>\n",
              "  <tbody>\n",
              "    <tr>\n",
              "      <th>0</th>\n",
              "      <td>How to Harness Your Habits</td>\n",
              "      <td>Ongakwenza Ukuze Ube Lemikhuba Emihle</td>\n",
              "    </tr>\n",
              "    <tr>\n",
              "      <th>1</th>\n",
              "      <td>No. 4 2016</td>\n",
              "      <td>No . 4 2016</td>\n",
              "    </tr>\n",
              "    <tr>\n",
              "      <th>2</th>\n",
              "      <td>This publication is not for sale .</td>\n",
              "      <td>Imagazini le kayithengiswa .</td>\n",
              "    </tr>\n",
              "  </tbody>\n",
              "</table>\n",
              "</div>"
            ],
            "text/plain": [
              "                      source_sentence                        target_sentence\n",
              "0          How to Harness Your Habits  Ongakwenza Ukuze Ube Lemikhuba Emihle\n",
              "1                          No. 4 2016                            No . 4 2016\n",
              "2  This publication is not for sale .           Imagazini le kayithengiswa ."
            ]
          },
          "metadata": {},
          "execution_count": 8
        }
      ]
    },
    {
      "cell_type": "markdown",
      "metadata": {
        "id": "YkuK3B4p2AkN"
      },
      "source": [
        "## Pre-processing and export\n",
        "\n",
        "It is generally a good idea to remove duplicate translations and conflicting translations from the corpus. In practice, these public corpora include some number of these that need to be cleaned.\n",
        "\n",
        "In addition we will split our data into dev/test/train and export to the filesystem."
      ]
    },
    {
      "cell_type": "code",
      "metadata": {
        "colab": {
          "base_uri": "https://localhost:8080/"
        },
        "id": "M_2ouEOH1_1q",
        "outputId": "415d9f3b-1994-4204-a9dd-e584550961c9"
      },
      "source": [
        "# drop duplicate translations\n",
        "df_pp = df.drop_duplicates()\n",
        "\n",
        "# drop conflicting translations\n",
        "# (this is optional and something that you might want to comment out \n",
        "# depending on the size of your corpus)\n",
        "df_pp.drop_duplicates(subset='source_sentence', inplace=True)\n",
        "df_pp.drop_duplicates(subset='target_sentence', inplace=True)\n",
        "\n",
        "# Shuffle the data to remove bias in dev set selection.\n",
        "df_pp = df_pp.sample(frac=1, random_state=seed).reset_index(drop=True)"
      ],
      "execution_count": 9,
      "outputs": [
        {
          "output_type": "stream",
          "name": "stderr",
          "text": [
            "/usr/local/lib/python3.7/dist-packages/ipykernel_launcher.py:7: SettingWithCopyWarning: \n",
            "A value is trying to be set on a copy of a slice from a DataFrame\n",
            "\n",
            "See the caveats in the documentation: https://pandas.pydata.org/pandas-docs/stable/user_guide/indexing.html#returning-a-view-versus-a-copy\n",
            "  import sys\n",
            "/usr/local/lib/python3.7/dist-packages/ipykernel_launcher.py:8: SettingWithCopyWarning: \n",
            "A value is trying to be set on a copy of a slice from a DataFrame\n",
            "\n",
            "See the caveats in the documentation: https://pandas.pydata.org/pandas-docs/stable/user_guide/indexing.html#returning-a-view-versus-a-copy\n",
            "  \n"
          ]
        }
      ]
    },
    {
      "cell_type": "code",
      "metadata": {
        "colab": {
          "base_uri": "https://localhost:8080/"
        },
        "id": "Z_1BwAApEtMk",
        "outputId": "6dd0fe69-1f8f-4770-9c39-fc099a44781b"
      },
      "source": [
        "# Install fuzzy wuzzy to remove \"almost duplicate\" sentences in the\n",
        "# test and training sets.\n",
        "! pip install fuzzywuzzy\n",
        "! pip install python-Levenshtein\n",
        "import time\n",
        "from fuzzywuzzy import process\n",
        "import numpy as np\n",
        "from os import cpu_count\n",
        "from functools import partial\n",
        "from multiprocessing import Pool\n",
        "\n",
        "\n",
        "# reset the index of the training set after previous filtering\n",
        "df_pp.reset_index(drop=False, inplace=True)\n",
        "\n",
        "# Remove samples from the training data set if they \"almost overlap\" with the\n",
        "# samples in the test set.\n",
        "\n",
        "# Filtering function. Adjust pad to narrow down the candidate matches to\n",
        "# within a certain length of characters of the given sample.\n",
        "def fuzzfilter(sample, candidates, pad):\n",
        "  candidates = [x for x in candidates if len(x) <= len(sample)+pad and len(x) >= len(sample)-pad] \n",
        "  if len(candidates) > 0:\n",
        "    return process.extractOne(sample, candidates)[1]\n",
        "  else:\n",
        "    return np.nan"
      ],
      "execution_count": 10,
      "outputs": [
        {
          "output_type": "stream",
          "name": "stdout",
          "text": [
            "Collecting fuzzywuzzy\n",
            "  Downloading fuzzywuzzy-0.18.0-py2.py3-none-any.whl (18 kB)\n",
            "Installing collected packages: fuzzywuzzy\n",
            "Successfully installed fuzzywuzzy-0.18.0\n",
            "Collecting python-Levenshtein\n",
            "  Downloading python-Levenshtein-0.12.2.tar.gz (50 kB)\n",
            "\u001b[K     |████████████████████████████████| 50 kB 3.1 MB/s \n",
            "\u001b[?25hRequirement already satisfied: setuptools in /usr/local/lib/python3.7/dist-packages (from python-Levenshtein) (57.4.0)\n",
            "Building wheels for collected packages: python-Levenshtein\n",
            "  Building wheel for python-Levenshtein (setup.py) ... \u001b[?25l\u001b[?25hdone\n",
            "  Created wheel for python-Levenshtein: filename=python_Levenshtein-0.12.2-cp37-cp37m-linux_x86_64.whl size=149861 sha256=d016dded178eeacf94e2af7a33e27088a01df8cd5c921a94e03187a14a187e20\n",
            "  Stored in directory: /root/.cache/pip/wheels/05/5f/ca/7c4367734892581bb5ff896f15027a932c551080b2abd3e00d\n",
            "Successfully built python-Levenshtein\n",
            "Installing collected packages: python-Levenshtein\n",
            "Successfully installed python-Levenshtein-0.12.2\n"
          ]
        }
      ]
    },
    {
      "cell_type": "code",
      "metadata": {
        "id": "92EsgTaY3B4H"
      },
      "source": [
        "# start_time = time.time()\n",
        "# ### iterating over pandas dataframe rows is not recomended, let use multi processing to apply the function\n",
        "\n",
        "# with Pool(cpu_count()-1) as pool:\n",
        "#     scores = pool.map(partial(fuzzfilter, candidates=list(en_test_sents), pad=5), df_pp['source_sentence'])\n",
        "# hours, rem = divmod(time.time() - start_time, 3600)\n",
        "# minutes, seconds = divmod(rem, 60)\n",
        "# print(\"done in {}h:{}min:{}seconds\".format(hours, minutes, seconds))\n",
        "\n",
        "# # Filter out \"almost overlapping samples\"\n",
        "# df_pp = df_pp.assign(scores=scores)\n",
        "# df_pp = df_pp[df_pp['scores'] < 95]"
      ],
      "execution_count": null,
      "outputs": []
    },
    {
      "cell_type": "code",
      "metadata": {
        "colab": {
          "base_uri": "https://localhost:8080/"
        },
        "id": "hxxBOCA-xXhy",
        "outputId": "0ceb5f10-67eb-4d15-d416-b80c4c32f0b6"
      },
      "source": [
        "# This section does the split between train/dev for the parallel corpora then saves them as separate files\n",
        "# We use 1000 dev test and the given test set.\n",
        "import csv\n",
        "\n",
        "# Do the split between dev/train and create parallel corpora\n",
        "num_dev_patterns = 1000\n",
        "\n",
        "# Optional: lower case the corpora - this will make it easier to generalize, but without proper casing.\n",
        "if lc:  # Julia: making lowercasing optional\n",
        "    df_pp[\"source_sentence\"] = df_pp[\"source_sentence\"].str.lower()\n",
        "    df_pp[\"target_sentence\"] = df_pp[\"target_sentence\"].str.lower()\n",
        "\n",
        "# Julia: test sets are already generated\n",
        "dev = df_pp.tail(num_dev_patterns) # Herman: Error in original\n",
        "stripped = df_pp.drop(df_pp.tail(num_dev_patterns).index)\n",
        "\n",
        "with open(\"train.\"+source_language, \"w\") as src_file, open(\"train.\"+target_language, \"w\") as trg_file:\n",
        "  for index, row in stripped.iterrows():\n",
        "    src_file.write(row[\"source_sentence\"]+\"\\n\")\n",
        "    trg_file.write(row[\"target_sentence\"]+\"\\n\")\n",
        "    \n",
        "with open(\"dev.\"+source_language, \"w\") as src_file, open(\"dev.\"+target_language, \"w\") as trg_file:\n",
        "  for index, row in dev.iterrows():\n",
        "    src_file.write(row[\"source_sentence\"]+\"\\n\")\n",
        "    trg_file.write(row[\"target_sentence\"]+\"\\n\")\n",
        "\n",
        "#stripped[[\"source_sentence\"]].to_csv(\"train.\"+source_language, header=False, index=False)  # Herman: Added `header=False` everywhere\n",
        "#stripped[[\"target_sentence\"]].to_csv(\"train.\"+target_language, header=False, index=False)  # Julia: Problematic handling of quotation marks.\n",
        "\n",
        "#dev[[\"source_sentence\"]].to_csv(\"dev.\"+source_language, header=False, index=False)\n",
        "#dev[[\"target_sentence\"]].to_csv(\"dev.\"+target_language, header=False, index=False)\n",
        "\n",
        "# Doublecheck the format below. There should be no extra quotation marks or weird characters.\n",
        "! head train.*\n",
        "! head dev.*"
      ],
      "execution_count": 11,
      "outputs": [
        {
          "output_type": "stream",
          "name": "stdout",
          "text": [
            "==> train.en <==\n",
            "Do you think that he came to regret the decision ?\n",
            "His merits notwithstanding , Rehoboam failed to gain God ’ s favor .\n",
            "Consider the following .\n",
            "Some studies suggest that when selecting a new host , the clown fish has to go through a process of adaptation .\n",
            "What testimony is there that the brothers were very zealous during World War I ?\n",
            "He cured not only leprosy but also every sort of disease and every sort of infirmity among the people .\n",
            "Illustrate how we might prepare now for life in the new world .\n",
            "This prophecy will be fulfilled through Jesus as God ’ s Messianic King .\n",
            "God wants us to resist our bad tendencies .\n",
            "( Gal . 6 : 7 ) Were Jehovah to choose which trials would come upon us , would he not , in effect , be diminishing the gift of free will ?\n",
            "\n",
            "==> train.nd <==\n",
            "Ucabanga ukuthi wazisola yini ngesinqumo sakhe ?\n",
            "Lanxa kukhona okuhle uRehobhowami akwenzayo , uJehova kazange amamukele .\n",
            "Nanku okunye kwakhona .\n",
            "Okunye ukuhlolisisa kuveza ukuthi nxa inhlanzi le isikhethe enye i - anemone efuna ukuhlala phezu kwayo kumele iqale ijayelane layo .\n",
            "Yibuphi ubufakazi obutshengisa ukuthi abazalwane babetshiseka ngesikhathi seMpi Yomhlaba Yokuqala ?\n",
            "Kazange elaphe ubulephero kuphela kodwa wasilisa zonke izifo lemikhuhlane eyayisebantwini .\n",
            "Nika isibonelo esitshengisa ukuthi singakulungiselela njani khathesi ukuphila emhlabeni omutsha .\n",
            "Safunda ukuthi isiphrofetho lesi sizagcwaliswa nguJesu iNkosi enguMesiya .\n",
            "UNkulunkulu kafuni ukuthi senze izinto ezimbi .\n",
            "( Gal . 6 : 7 ) Aluba uJehova ubekhetha izilingo okumele zisehlele ubezabe esesithathela inkululeko yokuzikhethela asinike yona .\n",
            "==> dev.en <==\n",
            "( See paragraphs 17 , 18 )\n",
            "“ No man can come to me unless the Father , who sent me , draws him , ” said Jesus .\n",
            "The Bible states : “ A word spoken at the right time — how good it is ! ”\n",
            "For instance , consider Jonah ’ s contrite prayer from the belly of a huge fish .\n",
            "19 Belief in Jesus ’ resurrection motivates us to do God ’ s will .\n",
            "Meditate on how Jehovah has worked out his will in the past and how he will do so in the future .\n",
            "To analyze how well we are doing in showing love for others , we might ask ourselves : ‘ Am I reaching out to help others in my family , in my congregation , and in my ministry ?\n",
            "Next , to show why he cared , Don had Peter read Romans 10 : 13 , 14 , which explains that “ everyone who calls on the name of Jehovah will be saved . ”\n",
            "REPAIRING DAMAGE TO SPIRITUAL AND FAMILY LIFE\n",
            "To assist individuals desiring to benefit the worldwide work of Jehovah ’ s Witnesses through some form of charitable giving , a brochure entitled Charitable Planning to Benefit Kingdom Service Worldwide has been prepared .\n",
            "\n",
            "==> dev.nd <==\n",
            "( Josh . 3 : 12 - 17 ) Cabanga ukuthi kwakumangalisa kangakanani ukubona umfula lowo owawuzondile umiswa !\n",
            "UJesu wathi : “ Kakho ongeza kimi ngaphandle kokuthi uBaba ongithumileyo amsondeze . ”\n",
            "IBhayibhili lithi : ‘ Ilizwi ngesikhathi salo , lihle kangakanani . ’\n",
            "Cabanga ngomthandazo wokuzisola uJona awutsho esesiswini senhlanzi enkulu .\n",
            "19 Ukukholwa ukuthi uJesu wavuswa kusikhuthaza ukuthi senze intando kaNkulunkulu .\n",
            "Cabangisisa ngokuthi uJehova wayithuthukisa njani injongo yakhe kudala lokuthi uzayithuthukisa njani esikhathini esizayo .\n",
            "Wena uyabathanda yini abanye ? Zibuze imibuzo le : ‘ Ngiyabanceda yini abanye emulini yami , ebandleni lasekutshumayeleni ?\n",
            "Okwesibili uDon wamcela ukuthi abale uRoma 10 : 13 , 14 ukuze abone ukuthi kuyini okwenza azihluphe ngaye . Ivesi le ithi : “ Bonke abakhuleka ebizweni leNkosi bazasindiswa . ”\n",
            "UKULUNGISISA UBUDLELWANO BEMULI KANYE LOKUKHONZA KWAYO OKWASEKUPHAMBANISEKILE\n",
            "Umuntu ofisa ukusebenzisa izindlela lezi kumele ahlale phansi ahlele ukuthi ufuna ukunikela njani . Kwenziwe ibhukwana elithi Charitable Planning to Benefit Kingdom Service Worldwide ukuze lisize labo abafuna ukunikela ngezindlela lezi .\n"
          ]
        }
      ]
    },
    {
      "cell_type": "markdown",
      "metadata": {
        "id": "epeCydmCyS8X"
      },
      "source": [
        "\n",
        "\n",
        "---\n",
        "\n",
        "\n",
        "## Installation of JoeyNMT\n",
        "\n",
        "JoeyNMT is a simple, minimalist NMT package which is useful for learning and teaching. Check out the documentation for JoeyNMT [here](https://joeynmt.readthedocs.io)  "
      ]
    },
    {
      "cell_type": "code",
      "metadata": {
        "colab": {
          "base_uri": "https://localhost:8080/"
        },
        "id": "iBRMm4kMxZ8L",
        "outputId": "493a36f9-d5d2-44e7-d266-d36d9ab338a7"
      },
      "source": [
        "# Install JoeyNMT\n",
        "! git clone https://github.com/joeynmt/joeynmt.git\n",
        "! cd joeynmt; pip3 install .\n",
        "# Install Pytorch with GPU support v1.7.1.\n",
        "! pip install torch==1.9.0+cu101 -f https://download.pytorch.org/whl/torch_stable.html"
      ],
      "execution_count": 12,
      "outputs": [
        {
          "output_type": "stream",
          "name": "stdout",
          "text": [
            "Cloning into 'joeynmt'...\n",
            "remote: Enumerating objects: 3224, done.\u001b[K\n",
            "remote: Counting objects: 100% (273/273), done.\u001b[K\n",
            "remote: Compressing objects: 100% (139/139), done.\u001b[K\n",
            "remote: Total 3224 (delta 157), reused 206 (delta 134), pack-reused 2951\u001b[K\n",
            "Receiving objects: 100% (3224/3224), 8.17 MiB | 15.81 MiB/s, done.\n",
            "Resolving deltas: 100% (2186/2186), done.\n",
            "Processing /content/joeynmt\n",
            "\u001b[33m  DEPRECATION: A future pip version will change local packages to be built in-place without first copying to a temporary directory. We recommend you use --use-feature=in-tree-build to test your packages with this new behavior before it becomes the default.\n",
            "   pip 21.3 will remove support for this functionality. You can find discussion regarding this at https://github.com/pypa/pip/issues/7555.\u001b[0m\n",
            "Requirement already satisfied: future in /usr/local/lib/python3.7/dist-packages (from joeynmt==1.3) (0.16.0)\n",
            "Requirement already satisfied: pillow in /usr/local/lib/python3.7/dist-packages (from joeynmt==1.3) (7.1.2)\n",
            "Requirement already satisfied: numpy>=1.19.5 in /usr/local/lib/python3.7/dist-packages (from joeynmt==1.3) (1.19.5)\n",
            "Requirement already satisfied: setuptools>=41.0.0 in /usr/local/lib/python3.7/dist-packages (from joeynmt==1.3) (57.4.0)\n",
            "Requirement already satisfied: torch>=1.9.0 in /usr/local/lib/python3.7/dist-packages (from joeynmt==1.3) (1.9.0+cu111)\n",
            "Requirement already satisfied: tensorboard>=1.15 in /usr/local/lib/python3.7/dist-packages (from joeynmt==1.3) (2.6.0)\n",
            "Requirement already satisfied: torchtext>=0.10.0 in /usr/local/lib/python3.7/dist-packages (from joeynmt==1.3) (0.10.0)\n",
            "Collecting sacrebleu>=2.0.0\n",
            "  Downloading sacrebleu-2.0.0-py3-none-any.whl (90 kB)\n",
            "\u001b[K     |████████████████████████████████| 90 kB 4.2 MB/s \n",
            "\u001b[?25hCollecting subword-nmt\n",
            "  Downloading subword_nmt-0.3.7-py2.py3-none-any.whl (26 kB)\n",
            "Requirement already satisfied: matplotlib in /usr/local/lib/python3.7/dist-packages (from joeynmt==1.3) (3.2.2)\n",
            "Requirement already satisfied: seaborn in /usr/local/lib/python3.7/dist-packages (from joeynmt==1.3) (0.11.2)\n",
            "Collecting pyyaml>=5.1\n",
            "  Downloading PyYAML-5.4.1-cp37-cp37m-manylinux1_x86_64.whl (636 kB)\n",
            "\u001b[K     |████████████████████████████████| 636 kB 39.1 MB/s \n",
            "\u001b[?25hCollecting pylint>=2.9.6\n",
            "  Downloading pylint-2.11.1-py3-none-any.whl (392 kB)\n",
            "\u001b[K     |████████████████████████████████| 392 kB 43.8 MB/s \n",
            "\u001b[?25hCollecting six==1.12\n",
            "  Downloading six-1.12.0-py2.py3-none-any.whl (10 kB)\n",
            "Collecting wrapt==1.11.1\n",
            "  Downloading wrapt-1.11.1.tar.gz (27 kB)\n",
            "Collecting typing-extensions>=3.10.0\n",
            "  Downloading typing_extensions-3.10.0.2-py3-none-any.whl (26 kB)\n",
            "Collecting platformdirs>=2.2.0\n",
            "  Downloading platformdirs-2.4.0-py3-none-any.whl (14 kB)\n",
            "Requirement already satisfied: toml>=0.7.1 in /usr/local/lib/python3.7/dist-packages (from pylint>=2.9.6->joeynmt==1.3) (0.10.2)\n",
            "Collecting isort<6,>=4.2.5\n",
            "  Downloading isort-5.9.3-py3-none-any.whl (106 kB)\n",
            "\u001b[K     |████████████████████████████████| 106 kB 46.3 MB/s \n",
            "\u001b[?25hCollecting astroid<2.9,>=2.8.0\n",
            "  Downloading astroid-2.8.2-py3-none-any.whl (246 kB)\n",
            "\u001b[K     |████████████████████████████████| 246 kB 49.8 MB/s \n",
            "\u001b[?25hCollecting mccabe<0.7,>=0.6\n",
            "  Downloading mccabe-0.6.1-py2.py3-none-any.whl (8.6 kB)\n",
            "Collecting typed-ast<1.5,>=1.4.0\n",
            "  Downloading typed_ast-1.4.3-cp37-cp37m-manylinux1_x86_64.whl (743 kB)\n",
            "\u001b[K     |████████████████████████████████| 743 kB 31.0 MB/s \n",
            "\u001b[?25hCollecting lazy-object-proxy>=1.4.0\n",
            "  Downloading lazy_object_proxy-1.6.0-cp37-cp37m-manylinux1_x86_64.whl (55 kB)\n",
            "\u001b[K     |████████████████████████████████| 55 kB 4.2 MB/s \n",
            "\u001b[?25hRequirement already satisfied: tabulate>=0.8.9 in /usr/local/lib/python3.7/dist-packages (from sacrebleu>=2.0.0->joeynmt==1.3) (0.8.9)\n",
            "Collecting colorama\n",
            "  Downloading colorama-0.4.4-py2.py3-none-any.whl (16 kB)\n",
            "Collecting portalocker\n",
            "  Downloading portalocker-2.3.2-py2.py3-none-any.whl (15 kB)\n",
            "Requirement already satisfied: regex in /usr/local/lib/python3.7/dist-packages (from sacrebleu>=2.0.0->joeynmt==1.3) (2019.12.20)\n",
            "Requirement already satisfied: requests<3,>=2.21.0 in /usr/local/lib/python3.7/dist-packages (from tensorboard>=1.15->joeynmt==1.3) (2.23.0)\n",
            "Requirement already satisfied: protobuf>=3.6.0 in /usr/local/lib/python3.7/dist-packages (from tensorboard>=1.15->joeynmt==1.3) (3.17.3)\n",
            "Requirement already satisfied: tensorboard-plugin-wit>=1.6.0 in /usr/local/lib/python3.7/dist-packages (from tensorboard>=1.15->joeynmt==1.3) (1.8.0)\n",
            "Requirement already satisfied: markdown>=2.6.8 in /usr/local/lib/python3.7/dist-packages (from tensorboard>=1.15->joeynmt==1.3) (3.3.4)\n",
            "Requirement already satisfied: tensorboard-data-server<0.7.0,>=0.6.0 in /usr/local/lib/python3.7/dist-packages (from tensorboard>=1.15->joeynmt==1.3) (0.6.1)\n",
            "Requirement already satisfied: absl-py>=0.4 in /usr/local/lib/python3.7/dist-packages (from tensorboard>=1.15->joeynmt==1.3) (0.12.0)\n",
            "Requirement already satisfied: werkzeug>=0.11.15 in /usr/local/lib/python3.7/dist-packages (from tensorboard>=1.15->joeynmt==1.3) (1.0.1)\n",
            "Requirement already satisfied: wheel>=0.26 in /usr/local/lib/python3.7/dist-packages (from tensorboard>=1.15->joeynmt==1.3) (0.37.0)\n",
            "Requirement already satisfied: grpcio>=1.24.3 in /usr/local/lib/python3.7/dist-packages (from tensorboard>=1.15->joeynmt==1.3) (1.41.0)\n",
            "Requirement already satisfied: google-auth<2,>=1.6.3 in /usr/local/lib/python3.7/dist-packages (from tensorboard>=1.15->joeynmt==1.3) (1.35.0)\n",
            "Requirement already satisfied: google-auth-oauthlib<0.5,>=0.4.1 in /usr/local/lib/python3.7/dist-packages (from tensorboard>=1.15->joeynmt==1.3) (0.4.6)\n",
            "Requirement already satisfied: rsa<5,>=3.1.4 in /usr/local/lib/python3.7/dist-packages (from google-auth<2,>=1.6.3->tensorboard>=1.15->joeynmt==1.3) (4.7.2)\n",
            "Requirement already satisfied: cachetools<5.0,>=2.0.0 in /usr/local/lib/python3.7/dist-packages (from google-auth<2,>=1.6.3->tensorboard>=1.15->joeynmt==1.3) (4.2.4)\n",
            "Requirement already satisfied: pyasn1-modules>=0.2.1 in /usr/local/lib/python3.7/dist-packages (from google-auth<2,>=1.6.3->tensorboard>=1.15->joeynmt==1.3) (0.2.8)\n",
            "Requirement already satisfied: requests-oauthlib>=0.7.0 in /usr/local/lib/python3.7/dist-packages (from google-auth-oauthlib<0.5,>=0.4.1->tensorboard>=1.15->joeynmt==1.3) (1.3.0)\n",
            "Requirement already satisfied: importlib-metadata in /usr/local/lib/python3.7/dist-packages (from markdown>=2.6.8->tensorboard>=1.15->joeynmt==1.3) (4.8.1)\n",
            "Requirement already satisfied: pyasn1<0.5.0,>=0.4.6 in /usr/local/lib/python3.7/dist-packages (from pyasn1-modules>=0.2.1->google-auth<2,>=1.6.3->tensorboard>=1.15->joeynmt==1.3) (0.4.8)\n",
            "Requirement already satisfied: certifi>=2017.4.17 in /usr/local/lib/python3.7/dist-packages (from requests<3,>=2.21.0->tensorboard>=1.15->joeynmt==1.3) (2021.5.30)\n",
            "Requirement already satisfied: idna<3,>=2.5 in /usr/local/lib/python3.7/dist-packages (from requests<3,>=2.21.0->tensorboard>=1.15->joeynmt==1.3) (2.10)\n",
            "Requirement already satisfied: chardet<4,>=3.0.2 in /usr/local/lib/python3.7/dist-packages (from requests<3,>=2.21.0->tensorboard>=1.15->joeynmt==1.3) (3.0.4)\n",
            "Requirement already satisfied: urllib3!=1.25.0,!=1.25.1,<1.26,>=1.21.1 in /usr/local/lib/python3.7/dist-packages (from requests<3,>=2.21.0->tensorboard>=1.15->joeynmt==1.3) (1.24.3)\n",
            "Requirement already satisfied: oauthlib>=3.0.0 in /usr/local/lib/python3.7/dist-packages (from requests-oauthlib>=0.7.0->google-auth-oauthlib<0.5,>=0.4.1->tensorboard>=1.15->joeynmt==1.3) (3.1.1)\n",
            "Requirement already satisfied: tqdm in /usr/local/lib/python3.7/dist-packages (from torchtext>=0.10.0->joeynmt==1.3) (4.62.3)\n",
            "Requirement already satisfied: zipp>=0.5 in /usr/local/lib/python3.7/dist-packages (from importlib-metadata->markdown>=2.6.8->tensorboard>=1.15->joeynmt==1.3) (3.6.0)\n",
            "Requirement already satisfied: kiwisolver>=1.0.1 in /usr/local/lib/python3.7/dist-packages (from matplotlib->joeynmt==1.3) (1.3.2)\n",
            "Requirement already satisfied: python-dateutil>=2.1 in /usr/local/lib/python3.7/dist-packages (from matplotlib->joeynmt==1.3) (2.8.2)\n",
            "Requirement already satisfied: pyparsing!=2.0.4,!=2.1.2,!=2.1.6,>=2.0.1 in /usr/local/lib/python3.7/dist-packages (from matplotlib->joeynmt==1.3) (2.4.7)\n",
            "Requirement already satisfied: cycler>=0.10 in /usr/local/lib/python3.7/dist-packages (from matplotlib->joeynmt==1.3) (0.10.0)\n",
            "Requirement already satisfied: pandas>=0.23 in /usr/local/lib/python3.7/dist-packages (from seaborn->joeynmt==1.3) (1.1.5)\n",
            "Requirement already satisfied: scipy>=1.0 in /usr/local/lib/python3.7/dist-packages (from seaborn->joeynmt==1.3) (1.4.1)\n",
            "Requirement already satisfied: pytz>=2017.2 in /usr/local/lib/python3.7/dist-packages (from pandas>=0.23->seaborn->joeynmt==1.3) (2018.9)\n",
            "Building wheels for collected packages: joeynmt, wrapt\n",
            "  Building wheel for joeynmt (setup.py) ... \u001b[?25l\u001b[?25hdone\n",
            "  Created wheel for joeynmt: filename=joeynmt-1.3-py3-none-any.whl size=86029 sha256=8be7f54ae5f2e26d54464f819786f8d90113c07750282631b6545307ed68d700\n",
            "  Stored in directory: /tmp/pip-ephem-wheel-cache-cb1pa7iz/wheels/0a/f4/bf/6c9d3b8efbfece6cd209f865be37382b02e7c3584df2e28ca4\n",
            "  Building wheel for wrapt (setup.py) ... \u001b[?25l\u001b[?25hdone\n",
            "  Created wheel for wrapt: filename=wrapt-1.11.1-cp37-cp37m-linux_x86_64.whl size=68431 sha256=41cbed0499f35c87188a1726f24d6de6cba4c01e315a38200d8895d1fdd01268\n",
            "  Stored in directory: /root/.cache/pip/wheels/4e/58/9d/da8bad4545585ca52311498ff677647c95c7b690b3040171f8\n",
            "Successfully built joeynmt wrapt\n",
            "Installing collected packages: typing-extensions, six, wrapt, typed-ast, lazy-object-proxy, portalocker, platformdirs, mccabe, isort, colorama, astroid, subword-nmt, sacrebleu, pyyaml, pylint, joeynmt\n",
            "  Attempting uninstall: typing-extensions\n",
            "    Found existing installation: typing-extensions 3.7.4.3\n",
            "    Uninstalling typing-extensions-3.7.4.3:\n",
            "      Successfully uninstalled typing-extensions-3.7.4.3\n",
            "  Attempting uninstall: six\n",
            "    Found existing installation: six 1.15.0\n",
            "    Uninstalling six-1.15.0:\n",
            "      Successfully uninstalled six-1.15.0\n",
            "  Attempting uninstall: wrapt\n",
            "    Found existing installation: wrapt 1.12.1\n",
            "    Uninstalling wrapt-1.12.1:\n",
            "      Successfully uninstalled wrapt-1.12.1\n",
            "  Attempting uninstall: pyyaml\n",
            "    Found existing installation: PyYAML 3.13\n",
            "    Uninstalling PyYAML-3.13:\n",
            "      Successfully uninstalled PyYAML-3.13\n",
            "\u001b[31mERROR: pip's dependency resolver does not currently take into account all the packages that are installed. This behaviour is the source of the following dependency conflicts.\n",
            "tensorflow 2.6.0 requires six~=1.15.0, but you have six 1.12.0 which is incompatible.\n",
            "tensorflow 2.6.0 requires typing-extensions~=3.7.4, but you have typing-extensions 3.10.0.2 which is incompatible.\n",
            "tensorflow 2.6.0 requires wrapt~=1.12.1, but you have wrapt 1.11.1 which is incompatible.\n",
            "google-colab 1.0.0 requires six~=1.15.0, but you have six 1.12.0 which is incompatible.\n",
            "google-api-python-client 1.12.8 requires six<2dev,>=1.13.0, but you have six 1.12.0 which is incompatible.\n",
            "google-api-core 1.26.3 requires six>=1.13.0, but you have six 1.12.0 which is incompatible.\n",
            "datascience 0.10.6 requires folium==0.2.1, but you have folium 0.8.3 which is incompatible.\n",
            "albumentations 0.1.12 requires imgaug<0.2.7,>=0.2.5, but you have imgaug 0.2.9 which is incompatible.\u001b[0m\n",
            "Successfully installed astroid-2.8.2 colorama-0.4.4 isort-5.9.3 joeynmt-1.3 lazy-object-proxy-1.6.0 mccabe-0.6.1 platformdirs-2.4.0 portalocker-2.3.2 pylint-2.11.1 pyyaml-5.4.1 sacrebleu-2.0.0 six-1.12.0 subword-nmt-0.3.7 typed-ast-1.4.3 typing-extensions-3.10.0.2 wrapt-1.11.1\n",
            "Looking in links: https://download.pytorch.org/whl/torch_stable.html\n",
            "\u001b[31mERROR: Could not find a version that satisfies the requirement torch==1.9.0+cu101 (from versions: 0.1.2, 0.1.2.post1, 0.1.2.post2, 0.4.1, 0.4.1.post2, 1.0.0, 1.0.1, 1.0.1.post2, 1.1.0, 1.2.0, 1.2.0+cpu, 1.2.0+cu92, 1.3.0, 1.3.0+cpu, 1.3.0+cu100, 1.3.0+cu92, 1.3.1, 1.3.1+cpu, 1.3.1+cu100, 1.3.1+cu92, 1.4.0, 1.4.0+cpu, 1.4.0+cu100, 1.4.0+cu92, 1.5.0, 1.5.0+cpu, 1.5.0+cu101, 1.5.0+cu92, 1.5.1, 1.5.1+cpu, 1.5.1+cu101, 1.5.1+cu92, 1.6.0, 1.6.0+cpu, 1.6.0+cu101, 1.6.0+cu92, 1.7.0, 1.7.0+cpu, 1.7.0+cu101, 1.7.0+cu110, 1.7.0+cu92, 1.7.1, 1.7.1+cpu, 1.7.1+cu101, 1.7.1+cu110, 1.7.1+cu92, 1.7.1+rocm3.7, 1.7.1+rocm3.8, 1.8.0, 1.8.0+cpu, 1.8.0+cu101, 1.8.0+cu111, 1.8.0+rocm3.10, 1.8.0+rocm4.0.1, 1.8.1, 1.8.1+cpu, 1.8.1+cu101, 1.8.1+cu102, 1.8.1+cu111, 1.8.1+rocm3.10, 1.8.1+rocm4.0.1, 1.9.0, 1.9.0+cpu, 1.9.0+cu102, 1.9.0+cu111, 1.9.0+rocm4.0.1, 1.9.0+rocm4.1, 1.9.0+rocm4.2, 1.9.1, 1.9.1+cpu, 1.9.1+cu102, 1.9.1+cu111, 1.9.1+rocm4.0.1, 1.9.1+rocm4.1, 1.9.1+rocm4.2)\u001b[0m\n",
            "\u001b[31mERROR: No matching distribution found for torch==1.9.0+cu101\u001b[0m\n"
          ]
        }
      ]
    },
    {
      "cell_type": "markdown",
      "metadata": {
        "id": "AaE77Tcppex9"
      },
      "source": [
        "# Preprocessing the Data into Subword BPE Tokens\n",
        "\n",
        "- One of the most powerful improvements for agglutinative languages (a feature of most Bantu languages) is using BPE tokenization [ (Sennrich, 2015) ](https://arxiv.org/abs/1508.07909).\n",
        "\n",
        "- It was also shown that by optimizing the umber of BPE codes we significantly improve results for low-resourced languages [(Sennrich, 2019)](https://www.aclweb.org/anthology/P19-1021) [(Martinus, 2019)](https://arxiv.org/abs/1906.05685)\n",
        "\n",
        "- Below we have the scripts for doing BPE tokenization of our data. We use 4000 tokens as recommended by [(Sennrich, 2019)](https://www.aclweb.org/anthology/P19-1021). You do not need to change anything. Simply running the below will be suitable. "
      ]
    },
    {
      "cell_type": "code",
      "metadata": {
        "colab": {
          "base_uri": "https://localhost:8080/"
        },
        "id": "H-TyjtmXB1mL",
        "outputId": "88263ebb-f141-43f2-fd90-29a42f46947a"
      },
      "source": [
        "# One of the huge boosts in NMT performance was to use a different method of tokenizing. \n",
        "# Usually, NMT would tokenize by words. However, using a method called BPE gave amazing boosts to performance\n",
        "\n",
        "# Do subword NMT\n",
        "from os import path\n",
        "os.environ[\"src\"] = source_language # Sets them in bash as well, since we often use bash scripts\n",
        "os.environ[\"tgt\"] = target_language\n",
        "\n",
        "# Learn BPEs on the training data.\n",
        "os.environ[\"data_path\"] = path.join(\"joeynmt\", \"data\",target_language + source_language ) # Herman! \n",
        "! subword-nmt learn-joint-bpe-and-vocab --input train.$src train.$tgt -s 4000 -o bpe.codes.4000 --write-vocabulary vocab.$src vocab.$tgt\n",
        "\n",
        "# Apply BPE splits to the development and test data.\n",
        "! subword-nmt apply-bpe -c bpe.codes.4000 --vocabulary vocab.$src < train.$src > train.bpe.$src\n",
        "! subword-nmt apply-bpe -c bpe.codes.4000 --vocabulary vocab.$tgt < train.$tgt > train.bpe.$tgt\n",
        "\n",
        "! subword-nmt apply-bpe -c bpe.codes.4000 --vocabulary vocab.$src < dev.$src > dev.bpe.$src\n",
        "! subword-nmt apply-bpe -c bpe.codes.4000 --vocabulary vocab.$tgt < dev.$tgt > dev.bpe.$tgt\n",
        "! subword-nmt apply-bpe -c bpe.codes.4000 --vocabulary vocab.$src < test.$src > test.bpe.$src\n",
        "! subword-nmt apply-bpe -c bpe.codes.4000 --vocabulary vocab.$tgt < test.$tgt > test.bpe.$tgt\n",
        "\n",
        "# Create directory, move everyone we care about to the correct location\n",
        "! mkdir -p $data_path\n",
        "! cp train.* $data_path\n",
        "! cp test.* $data_path\n",
        "! cp dev.* $data_path\n",
        "! cp bpe.codes.4000 $data_path\n",
        "! ls $data_path\n",
        "\n",
        "# Also move everything we care about to a mounted location in google drive (relevant if running in colab) at gdrive_path\n",
        "! cp train.* \"$gdrive_path\"\n",
        "! cp test.* \"$gdrive_path\"\n",
        "! cp dev.* \"$gdrive_path\"\n",
        "! cp bpe.codes.4000 \"$gdrive_path\"\n",
        "! ls \"$gdrive_path\"\n",
        "\n",
        "# Create that vocab using build_vocab\n",
        "! sudo chmod 777 joeynmt/scripts/build_vocab.py\n",
        "! joeynmt/scripts/build_vocab.py joeynmt/data/$tgt$src/train.bpe.$src joeynmt/data/$tgt$src/train.bpe.$tgt --output_path joeynmt/data/$tgt$src/vocab.txt\n",
        "\n",
        "# Some output\n",
        "! echo \"BPE Ndebele Sentences\"\n",
        "! tail -n 5 test.bpe.$tgt\n",
        "! echo \"Combined BPE Vocab\"\n",
        "! tail -n 10 joeynmt/data/$tgt$src/vocab.txt  # Herman"
      ],
      "execution_count": 13,
      "outputs": [
        {
          "output_type": "stream",
          "name": "stdout",
          "text": [
            "bpe.codes.4000\tdev.en\t     test.bpe.nd     test.nd\t   train.en\n",
            "dev.bpe.en\tdev.nd\t     test.en\t     train.bpe.en  train.nd\n",
            "dev.bpe.nd\ttest.bpe.en  test.en-any.en  train.bpe.nd\n",
            "bpe.codes.4000\tdev.en\t     test.bpe.nd     test.nd\t   train.en\n",
            "dev.bpe.en\tdev.nd\t     test.en\t     train.bpe.en  train.nd\n",
            "dev.bpe.nd\ttest.bpe.en  test.en-any.en  train.bpe.nd\n",
            "BPE Swahili Sentences\n",
            "Si@@ khathi sonke nxa ng@@ it@@ shay@@ isa emihlanganweni ngiy@@ abe s@@ engi@@ kwazi ukuthi uJehova uy@@ angi@@ thanda . ”\n",
            "I@@ hawu loku@@ kholwa ( Khangela izind@@ ima 12 - 14 )\n",
            "I@@ ng@@ ow@@ ane yoku@@ s@@ ind@@ iswa ( Khangela izind@@ ima 15 - 18 )\n",
            "S@@ eng@@ in@@ anzelele ukuthi abantu bay@@ al@@ alela nxa be@@ bona ukuthi uy@@ ali@@ thanda iBhayibhili njalo wenza konke oku@@ sem@@ andleni akho ukuze ub@@ asi@@ ze . ”\n",
            "In@@ k@@ em@@ ba yom@@ oya ( Khangela izind@@ ima 19 - 20 )\n",
            "Combined BPE Vocab\n",
            "Isra@@\n",
            "Jakh@@\n",
            "ó\n",
            "ʺ\n",
            "greg@@\n",
            "sider\n",
            "wro@@\n",
            "verbs\n",
            "habhil@@\n",
            "onye\n"
          ]
        }
      ]
    },
    {
      "cell_type": "code",
      "metadata": {
        "colab": {
          "base_uri": "https://localhost:8080/"
        },
        "id": "IlMitUHR8Qy-",
        "outputId": "ddf3931b-a4be-4b6f-d8d2-84904ce62a52"
      },
      "source": [
        "# Also move everything we care about to a mounted location in google drive (relevant if running in colab) at gdrive_path\n",
        "! cp train.* \"$gdrive_path\"\n",
        "! cp test.* \"$gdrive_path\"\n",
        "! cp dev.* \"$gdrive_path\"\n",
        "! cp bpe.codes.4000 \"$gdrive_path\"\n",
        "! ls \"$gdrive_path\""
      ],
      "execution_count": 14,
      "outputs": [
        {
          "output_type": "stream",
          "name": "stdout",
          "text": [
            "bpe.codes.4000\tdev.en\t     test.bpe.nd     test.nd\t   train.en\n",
            "dev.bpe.en\tdev.nd\t     test.en\t     train.bpe.en  train.nd\n",
            "dev.bpe.nd\ttest.bpe.en  test.en-any.en  train.bpe.nd\n"
          ]
        }
      ]
    },
    {
      "cell_type": "markdown",
      "metadata": {
        "id": "Ixmzi60WsUZ8"
      },
      "source": [
        "# Creating the JoeyNMT Config\n",
        "\n",
        "JoeyNMT requires a yaml config. We provide a template below. We've also set a number of defaults with it, that you may play with!\n",
        "\n",
        "- We used Transformer architecture \n",
        "- We set our dropout to reasonably high: 0.3 (recommended in  [(Sennrich, 2019)](https://www.aclweb.org/anthology/P19-1021))\n",
        "\n",
        "Things worth playing with:\n",
        "- The batch size (also recommended to change for low-resourced languages)\n",
        "- The number of epochs (we've set it at 30 just so it runs in about an hour, for testing purposes)\n",
        "- The decoder options (beam_size, alpha)\n",
        "- Evaluation metrics (BLEU versus Crhf4)"
      ]
    },
    {
      "cell_type": "code",
      "metadata": {
        "id": "h8TMgv1p3L1z"
      },
      "source": [
        "# This creates the config file for our JoeyNMT system. It might seem overwhelming so we've provided a couple of useful parameters you'll need to update\n",
        "# (You can of course play with all the parameters if you'd like!)\n",
        "\n",
        "name = '%s%s' % (target_language, source_language)\n",
        "# gdrive_path = os.environ[\"gdrive_path\"]\n",
        "\n",
        "# Create the config\n",
        "config = \"\"\"\n",
        "name: \"{target_language}{source_language}_reverse_transformer\"\n",
        "\n",
        "data:\n",
        "    src: \"{target_language}\"\n",
        "    trg: \"{source_language}\"\n",
        "    train: \"data/{name}/train.bpe\"\n",
        "    dev:   \"data/{name}/dev.bpe\"\n",
        "    test:  \"data/{name}/test.bpe\"\n",
        "    level: \"bpe\"\n",
        "    lowercase: False\n",
        "    max_sent_length: 100\n",
        "    src_vocab: \"data/{name}/vocab.txt\"\n",
        "    trg_vocab: \"data/{name}/vocab.txt\"\n",
        "\n",
        "testing:\n",
        "    beam_size: 5\n",
        "    alpha: 1.0\n",
        "\n",
        "training:\n",
        "    #load_model: \"{gdrive_path}/models/{name}_transformer/1.ckpt\" # if uncommented, load a pre-trained model from this checkpoint\n",
        "    random_seed: 42\n",
        "    optimizer: \"adam\"\n",
        "    normalization: \"tokens\"\n",
        "    adam_betas: [0.9, 0.999] \n",
        "    scheduling: \"noam\"           # TODO: try switching from plateau to Noam scheduling\n",
        "    patience: 5                     # For plateau: decrease learning rate by decrease_factor if validation score has not improved for this many validation rounds.\n",
        "    learning_rate_factor: 0.5       # factor for Noam scheduler (used with Transformer)\n",
        "    learning_rate_warmup: 1000      # warmup steps for Noam scheduler (used with Transformer)\n",
        "    decrease_factor: 0.7\n",
        "    loss: \"crossentropy\"\n",
        "    learning_rate: 0.0003\n",
        "    learning_rate_min: 0.00000001\n",
        "    weight_decay: 0.0\n",
        "    label_smoothing: 0.1\n",
        "    batch_size: 4096\n",
        "    batch_type: \"token\"\n",
        "    eval_batch_size: 3600\n",
        "    eval_batch_type: \"token\"\n",
        "    batch_multiplier: 1\n",
        "    early_stopping_metric: \"ppl\"\n",
        "    epochs: 5                  # TODO: Decrease for when playing around and checking of working. Around 30 is sufficient to check if its working at all\n",
        "    validation_freq: 1000          # TODO: Set to at least once per epoch.\n",
        "    logging_freq: 100\n",
        "    eval_metric: \"bleu\"\n",
        "    model_dir: \"models/{name}_reverse_transformer\"\n",
        "    overwrite: True              # TODO: Set to True if you want to overwrite possibly existing models. \n",
        "    shuffle: True\n",
        "    use_cuda: True\n",
        "    max_output_length: 100\n",
        "    print_valid_sents: [0, 1, 2, 3]\n",
        "    keep_last_ckpts: 3\n",
        "\n",
        "model:\n",
        "    initializer: \"xavier\"\n",
        "    bias_initializer: \"zeros\"\n",
        "    init_gain: 1.0\n",
        "    embed_initializer: \"xavier\"\n",
        "    embed_init_gain: 1.0\n",
        "    tied_embeddings: True\n",
        "    tied_softmax: True\n",
        "    encoder:\n",
        "        type: \"transformer\"\n",
        "        num_layers: 6\n",
        "        num_heads: 4             # TODO: Increase to 8 for larger data.\n",
        "        embeddings:\n",
        "            embedding_dim: 256   # TODO: Increase to 512 for larger data.\n",
        "            scale: True\n",
        "            dropout: 0.2\n",
        "        # typically ff_size = 4 x hidden_size\n",
        "        hidden_size: 256         # TODO: Increase to 512 for larger data.\n",
        "        ff_size: 1024            # TODO: Increase to 2048 for larger data.\n",
        "        dropout: 0.3\n",
        "    decoder:\n",
        "        type: \"transformer\"\n",
        "        num_layers: 6\n",
        "        num_heads: 4              # TODO: Increase to 8 for larger data.\n",
        "        embeddings:\n",
        "            embedding_dim: 256    # TODO: Increase to 512 for larger data.\n",
        "            scale: True\n",
        "            dropout: 0.2\n",
        "        # typically ff_size = 4 x hidden_size\n",
        "        hidden_size: 256         # TODO: Increase to 512 for larger data.\n",
        "        ff_size: 1024            # TODO: Increase to 2048 for larger data.\n",
        "        dropout: 0.3\n",
        "\"\"\".format(name=name, gdrive_path=os.environ[\"gdrive_path\"], source_language=source_language, target_language=target_language)\n",
        "with open(\"joeynmt/configs/transformer_reverse_{name}.yaml\".format(name=name),'w') as f:\n",
        "    f.write(config)"
      ],
      "execution_count": 15,
      "outputs": []
    },
    {
      "cell_type": "markdown",
      "metadata": {
        "id": "oEzoJtV2MIpt"
      },
      "source": [
        "# Train the Model\n",
        "\n",
        "This single line of joeynmt runs the training using the config we made above"
      ]
    },
    {
      "cell_type": "code",
      "metadata": {
        "colab": {
          "base_uri": "https://localhost:8080/"
        },
        "id": "WzbNYNdjLgNb",
        "outputId": "3812b9c6-efd3-4f83-dba3-c49a975b9f92"
      },
      "source": [
        "# Train the model\n",
        "# You can press Ctrl-C to stop. And then run the next cell to save your checkpoints! \n",
        "!cd joeynmt; python3 -m joeynmt train configs/transformer_reverse_$tgt$src.yaml"
      ],
      "execution_count": 16,
      "outputs": [
        {
          "output_type": "stream",
          "name": "stdout",
          "text": [
            "2021-10-08 08:43:34,159 - INFO - root - Hello! This is Joey-NMT (version 1.3).\n",
            "2021-10-08 08:43:34,219 - INFO - joeynmt.data - Loading training data...\n",
            "2021-10-08 08:43:35,148 - INFO - joeynmt.data - Building vocabulary...\n",
            "2021-10-08 08:43:35,433 - INFO - joeynmt.data - Loading dev data...\n",
            "2021-10-08 08:43:35,451 - INFO - joeynmt.data - Loading test data...\n",
            "2021-10-08 08:43:35,481 - INFO - joeynmt.data - Data loaded.\n",
            "2021-10-08 08:43:35,481 - INFO - joeynmt.model - Building an encoder-decoder model...\n",
            "2021-10-08 08:43:35,911 - INFO - joeynmt.model - Enc-dec model built.\n",
            "2021-10-08 08:43:37,671 - INFO - joeynmt.training - Total params: 12135424\n",
            "2021-10-08 08:43:37,674 - WARNING - joeynmt.training - `keep_last_ckpts` option is outdated. Please use `keep_best_ckpts`, instead.\n",
            "2021-10-08 08:43:56,934 - INFO - joeynmt.helpers - cfg.name                           : nden_reverse_transformer\n",
            "2021-10-08 08:43:56,934 - INFO - joeynmt.helpers - cfg.data.src                       : nd\n",
            "2021-10-08 08:43:56,934 - INFO - joeynmt.helpers - cfg.data.trg                       : en\n",
            "2021-10-08 08:43:56,934 - INFO - joeynmt.helpers - cfg.data.train                     : data/nden/train.bpe\n",
            "2021-10-08 08:43:56,934 - INFO - joeynmt.helpers - cfg.data.dev                       : data/nden/dev.bpe\n",
            "2021-10-08 08:43:56,934 - INFO - joeynmt.helpers - cfg.data.test                      : data/nden/test.bpe\n",
            "2021-10-08 08:43:56,934 - INFO - joeynmt.helpers - cfg.data.level                     : bpe\n",
            "2021-10-08 08:43:56,935 - INFO - joeynmt.helpers - cfg.data.lowercase                 : False\n",
            "2021-10-08 08:43:56,935 - INFO - joeynmt.helpers - cfg.data.max_sent_length           : 100\n",
            "2021-10-08 08:43:56,935 - INFO - joeynmt.helpers - cfg.data.src_vocab                 : data/nden/vocab.txt\n",
            "2021-10-08 08:43:56,935 - INFO - joeynmt.helpers - cfg.data.trg_vocab                 : data/nden/vocab.txt\n",
            "2021-10-08 08:43:56,935 - INFO - joeynmt.helpers - cfg.testing.beam_size              : 5\n",
            "2021-10-08 08:43:56,935 - INFO - joeynmt.helpers - cfg.testing.alpha                  : 1.0\n",
            "2021-10-08 08:43:56,936 - INFO - joeynmt.helpers - cfg.training.random_seed           : 42\n",
            "2021-10-08 08:43:56,936 - INFO - joeynmt.helpers - cfg.training.optimizer             : adam\n",
            "2021-10-08 08:43:56,936 - INFO - joeynmt.helpers - cfg.training.normalization         : tokens\n",
            "2021-10-08 08:43:56,936 - INFO - joeynmt.helpers - cfg.training.adam_betas            : [0.9, 0.999]\n",
            "2021-10-08 08:43:56,936 - INFO - joeynmt.helpers - cfg.training.scheduling            : noam\n",
            "2021-10-08 08:43:56,936 - INFO - joeynmt.helpers - cfg.training.patience              : 5\n",
            "2021-10-08 08:43:56,936 - INFO - joeynmt.helpers - cfg.training.learning_rate_factor  : 0.5\n",
            "2021-10-08 08:43:56,936 - INFO - joeynmt.helpers - cfg.training.learning_rate_warmup  : 1000\n",
            "2021-10-08 08:43:56,937 - INFO - joeynmt.helpers - cfg.training.decrease_factor       : 0.7\n",
            "2021-10-08 08:43:56,937 - INFO - joeynmt.helpers - cfg.training.loss                  : crossentropy\n",
            "2021-10-08 08:43:56,937 - INFO - joeynmt.helpers - cfg.training.learning_rate         : 0.0003\n",
            "2021-10-08 08:43:56,937 - INFO - joeynmt.helpers - cfg.training.learning_rate_min     : 1e-08\n",
            "2021-10-08 08:43:56,937 - INFO - joeynmt.helpers - cfg.training.weight_decay          : 0.0\n",
            "2021-10-08 08:43:56,937 - INFO - joeynmt.helpers - cfg.training.label_smoothing       : 0.1\n",
            "2021-10-08 08:43:56,937 - INFO - joeynmt.helpers - cfg.training.batch_size            : 4096\n",
            "2021-10-08 08:43:56,938 - INFO - joeynmt.helpers - cfg.training.batch_type            : token\n",
            "2021-10-08 08:43:56,938 - INFO - joeynmt.helpers - cfg.training.eval_batch_size       : 3600\n",
            "2021-10-08 08:43:56,938 - INFO - joeynmt.helpers - cfg.training.eval_batch_type       : token\n",
            "2021-10-08 08:43:56,938 - INFO - joeynmt.helpers - cfg.training.batch_multiplier      : 1\n",
            "2021-10-08 08:43:56,938 - INFO - joeynmt.helpers - cfg.training.early_stopping_metric : ppl\n",
            "2021-10-08 08:43:56,938 - INFO - joeynmt.helpers - cfg.training.epochs                : 5\n",
            "2021-10-08 08:43:56,938 - INFO - joeynmt.helpers - cfg.training.validation_freq       : 1000\n",
            "2021-10-08 08:43:56,939 - INFO - joeynmt.helpers - cfg.training.logging_freq          : 100\n",
            "2021-10-08 08:43:56,939 - INFO - joeynmt.helpers - cfg.training.eval_metric           : bleu\n",
            "2021-10-08 08:43:56,939 - INFO - joeynmt.helpers - cfg.training.model_dir             : models/nden_reverse_transformer\n",
            "2021-10-08 08:43:56,939 - INFO - joeynmt.helpers - cfg.training.overwrite             : True\n",
            "2021-10-08 08:43:56,939 - INFO - joeynmt.helpers - cfg.training.shuffle               : True\n",
            "2021-10-08 08:43:56,939 - INFO - joeynmt.helpers - cfg.training.use_cuda              : True\n",
            "2021-10-08 08:43:56,939 - INFO - joeynmt.helpers - cfg.training.max_output_length     : 100\n",
            "2021-10-08 08:43:56,940 - INFO - joeynmt.helpers - cfg.training.print_valid_sents     : [0, 1, 2, 3]\n",
            "2021-10-08 08:43:56,940 - INFO - joeynmt.helpers - cfg.training.keep_last_ckpts       : 3\n",
            "2021-10-08 08:43:56,940 - INFO - joeynmt.helpers - cfg.model.initializer              : xavier\n",
            "2021-10-08 08:43:56,940 - INFO - joeynmt.helpers - cfg.model.bias_initializer         : zeros\n",
            "2021-10-08 08:43:56,940 - INFO - joeynmt.helpers - cfg.model.init_gain                : 1.0\n",
            "2021-10-08 08:43:56,940 - INFO - joeynmt.helpers - cfg.model.embed_initializer        : xavier\n",
            "2021-10-08 08:43:56,940 - INFO - joeynmt.helpers - cfg.model.embed_init_gain          : 1.0\n",
            "2021-10-08 08:43:56,941 - INFO - joeynmt.helpers - cfg.model.tied_embeddings          : True\n",
            "2021-10-08 08:43:56,941 - INFO - joeynmt.helpers - cfg.model.tied_softmax             : True\n",
            "2021-10-08 08:43:56,941 - INFO - joeynmt.helpers - cfg.model.encoder.type             : transformer\n",
            "2021-10-08 08:43:56,941 - INFO - joeynmt.helpers - cfg.model.encoder.num_layers       : 6\n",
            "2021-10-08 08:43:56,941 - INFO - joeynmt.helpers - cfg.model.encoder.num_heads        : 4\n",
            "2021-10-08 08:43:56,941 - INFO - joeynmt.helpers - cfg.model.encoder.embeddings.embedding_dim : 256\n",
            "2021-10-08 08:43:56,941 - INFO - joeynmt.helpers - cfg.model.encoder.embeddings.scale : True\n",
            "2021-10-08 08:43:56,942 - INFO - joeynmt.helpers - cfg.model.encoder.embeddings.dropout : 0.2\n",
            "2021-10-08 08:43:56,942 - INFO - joeynmt.helpers - cfg.model.encoder.hidden_size      : 256\n",
            "2021-10-08 08:43:56,942 - INFO - joeynmt.helpers - cfg.model.encoder.ff_size          : 1024\n",
            "2021-10-08 08:43:56,942 - INFO - joeynmt.helpers - cfg.model.encoder.dropout          : 0.3\n",
            "2021-10-08 08:43:56,942 - INFO - joeynmt.helpers - cfg.model.decoder.type             : transformer\n",
            "2021-10-08 08:43:56,943 - INFO - joeynmt.helpers - cfg.model.decoder.num_layers       : 6\n",
            "2021-10-08 08:43:56,943 - INFO - joeynmt.helpers - cfg.model.decoder.num_heads        : 4\n",
            "2021-10-08 08:43:56,943 - INFO - joeynmt.helpers - cfg.model.decoder.embeddings.embedding_dim : 256\n",
            "2021-10-08 08:43:56,943 - INFO - joeynmt.helpers - cfg.model.decoder.embeddings.scale : True\n",
            "2021-10-08 08:43:56,943 - INFO - joeynmt.helpers - cfg.model.decoder.embeddings.dropout : 0.2\n",
            "2021-10-08 08:43:56,943 - INFO - joeynmt.helpers - cfg.model.decoder.hidden_size      : 256\n",
            "2021-10-08 08:43:56,943 - INFO - joeynmt.helpers - cfg.model.decoder.ff_size          : 1024\n",
            "2021-10-08 08:43:56,944 - INFO - joeynmt.helpers - cfg.model.decoder.dropout          : 0.3\n",
            "2021-10-08 08:43:56,944 - INFO - joeynmt.helpers - Data set sizes: \n",
            "\ttrain 54853,\n",
            "\tvalid 1000,\n",
            "\ttest 2615\n",
            "2021-10-08 08:43:56,944 - INFO - joeynmt.helpers - First training example:\n",
            "\t[SRC] U@@ cabanga ukuthi wa@@ zis@@ ola yini ng@@ es@@ inqumo sakhe ?\n",
            "\t[TRG] Do you think that he came to re@@ gre@@ t the decision ?\n",
            "2021-10-08 08:43:56,944 - INFO - joeynmt.helpers - First 10 words (src): (0) <unk> (1) <pad> (2) <s> (3) </s> (4) . (5) , (6) the (7) : (8) to (9) of\n",
            "2021-10-08 08:43:56,944 - INFO - joeynmt.helpers - First 10 words (trg): (0) <unk> (1) <pad> (2) <s> (3) </s> (4) . (5) , (6) the (7) : (8) to (9) of\n",
            "2021-10-08 08:43:56,944 - INFO - joeynmt.helpers - Number of Src words (types): 4200\n",
            "2021-10-08 08:43:56,945 - INFO - joeynmt.helpers - Number of Trg words (types): 4200\n",
            "2021-10-08 08:43:56,945 - INFO - joeynmt.training - Model(\n",
            "\tencoder=TransformerEncoder(num_layers=6, num_heads=4),\n",
            "\tdecoder=TransformerDecoder(num_layers=6, num_heads=4),\n",
            "\tsrc_embed=Embeddings(embedding_dim=256, vocab_size=4200),\n",
            "\ttrg_embed=Embeddings(embedding_dim=256, vocab_size=4200))\n",
            "2021-10-08 08:43:56,949 - INFO - joeynmt.training - Train stats:\n",
            "\tdevice: cuda\n",
            "\tn_gpu: 1\n",
            "\t16-bits training: False\n",
            "\tgradient accumulation: 1\n",
            "\tbatch size per device: 4096\n",
            "\ttotal batch size (w. parallel & accumulation): 4096\n",
            "2021-10-08 08:43:56,949 - INFO - joeynmt.training - EPOCH 1\n",
            "2021-10-08 08:44:31,921 - INFO - joeynmt.training - Epoch   1, Step:      100, Batch Loss:     6.104886, Tokens per Sec:     4367, Lr: 0.000099\n",
            "2021-10-08 08:45:06,316 - INFO - joeynmt.training - Epoch   1, Step:      200, Batch Loss:     5.578496, Tokens per Sec:     4313, Lr: 0.000198\n",
            "2021-10-08 08:45:40,696 - INFO - joeynmt.training - Epoch   1, Step:      300, Batch Loss:     5.440235, Tokens per Sec:     4455, Lr: 0.000296\n",
            "2021-10-08 08:46:15,142 - INFO - joeynmt.training - Epoch   1, Step:      400, Batch Loss:     5.030741, Tokens per Sec:     4330, Lr: 0.000395\n",
            "2021-10-08 08:46:49,684 - INFO - joeynmt.training - Epoch   1, Step:      500, Batch Loss:     4.757870, Tokens per Sec:     4474, Lr: 0.000494\n",
            "2021-10-08 08:47:24,411 - INFO - joeynmt.training - Epoch   1, Step:      600, Batch Loss:     4.626576, Tokens per Sec:     4371, Lr: 0.000593\n",
            "2021-10-08 08:47:59,201 - INFO - joeynmt.training - Epoch   1, Step:      700, Batch Loss:     4.350017, Tokens per Sec:     4290, Lr: 0.000692\n",
            "2021-10-08 08:48:33,887 - INFO - joeynmt.training - Epoch   1, Step:      800, Batch Loss:     4.323273, Tokens per Sec:     4329, Lr: 0.000791\n",
            "2021-10-08 08:49:08,547 - INFO - joeynmt.training - Epoch   1, Step:      900, Batch Loss:     4.156376, Tokens per Sec:     4274, Lr: 0.000889\n",
            "2021-10-08 08:49:42,938 - INFO - joeynmt.training - Epoch   1, Step:     1000, Batch Loss:     4.121530, Tokens per Sec:     4291, Lr: 0.000988\n",
            "2021-10-08 08:51:12,410 - WARNING - sacrebleu - That's 100 lines that end in a tokenized period ('.')\n",
            "2021-10-08 08:51:12,410 - WARNING - sacrebleu - It looks like you forgot to detokenize your test data, which may hurt your score.\n",
            "2021-10-08 08:51:12,410 - WARNING - sacrebleu - If you insist your data is detokenized, or don't care, you can suppress this message with the `force` parameter.\n",
            "2021-10-08 08:51:12,421 - INFO - joeynmt.training - Hooray! New best validation result [ppl]!\n",
            "2021-10-08 08:51:12,858 - INFO - joeynmt.training - Example #0\n",
            "2021-10-08 08:51:12,858 - INFO - joeynmt.training - \tSource:     ( Josh . 3 : 12 - 17 ) Cabanga ukuthi kwakumangalisa kangakanani ukubona umfula lowo owawuzondile umiswa !\n",
            "2021-10-08 08:51:12,858 - INFO - joeynmt.training - \tReference:  ( See paragraphs 17 , 18 )\n",
            "2021-10-08 08:51:12,858 - INFO - joeynmt.training - \tHypothesis: ( Matt . 4 : 4 ) The Bible , we will be in the Bible ’ s Witnesses , and the Bible ’ s Witnesses of the Bible ’ s Witnesses .\n",
            "2021-10-08 08:51:12,859 - INFO - joeynmt.training - Example #1\n",
            "2021-10-08 08:51:12,859 - INFO - joeynmt.training - \tSource:     UJesu wathi : “ Kakho ongeza kimi ngaphandle kokuthi uBaba ongithumileyo amsondeze . ”\n",
            "2021-10-08 08:51:12,860 - INFO - joeynmt.training - \tReference:  “ No man can come to me unless the Father , who sent me , draws him , ” said Jesus .\n",
            "2021-10-08 08:51:12,860 - INFO - joeynmt.training - \tHypothesis: “ I will be a “ I will be a person , ” he is not not not not to be a . ”\n",
            "2021-10-08 08:51:12,860 - INFO - joeynmt.training - Example #2\n",
            "2021-10-08 08:51:12,860 - INFO - joeynmt.training - \tSource:     IBhayibhili lithi : ‘ Ilizwi ngesikhathi salo , lihle kangakanani . ’\n",
            "2021-10-08 08:51:12,860 - INFO - joeynmt.training - \tReference:  The Bible states : “ A word spoken at the right time — how good it is ! ”\n",
            "2021-10-08 08:51:12,861 - INFO - joeynmt.training - \tHypothesis: “ I was “ the Bible ’ s Word , ” I was “ I was “ I . ”\n",
            "2021-10-08 08:51:12,861 - INFO - joeynmt.training - Example #3\n",
            "2021-10-08 08:51:12,861 - INFO - joeynmt.training - \tSource:     Cabanga ngomthandazo wokuzisola uJona awutsho esesiswini senhlanzi enkulu .\n",
            "2021-10-08 08:51:12,862 - INFO - joeynmt.training - \tReference:  For instance , consider Jonah ’ s contrite prayer from the belly of a huge fish .\n",
            "2021-10-08 08:51:12,862 - INFO - joeynmt.training - \tHypothesis: The Bible ’ s Witnesses , we have a sle of the Bible ’ s Witnesses .\n",
            "2021-10-08 08:51:12,862 - INFO - joeynmt.training - Validation result (greedy) at epoch   1, step     1000: bleu:   2.19, loss: 115321.3984, ppl:  57.5072, duration: 89.9235s\n",
            "2021-10-08 08:51:20,030 - INFO - joeynmt.training - Epoch   1: total training loss 5101.30\n",
            "2021-10-08 08:51:20,030 - INFO - joeynmt.training - EPOCH 2\n",
            "2021-10-08 08:51:47,079 - INFO - joeynmt.training - Epoch   2, Step:     1100, Batch Loss:     4.011397, Tokens per Sec:     4330, Lr: 0.000942\n",
            "2021-10-08 08:52:21,533 - INFO - joeynmt.training - Epoch   2, Step:     1200, Batch Loss:     4.053776, Tokens per Sec:     4421, Lr: 0.000902\n",
            "2021-10-08 08:52:55,999 - INFO - joeynmt.training - Epoch   2, Step:     1300, Batch Loss:     3.838278, Tokens per Sec:     4330, Lr: 0.000867\n",
            "2021-10-08 08:53:30,589 - INFO - joeynmt.training - Epoch   2, Step:     1400, Batch Loss:     3.792474, Tokens per Sec:     4409, Lr: 0.000835\n",
            "2021-10-08 08:54:05,140 - INFO - joeynmt.training - Epoch   2, Step:     1500, Batch Loss:     3.707458, Tokens per Sec:     4387, Lr: 0.000807\n",
            "2021-10-08 08:54:39,645 - INFO - joeynmt.training - Epoch   2, Step:     1600, Batch Loss:     3.571620, Tokens per Sec:     4392, Lr: 0.000781\n",
            "2021-10-08 08:55:14,130 - INFO - joeynmt.training - Epoch   2, Step:     1700, Batch Loss:     3.698843, Tokens per Sec:     4475, Lr: 0.000758\n",
            "2021-10-08 08:55:48,605 - INFO - joeynmt.training - Epoch   2, Step:     1800, Batch Loss:     3.509855, Tokens per Sec:     4386, Lr: 0.000737\n",
            "2021-10-08 08:56:23,241 - INFO - joeynmt.training - Epoch   2, Step:     1900, Batch Loss:     3.612131, Tokens per Sec:     4269, Lr: 0.000717\n",
            "2021-10-08 08:56:58,074 - INFO - joeynmt.training - Epoch   2, Step:     2000, Batch Loss:     3.454739, Tokens per Sec:     4270, Lr: 0.000699\n",
            "2021-10-08 08:57:58,781 - WARNING - sacrebleu - That's 100 lines that end in a tokenized period ('.')\n",
            "2021-10-08 08:57:58,782 - WARNING - sacrebleu - It looks like you forgot to detokenize your test data, which may hurt your score.\n",
            "2021-10-08 08:57:58,782 - WARNING - sacrebleu - If you insist your data is detokenized, or don't care, you can suppress this message with the `force` parameter.\n",
            "2021-10-08 08:57:58,788 - INFO - joeynmt.training - Hooray! New best validation result [ppl]!\n",
            "2021-10-08 08:57:59,250 - INFO - joeynmt.training - Example #0\n",
            "2021-10-08 08:57:59,250 - INFO - joeynmt.training - \tSource:     ( Josh . 3 : 12 - 17 ) Cabanga ukuthi kwakumangalisa kangakanani ukubona umfula lowo owawuzondile umiswa !\n",
            "2021-10-08 08:57:59,250 - INFO - joeynmt.training - \tReference:  ( See paragraphs 17 , 18 )\n",
            "2021-10-08 08:57:59,251 - INFO - joeynmt.training - \tHypothesis: ( Gen. 3 : 17 ) The first man who had been a mitable of the camity of the camed .\n",
            "2021-10-08 08:57:59,251 - INFO - joeynmt.training - Example #1\n",
            "2021-10-08 08:57:59,251 - INFO - joeynmt.training - \tSource:     UJesu wathi : “ Kakho ongeza kimi ngaphandle kokuthi uBaba ongithumileyo amsondeze . ”\n",
            "2021-10-08 08:57:59,251 - INFO - joeynmt.training - \tReference:  “ No man can come to me unless the Father , who sent me , draws him , ” said Jesus .\n",
            "2021-10-08 08:57:59,251 - INFO - joeynmt.training - \tHypothesis: Jesus said : “ The same way of the Devil , and I will be a good news . ”\n",
            "2021-10-08 08:57:59,251 - INFO - joeynmt.training - Example #2\n",
            "2021-10-08 08:57:59,252 - INFO - joeynmt.training - \tSource:     IBhayibhili lithi : ‘ Ilizwi ngesikhathi salo , lihle kangakanani . ’\n",
            "2021-10-08 08:57:59,252 - INFO - joeynmt.training - \tReference:  The Bible states : “ A word spoken at the right time — how good it is ! ”\n",
            "2021-10-08 08:57:59,252 - INFO - joeynmt.training - \tHypothesis: The Bible says : “ The Bible is not a good news . ”\n",
            "2021-10-08 08:57:59,252 - INFO - joeynmt.training - Example #3\n",
            "2021-10-08 08:57:59,252 - INFO - joeynmt.training - \tSource:     Cabanga ngomthandazo wokuzisola uJona awutsho esesiswini senhlanzi enkulu .\n",
            "2021-10-08 08:57:59,253 - INFO - joeynmt.training - \tReference:  For instance , consider Jonah ’ s contrite prayer from the belly of a huge fish .\n",
            "2021-10-08 08:57:59,253 - INFO - joeynmt.training - \tHypothesis: The Most of Jehovah ’ s Witnesses , and the same way .\n",
            "2021-10-08 08:57:59,253 - INFO - joeynmt.training - Validation result (greedy) at epoch   2, step     2000: bleu:   6.32, loss: 95168.0391, ppl:  28.3267, duration: 61.1779s\n",
            "2021-10-08 08:58:13,328 - INFO - joeynmt.training - Epoch   2: total training loss 3831.46\n",
            "2021-10-08 08:58:13,328 - INFO - joeynmt.training - EPOCH 3\n",
            "2021-10-08 08:58:33,772 - INFO - joeynmt.training - Epoch   3, Step:     2100, Batch Loss:     3.449311, Tokens per Sec:     4264, Lr: 0.000682\n",
            "2021-10-08 08:59:08,445 - INFO - joeynmt.training - Epoch   3, Step:     2200, Batch Loss:     3.379841, Tokens per Sec:     4266, Lr: 0.000666\n",
            "2021-10-08 08:59:43,026 - INFO - joeynmt.training - Epoch   3, Step:     2300, Batch Loss:     3.238626, Tokens per Sec:     4294, Lr: 0.000652\n",
            "2021-10-08 09:00:17,915 - INFO - joeynmt.training - Epoch   3, Step:     2400, Batch Loss:     3.321137, Tokens per Sec:     4415, Lr: 0.000638\n",
            "2021-10-08 09:00:52,744 - INFO - joeynmt.training - Epoch   3, Step:     2500, Batch Loss:     3.502993, Tokens per Sec:     4354, Lr: 0.000625\n",
            "2021-10-08 09:01:27,374 - INFO - joeynmt.training - Epoch   3, Step:     2600, Batch Loss:     3.346355, Tokens per Sec:     4424, Lr: 0.000613\n",
            "2021-10-08 09:02:02,033 - INFO - joeynmt.training - Epoch   3, Step:     2700, Batch Loss:     3.299656, Tokens per Sec:     4332, Lr: 0.000601\n",
            "2021-10-08 09:02:36,709 - INFO - joeynmt.training - Epoch   3, Step:     2800, Batch Loss:     3.447241, Tokens per Sec:     4347, Lr: 0.000591\n",
            "2021-10-08 09:03:11,452 - INFO - joeynmt.training - Epoch   3, Step:     2900, Batch Loss:     3.156839, Tokens per Sec:     4282, Lr: 0.000580\n",
            "2021-10-08 09:03:45,880 - INFO - joeynmt.training - Epoch   3, Step:     3000, Batch Loss:     3.254410, Tokens per Sec:     4301, Lr: 0.000571\n",
            "2021-10-08 09:04:25,519 - WARNING - sacrebleu - That's 100 lines that end in a tokenized period ('.')\n",
            "2021-10-08 09:04:25,519 - WARNING - sacrebleu - It looks like you forgot to detokenize your test data, which may hurt your score.\n",
            "2021-10-08 09:04:25,519 - WARNING - sacrebleu - If you insist your data is detokenized, or don't care, you can suppress this message with the `force` parameter.\n",
            "2021-10-08 09:04:25,526 - INFO - joeynmt.training - Hooray! New best validation result [ppl]!\n",
            "2021-10-08 09:04:25,978 - INFO - joeynmt.training - Example #0\n",
            "2021-10-08 09:04:25,978 - INFO - joeynmt.training - \tSource:     ( Josh . 3 : 12 - 17 ) Cabanga ukuthi kwakumangalisa kangakanani ukubona umfula lowo owawuzondile umiswa !\n",
            "2021-10-08 09:04:25,979 - INFO - joeynmt.training - \tReference:  ( See paragraphs 17 , 18 )\n",
            "2021-10-08 09:04:25,979 - INFO - joeynmt.training - \tHypothesis: ( Josh . 3 : 15-17 ) What a person is not a brich of a bridn .\n",
            "2021-10-08 09:04:25,979 - INFO - joeynmt.training - Example #1\n",
            "2021-10-08 09:04:25,979 - INFO - joeynmt.training - \tSource:     UJesu wathi : “ Kakho ongeza kimi ngaphandle kokuthi uBaba ongithumileyo amsondeze . ”\n",
            "2021-10-08 09:04:25,979 - INFO - joeynmt.training - \tReference:  “ No man can come to me unless the Father , who sent me , draws him , ” said Jesus .\n",
            "2021-10-08 09:04:25,979 - INFO - joeynmt.training - \tHypothesis: Jesus said : “ You will be a friend of your Father , and you will be a close friend . ”\n",
            "2021-10-08 09:04:25,980 - INFO - joeynmt.training - Example #2\n",
            "2021-10-08 09:04:25,980 - INFO - joeynmt.training - \tSource:     IBhayibhili lithi : ‘ Ilizwi ngesikhathi salo , lihle kangakanani . ’\n",
            "2021-10-08 09:04:25,980 - INFO - joeynmt.training - \tReference:  The Bible states : “ A word spoken at the right time — how good it is ! ”\n",
            "2021-10-08 09:04:25,980 - INFO - joeynmt.training - \tHypothesis: The Bible says : “ The Bible is not a person . ”\n",
            "2021-10-08 09:04:25,981 - INFO - joeynmt.training - Example #3\n",
            "2021-10-08 09:04:25,981 - INFO - joeynmt.training - \tSource:     Cabanga ngomthandazo wokuzisola uJona awutsho esesiswini senhlanzi enkulu .\n",
            "2021-10-08 09:04:25,981 - INFO - joeynmt.training - \tReference:  For instance , consider Jonah ’ s contrite prayer from the belly of a huge fish .\n",
            "2021-10-08 09:04:25,981 - INFO - joeynmt.training - \tHypothesis: For example , the way of Janan ’ s heart is a brich of the brich .\n",
            "2021-10-08 09:04:25,981 - INFO - joeynmt.training - Validation result (greedy) at epoch   3, step     3000: bleu:   9.39, loss: 87273.8125, ppl:  21.4652, duration: 40.1011s\n",
            "2021-10-08 09:04:48,142 - INFO - joeynmt.training - Epoch   3: total training loss 3423.65\n",
            "2021-10-08 09:04:48,143 - INFO - joeynmt.training - EPOCH 4\n",
            "2021-10-08 09:05:00,451 - INFO - joeynmt.training - Epoch   4, Step:     3100, Batch Loss:     3.252345, Tokens per Sec:     4375, Lr: 0.000561\n",
            "2021-10-08 09:05:35,258 - INFO - joeynmt.training - Epoch   4, Step:     3200, Batch Loss:     3.059752, Tokens per Sec:     4337, Lr: 0.000552\n",
            "2021-10-08 09:06:09,850 - INFO - joeynmt.training - Epoch   4, Step:     3300, Batch Loss:     3.297463, Tokens per Sec:     4406, Lr: 0.000544\n",
            "2021-10-08 09:06:44,561 - INFO - joeynmt.training - Epoch   4, Step:     3400, Batch Loss:     3.164113, Tokens per Sec:     4366, Lr: 0.000536\n",
            "2021-10-08 09:07:19,046 - INFO - joeynmt.training - Epoch   4, Step:     3500, Batch Loss:     3.263442, Tokens per Sec:     4352, Lr: 0.000528\n",
            "2021-10-08 09:07:53,725 - INFO - joeynmt.training - Epoch   4, Step:     3600, Batch Loss:     3.043552, Tokens per Sec:     4346, Lr: 0.000521\n",
            "2021-10-08 09:08:28,723 - INFO - joeynmt.training - Epoch   4, Step:     3700, Batch Loss:     3.194809, Tokens per Sec:     4331, Lr: 0.000514\n",
            "2021-10-08 09:09:03,444 - INFO - joeynmt.training - Epoch   4, Step:     3800, Batch Loss:     3.030017, Tokens per Sec:     4349, Lr: 0.000507\n",
            "2021-10-08 09:09:38,153 - INFO - joeynmt.training - Epoch   4, Step:     3900, Batch Loss:     3.179266, Tokens per Sec:     4320, Lr: 0.000500\n",
            "2021-10-08 09:10:12,897 - INFO - joeynmt.training - Epoch   4, Step:     4000, Batch Loss:     3.005601, Tokens per Sec:     4351, Lr: 0.000494\n",
            "2021-10-08 09:11:04,543 - WARNING - sacrebleu - That's 100 lines that end in a tokenized period ('.')\n",
            "2021-10-08 09:11:04,543 - WARNING - sacrebleu - It looks like you forgot to detokenize your test data, which may hurt your score.\n",
            "2021-10-08 09:11:04,543 - WARNING - sacrebleu - If you insist your data is detokenized, or don't care, you can suppress this message with the `force` parameter.\n",
            "2021-10-08 09:11:04,550 - INFO - joeynmt.training - Hooray! New best validation result [ppl]!\n",
            "2021-10-08 09:11:04,993 - INFO - joeynmt.helpers - delete models/nden_reverse_transformer/1000.ckpt\n",
            "2021-10-08 09:11:05,020 - INFO - joeynmt.training - Example #0\n",
            "2021-10-08 09:11:05,020 - INFO - joeynmt.training - \tSource:     ( Josh . 3 : 12 - 17 ) Cabanga ukuthi kwakumangalisa kangakanani ukubona umfula lowo owawuzondile umiswa !\n",
            "2021-10-08 09:11:05,020 - INFO - joeynmt.training - \tReference:  ( See paragraphs 17 , 18 )\n",
            "2021-10-08 09:11:05,020 - INFO - joeynmt.training - \tHypothesis: ( Josh . 3 : 12-17 ) The same time was not a brief of the brief of the bride .\n",
            "2021-10-08 09:11:05,020 - INFO - joeynmt.training - Example #1\n",
            "2021-10-08 09:11:05,021 - INFO - joeynmt.training - \tSource:     UJesu wathi : “ Kakho ongeza kimi ngaphandle kokuthi uBaba ongithumileyo amsondeze . ”\n",
            "2021-10-08 09:11:05,021 - INFO - joeynmt.training - \tReference:  “ No man can come to me unless the Father , who sent me , draws him , ” said Jesus .\n",
            "2021-10-08 09:11:05,021 - INFO - joeynmt.training - \tHypothesis: Jesus said : “ The Father is a man who is a close friend of the Father . ”\n",
            "2021-10-08 09:11:05,021 - INFO - joeynmt.training - Example #2\n",
            "2021-10-08 09:11:05,021 - INFO - joeynmt.training - \tSource:     IBhayibhili lithi : ‘ Ilizwi ngesikhathi salo , lihle kangakanani . ’\n",
            "2021-10-08 09:11:05,021 - INFO - joeynmt.training - \tReference:  The Bible states : “ A word spoken at the right time — how good it is ! ”\n",
            "2021-10-08 09:11:05,022 - INFO - joeynmt.training - \tHypothesis: The Bible says : “ The Bible is a source of the word . ”\n",
            "2021-10-08 09:11:05,022 - INFO - joeynmt.training - Example #3\n",
            "2021-10-08 09:11:05,022 - INFO - joeynmt.training - \tSource:     Cabanga ngomthandazo wokuzisola uJona awutsho esesiswini senhlanzi enkulu .\n",
            "2021-10-08 09:11:05,022 - INFO - joeynmt.training - \tReference:  For instance , consider Jonah ’ s contrite prayer from the belly of a huge fish .\n",
            "2021-10-08 09:11:05,022 - INFO - joeynmt.training - \tHypothesis: For example , we can learn about the Bible ’ s heart , and I was a source of the battle .\n",
            "2021-10-08 09:11:05,022 - INFO - joeynmt.training - Validation result (greedy) at epoch   4, step     4000: bleu:  11.03, loss: 82912.8359, ppl:  18.4158, duration: 52.1253s\n",
            "2021-10-08 09:11:33,437 - INFO - joeynmt.training - Epoch   4: total training loss 3202.97\n",
            "2021-10-08 09:11:33,437 - INFO - joeynmt.training - EPOCH 5\n",
            "2021-10-08 09:11:39,733 - INFO - joeynmt.training - Epoch   5, Step:     4100, Batch Loss:     3.093567, Tokens per Sec:     4373, Lr: 0.000488\n",
            "2021-10-08 09:12:14,148 - INFO - joeynmt.training - Epoch   5, Step:     4200, Batch Loss:     3.037953, Tokens per Sec:     4381, Lr: 0.000482\n",
            "2021-10-08 09:12:48,907 - INFO - joeynmt.training - Epoch   5, Step:     4300, Batch Loss:     2.962421, Tokens per Sec:     4348, Lr: 0.000477\n",
            "2021-10-08 09:13:23,655 - INFO - joeynmt.training - Epoch   5, Step:     4400, Batch Loss:     2.991999, Tokens per Sec:     4441, Lr: 0.000471\n",
            "2021-10-08 09:13:58,182 - INFO - joeynmt.training - Epoch   5, Step:     4500, Batch Loss:     3.043388, Tokens per Sec:     4384, Lr: 0.000466\n",
            "2021-10-08 09:14:32,958 - INFO - joeynmt.training - Epoch   5, Step:     4600, Batch Loss:     3.003787, Tokens per Sec:     4337, Lr: 0.000461\n",
            "2021-10-08 09:15:07,596 - INFO - joeynmt.training - Epoch   5, Step:     4700, Batch Loss:     3.018106, Tokens per Sec:     4274, Lr: 0.000456\n",
            "2021-10-08 09:15:42,025 - INFO - joeynmt.training - Epoch   5, Step:     4800, Batch Loss:     2.868665, Tokens per Sec:     4278, Lr: 0.000451\n",
            "2021-10-08 09:16:16,874 - INFO - joeynmt.training - Epoch   5, Step:     4900, Batch Loss:     3.064459, Tokens per Sec:     4330, Lr: 0.000446\n",
            "2021-10-08 09:16:51,371 - INFO - joeynmt.training - Epoch   5, Step:     5000, Batch Loss:     3.168847, Tokens per Sec:     4316, Lr: 0.000442\n",
            "2021-10-08 09:17:44,186 - WARNING - sacrebleu - That's 100 lines that end in a tokenized period ('.')\n",
            "2021-10-08 09:17:44,186 - WARNING - sacrebleu - It looks like you forgot to detokenize your test data, which may hurt your score.\n",
            "2021-10-08 09:17:44,186 - WARNING - sacrebleu - If you insist your data is detokenized, or don't care, you can suppress this message with the `force` parameter.\n",
            "2021-10-08 09:17:44,194 - INFO - joeynmt.training - Hooray! New best validation result [ppl]!\n",
            "2021-10-08 09:17:44,644 - INFO - joeynmt.helpers - delete models/nden_reverse_transformer/2000.ckpt\n",
            "2021-10-08 09:17:44,664 - INFO - joeynmt.training - Example #0\n",
            "2021-10-08 09:17:44,664 - INFO - joeynmt.training - \tSource:     ( Josh . 3 : 12 - 17 ) Cabanga ukuthi kwakumangalisa kangakanani ukubona umfula lowo owawuzondile umiswa !\n",
            "2021-10-08 09:17:44,664 - INFO - joeynmt.training - \tReference:  ( See paragraphs 17 , 18 )\n",
            "2021-10-08 09:17:44,665 - INFO - joeynmt.training - \tHypothesis: ( Josh . 3 : 11-17 ) We may have a bride of the blood of the blood .\n",
            "2021-10-08 09:17:44,665 - INFO - joeynmt.training - Example #1\n",
            "2021-10-08 09:17:44,665 - INFO - joeynmt.training - \tSource:     UJesu wathi : “ Kakho ongeza kimi ngaphandle kokuthi uBaba ongithumileyo amsondeze . ”\n",
            "2021-10-08 09:17:44,665 - INFO - joeynmt.training - \tReference:  “ No man can come to me unless the Father , who sent me , draws him , ” said Jesus .\n",
            "2021-10-08 09:17:44,665 - INFO - joeynmt.training - \tHypothesis: Jesus said : “ You will be a friend who is a friend who is a friend who is a friend who is a friend . ”\n",
            "2021-10-08 09:17:44,665 - INFO - joeynmt.training - Example #2\n",
            "2021-10-08 09:17:44,666 - INFO - joeynmt.training - \tSource:     IBhayibhili lithi : ‘ Ilizwi ngesikhathi salo , lihle kangakanani . ’\n",
            "2021-10-08 09:17:44,666 - INFO - joeynmt.training - \tReference:  The Bible states : “ A word spoken at the right time — how good it is ! ”\n",
            "2021-10-08 09:17:44,666 - INFO - joeynmt.training - \tHypothesis: The Bible says : “ The word of the word of the word , and the word of the word . ”\n",
            "2021-10-08 09:17:44,666 - INFO - joeynmt.training - Example #3\n",
            "2021-10-08 09:17:44,666 - INFO - joeynmt.training - \tSource:     Cabanga ngomthandazo wokuzisola uJona awutsho esesiswini senhlanzi enkulu .\n",
            "2021-10-08 09:17:44,666 - INFO - joeynmt.training - \tReference:  For instance , consider Jonah ’ s contrite prayer from the belly of a huge fish .\n",
            "2021-10-08 09:17:44,666 - INFO - joeynmt.training - \tHypothesis: Consider what the Bible says about Jonathan ’ s words to be a battle .\n",
            "2021-10-08 09:17:44,667 - INFO - joeynmt.training - Validation result (greedy) at epoch   5, step     5000: bleu:  11.63, loss: 79902.0547, ppl:  16.5672, duration: 53.2948s\n",
            "2021-10-08 09:18:19,446 - INFO - joeynmt.training - Epoch   5, Step:     5100, Batch Loss:     3.079659, Tokens per Sec:     4391, Lr: 0.000438\n",
            "2021-10-08 09:18:20,113 - INFO - joeynmt.training - Epoch   5: total training loss 3076.82\n",
            "2021-10-08 09:18:20,113 - INFO - joeynmt.training - Training ended after   5 epochs.\n",
            "2021-10-08 09:18:20,114 - INFO - joeynmt.training - Best validation result (greedy) at step     5000:  16.57 ppl.\n",
            "2021-10-08 09:18:20,136 - INFO - joeynmt.prediction - Process device: cuda, n_gpu: 1, batch_size per device: 3600\n",
            "2021-10-08 09:18:20,137 - INFO - joeynmt.prediction - Loading model from models/nden_reverse_transformer/5000.ckpt\n",
            "2021-10-08 09:18:20,357 - INFO - joeynmt.model - Building an encoder-decoder model...\n",
            "2021-10-08 09:18:20,612 - INFO - joeynmt.model - Enc-dec model built.\n",
            "2021-10-08 09:18:20,685 - INFO - joeynmt.prediction - Decoding on dev set (data/nden/dev.bpe.en)...\n",
            "2021-10-08 09:20:47,594 - WARNING - sacrebleu - That's 100 lines that end in a tokenized period ('.')\n",
            "2021-10-08 09:20:47,595 - WARNING - sacrebleu - It looks like you forgot to detokenize your test data, which may hurt your score.\n",
            "2021-10-08 09:20:47,595 - WARNING - sacrebleu - If you insist your data is detokenized, or don't care, you can suppress this message with the `force` parameter.\n",
            "2021-10-08 09:20:47,605 - INFO - joeynmt.prediction -  dev bleu[13a]:  11.98 [Beam search decoding with beam size = 5 and alpha = 1.0]\n",
            "2021-10-08 09:20:47,606 - INFO - joeynmt.prediction - Translations saved to: models/nden_reverse_transformer/00005000.hyps.dev\n",
            "2021-10-08 09:20:47,607 - INFO - joeynmt.prediction - Decoding on test set (data/nden/test.bpe.en)...\n",
            "2021-10-08 09:25:27,473 - WARNING - sacrebleu - That's 100 lines that end in a tokenized period ('.')\n",
            "2021-10-08 09:25:27,473 - WARNING - sacrebleu - It looks like you forgot to detokenize your test data, which may hurt your score.\n",
            "2021-10-08 09:25:27,474 - WARNING - sacrebleu - If you insist your data is detokenized, or don't care, you can suppress this message with the `force` parameter.\n",
            "2021-10-08 09:25:27,486 - INFO - joeynmt.prediction - test bleu[13a]:  14.20 [Beam search decoding with beam size = 5 and alpha = 1.0]\n",
            "2021-10-08 09:25:27,487 - INFO - joeynmt.prediction - Translations saved to: models/nden_reverse_transformer/00005000.hyps.test\n"
          ]
        }
      ]
    },
    {
      "cell_type": "code",
      "metadata": {
        "id": "MBoDS09JM807"
      },
      "source": [
        "# Copy the created models from the notebook storage to google drive for persistant storage \n",
        "!cp -r joeynmt/models/${tgt}${src}_reverse_transformer/* \"$gdrive_path/\""
      ],
      "execution_count": 17,
      "outputs": []
    },
    {
      "cell_type": "code",
      "metadata": {
        "id": "n94wlrCjVc17",
        "colab": {
          "base_uri": "https://localhost:8080/"
        },
        "outputId": "754e5b34-4518-4267-e361-c250ed1218ed"
      },
      "source": [
        "# Output our validation accuracy\n",
        "! cat \"$gdrive_path/validations.txt\""
      ],
      "execution_count": 18,
      "outputs": [
        {
          "output_type": "stream",
          "name": "stdout",
          "text": [
            "Steps: 1000\tLoss: 115321.39844\tPPL: 57.50716\tbleu: 2.19026\tLR: 0.00098821\t*\n",
            "Steps: 2000\tLoss: 95168.03906\tPPL: 28.32671\tbleu: 6.31536\tLR: 0.00069877\t*\n",
            "Steps: 3000\tLoss: 87273.81250\tPPL: 21.46524\tbleu: 9.38812\tLR: 0.00057054\t*\n",
            "Steps: 4000\tLoss: 82912.83594\tPPL: 18.41579\tbleu: 11.02630\tLR: 0.00049411\t*\n",
            "Steps: 5000\tLoss: 79902.05469\tPPL: 16.56716\tbleu: 11.63093\tLR: 0.00044194\t*\n"
          ]
        }
      ]
    },
    {
      "cell_type": "code",
      "metadata": {
        "id": "66WhRE9lIhoD",
        "colab": {
          "base_uri": "https://localhost:8080/"
        },
        "outputId": "1477b2db-bec7-4b16-aa76-035fa93e51aa"
      },
      "source": [
        "# Test our model\n",
        "! cd joeynmt; python3 -m joeynmt test \"$gdrive_path/config.yaml\""
      ],
      "execution_count": 19,
      "outputs": [
        {
          "output_type": "stream",
          "name": "stdout",
          "text": [
            "2021-10-08 09:25:33,815 - INFO - root - Hello! This is Joey-NMT (version 1.3).\n",
            "2021-10-08 09:25:33,815 - INFO - joeynmt.data - Building vocabulary...\n",
            "2021-10-08 09:25:34,111 - INFO - joeynmt.data - Loading dev data...\n",
            "2021-10-08 09:25:34,122 - INFO - joeynmt.data - Loading test data...\n",
            "2021-10-08 09:25:34,178 - INFO - joeynmt.data - Data loaded.\n",
            "2021-10-08 09:25:34,201 - INFO - joeynmt.prediction - Process device: cuda, n_gpu: 1, batch_size per device: 3600\n",
            "2021-10-08 09:25:34,201 - INFO - joeynmt.prediction - Loading model from models/nden_reverse_transformer/best.ckpt\n",
            "2021-10-08 09:25:37,393 - INFO - joeynmt.model - Building an encoder-decoder model...\n",
            "2021-10-08 09:25:37,901 - INFO - joeynmt.model - Enc-dec model built.\n",
            "2021-10-08 09:25:38,031 - INFO - joeynmt.prediction - Decoding on dev set (data/nden/dev.bpe.en)...\n",
            "2021-10-08 09:28:05,257 - WARNING - sacrebleu - That's 100 lines that end in a tokenized period ('.')\n",
            "2021-10-08 09:28:05,257 - WARNING - sacrebleu - It looks like you forgot to detokenize your test data, which may hurt your score.\n",
            "2021-10-08 09:28:05,257 - WARNING - sacrebleu - If you insist your data is detokenized, or don't care, you can suppress this message with the `force` parameter.\n",
            "2021-10-08 09:28:05,262 - INFO - joeynmt.prediction -  dev bleu[13a]:  11.98 [Beam search decoding with beam size = 5 and alpha = 1.0]\n",
            "2021-10-08 09:28:05,262 - INFO - joeynmt.prediction - Decoding on test set (data/nden/test.bpe.en)...\n",
            "2021-10-08 09:32:44,953 - WARNING - sacrebleu - That's 100 lines that end in a tokenized period ('.')\n",
            "2021-10-08 09:32:44,954 - WARNING - sacrebleu - It looks like you forgot to detokenize your test data, which may hurt your score.\n",
            "2021-10-08 09:32:44,954 - WARNING - sacrebleu - If you insist your data is detokenized, or don't care, you can suppress this message with the `force` parameter.\n",
            "2021-10-08 09:32:44,968 - INFO - joeynmt.prediction - test bleu[13a]:  14.20 [Beam search decoding with beam size = 5 and alpha = 1.0]\n"
          ]
        }
      ]
    }
  ]
}